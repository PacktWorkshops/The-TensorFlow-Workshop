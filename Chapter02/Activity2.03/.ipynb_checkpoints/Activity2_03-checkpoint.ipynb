{
 "cells": [
  {
   "cell_type": "markdown",
   "metadata": {},
   "source": [
    "# Activity 2.03"
   ]
  },
  {
   "cell_type": "code",
   "execution_count": 1,
   "metadata": {},
   "outputs": [],
   "source": [
    "import tensorflow as tf\n",
    "import os"
   ]
  },
  {
   "cell_type": "code",
   "execution_count": 2,
   "metadata": {},
   "outputs": [],
   "source": [
    "def load_audio(file_path, sample_rate=44100):\n",
    "    # Load audio at 44.1kHz sample-rate\n",
    "    audio = tf.io.read_file(file_path)\n",
    "    audio, sample_rate = tf.audio.decode_wav(audio,\n",
    "                                             desired_channels=-1,\n",
    "                                             desired_samples=sample_rate)\n",
    "    return tf.transpose(audio)"
   ]
  },
  {
   "cell_type": "code",
   "execution_count": 3,
   "metadata": {},
   "outputs": [],
   "source": [
    "prefix = \"../Datasets/data_speech_commands_v0.02/zero/\"\n",
    "paths = [os.path.join(prefix, path) for path in os.listdir(prefix)]"
   ]
  },
  {
   "cell_type": "code",
   "execution_count": 4,
   "metadata": {},
   "outputs": [],
   "source": [
    "def prep_ds(ds, shuffle_buffer_size=1024, batch_size=16):\n",
    "    # Randomly shuffle (file_path, label) dataset\n",
    "    ds = ds.shuffle(buffer_size=shuffle_buffer_size)\n",
    "    # Load and decode audio from file paths\n",
    "    ds = ds.map(load_audio)\n",
    "    # Take the absolute value\n",
    "    ds = ds.map(tf.abs)\n",
    "    # Apply log1p function\n",
    "    ds = ds.map(tf.math.log1p)\n",
    "    # Repeat dataset forever\n",
    "    ds = ds.repeat()\n",
    "    # Prepare batches\n",
    "    ds = ds.batch(batch_size)\n",
    "    # Prefetch\n",
    "    ds = ds.prefetch(buffer_size=batch_size)\n",
    "\n",
    "    return ds"
   ]
  },
  {
   "cell_type": "code",
   "execution_count": 5,
   "metadata": {},
   "outputs": [],
   "source": [
    "ds = tf.data.Dataset.from_tensor_slices(paths)\n",
    "train_ds = prep_ds(ds)"
   ]
  },
  {
   "cell_type": "markdown",
   "metadata": {},
   "source": [
    "Take 1 batch and print it out"
   ]
  },
  {
   "cell_type": "code",
   "execution_count": 6,
   "metadata": {},
   "outputs": [
    {
     "name": "stdout",
     "output_type": "stream",
     "text": [
      "tf.Tensor(\n",
      "[[[6.1033294e-05 3.0517112e-05 0.0000000e+00 ... 0.0000000e+00\n",
      "   0.0000000e+00 0.0000000e+00]]\n",
      "\n",
      " [[1.5257625e-04 5.1866431e-04 5.4916559e-04 ... 0.0000000e+00\n",
      "   0.0000000e+00 0.0000000e+00]]\n",
      "\n",
      " [[1.5534234e-02 1.6315157e-02 1.7395426e-02 ... 0.0000000e+00\n",
      "   0.0000000e+00 0.0000000e+00]]\n",
      "\n",
      " ...\n",
      "\n",
      " [[1.2206286e-04 3.3563701e-04 3.3563701e-04 ... 0.0000000e+00\n",
      "   0.0000000e+00 0.0000000e+00]]\n",
      "\n",
      " [[0.0000000e+00 0.0000000e+00 0.0000000e+00 ... 0.0000000e+00\n",
      "   0.0000000e+00 0.0000000e+00]]\n",
      "\n",
      " [[6.1016536e-04 2.2253054e-03 2.1034989e-03 ... 0.0000000e+00\n",
      "   0.0000000e+00 0.0000000e+00]]], shape=(16, 1, 44100), dtype=float32)\n"
     ]
    }
   ],
   "source": [
    "for x in train_ds.take(1):\n",
    "    print(x)"
   ]
  },
  {
   "cell_type": "code",
   "execution_count": 7,
   "metadata": {},
   "outputs": [
    {
     "data": {
      "text/plain": [
       "Text(0, 0.5, 'Value')"
      ]
     },
     "execution_count": 7,
     "metadata": {},
     "output_type": "execute_result"
    },
    {
     "data": {
      "image/png": "[encoded data removed]",
      "text/plain": [
       "<Figure size 432x288 with 1 Axes>"
      ]
     },
     "metadata": {
      "needs_background": "light"
     },
     "output_type": "display_data"
    }
   ],
   "source": [
    "import matplotlib.pyplot as plt\n",
    "plt.plot(x[0,:,:].numpy().T, color='grey')\n",
    "plt.xlabel('Sample')\n",
    "plt.ylabel('Value')"
   ]
  }
 ],
 "metadata": {
  "kernelspec": {
   "display_name": "tf2.1",
   "language": "python",
   "name": "tf2.1"
  },
  "language_info": {
   "codemirror_mode": {
    "name": "ipython",
    "version": 3
   },
   "file_extension": ".py",
   "mimetype": "text/x-python",
   "name": "python",
   "nbconvert_exporter": "python",
   "pygments_lexer": "ipython3",
   "version": "3.7.2"
  }
 },
 "nbformat": 4,
 "nbformat_minor": 4
}
