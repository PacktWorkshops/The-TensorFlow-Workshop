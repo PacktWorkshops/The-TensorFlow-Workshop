{
 "cells": [
  {
   "cell_type": "markdown",
   "metadata": {},
   "source": [
    "# Activity 2.03"
   ]
  },
  {
   "cell_type": "code",
   "execution_count": 1,
   "metadata": {},
   "outputs": [],
   "source": [
    "import tensorflow as tf\n",
    "import os"
   ]
  },
  {
   "cell_type": "code",
   "execution_count": 2,
   "metadata": {},
   "outputs": [],
   "source": [
    "def load_audio(file_path, sample_rate=44100):\n",
    "    # Load audio at 44.1kHz sample-rate\n",
    "    audio = tf.io.read_file(file_path)\n",
    "    audio, sample_rate = tf.audio.decode_wav(audio,\n",
    "                                             desired_channels=-1,\n",
    "                                             desired_samples=sample_rate)\n",
    "    return tf.transpose(audio)"
   ]
  },
  {
   "cell_type": "code",
   "execution_count": 3,
   "metadata": {},
   "outputs": [],
   "source": [
    "prefix = \"../Datasets/data_speech_commands_v0.02/zero/\"\n",
    "paths = [os.path.join(prefix, path) for path in os.listdir(prefix)]"
   ]
  },
  {
   "cell_type": "code",
   "execution_count": 4,
   "metadata": {},
   "outputs": [],
   "source": [
    "def prep_ds(ds, shuffle_buffer_size=1024, batch_size=16):\n",
    "    # Randomly shuffle (file_path, label) dataset\n",
    "    ds = ds.shuffle(buffer_size=shuffle_buffer_size)\n",
    "    # Load and decode audio from file paths\n",
    "    ds = ds.map(load_audio)\n",
    "    # Take the absolute value\n",
    "    ds = ds.map(tf.abs)\n",
    "    # Apply log1p function\n",
    "    ds = ds.map(tf.math.log1p)\n",
    "    # Repeat dataset forever\n",
    "    ds = ds.repeat()\n",
    "    # Prepare batches\n",
    "    ds = ds.batch(batch_size)\n",
    "    # Prefetch\n",
    "    ds = ds.prefetch(buffer_size=batch_size)\n",
    "\n",
    "    return ds"
   ]
  },
  {
   "cell_type": "code",
   "execution_count": 5,
   "metadata": {},
   "outputs": [
    {
     "name": "stderr",
     "output_type": "stream",
     "text": [
      "2021-10-05 15:03:52.290496: I tensorflow/core/platform/cpu_feature_guard.cc:142] This TensorFlow binary is optimized with oneAPI Deep Neural Network Library (oneDNN) to use the following CPU instructions in performance-critical operations:  AVX2 FMA\n",
      "To enable them in other operations, rebuild TensorFlow with the appropriate compiler flags.\n"
     ]
    }
   ],
   "source": [
    "ds = tf.data.Dataset.from_tensor_slices(paths)\n",
    "train_ds = prep_ds(ds)"
   ]
  },
  {
   "cell_type": "markdown",
   "metadata": {},
   "source": [
    "Take 1 batch and print it out"
   ]
  },
  {
   "cell_type": "code",
   "execution_count": 6,
   "metadata": {},
   "outputs": [
    {
     "name": "stdout",
     "output_type": "stream",
     "text": [
      "tf.Tensor(\n",
      "[[[1.2615402e-02 3.0949200e-02 2.9439095e-02 ... 0.0000000e+00\n",
      "   0.0000000e+00 0.0000000e+00]]\n",
      "\n",
      " [[0.0000000e+00 3.0517112e-05 9.1548543e-05 ... 0.0000000e+00\n",
      "   0.0000000e+00 0.0000000e+00]]\n",
      "\n",
      " [[9.1548543e-05 1.5257625e-04 6.1033294e-05 ... 0.0000000e+00\n",
      "   0.0000000e+00 0.0000000e+00]]\n",
      "\n",
      " ...\n",
      "\n",
      " [[1.4942444e-03 2.3775424e-03 2.0425902e-03 ... 0.0000000e+00\n",
      "   0.0000000e+00 0.0000000e+00]]\n",
      "\n",
      " [[3.0517112e-05 3.0517112e-05 3.0517112e-05 ... 0.0000000e+00\n",
      "   0.0000000e+00 0.0000000e+00]]\n",
      "\n",
      " [[1.2206286e-04 0.0000000e+00 6.1033294e-05 ... 0.0000000e+00\n",
      "   0.0000000e+00 0.0000000e+00]]], shape=(16, 1, 44100), dtype=float32)\n"
     ]
    },
    {
     "name": "stderr",
     "output_type": "stream",
     "text": [
      "2021-10-05 15:03:54.046018: I tensorflow/compiler/mlir/mlir_graph_optimization_pass.cc:176] None of the MLIR Optimization Passes are enabled (registered 2)\n"
     ]
    }
   ],
   "source": [
    "for x in train_ds.take(1):\n",
    "    print(x)"
   ]
  },
  {
   "cell_type": "code",
   "execution_count": 7,
   "metadata": {},
   "outputs": [
    {
     "data": {
      "image/png": "[encoded data removed]",

      "text/plain": [
       "<Figure size 432x288 with 1 Axes>"
      ]
     },
     "metadata": {
      "needs_background": "light"
     },
     "output_type": "display_data"
    }
   ],
   "source": [
    "import matplotlib.pyplot as plt\n",
    "plt.plot(x[0,:,:].numpy().T, color='grey')\n",
    "plt.xlabel('Sample')\n",
    "plt.ylabel('Value')\n",
    "plt.savefig('2-22.png', dpi=300)"
   ]
  },
  {
   "cell_type": "code",
   "execution_count": null,
   "metadata": {},
   "outputs": [],
   "source": []
  }
 ],
 "metadata": {
  "kernelspec": {
   "display_name": "tf22",
   "language": "python",
   "name": "tf22"
  },
  "language_info": {
   "codemirror_mode": {
    "name": "ipython",
    "version": 3
   },
   "file_extension": ".py",
   "mimetype": "text/x-python",
   "name": "python",
   "nbconvert_exporter": "python",
   "pygments_lexer": "ipython3",
   "version": "3.9.6"
  }
 },
 "nbformat": 4,
 "nbformat_minor": 4
}
