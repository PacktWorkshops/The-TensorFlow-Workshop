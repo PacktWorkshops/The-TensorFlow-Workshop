{
 "cells": [
  {
   "cell_type": "markdown",
   "metadata": {},
   "source": [
    "# Exercise 2.05"
   ]
  },
  {
   "cell_type": "code",
   "execution_count": 1,
   "metadata": {},
   "outputs": [],
   "source": [
    "import tensorflow as tf\n",
    "import os"
   ]
  },
  {
   "cell_type": "code",
   "execution_count": 2,
   "metadata": {},
   "outputs": [],
   "source": [
    "def load_audio(file_path, sample_rate=44100):\n",
    "    # Load audio at 44.1kHz sample-rate\n",
    "    audio = tf.io.read_file(file_path)\n",
    "    audio, sample_rate = tf.audio.decode_wav(audio,\n",
    "                                             desired_channels=-1,\n",
    "                                             desired_samples=sample_rate)\n",
    "    return tf.transpose(audio)"
   ]
  },
  {
   "cell_type": "code",
   "execution_count": 3,
   "metadata": {},
   "outputs": [],
   "source": [
    "prefix = \"../Datasets/data_speech_commands_v0.02/zero/\"\n",
    "paths = [os.path.join(prefix, path) for path in os.listdir(prefix)]"
   ]
  },
  {
   "cell_type": "code",
   "execution_count": 4,
   "metadata": {},
   "outputs": [
    {
     "name": "stderr",
     "output_type": "stream",
     "text": [
      "2021-10-07 10:22:15.130872: I tensorflow/core/platform/cpu_feature_guard.cc:142] This TensorFlow binary is optimized with oneAPI Deep Neural Network Library (oneDNN) to use the following CPU instructions in performance-critical operations:  AVX2 FMA\n",
      "To enable them in other operations, rebuild TensorFlow with the appropriate compiler flags.\n"
     ]
    },
    {
     "data": {
      "text/plain": [
       "Text(0, 0.5, 'Value')"
      ]
     },
     "execution_count": 4,
     "metadata": {},
     "output_type": "execute_result"
    },
    {
     "data": {
      "image/png": "[encoded data removed]",
      "text/plain": [
       "<Figure size 432x288 with 1 Axes>"
      ]
     },
     "metadata": {
      "needs_background": "light"
     },
     "output_type": "display_data"
    }
   ],
   "source": [
    "import matplotlib.pyplot as plt\n",
    "audio = load_audio(paths[0])\n",
    "plt.plot(audio.numpy().T, color='grey')\n",
    "plt.xlabel('Sample')\n",
    "plt.ylabel('Value')"
   ]
  },
  {
   "cell_type": "code",
   "execution_count": 5,
   "metadata": {},
   "outputs": [],
   "source": [
    "def apply_mfccs(audio, sample_rate=44100, num_mfccs=13):\n",
    "    stfts = tf.signal.stft(audio, frame_length=1024, frame_step=256, fft_length=1024)\n",
    "    spectrograms = tf.abs(stfts)\n",
    "    spectrogram_bins = stfts.shape[-1]\n",
    "\n",
    "    lower_bound, upper_bound, mel_bins = 80.0, 7600.0, 80\n",
    "    # create linear to mel weight matrix\n",
    "    linear_to_mel_weight_matrix = tf.signal.linear_to_mel_weight_matrix(\n",
    "          mel_bins, spectrogram_bins, \n",
    "          sample_rate, lower_bound, upper_bound)\n",
    "    # take tensor product of spectrograms and weight matrix\n",
    "    mel_spectrograms = tf.tensordot(spectrograms, linear_to_mel_weight_matrix, 1)\n",
    "    # reshape mel spectrograms\n",
    "    mel_spectrograms.set_shape(\\\n",
    "      spectrograms.shape[:-1].concatenate(\\\n",
    "      linear_to_mel_weight_matrix.shape[-1:]))\n",
    "\n",
    "    # add 1e-6 to prevent log errors and take the log\n",
    "    log_mel_spectrograms = tf.math.log(mel_spectrograms + 1e-6)\n",
    "\n",
    "    #compute MFCCs from log_mel_spectrograms\n",
    "    mfccs = tf.signal.mfccs_from_log_mel_spectrograms(log_mel_spectrograms)[..., :num_mfccs]\n",
    "    return mfccs"
   ]
  },
  {
   "cell_type": "code",
   "execution_count": 6,
   "metadata": {},
   "outputs": [
    {
     "data": {
      "text/plain": [
       "Text(0, 0.5, 'Sample Value')"
      ]
     },
     "execution_count": 6,
     "metadata": {},
     "output_type": "execute_result"
    },
    {
     "data": {
      "image/png": "[encoded data removed]",
      "text/plain": [
       "<Figure size 432x288 with 1 Axes>"
      ]
     },
     "metadata": {
      "needs_background": "light"
     },
     "output_type": "display_data"
    }
   ],
   "source": [
    "mfcc = apply_mfccs(audio)\n",
    "plt.pcolor(mfcc.numpy()[0], cmap='Greys_r')\n",
    "plt.xlabel('MFCC log coefficient')\n",
    "plt.ylabel('Sample Value')"
   ]
  },
  {
   "cell_type": "code",
   "execution_count": 7,
   "metadata": {},
   "outputs": [],
   "source": [
    "AUTOTUNE = tf.data.experimental.AUTOTUNE\n",
    "\n",
    "def prep_ds(ds, shuffle_buffer_size=1024, batch_size=64):\n",
    "    # Randomly shuffle (file_path, label) dataset\n",
    "    ds = ds.shuffle(buffer_size=shuffle_buffer_size)\n",
    "    # Load and decode audio from file paths\n",
    "    ds = ds.map(load_audio, num_parallel_calls=AUTOTUNE)\n",
    "    # generayte MFCCs from the audio data\n",
    "    ds = ds.map(apply_mfccs)\n",
    "    # Repeat dataset forever\n",
    "    ds = ds.repeat()\n",
    "    # Prepare batches\n",
    "    ds = ds.batch(batch_size)\n",
    "    # Prefetch\n",
    "    ds = ds.prefetch(buffer_size=AUTOTUNE)\n",
    "\n",
    "    return ds"
   ]
  },
  {
   "cell_type": "code",
   "execution_count": 8,
   "metadata": {},
   "outputs": [],
   "source": [
    "ds = tf.data.Dataset.from_tensor_slices(paths)\n",
    "train_ds = prep_ds(ds)"
   ]
  },
  {
   "cell_type": "markdown",
   "metadata": {},
   "source": [
    "Take 1 batch and print it out"
   ]
  },
  {
   "cell_type": "code",
   "execution_count": 9,
   "metadata": {},
   "outputs": [
    {
     "name": "stderr",
     "output_type": "stream",
     "text": [
      "2021-10-07 10:22:23.182352: I tensorflow/compiler/mlir/mlir_graph_optimization_pass.cc:176] None of the MLIR Optimization Passes are enabled (registered 2)\n"
     ]
    },
    {
     "name": "stdout",
     "output_type": "stream",
     "text": [
      "tf.Tensor(\n",
      "[[[[-6.6339531e+01 -1.2424583e+00  1.3780766e+00 ...  3.7099034e-01\n",
      "    -1.3867416e+00 -1.3363682e+00]\n",
      "   [-6.2325153e+01  7.5530821e-01  2.3440952e+00 ...  1.5556949e-01\n",
      "    -1.2651505e+00 -1.3503013e+00]\n",
      "   [-6.0770931e+01  1.7311867e+00  2.5881791e+00 ... -1.3085013e-02\n",
      "    -7.4027431e-01 -5.8740962e-01]\n",
      "   ...\n",
      "   [-1.7475427e+02 -7.8259567e-05  8.2965726e-06 ...  8.8049037e-06\n",
      "     6.4839332e-06 -2.2959596e-06]\n",
      "   [-1.7475427e+02 -7.8259567e-05  8.2965726e-06 ...  8.8049037e-06\n",
      "     6.4839332e-06 -2.2959596e-06]\n",
      "   [-1.7475427e+02 -7.8259567e-05  8.2965726e-06 ...  8.8049037e-06\n",
      "     6.4839332e-06 -2.2959596e-06]]]\n",
      "\n",
      "\n",
      " [[[-3.4494122e+01  7.8220379e-01  2.2117560e+00 ...  5.3742164e-01\n",
      "     1.2497974e-01  1.0344307e-01]\n",
      "   [-3.3686043e+01  1.4708641e+00  2.9195912e+00 ... -1.1412978e-02\n",
      "    -1.5695088e-01  5.8146775e-01]\n",
      "   [-3.2439842e+01  1.9294703e+00  3.5649185e+00 ...  6.8191618e-01\n",
      "    -8.1257480e-01 -4.4441494e-01]\n",
      "   ...\n",
      "   [-1.7475427e+02 -7.8259567e-05  8.2965726e-06 ...  8.8049037e-06\n",
      "     6.4839332e-06 -2.2959596e-06]\n",
      "   [-1.7475427e+02 -7.8259567e-05  8.2965726e-06 ...  8.8049037e-06\n",
      "     6.4839332e-06 -2.2959596e-06]\n",
      "   [-1.7475427e+02 -7.8259567e-05  8.2965726e-06 ...  8.8049037e-06\n",
      "     6.4839332e-06 -2.2959596e-06]]]\n",
      "\n",
      "\n",
      " [[[-3.9942371e+01  3.8161585e-01 -5.6117592e+00 ... -1.3590862e+00\n",
      "    -1.7988019e+00 -1.5823213e+00]\n",
      "   [-4.1782867e+01  5.5221677e-01 -4.5105152e+00 ... -1.0291083e+00\n",
      "    -1.0372313e+00 -6.2352860e-01]\n",
      "   [-4.4123039e+01  3.1698424e-01 -3.4018021e+00 ... -8.2388401e-01\n",
      "    -3.3759460e-01 -1.8463151e-01]\n",
      "   ...\n",
      "   [-1.7475427e+02 -7.8259567e-05  8.2965726e-06 ...  8.8049037e-06\n",
      "     6.4839332e-06 -2.2959596e-06]\n",
      "   [-1.7475427e+02 -7.8259567e-05  8.2965726e-06 ...  8.8049037e-06\n",
      "     6.4839332e-06 -2.2959596e-06]\n",
      "   [-1.7475427e+02 -7.8259567e-05  8.2965726e-06 ...  8.8049037e-06\n",
      "     6.4839332e-06 -2.2959596e-06]]]\n",
      "\n",
      "\n",
      " ...\n",
      "\n",
      "\n",
      " [[[-2.0679697e+01 -1.7373651e+00  7.7349585e-01 ... -1.6622704e+00\n",
      "    -1.4556766e-01  5.9902668e-01]\n",
      "   [-2.0529188e+01 -1.5213045e+00  4.3589357e-01 ... -7.2927612e-01\n",
      "    -3.7976804e-01 -5.9247690e-01]\n",
      "   [-2.2083744e+01 -3.2993095e+00 -4.3168411e-01 ...  7.1290231e-01\n",
      "    -2.6836893e-01 -8.3385088e-02]\n",
      "   ...\n",
      "   [-1.7475427e+02 -7.8259567e-05  8.2965726e-06 ...  8.8049037e-06\n",
      "     6.4839332e-06 -2.2959596e-06]\n",
      "   [-1.7475427e+02 -7.8259567e-05  8.2965726e-06 ...  8.8049037e-06\n",
      "     6.4839332e-06 -2.2959596e-06]\n",
      "   [-1.7475427e+02 -7.8259567e-05  8.2965726e-06 ...  8.8049037e-06\n",
      "     6.4839332e-06 -2.2959596e-06]]]\n",
      "\n",
      "\n",
      " [[[-3.0173466e+01 -9.9334347e-01  1.8199472e+00 ...  4.0712008e-01\n",
      "    -3.3435497e-01  1.0420077e-02]\n",
      "   [-3.1050663e+01 -8.1293762e-01  1.6738024e+00 ...  6.1371475e-01\n",
      "     3.5907066e-01  3.8887709e-01]\n",
      "   [-3.0280493e+01 -1.2831056e+00  1.9127522e+00 ...  1.3272556e+00\n",
      "     4.9520302e-01  8.0146217e-01]\n",
      "   ...\n",
      "   [-1.7475427e+02 -7.8259567e-05  8.2965726e-06 ...  8.8049037e-06\n",
      "     6.4839332e-06 -2.2959596e-06]\n",
      "   [-1.7475427e+02 -7.8259567e-05  8.2965726e-06 ...  8.8049037e-06\n",
      "     6.4839332e-06 -2.2959596e-06]\n",
      "   [-1.7475427e+02 -7.8259567e-05  8.2965726e-06 ...  8.8049037e-06\n",
      "     6.4839332e-06 -2.2959596e-06]]]\n",
      "\n",
      "\n",
      " [[[-5.3867020e+01 -5.7047378e-02  2.3707154e+00 ... -3.2474279e-01\n",
      "    -4.5809582e-01 -9.8064303e-01]\n",
      "   [-5.2280357e+01  6.0802138e-01  2.3497810e+00 ...  3.7486371e-02\n",
      "    -3.7352213e-01 -1.4186869e+00]\n",
      "   [-5.0188564e+01  3.9149109e-01  1.8635147e+00 ...  9.4398133e-02\n",
      "     5.3343415e-01 -7.7085614e-01]\n",
      "   ...\n",
      "   [-1.7475427e+02 -7.8259567e-05  8.2965726e-06 ...  8.8049037e-06\n",
      "     6.4839332e-06 -2.2959596e-06]\n",
      "   [-1.7475427e+02 -7.8259567e-05  8.2965726e-06 ...  8.8049037e-06\n",
      "     6.4839332e-06 -2.2959596e-06]\n",
      "   [-1.7475427e+02 -7.8259567e-05  8.2965726e-06 ...  8.8049037e-06\n",
      "     6.4839332e-06 -2.2959596e-06]]]], shape=(64, 1, 169, 13), dtype=float32)\n"
     ]
    }
   ],
   "source": [
    "for x in train_ds.take(1):\n",
    "    print(x)"
   ]
  },
  {
   "cell_type": "code",
   "execution_count": null,
   "metadata": {},
   "outputs": [],
   "source": []
  }
 ],
 "metadata": {
  "kernelspec": {
   "display_name": "tf22",
   "language": "python",
   "name": "tf22"
  },
  "language_info": {
   "codemirror_mode": {
    "name": "ipython",
    "version": 3
   },
   "file_extension": ".py",
   "mimetype": "text/x-python",
   "name": "python",
   "nbconvert_exporter": "python",
   "pygments_lexer": "ipython3",
   "version": "3.9.6"
  }
 },
 "nbformat": 4,
 "nbformat_minor": 4
}
