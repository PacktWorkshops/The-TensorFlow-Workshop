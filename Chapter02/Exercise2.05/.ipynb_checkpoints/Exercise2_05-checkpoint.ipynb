{
 "cells": [
  {
   "cell_type": "markdown",
   "metadata": {},
   "source": [
    "# Exercise 2.05"
   ]
  },
  {
   "cell_type": "code",
   "execution_count": 1,
   "metadata": {},
   "outputs": [],
   "source": [
    "import tensorflow as tf\n",
    "import os"
   ]
  },
  {
   "cell_type": "code",
   "execution_count": 2,
   "metadata": {},
   "outputs": [],
   "source": [
    "def load_audio(file_path, sample_rate=44100):\n",
    "    # Load audio at 44.1kHz sample-rate\n",
    "    audio = tf.io.read_file(file_path)\n",
    "    audio, sample_rate = tf.audio.decode_wav(audio,\n",
    "                                             desired_channels=-1,\n",
    "                                             desired_samples=sample_rate)\n",
    "    return tf.transpose(audio)"
   ]
  },
  {
   "cell_type": "code",
   "execution_count": 3,
   "metadata": {},
   "outputs": [],
   "source": [
    "prefix = \"../Datasets/data_speech_commands_v0.02/zero/\"\n",
    "paths = [os.path.join(prefix, path) for path in os.listdir(prefix)]"
   ]
  },
  {
   "cell_type": "code",
   "execution_count": 4,
   "metadata": {},
   "outputs": [
    {
     "data": {
      "text/plain": [
       "Text(0, 0.5, 'Value')"
      ]
     },
     "execution_count": 4,
     "metadata": {},
     "output_type": "execute_result"
    },
    {
     "data": {
      "image/png": "[encoded data removed]",
      "text/plain": [
       "<Figure size 432x288 with 1 Axes>"
      ]
     },
     "metadata": {
      "needs_background": "light"
     },
     "output_type": "display_data"
    }
   ],
   "source": [
    "import matplotlib.pyplot as plt\n",
    "audio = load_audio(paths[0])\n",
    "plt.plot(audio.numpy().T, color='grey')\n",
    "plt.xlabel('Sample')\n",
    "plt.ylabel('Value')"
   ]
  },
  {
   "cell_type": "code",
   "execution_count": 5,
   "metadata": {},
   "outputs": [],
   "source": [
    "def apply_mfccs(audio, sample_rate=44100, num_mfccs=13):\n",
    "    stfts = tf.signal.stft(audio, frame_length=1024, frame_step=256, fft_length=1024)\n",
    "    spectrograms = tf.abs(stfts)\n",
    "    spectrogram_bins = stfts.shape[-1]\n",
    "\n",
    "    lower_bound, upper_bound, mel_bins = 80.0, 7600.0, 80\n",
    "    # create linear to mel weight matrix\n",
    "    linear_to_mel_weight_matrix = tf.signal.linear_to_mel_weight_matrix(\n",
    "          mel_bins, spectrogram_bins, \n",
    "          sample_rate, lower_bound, upper_bound)\n",
    "    # take tensor product of spectrograms and weight matrix\n",
    "    mel_spectrograms = tf.tensordot(spectrograms, linear_to_mel_weight_matrix, 1)\n",
    "    # reshape mel spectrograms\n",
    "    mel_spectrograms.set_shape(\\\n",
    "      spectrograms.shape[:-1].concatenate(\\\n",
    "      linear_to_mel_weight_matrix.shape[-1:]))\n",
    "\n",
    "    # add 1e-6 to prevent log errors and take the log\n",
    "    log_mel_spectrograms = tf.math.log(mel_spectrograms + 1e-6)\n",
    "\n",
    "    #compute MFCCs from log_mel_spectrograms\n",
    "    mfccs = tf.signal.mfccs_from_log_mel_spectrograms(log_mel_spectrograms)[..., :num_mfccs]\n",
    "    return mfccs"
   ]
  },
  {
   "cell_type": "code",
   "execution_count": 6,
   "metadata": {},
   "outputs": [
    {
     "data": {
      "text/plain": [
       "Text(0, 0.5, 'Sample Value')"
      ]
     },
     "execution_count": 6,
     "metadata": {},
     "output_type": "execute_result"
    },
    {
     "data": {
      "image/png": "[encoded data removed]",
      "text/plain": [
       "<Figure size 432x288 with 1 Axes>"
      ]
     },
     "metadata": {
      "needs_background": "light"
     },
     "output_type": "display_data"
    }
   ],
   "source": [
    "mfcc = apply_mfccs(audio)\n",
    "plt.pcolor(mfcc.numpy()[0], cmap='Greys_r')\n",
    "plt.xlabel('MFCC log coefficient')\n",
    "plt.ylabel('Sample Value')"
   ]
  },
  {
   "cell_type": "code",
   "execution_count": 7,
   "metadata": {},
   "outputs": [],
   "source": [
    "AUTOTUNE = tf.data.experimental.AUTOTUNE\n",
    "\n",
    "def prep_ds(ds, shuffle_buffer_size=1024, batch_size=64):\n",
    "    # Randomly shuffle (file_path, label) dataset\n",
    "    ds = ds.shuffle(buffer_size=shuffle_buffer_size)\n",
    "    # Load and decode audio from file paths\n",
    "    ds = ds.map(load_audio, num_parallel_calls=AUTOTUNE)\n",
    "    # generayte MFCCs from the audio data\n",
    "    ds = ds.map(apply_mfccs)\n",
    "    # Repeat dataset forever\n",
    "    ds = ds.repeat()\n",
    "    # Prepare batches\n",
    "    ds = ds.batch(batch_size)\n",
    "    # Prefetch\n",
    "    ds = ds.prefetch(buffer_size=AUTOTUNE)\n",
    "\n",
    "    return ds"
   ]
  },
  {
   "cell_type": "code",
   "execution_count": 8,
   "metadata": {},
   "outputs": [],
   "source": [
    "ds = tf.data.Dataset.from_tensor_slices(paths)\n",
    "train_ds = prep_ds(ds)"
   ]
  },
  {
   "cell_type": "markdown",
   "metadata": {},
   "source": [
    "Take 1 batch and print it out"
   ]
  },
  {
   "cell_type": "code",
   "execution_count": 9,
   "metadata": {},
   "outputs": [
    {
     "name": "stdout",
     "output_type": "stream",
     "text": [
      "tf.Tensor(\n",
      "[[[[-7.28014145e+01 -2.15632170e-01  1.92470968e-01 ... -5.44116139e-01\n",
      "    -4.99950171e-01  1.07627308e+00]\n",
      "   [-7.06774139e+01  2.25234285e-01  1.45244539e+00 ... -5.68111241e-01\n",
      "    -1.36616957e+00 -6.23203278e-01]\n",
      "   [-7.07487946e+01 -1.57295334e+00  1.24750113e+00 ...  1.65590763e-01\n",
      "    -2.33066893e+00 -1.92608798e+00]\n",
      "   ...\n",
      "   [-1.74754272e+02 -7.82595671e-05  8.29657256e-06 ...  8.80490370e-06\n",
      "     6.48393325e-06 -2.29595958e-06]\n",
      "   [-1.74754272e+02 -7.82595671e-05  8.29657256e-06 ...  8.80490370e-06\n",
      "     6.48393325e-06 -2.29595958e-06]\n",
      "   [-1.74754272e+02 -7.82595671e-05  8.29657256e-06 ...  8.80490370e-06\n",
      "     6.48393325e-06 -2.29595958e-06]]]\n",
      "\n",
      "\n",
      " [[[-2.29927883e+01  8.47101584e-02  1.06828928e+00 ...  8.28289211e-01\n",
      "     8.59172523e-01 -8.62013280e-01]\n",
      "   [-2.07316933e+01  2.42992973e+00  1.62814009e+00 ...  5.77218592e-01\n",
      "     4.74410743e-01 -4.79164779e-01]\n",
      "   [-2.06772213e+01  3.02777696e+00  4.74867225e-01 ... -6.18404567e-01\n",
      "    -7.53358722e-01  3.48407328e-02]\n",
      "   ...\n",
      "   [-1.74754272e+02 -7.82595671e-05  8.29657256e-06 ...  8.80490370e-06\n",
      "     6.48393325e-06 -2.29595958e-06]\n",
      "   [-1.74754272e+02 -7.82595671e-05  8.29657256e-06 ...  8.80490370e-06\n",
      "     6.48393325e-06 -2.29595958e-06]\n",
      "   [-1.74754272e+02 -7.82595671e-05  8.29657256e-06 ...  8.80490370e-06\n",
      "     6.48393325e-06 -2.29595958e-06]]]\n",
      "\n",
      "\n",
      " [[[-4.81170158e+01 -1.13739125e-01 -3.52175891e-01 ... -2.19899654e+00\n",
      "     6.65725946e-01 -7.65766799e-01]\n",
      "   [-4.91408310e+01 -1.16029724e-01 -7.33206272e-01 ... -2.54489565e+00\n",
      "     1.11896539e+00 -1.55703127e+00]\n",
      "   [-5.13176155e+01  9.84805644e-01 -1.19461882e+00 ... -2.41381311e+00\n",
      "     1.29409444e+00 -9.19949114e-01]\n",
      "   ...\n",
      "   [-1.74754272e+02 -7.82595671e-05  8.29657256e-06 ...  8.80490370e-06\n",
      "     6.48393325e-06 -2.29595958e-06]\n",
      "   [-1.74754272e+02 -7.82595671e-05  8.29657256e-06 ...  8.80490370e-06\n",
      "     6.48393325e-06 -2.29595958e-06]\n",
      "   [-1.74754272e+02 -7.82595671e-05  8.29657256e-06 ...  8.80490370e-06\n",
      "     6.48393325e-06 -2.29595958e-06]]]\n",
      "\n",
      "\n",
      " ...\n",
      "\n",
      "\n",
      " [[[-6.39530945e+01  3.23175883e+00  1.51594603e+00 ... -1.29652977e+00\n",
      "    -7.33753502e-01 -2.26469129e-01]\n",
      "   [-6.34607201e+01  2.55908132e+00  9.55614686e-01 ... -9.87713993e-01\n",
      "    -4.67483819e-01 -7.21766233e-01]\n",
      "   [-6.19531136e+01  2.29612613e+00  6.91265881e-01 ... -5.80697972e-03\n",
      "    -7.68135548e-01 -1.06462669e+00]\n",
      "   ...\n",
      "   [-1.74754272e+02 -7.82595671e-05  8.29657256e-06 ...  8.80490370e-06\n",
      "     6.48393325e-06 -2.29595958e-06]\n",
      "   [-1.74754272e+02 -7.82595671e-05  8.29657256e-06 ...  8.80490370e-06\n",
      "     6.48393325e-06 -2.29595958e-06]\n",
      "   [-1.74754272e+02 -7.82595671e-05  8.29657256e-06 ...  8.80490370e-06\n",
      "     6.48393325e-06 -2.29595958e-06]]]\n",
      "\n",
      "\n",
      " [[[-2.18545246e+01  6.54775715e+00  1.56349134e+00 ...  1.89503506e-02\n",
      "    -6.89514339e-01  6.92161322e-01]\n",
      "   [-2.08794365e+01  7.35588074e+00  2.47181892e+00 ...  5.09853005e-01\n",
      "    -3.60812284e-02  3.09896171e-01]\n",
      "   [-2.10811672e+01  6.99861240e+00  3.03082347e+00 ...  3.78971517e-01\n",
      "    -1.03572857e+00  3.10011536e-01]\n",
      "   ...\n",
      "   [-1.74754272e+02 -7.82595671e-05  8.29657256e-06 ...  8.80490370e-06\n",
      "     6.48393325e-06 -2.29595958e-06]\n",
      "   [-1.74754272e+02 -7.82595671e-05  8.29657256e-06 ...  8.80490370e-06\n",
      "     6.48393325e-06 -2.29595958e-06]\n",
      "   [-1.74754272e+02 -7.82595671e-05  8.29657256e-06 ...  8.80490370e-06\n",
      "     6.48393325e-06 -2.29595958e-06]]]\n",
      "\n",
      "\n",
      " [[[-3.53711853e+01  1.75541282e-01  3.66044521e+00 ...  1.46952987e+00\n",
      "     5.41327715e-01  9.39010322e-01]\n",
      "   [-3.14501266e+01  4.93156910e+00  1.99125397e+00 ...  2.77114272e+00\n",
      "     1.53327096e+00 -1.08341888e-01]\n",
      "   [-2.12089348e+01  8.05466843e+00 -2.07606959e+00 ...  2.19345188e+00\n",
      "     3.33681059e+00  2.77285552e+00]\n",
      "   ...\n",
      "   [-1.74754272e+02 -7.82595671e-05  8.29657256e-06 ...  8.80490370e-06\n",
      "     6.48393325e-06 -2.29595958e-06]\n",
      "   [-1.74754272e+02 -7.82595671e-05  8.29657256e-06 ...  8.80490370e-06\n",
      "     6.48393325e-06 -2.29595958e-06]\n",
      "   [-1.74754272e+02 -7.82595671e-05  8.29657256e-06 ...  8.80490370e-06\n",
      "     6.48393325e-06 -2.29595958e-06]]]], shape=(64, 1, 169, 13), dtype=float32)\n"
     ]
    }
   ],
   "source": [
    "for x in train_ds.take(1):\n",
    "    print(x)"
   ]
  }
 ],
 "metadata": {
  "kernelspec": {
   "display_name": "tf2.1",
   "language": "python",
   "name": "tf2.1"
  },
  "language_info": {
   "codemirror_mode": {
    "name": "ipython",
    "version": 3
   },
   "file_extension": ".py",
   "mimetype": "text/x-python",
   "name": "python",
   "nbconvert_exporter": "python",
   "pygments_lexer": "ipython3",
   "version": "3.7.2"
  }
 },
 "nbformat": 4,
 "nbformat_minor": 4
}
