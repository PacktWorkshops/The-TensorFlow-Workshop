{
 "cells": [
  {
   "cell_type": "markdown",
   "metadata": {},
   "source": [
    "# Exercise 2.05: Loading Audio Data for TensorFlow Models"
   ]
  },
  {
   "cell_type": "code",
   "execution_count": 1,
   "metadata": {},
   "outputs": [],
   "source": [
    "import tensorflow as tf\n",
    "import os"
   ]
  },
  {
   "cell_type": "code",
   "execution_count": 2,
   "metadata": {},
   "outputs": [],
   "source": [
    "def load_audio(file_path, sample_rate=44100):\n",
    "    # Load audio at 44.1kHz sample-rate\n",
    "    audio = tf.io.read_file(file_path)\n",
    "    audio, sample_rate = tf.audio.decode_wav(audio,\\\n",
    "                                             desired_channels=-1,\\\n",
    "                                             desired_samples=sample_rate)\n",
    "    return tf.transpose(audio)"
   ]
  },
  {
   "cell_type": "code",
   "execution_count": 3,
   "metadata": {},
   "outputs": [],
   "source": [
    "prefix = \"../Datasets/data_speech_commands_v0.02/zero/\"\n",
    "paths = [os.path.join(prefix, paths) for paths in os.listdir(prefix)]"
   ]
  },
  {
   "cell_type": "code",
   "execution_count": 5,
   "metadata": {},
   "outputs": [
    {
     "data": {
      "image/png": "[encoded data removed]",
      "text/plain": [
       "<Figure size 432x288 with 1 Axes>"
      ]
     },
     "metadata": {
      "needs_background": "light"
     },
     "output_type": "display_data"
    }
   ],
   "source": [
    "import matplotlib.pyplot as plt\n",
    "audio = load_audio(paths[0])\n",
    "plt.plot(audio.numpy().T, color='gray')\n",
    "plt.xlabel('Sample')\n",
    "plt.ylabel('Value')\n",
    "plt.savefig(\"Figure2.16.png\", dpi=200)"
   ]
  },
  {
   "cell_type": "code",
   "execution_count": 6,
   "metadata": {},
   "outputs": [],
   "source": [
    "def apply_mfccs(audio, sample_rate=44100, num_mfccs=13):\n",
    "    stfts = tf.signal.stft(audio, frame_length=1024, frame_step=256, fft_length=1024)\n",
    "    spectrograms = tf.abs(stfts)\n",
    "    spectrogram_bins = stfts.shape[-1]\n",
    "\n",
    "    lower_bound, upper_bound, mel_bins = 80.0, 7600.0, 80\n",
    "    # create linear to mel weight matrix\n",
    "    linear_to_mel_weight_matrix = tf.signal.linear_to_mel_weight_matrix(\n",
    "          mel_bins, spectrogram_bins, \n",
    "          sample_rate, lower_bound, upper_bound)\n",
    "    # take tensor product of spectrograms and weight matrix\n",
    "    mel_spectrograms = tf.tensordot(spectrograms, linear_to_mel_weight_matrix, 1)\n",
    "    # reshape mel spectrograms\n",
    "    mel_spectrograms.set_shape(\\\n",
    "      spectrograms.shape[:-1].concatenate(\\\n",
    "      linear_to_mel_weight_matrix.shape[-1:]))\n",
    "\n",
    "    # add 1e-6 to prevent log errors and take the log\n",
    "    log_mel_spectrograms = tf.math.log(mel_spectrograms + 1e-6)\n",
    "\n",
    "    #compute MFCCs from log_mel_spectrograms\n",
    "    mfccs = tf.signal.mfccs_from_log_mel_spectrograms(log_mel_spectrograms)[..., :num_mfccs]\n",
    "    return mfccs"
   ]
  },
  {
   "cell_type": "code",
   "execution_count": 7,
   "metadata": {},
   "outputs": [
    {
     "data": {
      "image/png": "[encoded data removed]",
      "text/plain": [
       "<Figure size 432x288 with 1 Axes>"
      ]
     },
     "metadata": {
      "needs_background": "light"
     },
     "output_type": "display_data"
    }
   ],
   "source": [
    "mfcc = apply_mfccs(audio)\n",
    "plt.pcolor(mfcc.numpy()[0], cmap='Greys_r')\n",
    "plt.xlabel('MFCC log coefficient')\n",
    "plt.ylabel('Sample Value')\n",
    "plt.savefig(\"Figure2.17.png\", dpi=200)"
   ]
  },
  {
   "cell_type": "code",
   "execution_count": 8,
   "metadata": {},
   "outputs": [],
   "source": [
    "AUTOTUNE = tf.data.experimental.AUTOTUNE\n",
    "\n",
    "def prep_ds(ds, shuffle_buffer_size=1024, batch_size=64):\n",
    "    # Randomly shuffle (file_path, label) dataset\n",
    "    ds = ds.shuffle(buffer_size=shuffle_buffer_size)\n",
    "    # Load and decode audio from file paths\n",
    "    ds = ds.map(load_audio, num_parallel_calls=AUTOTUNE)\n",
    "    # generayte MFCCs from the audio data\n",
    "    ds = ds.map(apply_mfccs)\n",
    "    # Repeat dataset forever\n",
    "    ds = ds.repeat()\n",
    "    # Prepare batches\n",
    "    ds = ds.batch(batch_size)\n",
    "    # Prefetch\n",
    "    ds = ds.prefetch(buffer_size=AUTOTUNE)\n",
    "\n",
    "    return ds"
   ]
  },
  {
   "cell_type": "code",
   "execution_count": 9,
   "metadata": {},
   "outputs": [],
   "source": [
    "ds = tf.data.Dataset.from_tensor_slices(paths)\n",
    "train_ds = prep_ds(ds)"
   ]
  },
  {
   "cell_type": "markdown",
   "metadata": {},
   "source": [
    "Take 1 batch and print it out"
   ]
  },
  {
   "cell_type": "code",
   "execution_count": 10,
   "metadata": {},
   "outputs": [
    {
     "name": "stdout",
     "output_type": "stream",
     "text": [
      "tf.Tensor(\n",
      "[[[[-4.49402695e+01  6.66246712e-01  3.23954558e+00 ... -6.80628955e-01\n",
      "     7.53509879e-01  1.03011954e+00]\n",
      "   [-5.76376343e+01 -5.59932113e-01  1.81934524e+00 ...  1.11307764e+00\n",
      "    -6.44906331e-03 -1.05823982e+00]\n",
      "   [-3.97187042e+01 -3.85361761e-01  2.18436956e+00 ...  1.52272964e+00\n",
      "     5.28275631e-02  6.03379756e-02]\n",
      "   ...\n",
      "   [-1.74754272e+02 -7.82595671e-05  8.29657256e-06 ...  8.80490370e-06\n",
      "     6.48393325e-06 -2.29595958e-06]\n",
      "   [-1.74754272e+02 -7.82595671e-05  8.29657256e-06 ...  8.80490370e-06\n",
      "     6.48393325e-06 -2.29595958e-06]\n",
      "   [-1.74754272e+02 -7.82595671e-05  8.29657256e-06 ...  8.80490370e-06\n",
      "     6.48393325e-06 -2.29595958e-06]]]\n",
      "\n",
      "\n",
      " [[[-6.25524759e+00 -8.96556020e-01  1.73362285e-01 ... -1.67588305e+00\n",
      "    -9.09781218e-01  7.50396788e-01]\n",
      "   [-6.30506134e+00 -1.13798833e+00  2.74822772e-01 ... -6.23754025e-01\n",
      "    -5.79600930e-01  5.42514861e-01]\n",
      "   [-8.25854206e+00 -2.62160587e+00  1.48269266e-01 ... -7.27678180e-01\n",
      "    -1.36761755e-01  1.12893879e+00]\n",
      "   ...\n",
      "   [-1.74754272e+02 -7.82595671e-05  8.29657256e-06 ...  8.80490370e-06\n",
      "     6.48393325e-06 -2.29595958e-06]\n",
      "   [-1.74754272e+02 -7.82595671e-05  8.29657256e-06 ...  8.80490370e-06\n",
      "     6.48393325e-06 -2.29595958e-06]\n",
      "   [-1.74754272e+02 -7.82595671e-05  8.29657256e-06 ...  8.80490370e-06\n",
      "     6.48393325e-06 -2.29595958e-06]]]\n",
      "\n",
      "\n",
      " [[[-1.74754272e+02 -7.82595671e-05  8.29657256e-06 ...  8.80490370e-06\n",
      "     6.48393325e-06 -2.29595958e-06]\n",
      "   [-1.74754272e+02 -7.82595671e-05  8.29657256e-06 ...  8.80490370e-06\n",
      "     6.48393325e-06 -2.29595958e-06]\n",
      "   [-1.44147781e+02 -5.50591850e+00  4.92999554e-02 ... -3.84557173e-02\n",
      "    -8.60484317e-02 -3.79164964e-02]\n",
      "   ...\n",
      "   [-1.74754272e+02 -7.82595671e-05  8.29657256e-06 ...  8.80490370e-06\n",
      "     6.48393325e-06 -2.29595958e-06]\n",
      "   [-1.74754272e+02 -7.82595671e-05  8.29657256e-06 ...  8.80490370e-06\n",
      "     6.48393325e-06 -2.29595958e-06]\n",
      "   [-1.74754272e+02 -7.82595671e-05  8.29657256e-06 ...  8.80490370e-06\n",
      "     6.48393325e-06 -2.29595958e-06]]]\n",
      "\n",
      "\n",
      " ...\n",
      "\n",
      "\n",
      " [[[-7.32805300e+00 -1.81522572e+00  4.87659335e-01 ... -2.65654661e-02\n",
      "     1.00319529e+00  9.08941031e-02]\n",
      "   [-6.02544260e+00 -1.31060374e+00  9.37849700e-01 ...  2.01391857e-02\n",
      "     9.44489315e-02  1.46562442e-01]\n",
      "   [-5.52173138e+00 -3.05849969e-01  1.49101174e+00 ... -3.05891365e-01\n",
      "    -3.49034190e-01  5.30094624e-01]\n",
      "   ...\n",
      "   [-1.74754272e+02 -7.82595671e-05  8.29657256e-06 ...  8.80490370e-06\n",
      "     6.48393325e-06 -2.29595958e-06]\n",
      "   [-1.74754272e+02 -7.82595671e-05  8.29657256e-06 ...  8.80490370e-06\n",
      "     6.48393325e-06 -2.29595958e-06]\n",
      "   [-1.74754272e+02 -7.82595671e-05  8.29657256e-06 ...  8.80490370e-06\n",
      "     6.48393325e-06 -2.29595958e-06]]]\n",
      "\n",
      "\n",
      " [[[-7.85825043e+01 -2.26659203e+00 -1.23621809e+00 ... -1.38299811e+00\n",
      "     1.19062355e-02 -3.91700724e-03]\n",
      "   [-7.89980240e+01 -2.31514335e+00 -1.36029935e+00 ... -8.44389200e-01\n",
      "     8.89082998e-02  1.64140832e+00]\n",
      "   [-8.01748199e+01 -2.34866285e+00 -1.42127311e+00 ... -2.23033166e+00\n",
      "    -9.59303975e-01  8.70029092e-01]\n",
      "   ...\n",
      "   [-1.74754272e+02 -7.82595671e-05  8.29657256e-06 ...  8.80490370e-06\n",
      "     6.48393325e-06 -2.29595958e-06]\n",
      "   [-1.74754272e+02 -7.82595671e-05  8.29657256e-06 ...  8.80490370e-06\n",
      "     6.48393325e-06 -2.29595958e-06]\n",
      "   [-1.74754272e+02 -7.82595671e-05  8.29657256e-06 ...  8.80490370e-06\n",
      "     6.48393325e-06 -2.29595958e-06]]]\n",
      "\n",
      "\n",
      " [[[-2.48033428e+01  2.29797482e+00 -1.35109079e+00 ...  6.28667593e-01\n",
      "    -7.76975751e-01  2.33654475e+00]\n",
      "   [-2.57237110e+01  3.59257281e-01 -7.62216926e-01 ...  1.01146233e+00\n",
      "    -2.16860995e-01  1.04145670e+00]\n",
      "   [-2.75994396e+01 -4.98436540e-01 -5.94580412e-01 ...  3.93721431e-01\n",
      "     9.00389925e-02  1.96664467e-01]\n",
      "   ...\n",
      "   [-1.74754272e+02 -7.82595671e-05  8.29657256e-06 ...  8.80490370e-06\n",
      "     6.48393325e-06 -2.29595958e-06]\n",
      "   [-1.74754272e+02 -7.82595671e-05  8.29657256e-06 ...  8.80490370e-06\n",
      "     6.48393325e-06 -2.29595958e-06]\n",
      "   [-1.74754272e+02 -7.82595671e-05  8.29657256e-06 ...  8.80490370e-06\n",
      "     6.48393325e-06 -2.29595958e-06]]]], shape=(64, 1, 169, 13), dtype=float32)\n"
     ]
    }
   ],
   "source": [
    "for x in train_ds.take(1):\n",
    "    print(x)"
   ]
  },
  {
   "cell_type": "code",
   "execution_count": null,
   "metadata": {},
   "outputs": [],
   "source": []
  }
 ],
 "metadata": {
  "kernelspec": {
   "display_name": "tensorflow_ws",
   "language": "python",
   "name": "tensorflow_ws"
  },
  "language_info": {
   "codemirror_mode": {
    "name": "ipython",
    "version": 3
   },
   "file_extension": ".py",
   "mimetype": "text/x-python",
   "name": "python",
   "nbconvert_exporter": "python",
   "pygments_lexer": "ipython3",
   "version": "3.7.10"
  }
 },
 "nbformat": 4,
 "nbformat_minor": 4
}
