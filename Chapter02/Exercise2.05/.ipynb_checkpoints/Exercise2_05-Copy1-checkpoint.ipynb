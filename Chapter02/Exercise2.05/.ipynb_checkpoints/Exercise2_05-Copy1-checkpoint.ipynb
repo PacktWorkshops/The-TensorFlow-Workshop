{
 "cells": [
  {
   "cell_type": "markdown",
   "metadata": {},
   "source": [
    "# Exercise 2.05"
   ]
  },
  {
   "cell_type": "code",
   "execution_count": 1,
   "metadata": {},
   "outputs": [],
   "source": [
    "import tensorflow as tf\n",
    "import os"
   ]
  },
  {
   "cell_type": "code",
   "execution_count": 2,
   "metadata": {},
   "outputs": [],
   "source": [
    "def load_audio(file_path, sample_rate=44100):\n",
    "    # Load audio at 44.1kHz sample-rate\n",
    "    audio = tf.io.read_file(file_path)\n",
    "    audio, sample_rate = tf.audio.decode_wav(audio,\n",
    "                                             desired_channels=-1,\n",
    "                                             desired_samples=sample_rate)\n",
    "    return tf.transpose(audio)"
   ]
  },
  {
   "cell_type": "code",
   "execution_count": 3,
   "metadata": {},
   "outputs": [],
   "source": [
    "prefix = \"../Datasets/data_speech_commands_v0.02/zero/\"\n",
    "paths = [os.path.join(prefix, path) for path in os.listdir(prefix)]"
   ]
  },
  {
   "cell_type": "code",
   "execution_count": 4,
   "metadata": {},
   "outputs": [
    {
     "data": {
      "text/plain": [
       "Text(0, 0.5, 'Value')"
      ]
     },
     "execution_count": 4,
     "metadata": {},
     "output_type": "execute_result"
    },
    {
     "data": {
      "image/png": "[encoded data removed]",
      "text/plain": [
       "<Figure size 432x288 with 1 Axes>"
      ]
     },
     "metadata": {
      "needs_background": "light"
     },
     "output_type": "display_data"
    }
   ],
   "source": [
    "import matplotlib.pyplot as plt\n",
    "audio = load_audio(paths[0])\n",
    "plt.plot(audio.numpy().T)\n",
    "plt.xlabel('Sample')\n",
    "plt.ylabel('Value')"
   ]
  },
  {
   "cell_type": "code",
   "execution_count": 5,
   "metadata": {},
   "outputs": [],
   "source": [
    "def apply_mfccs(audio, sample_rate=44100, num_mfccs=13):\n",
    "    stfts = tf.signal.stft(audio, frame_length=1024, frame_step=256,\n",
    "                           fft_length=1024)\n",
    "    spectrograms = tf.abs(stfts)\n",
    "    num_spectrogram_bins = stfts.shape[-1]#.value\n",
    "    \n",
    "    lower_edge_hertz, upper_edge_hertz, num_mel_bins = 80.0, 7600.0, 80\n",
    "    linear_to_mel_weight_matrix = tf.signal.linear_to_mel_weight_matrix(\n",
    "      num_mel_bins, num_spectrogram_bins, sample_rate, lower_edge_hertz,\n",
    "      upper_edge_hertz)\n",
    "    mel_spectrograms = tf.tensordot(\n",
    "      spectrograms, linear_to_mel_weight_matrix, 1)\n",
    "    \n",
    "    mel_spectrograms.set_shape(spectrograms.shape[:-1].concatenate(\n",
    "      linear_to_mel_weight_matrix.shape[-1:]))\n",
    "\n",
    "    # Compute a stabilized log to get log-magnitude mel-scale spectrograms.\n",
    "    log_mel_spectrograms = tf.math.log(mel_spectrograms + 1e-6)\n",
    "\n",
    "    # Compute MFCCs from log_mel_spectrograms and take the first 13.\n",
    "    mfccs = tf.signal.mfccs_from_log_mel_spectrograms(\n",
    "      log_mel_spectrograms)[..., :num_mfccs]\n",
    "    return mfccs"
   ]
  },
  {
   "cell_type": "code",
   "execution_count": 6,
   "metadata": {},
   "outputs": [
    {
     "data": {
      "text/plain": [
       "Text(0, 0.5, 'Sample Value')"
      ]
     },
     "execution_count": 6,
     "metadata": {},
     "output_type": "execute_result"
    },
    {
     "data": {
      "image/png": "[encoded data removed]",
      "text/plain": [
       "<Figure size 432x288 with 1 Axes>"
      ]
     },
     "metadata": {
      "needs_background": "light"
     },
     "output_type": "display_data"
    }
   ],
   "source": [
    "mfcc = apply_mfccs(audio)\n",
    "plt.pcolor(mfcc.numpy()[0])\n",
    "plt.xlabel('MFCC log coefficient')\n",
    "plt.ylabel('Sample Value')"
   ]
  },
  {
   "cell_type": "code",
   "execution_count": 7,
   "metadata": {},
   "outputs": [],
   "source": [
    "AUTOTUNE = tf.data.experimental.AUTOTUNE\n",
    "\n",
    "def prep_ds(ds, shuffle_buffer_size=1024, batch_size=64):\n",
    "    # Randomly shuffle (file_path, label) dataset\n",
    "    ds = ds.shuffle(buffer_size=shuffle_buffer_size)\n",
    "    # Load and decode audio from file paths\n",
    "    ds = ds.map(load_audio, num_parallel_calls=AUTOTUNE)\n",
    "    # generayte MFCCs from the audio data\n",
    "    ds = ds.map(apply_mfccs)\n",
    "    # Repeat dataset forever\n",
    "    ds = ds.repeat()\n",
    "    # Prepare batches\n",
    "    ds = ds.batch(batch_size)\n",
    "    # Prefetch\n",
    "    ds = ds.prefetch(buffer_size=AUTOTUNE)\n",
    "\n",
    "    return ds"
   ]
  },
  {
   "cell_type": "code",
   "execution_count": 8,
   "metadata": {},
   "outputs": [],
   "source": [
    "ds = tf.data.Dataset.from_tensor_slices(paths)\n",
    "train_ds = prep_ds(ds)"
   ]
  },
  {
   "cell_type": "markdown",
   "metadata": {},
   "source": [
    "Take 1 batch and print it out"
   ]
  },
  {
   "cell_type": "code",
   "execution_count": 9,
   "metadata": {},
   "outputs": [
    {
     "name": "stdout",
     "output_type": "stream",
     "text": [
      "tf.Tensor(\n",
      "[[[[-4.6237492e+01 -2.3035145e+00 -3.8105944e-01 ...  7.1879786e-01\n",
      "     3.8315141e-01  2.4912596e-01]\n",
      "   [-4.7514477e+01 -2.3579366e+00 -1.8023932e-01 ... -6.6292188e-03\n",
      "     3.0751713e-02  8.5972548e-01]\n",
      "   [-4.9271751e+01 -3.5356989e+00  4.4459271e-01 ... -4.0901285e-01\n",
      "    -6.1334765e-01 -1.2794289e-01]\n",
      "   ...\n",
      "   [-1.7475427e+02 -7.8259567e-05  8.2965726e-06 ...  8.8049037e-06\n",
      "     6.4839332e-06 -2.2959596e-06]\n",
      "   [-1.7475427e+02 -7.8259567e-05  8.2965726e-06 ...  8.8049037e-06\n",
      "     6.4839332e-06 -2.2959596e-06]\n",
      "   [-1.7475427e+02 -7.8259567e-05  8.2965726e-06 ...  8.8049037e-06\n",
      "     6.4839332e-06 -2.2959596e-06]]]\n",
      "\n",
      "\n",
      " [[[-3.1481314e+01  2.7546692e+00 -7.6355824e+00 ... -1.2523222e+00\n",
      "    -2.5180862e+00 -8.2279962e-01]\n",
      "   [-3.0820673e+01  1.5788437e+00 -8.2510729e+00 ... -8.6800838e-01\n",
      "    -1.3016765e+00 -8.1182557e-01]\n",
      "   [-3.0123646e+01  1.9776732e+00 -8.4491234e+00 ... -1.4768876e+00\n",
      "    -1.4535860e+00 -1.5014178e+00]\n",
      "   ...\n",
      "   [-1.7475427e+02 -7.8259567e-05  8.2965726e-06 ...  8.8049037e-06\n",
      "     6.4839332e-06 -2.2959596e-06]\n",
      "   [-1.7475427e+02 -7.8259567e-05  8.2965726e-06 ...  8.8049037e-06\n",
      "     6.4839332e-06 -2.2959596e-06]\n",
      "   [-1.7475427e+02 -7.8259567e-05  8.2965726e-06 ...  8.8049037e-06\n",
      "     6.4839332e-06 -2.2959596e-06]]]\n",
      "\n",
      "\n",
      " [[[-5.1706081e+01  1.2227106e+00 -3.9478199e+00 ...  1.8394719e+00\n",
      "    -2.4480572e-01 -1.4169154e+00]\n",
      "   [-5.2135204e+01  1.6470196e+00 -5.1501074e+00 ...  2.5570691e+00\n",
      "     6.3317680e-01 -4.2902449e-01]\n",
      "   [-5.3620125e+01  9.4631666e-01 -6.4141016e+00 ...  5.9810674e-01\n",
      "    -6.7899901e-01 -9.3338001e-01]\n",
      "   ...\n",
      "   [-1.7475427e+02 -7.8259567e-05  8.2965726e-06 ...  8.8049037e-06\n",
      "     6.4839332e-06 -2.2959596e-06]\n",
      "   [-1.7475427e+02 -7.8259567e-05  8.2965726e-06 ...  8.8049037e-06\n",
      "     6.4839332e-06 -2.2959596e-06]\n",
      "   [-1.7475427e+02 -7.8259567e-05  8.2965726e-06 ...  8.8049037e-06\n",
      "     6.4839332e-06 -2.2959596e-06]]]\n",
      "\n",
      "\n",
      " ...\n",
      "\n",
      "\n",
      " [[[-6.9463242e+01 -8.0097122e+00 -1.2300822e+00 ... -1.7446855e+00\n",
      "    -8.5135311e-01 -4.5856553e-01]\n",
      "   [-6.7516960e+01 -6.9850731e+00 -1.3393810e+00 ... -5.3989953e-01\n",
      "    -1.5871094e+00 -1.1744896e+00]\n",
      "   [-6.5877327e+01 -7.7023554e+00 -2.4421599e+00 ... -8.6075234e-01\n",
      "    -2.4707775e+00 -1.3971640e+00]\n",
      "   ...\n",
      "   [-1.7475427e+02 -7.8259567e-05  8.2965726e-06 ...  8.8049037e-06\n",
      "     6.4839332e-06 -2.2959596e-06]\n",
      "   [-1.7475427e+02 -7.8259567e-05  8.2965726e-06 ...  8.8049037e-06\n",
      "     6.4839332e-06 -2.2959596e-06]\n",
      "   [-1.7475427e+02 -7.8259567e-05  8.2965726e-06 ...  8.8049037e-06\n",
      "     6.4839332e-06 -2.2959596e-06]]]\n",
      "\n",
      "\n",
      " [[[-6.8707520e+01 -3.1063251e+00  2.0766778e+00 ...  2.8160319e-01\n",
      "     4.8176903e-01  2.4308826e-01]\n",
      "   [-6.6549294e+01 -2.0870159e+00  2.6844721e+00 ...  1.1005354e+00\n",
      "     8.3868021e-01  6.9854814e-01]\n",
      "   [-6.6050430e+01 -2.3316765e+00  3.5814447e+00 ...  7.7766895e-01\n",
      "     2.2882672e-01 -5.5105466e-01]\n",
      "   ...\n",
      "   [-1.7475427e+02 -7.8259567e-05  8.2965726e-06 ...  8.8049037e-06\n",
      "     6.4839332e-06 -2.2959596e-06]\n",
      "   [-1.7475427e+02 -7.8259567e-05  8.2965726e-06 ...  8.8049037e-06\n",
      "     6.4839332e-06 -2.2959596e-06]\n",
      "   [-1.7475427e+02 -7.8259567e-05  8.2965726e-06 ...  8.8049037e-06\n",
      "     6.4839332e-06 -2.2959596e-06]]]\n",
      "\n",
      "\n",
      " [[[-3.2280418e+01 -2.8743238e+00 -2.9887530e-01 ... -4.1466600e-01\n",
      "    -1.1877458e+00 -7.0223922e-01]\n",
      "   [-3.0743950e+01 -1.8622662e+00 -4.0905487e-02 ... -3.1665164e-01\n",
      "    -6.7275572e-01  2.7365234e-02]\n",
      "   [-3.0458042e+01 -1.1304930e+00  3.4638220e-01 ... -1.1201930e+00\n",
      "    -1.0734476e+00 -2.7634862e-01]\n",
      "   ...\n",
      "   [-1.7475427e+02 -7.8259567e-05  8.2965726e-06 ...  8.8049037e-06\n",
      "     6.4839332e-06 -2.2959596e-06]\n",
      "   [-1.7475427e+02 -7.8259567e-05  8.2965726e-06 ...  8.8049037e-06\n",
      "     6.4839332e-06 -2.2959596e-06]\n",
      "   [-1.7475427e+02 -7.8259567e-05  8.2965726e-06 ...  8.8049037e-06\n",
      "     6.4839332e-06 -2.2959596e-06]]]], shape=(64, 1, 169, 13), dtype=float32)\n"
     ]
    }
   ],
   "source": [
    "for x in train_ds.take(1):\n",
    "    print(x)"
   ]
  }
 ],
 "metadata": {
  "kernelspec": {
   "display_name": "tf2.1",
   "language": "python",
   "name": "tf2.1"
  },
  "language_info": {
   "codemirror_mode": {
    "name": "ipython",
    "version": 3
   },
   "file_extension": ".py",
   "mimetype": "text/x-python",
   "name": "python",
   "nbconvert_exporter": "python",
   "pygments_lexer": "ipython3",
   "version": "3.7.2"
  }
 },
 "nbformat": 4,
 "nbformat_minor": 4
}
