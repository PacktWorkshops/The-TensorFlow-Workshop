{
 "cells": [
  {
   "cell_type": "markdown",
   "metadata": {},
   "source": [
    "# Exercise 2.04"
   ]
  },
  {
   "cell_type": "code",
   "execution_count": 1,
   "metadata": {},
   "outputs": [],
   "source": [
    "import tensorflow as tf\n",
    "from tensorflow.python.framework import random_seed\n",
    "random_seed.set_seed(42)"
   ]
  },
  {
   "cell_type": "code",
   "execution_count": 2,
   "metadata": {},
   "outputs": [],
   "source": [
    "df = tf.data.experimental.make_csv_dataset('../Datasets/drugsComTrain_raw.tsv', batch_size=1, field_delim='\\t')"
   ]
  },
  {
   "cell_type": "code",
   "execution_count": 3,
   "metadata": {},
   "outputs": [],
   "source": [
    "def prep_ds(ds, shuffle_buffer_size=1024, batch_size=32):\n",
    "    # Shuffle the dataset\n",
    "    ds = ds.shuffle(buffer_size=shuffle_buffer_size)\n",
    "    # Repeat the dataset\n",
    "    ds = ds.repeat()\n",
    "    # Batch the dataset\n",
    "    ds = ds.batch(batch_size)\n",
    "    \n",
    "    return ds"
   ]
  },
  {
   "cell_type": "code",
   "execution_count": 4,
   "metadata": {},
   "outputs": [],
   "source": [
    "ds = prep_ds(df, batch_size=5)"
   ]
  },
  {
   "cell_type": "markdown",
   "metadata": {},
   "source": [
    "Take 1 batch and print it out"
   ]
  },
  {
   "cell_type": "code",
   "execution_count": 5,
   "metadata": {},
   "outputs": [
    {
     "name": "stdout",
     "output_type": "stream",
     "text": [
      "tf.Tensor(\n",
      "[[b'\"On 2 mg. It made me feel empty inside. Like things didn&#039;t bring excitement, adrenaline. Everything seemed blank. Had major sweet cravings for the first month or two but it leveled off. The most sweet cravings were at 5 mg a day. Really brought reality into full focus. Got it a pharmacy that use a different supplier that&#039;s cheaper.\"']\n",
      " [b'\"I am a 24 year old male and have semi oil skin. Never had acne until after high school around 20 years old so I guess you can call it adult acne. \\r\\nAnyway, I was dealing with cystic acne on my chin, cheeks, jawline and even some times on my nose. It was considered mild-moderate but still very uncomfortable coming from 20 years of a completely clear face. I would have anywhere from 6-8 decently sized cysts on my face at any given time. For almost 5 years I tried everything all sorts of washes and crap I read online which none worked. Finally went to a derm 3 months ago and got Bactrim 800-160 within a week my acne cleared and has been 99.9% gone ever since taking it twice a day every day.\"']\n",
      " [b'\"This is horrible. Never in my life I felt like this ever. I think I am going to die. mMy goodness!!!!\"']\n",
      " [b'\"I quit abusing medicines and drinking 2 1/2 years ago, but never thought I would quit smoking. I started taking Chantix January 17, and have been cigarette free since January 24! The freedom from not smoking feels amazing! I&#039;ve had some crazy dreams, but I have weird dreams anyway. Thank you Chantix for helping me kick the habit!\"']\n",
      " [b'\"The first six months of using Gildess were unremarkable.  It was effective in preventing pregnancy, did not worsen nor produce acne, and I did not experience any remarkable weight gain.  It was like any other birth control.  After my first six months, however, I experienced spotting, heavier bleeding, and random periods throughout the month.  In one month, I experienced two periods. For the past few months, my periods started after two weeks of active pills.\"']], shape=(5, 1), dtype=string)\n"
     ]
    }
   ],
   "source": [
    "for x in ds.take(1):\n",
    "    print(x['review'])"
   ]
  },
  {
   "cell_type": "markdown",
   "metadata": {},
   "source": [
    "Obtain pre-trained text embedding model from TesorFlow hub"
   ]
  },
  {
   "cell_type": "code",
   "execution_count": 6,
   "metadata": {},
   "outputs": [],
   "source": [
    "import tensorflow_hub as hub\n",
    "embedding = \"https://tfhub.dev/google/tf2-preview/gnews-swivel-20dim/1\"\n",
    "hub_layer = hub.KerasLayer(embedding, input_shape=[], \n",
    "                           dtype=tf.string, trainable=True)"
   ]
  },
  {
   "cell_type": "code",
   "execution_count": 7,
   "metadata": {},
   "outputs": [
    {
     "name": "stdout",
     "output_type": "stream",
     "text": [
      "tf.Tensor(\n",
      "[[ 0.5140007  -2.0179267   1.38361     1.476341   -1.6306221  -3.778787\n",
      "  -3.089537    1.2128762   2.5229087   0.12723097 -3.4533403   2.6671464\n",
      "  -0.2185451   0.07074512 -4.3222446   2.5112097   3.0222752  -3.332357\n",
      "  -2.653579   -0.50742686]\n",
      " [ 1.8564253  -2.6656833   2.7356663   1.5028186  -2.4612641  -4.6607885\n",
      "  -1.9340665   2.34501     2.513298   -0.10728899 -0.6880438   2.1895087\n",
      "  -0.06693801  0.7737151  -5.3564095   2.3556361   5.413457   -2.8227847\n",
      "  -1.3990408  -1.0817306 ]\n",
      " [-0.91448885 -1.1078665  -0.9016515   0.20297056 -0.15448709 -2.034957\n",
      "  -1.3925421  -0.19757764  0.39035913 -0.18046005 -1.3317407   1.9738865\n",
      "  -0.17704543 -0.22645436 -2.3172152   2.7074795  -0.0819451  -2.2373881\n",
      "  -1.1885055   0.4849162 ]\n",
      " [ 1.5079169  -3.5022748   1.5204316   0.76069295 -4.1588597  -5.5369263\n",
      "  -3.7877033   1.3243417   2.812435   -0.3422503  -2.5983195   2.7843983\n",
      "   1.2904108   1.4363046  -6.169245    1.9605458   5.8139772  -3.706125\n",
      "  -1.9065906  -2.252074  ]\n",
      " [-0.07026351 -1.6134641  -0.5773132   0.7902547  -1.9593037  -1.9680957\n",
      "  -1.5442592   0.05296187  0.60522807  0.12749459 -1.5004417   1.9371855\n",
      "   0.28308627  0.23515943 -2.0784166   1.3352761   1.1606505  -0.68746907\n",
      "  -0.30845803 -0.676965  ]], shape=(5, 20), dtype=float32)\n"
     ]
    }
   ],
   "source": [
    "for x in ds.take(1):\n",
    "    print(hub_layer(tf.reshape(x['review'],[-1])))"
   ]
  }
 ],
 "metadata": {
  "kernelspec": {
   "display_name": "tf2.1",
   "language": "python",
   "name": "tf2.1"
  },
  "language_info": {
   "codemirror_mode": {
    "name": "ipython",
    "version": 3
   },
   "file_extension": ".py",
   "mimetype": "text/x-python",
   "name": "python",
   "nbconvert_exporter": "python",
   "pygments_lexer": "ipython3",
   "version": "3.7.2"
  }
 },
 "nbformat": 4,
 "nbformat_minor": 4
}
