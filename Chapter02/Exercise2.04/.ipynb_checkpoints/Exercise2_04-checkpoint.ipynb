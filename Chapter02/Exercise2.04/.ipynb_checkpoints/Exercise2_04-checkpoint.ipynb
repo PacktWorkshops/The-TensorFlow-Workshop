{
 "cells": [
  {
   "cell_type": "markdown",
   "metadata": {},
   "source": [
    "# Exercise 2.04: Loading Text Data for TensorFlow Models"
   ]
  },
  {
   "cell_type": "code",
   "execution_count": 1,
   "metadata": {},
   "outputs": [],
   "source": [
    "import tensorflow as tf"
   ]
  },
  {
   "cell_type": "code",
   "execution_count": 2,
   "metadata": {},
   "outputs": [],
   "source": [
    "df = tf.data.experimental.make_csv_dataset\\\n",
    "     ('../Datasets/drugsComTrain_raw.tsv', \\\n",
    "      batch_size=1, field_delim='\\t')"
   ]
  },
  {
   "cell_type": "code",
   "execution_count": 3,
   "metadata": {},
   "outputs": [],
   "source": [
    "def prep_ds(ds, shuffle_buffer_size=1024, batch_size=32):\n",
    "    # Shuffle the dataset\n",
    "    ds = ds.shuffle(buffer_size=shuffle_buffer_size)\n",
    "    # Repeat the dataset\n",
    "    ds = ds.repeat()\n",
    "    # Batch the dataset\n",
    "    ds = ds.batch(batch_size)\n",
    "\n",
    "    return ds"
   ]
  },
  {
   "cell_type": "code",
   "execution_count": 4,
   "metadata": {},
   "outputs": [],
   "source": [
    "ds = prep_ds(df, batch_size=5)"
   ]
  },
  {
   "cell_type": "code",
   "execution_count": 5,
   "metadata": {},
   "outputs": [
    {
     "name": "stdout",
     "output_type": "stream",
     "text": [
      "OrderedDict([('', <tf.Tensor: shape=(5, 1), dtype=int32, numpy=\n",
      "array([[193905],\n",
      "       [ 91684],\n",
      "       [ 38033],\n",
      "       [108776],\n",
      "       [ 84770]])>), ('drugName', <tf.Tensor: shape=(5, 1), dtype=string, numpy=\n",
      "array([[b'Dilaudid'],\n",
      "       [b'Protonix IV'],\n",
      "       [b'Adipex-P'],\n",
      "       [b'Nexplanon'],\n",
      "       [b'Ethinyl estradiol / norgestimate']], dtype=object)>), ('condition', <tf.Tensor: shape=(5, 1), dtype=string, numpy=\n",
      "array([[b'Pain'],\n",
      "       [b\"Barrett's Esophagus\"],\n",
      "       [b'Weight Loss'],\n",
      "       [b'Birth Control'],\n",
      "       [b'Birth Control']], dtype=object)>), ('review', <tf.Tensor: shape=(5, 1), dtype=string, numpy=\n",
      "array([[b'\"I have been given Dilaudid through an IV on several occasions and on all those occasions I&#039;d rather just dealt with the pain. Today the hospital gave me Dilaudid, and some nausea medication... On ever occasion that I have been given Dilaudid through IV instantly my head gets too heavy, I begin to get dizzy and lighthead. I always get VERY NAUSEOUS and confused, so I usually sleep it off  because I hate the feeling it gives me. This time was different I fell asleep about 40 minutes after getting the medication and every couple minutes I kept waking up. All of a sudden I became very hot and clamy while feeling very cold.  \"'],\n",
      "       [b'\"Have been on Protonix for about 10 yrs. Recently was admitted to the hospital due to pancreatitis. I was vomiting non-stop for 4 days and could only get meds via I.V. during my 7 day stay. I found that Protonix I.V. seemed to work almost better at least worked faster and lasted 24hrs until my next dose the following day.\"'],\n",
      "       [b'\"In Jan of this year I weighed 170.0. I had some gallbladder issues that ended up with it being taken out and caused some weight gain. It is now May and my last weigh in was 141.4. I love my adipex and I would recommend it for anyone. I have had two children and so my body has been through the ringer. I love the energy it gives me and the appetite suppression. I also like that it makes you thirsty and the only thing that helps is water. I am now a water drinker and I drink well over the daily recommendation. I love this!!\"'],\n",
      "       [b'\"I&#039;ve had this form of bc 4 years now. About one year after using this product I started having mood swings feeling so weak and tired,but never thought about my Nexplanon having to be the blame! Making an appointment next week to have it removed!! I use to never take a nap after work now just about everyday I feel awful if\\r\\n I don&#039;t lay day to nap I fell sick to the stomach..I really want to feel like myself again..I would not recommend this BC\"'],\n",
      "       [b'\"After being on Ortho Tri-cyclen Lo for over a year my pharmacy switched me to Tri Lo Sprintec and as with others I was &quot;assured&quot; this was the same exact drug that I had been taking. Well after the first pack my face has been breaking out throughout the month, my 2nd month my period was MUCH more painful (one of the reasons I went on BC to begin with) and I bled for almost a full week instead of my normal 4-5 days. By the 3rd month I noticed my anxiety and abdominal cramping at all times of my cycle flaring up. Mood swings galore and a period that lasted more than 7 days. :( \\r\\r\\nSpoke with my PCP and she agreed to switch back to brand name only and I am hopeful that it will all resolve and that other ladies see these reviews too!\"']],\n",
      "      dtype=object)>), ('rating', <tf.Tensor: shape=(5, 1), dtype=float32, numpy=\n",
      "array([[ 1.],\n",
      "       [10.],\n",
      "       [ 9.],\n",
      "       [ 2.],\n",
      "       [ 2.]], dtype=float32)>), ('date', <tf.Tensor: shape=(5, 1), dtype=string, numpy=\n",
      "array([[b'March 25, 2017'],\n",
      "       [b'March 4, 2012'],\n",
      "       [b'May 18, 2016'],\n",
      "       [b'August 6, 2017'],\n",
      "       [b'April 29, 2016']], dtype=object)>), ('usefulCount', <tf.Tensor: shape=(5, 1), dtype=int32, numpy=\n",
      "array([[ 6],\n",
      "       [28],\n",
      "       [88],\n",
      "       [ 5],\n",
      "       [ 4]])>)])\n"
     ]
    }
   ],
   "source": [
    "for x in ds.take(1):\n",
    "    print(x)"
   ]
  },
  {
   "cell_type": "code",
   "execution_count": 6,
   "metadata": {},
   "outputs": [],
   "source": [
    "import tensorflow_hub as hub\n",
    "embedding = \"https://tfhub.dev/google/tf2-preview\"\\\n",
    "            \"/gnews-swivel-20dim/1\"\n",
    "hub_layer = hub.KerasLayer(embedding, input_shape=[], \\\n",
    "                           dtype=tf.string, trainable=True)"
   ]
  },
  {
   "cell_type": "code",
   "execution_count": 7,
   "metadata": {},
   "outputs": [
    {
     "name": "stdout",
     "output_type": "stream",
     "text": [
      "tf.Tensor(\n",
      "[[ 0.85637194 -1.506148    2.0898294   0.76287127 -1.3294315  -3.2016342\n",
      "  -1.5625719   2.5138297   1.9493035  -0.87237185 -0.71198505  1.2482367\n",
      "   0.8347453   0.74195063 -3.2654202   1.7437259   3.6106536  -2.433589\n",
      "  -2.1442554  -1.8830311 ]\n",
      " [ 1.3633374  -3.472839    1.6306508   1.3522071  -3.7051663  -5.591705\n",
      "  -2.5833106   1.9622269   2.148968   -0.5469887  -1.8512614   3.1438973\n",
      "  -0.81081367  0.9246471  -6.089089    2.6840522   5.7409143  -4.6783543\n",
      "  -3.0686712  -1.891416  ]\n",
      " [-0.38192645 -3.241573    1.20132     0.37701157 -3.3210232  -3.9527822\n",
      "  -3.1954875   1.5348208   2.1768715   1.4031676  -3.039334    1.8451444\n",
      "   1.5885328   0.62233907 -4.6009307   3.2810917   2.9764225  -2.7709908\n",
      "  -1.3856741  -0.16450648]\n",
      " [ 1.3386972  -4.202724    2.456265    1.6445506  -4.9147415  -4.971446\n",
      "  -3.1711445   1.771192    3.425477    0.30268404 -2.1084783   2.555107\n",
      "   0.74540186  0.77879316 -5.8247786   3.1800213   5.0734744  -2.6060858\n",
      "  -2.3680193  -1.4511749 ]\n",
      " [ 1.1435002  -1.9953871   0.0774065   0.8793874  -1.8057402  -3.9833982\n",
      "  -2.35677     1.1914377   1.7414727  -0.4663017  -0.9780923   2.705346\n",
      "   0.29036057  0.60294515 -3.9027228   2.1389863   3.684991   -2.9337153\n",
      "  -1.1615205  -1.3189584 ]], shape=(5, 20), dtype=float32)\n"
     ]
    }
   ],
   "source": [
    "for x in ds.take(1):\n",
    "    print(hub_layer(tf.reshape(x['review'],[-1])))"
   ]
  },
  {
   "cell_type": "code",
   "execution_count": null,
   "metadata": {},
   "outputs": [],
   "source": []
  }
 ],
 "metadata": {
  "kernelspec": {
   "display_name": "tensorflow",
   "language": "python",
   "name": "tensorflow"
  },
  "language_info": {
   "codemirror_mode": {
    "name": "ipython",
    "version": 3
   },
   "file_extension": ".py",
   "mimetype": "text/x-python",
   "name": "python",
   "nbconvert_exporter": "python",
   "pygments_lexer": "ipython3",
   "version": "3.7.10"
  }
 },
 "nbformat": 4,
 "nbformat_minor": 4
}
