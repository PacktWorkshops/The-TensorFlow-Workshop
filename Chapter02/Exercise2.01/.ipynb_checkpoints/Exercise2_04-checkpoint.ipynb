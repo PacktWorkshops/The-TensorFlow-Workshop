{
 "cells": [
  {
   "cell_type": "markdown",
   "metadata": {},
   "source": [
    "# Exercise 2.04"
   ]
  },
  {
   "cell_type": "code",
   "execution_count": 1,
   "metadata": {},
   "outputs": [],
   "source": [
    "import tensorflow as tf"
   ]
  },
  {
   "cell_type": "code",
   "execution_count": 6,
   "metadata": {},
   "outputs": [],
   "source": [
    "df = tf.data.experimental.make_csv_dataset('../../../Datasets/drugsCom_raw/drugsComTest_raw.tsv', batch_size=1, field_delim='\\t')"
   ]
  },
  {
   "cell_type": "code",
   "execution_count": 22,
   "metadata": {},
   "outputs": [
    {
     "name": "stdout",
     "output_type": "stream",
     "text": [
      "b'\"I have  been diagnosed with ADD . I have always pushed myself to get good grades and to take as many AP and honors classes as I can handle. I enjoy learning about new things; however, my lack of focus got in the way of my learning. It bothers me when people say ADD/ADHD is made up. I know that people who don&#039;t have this disorder can&#039;t truly understand what it&#039;s like. Without adderall my mind is foggy and I can&#039;t take the fog away to learn about the things that I love. All my friends know that I have a strong passion for physics and astronomy, but it&#039;s very hard for me to pick up a book without forgetting most of what I read after I finished it. On adderall I feel like the fog fades always and my mind is like a clear sunny day. Oh how I wish that I didn&#039;t have to take this every day and just naturally be as focused. I am just an 18 year old who is trying to pursue her dreams, but without this medication I&#039;m not sure how I can get through college to learn what I love. I can now look through my telescope at the stars without the clouds getting in the way.\"'\n",
      "b'\"I have been using victoza then switched to saxenda. Been on saxenda for months.  Have continued to gain weight, not lose.  I am on 3.0 saxenda .  Was on qsymia prior to victoza, and lost about 25-30 lbs, until my insurance deemed it a diet drug and now won&#039;t pay for it! Any thoughts would be appreciated very much. I feel like a big whale, especially around my middle area. I want my qysimia back, but it is expensive and cannot get my pcp or endocrinologist--who prescribed it in the past- to prescribe it now due to being termed weight loss drug. My A1c went down a lot on qysimia as well.  Topamax  didn&#039;t work by itself as I have tried that too!!  I want my qysimia back!!\"'\n",
      "b'\"Whenever I got sick from season flu or cold, I always had sore throat and cough, my Doctor will usually gave me this medicine (Biaxin) and I was told this a good medicine. It worked fast to clear your strep throat (Sore throat). A few hours after taking  this medicine it made me feel better. I love Biaxin instead Amoxin or other medicines.\"'\n",
      "b'\"In my experience, this medication works where no others did. Fast relief of allergy-related eye burn, itch and watering. In my case, the soothing began almost immediately, and within 4 minutes there&#039;s no irritation at all. Wonderful stuff. With no side effects (for me).\"'\n",
      "b'\"I had the Paragard IUD for 6 months, I chose this particular birth control because it has no horomones! My experience getting the device inserted was smooth.. it didn&#039;t hurt at all, but there was indeed some pressure! I was sore for about 3 days, my periods stayed the same, and everything was normal.. the only thing I would point on though was I kept having a strong cramp in my tail bone and sex was quite uncomfortable! Other then that this birth control gave me no other problems.\"'\n"
     ]
    }
   ],
   "source": [
    "for ex in df.take(5):\n",
    "    print(ex['review'][0].numpy())"
   ]
  },
  {
   "cell_type": "code",
   "execution_count": 23,
   "metadata": {},
   "outputs": [],
   "source": [
    "def prep_ds(ds, shuffle_buffer_size=1024, batch_size=32):\n",
    "    # Shuffle the dataset\n",
    "    ds = ds.shuffle(buffer_size=shuffle_buffer_size)\n",
    "    # Repeat the dataset\n",
    "    ds = ds.repeat()\n",
    "    # Batch the dataset\n",
    "    ds = ds.batch(batch_size)\n",
    "    \n",
    "    return ds"
   ]
  },
  {
   "cell_type": "code",
   "execution_count": 31,
   "metadata": {},
   "outputs": [],
   "source": [
    "ds = prep_ds(df, batch_size=5)"
   ]
  },
  {
   "cell_type": "markdown",
   "metadata": {},
   "source": [
    "Take 1 batch and print it out"
   ]
  },
  {
   "cell_type": "code",
   "execution_count": 32,
   "metadata": {},
   "outputs": [
    {
     "name": "stdout",
     "output_type": "stream",
     "text": [
      "OrderedDict([('', <tf.Tensor: shape=(5, 1), dtype=int32, numpy=\n",
      "array([[207932],\n",
      "       [ 28995],\n",
      "       [ 47555],\n",
      "       [ 99547],\n",
      "       [ 56901]], dtype=int32)>), ('drugName', <tf.Tensor: shape=(5, 1), dtype=string, numpy=\n",
      "array([[b'Suprep Bowel Prep Kit'],\n",
      "       [b'Lexapro'],\n",
      "       [b'Tapentadol'],\n",
      "       [b'Magnesium sulfate / potassium sulfate / sodium sulfate'],\n",
      "       [b'Meclizine']], dtype=object)>), ('condition', <tf.Tensor: shape=(5, 1), dtype=string, numpy=\n",
      "array([[b'Bowel Preparation'],\n",
      "       [b'Anxiety'],\n",
      "       [b'Pain'],\n",
      "       [b'Bowel Preparation'],\n",
      "       [b'Vertig']], dtype=object)>), ('review', <tf.Tensor: shape=(5, 1), dtype=string, numpy=\n",
      "array([[b'\"This was the foulest tasting prep I&#039;ve ever tried. I didn&#039;t experience the cough syrup taste; to me it was very bitter. I chilled it &amp; used a straw. Mixed the first dose with apple juice which didn&#039;t help at all. I didn&#039;t know about the lemon wedges, but chasing each sip with diet Mountain Dew helped a great deal. Not very good results after the first dose but did with the second. Have had queasiness &amp; mild headache &amp; some cramping, but not any worse side effects.\"'],\n",
      "       [b'\"I have used this for four years, since my dad died, and I recommend it to anyone who is depressed or angry. I went off it once, at a stupid time, and I will never stop taking it again.\"'],\n",
      "       [b'\"My Pain mgt. doctor switched me from Demerol to Nucynta for break-through pain of chronic migraines.  Surprisingly, I found it to be effective, but I noticed from the start that it greatly diminished my language skills:  reading, writing, and speaking.  As per doctor&#039;s orders I stayed in bed while under the effects of Nucynta so this weird side effect didn&#039;t cause me any issues.\\r\\r\\n     Until...After using it for 15 months, I found my language skills to be extremely loopy, creating comments from friends and neighbors, DAYS after taking Nucynta. That scared me and my doctor immediately took me off this medicine when I finally advised her of the language problem it presented.  I could be reading a sentence and forget a word&#039;s meaning.\"'],\n",
      "       [b'\"Oh boy. This was prescribed for my second colonoscopy (did mag citrate the first time). The first dose was at 5 pm and I managed to get all of it down by chugging apple juice/broth between gulps. Used a straw the second time around (3 am). It&#039;s definitely cleaned me out but the taste and side effects are getting to me. I wasn&#039;t able to totally finish the second dose (got through 3/4 of it) as I became terribly nauseous and knew if I kept going I&#039;d lose what I had managed to get down. The taste is beyond description (salty cherry does no justice to the monstrosity, in my opinion). Dr said not to use flavor packets with it so I diluted with cold water and chilled the bottle for dose #2 as advised on here. Will not be using Suprep again.\"'],\n",
      "       [b'\"Just started Mecliizine 25mg 3 days ago to treat vertigo condition. Works great, but it makes me so sleepy. I take it before bed now, and only once per day, as opposed to the recommended 6 to 8 hours. I&#039;ve been dealing with nausea and dizziness almost daily for the past few years, this medication has provided instant relief, and I am now almost guaranteed to sleep through the night.\"']],\n",
      "      dtype=object)>), ('rating', <tf.Tensor: shape=(5, 1), dtype=float32, numpy=\n",
      "array([[4.],\n",
      "       [9.],\n",
      "       [9.],\n",
      "       [4.],\n",
      "       [8.]], dtype=float32)>), ('date', <tf.Tensor: shape=(5, 1), dtype=string, numpy=\n",
      "array([[b'November 23, 2014'],\n",
      "       [b'August 5, 2008'],\n",
      "       [b'October 24, 2013'],\n",
      "       [b'July 21, 2017'],\n",
      "       [b'September 27, 2009']], dtype=object)>), ('usefulCount', <tf.Tensor: shape=(5, 1), dtype=int32, numpy=\n",
      "array([[10],\n",
      "       [54],\n",
      "       [75],\n",
      "       [ 6],\n",
      "       [88]], dtype=int32)>)])\n"
     ]
    }
   ],
   "source": [
    "for x in ds.take(1):\n",
    "    print(x)"
   ]
  },
  {
   "cell_type": "code",
   "execution_count": null,
   "metadata": {},
   "outputs": [],
   "source": []
  }
 ],
 "metadata": {
  "kernelspec": {
   "display_name": "tf2.1",
   "language": "python",
   "name": "tf2.1"
  },
  "language_info": {
   "codemirror_mode": {
    "name": "ipython",
    "version": 3
   },
   "file_extension": ".py",
   "mimetype": "text/x-python",
   "name": "python",
   "nbconvert_exporter": "python",
   "pygments_lexer": "ipython3",
   "version": "3.7.2"
  }
 },
 "nbformat": 4,
 "nbformat_minor": 4
}
