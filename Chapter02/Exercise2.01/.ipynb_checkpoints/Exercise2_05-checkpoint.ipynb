{
 "cells": [
  {
   "cell_type": "markdown",
   "metadata": {},
   "source": [
    "# Exercise 2.05"
   ]
  },
  {
   "cell_type": "code",
   "execution_count": 1,
   "metadata": {},
   "outputs": [],
   "source": [
    "import tensorflow as tf\n",
    "import os"
   ]
  },
  {
   "cell_type": "code",
   "execution_count": 2,
   "metadata": {},
   "outputs": [],
   "source": [
    "def get_dataset(file_paths):\n",
    "    file_path_ds = tf.data.Dataset.from_tensor_slices(file_paths)\n",
    "    return file_path_ds"
   ]
  },
  {
   "cell_type": "code",
   "execution_count": 3,
   "metadata": {},
   "outputs": [],
   "source": [
    "def load_audio(file_path, sample_rate=44100):\n",
    "    # Load one second of audio at 44.1kHz sample-rate\n",
    "    audio = tf.io.read_file(file_path)\n",
    "    audio, sample_rate = tf.audio.decode_wav(audio,\n",
    "                                             desired_channels=1,\n",
    "                                             desired_samples=sample_rate)\n",
    "    return tf.transpose(audio)"
   ]
  },
  {
   "cell_type": "code",
   "execution_count": 4,
   "metadata": {},
   "outputs": [],
   "source": [
    "prefix = \"../../../../../Downloads/data_speech_commands_v0.02/backward/\"\n",
    "paths = [os.path.join(prefix, path) for path in os.listdir(prefix)]"
   ]
  },
  {
   "cell_type": "code",
   "execution_count": 5,
   "metadata": {},
   "outputs": [
    {
     "data": {
      "text/plain": [
       "[<matplotlib.lines.Line2D at 0x141c25208>]"
      ]
     },
     "execution_count": 5,
     "metadata": {},
     "output_type": "execute_result"
    },
    {
     "data": {
      "image/png": "[encoded data removed]",
      "text/plain": [
       "<Figure size 432x288 with 1 Axes>"
      ]
     },
     "metadata": {
      "needs_background": "light"
     },
     "output_type": "display_data"
    }
   ],
   "source": [
    "import matplotlib.pyplot as plt\n",
    "audio = load_audio(paths[0])\n",
    "plt.plot(audio.numpy().T)"
   ]
  },
  {
   "cell_type": "code",
   "execution_count": 6,
   "metadata": {},
   "outputs": [],
   "source": [
    "def apply_mfccs(audio, sample_rate=44100, num_mfccs=13):\n",
    "    stfts = tf.signal.stft(audio, frame_length=1024, frame_step=256,\n",
    "                           fft_length=1024)\n",
    "    spectrograms = tf.abs(stfts)\n",
    "    num_spectrogram_bins = stfts.shape[-1]#.value\n",
    "    \n",
    "    lower_edge_hertz, upper_edge_hertz, num_mel_bins = 80.0, 7600.0, 80\n",
    "    linear_to_mel_weight_matrix = tf.signal.linear_to_mel_weight_matrix(\n",
    "      num_mel_bins, num_spectrogram_bins, sample_rate, lower_edge_hertz,\n",
    "      upper_edge_hertz)\n",
    "    mel_spectrograms = tf.tensordot(\n",
    "      spectrograms, linear_to_mel_weight_matrix, 1)\n",
    "    \n",
    "    mel_spectrograms.set_shape(spectrograms.shape[:-1].concatenate(\n",
    "      linear_to_mel_weight_matrix.shape[-1:]))\n",
    "\n",
    "    # Compute a stabilized log to get log-magnitude mel-scale spectrograms.\n",
    "    log_mel_spectrograms = tf.math.log(mel_spectrograms + 1e-6)\n",
    "\n",
    "    # Compute MFCCs from log_mel_spectrograms and take the first 13.\n",
    "    mfccs = tf.signal.mfccs_from_log_mel_spectrograms(\n",
    "      log_mel_spectrograms)[..., :num_mfccs]\n",
    "    return mfccs"
   ]
  },
  {
   "cell_type": "code",
   "execution_count": 7,
   "metadata": {},
   "outputs": [
    {
     "data": {
      "text/plain": [
       "<matplotlib.collections.PolyCollection at 0x12ed3c898>"
      ]
     },
     "execution_count": 7,
     "metadata": {},
     "output_type": "execute_result"
    },
    {
     "data": {
      "image/png": "[encoded data removed]",
      "text/plain": [
       "<Figure size 432x288 with 1 Axes>"
      ]
     },
     "metadata": {
      "needs_background": "light"
     },
     "output_type": "display_data"
    }
   ],
   "source": [
    "mfcc = apply_mfccs(audio)\n",
    "plt.pcolor(mfcc.numpy()[0])"
   ]
  },
  {
   "cell_type": "code",
   "execution_count": 8,
   "metadata": {},
   "outputs": [],
   "source": [
    "AUTOTUNE = tf.data.experimental.AUTOTUNE\n",
    "\n",
    "def prep_ds(ds, shuffle_buffer_size=1024, batch_size=64):\n",
    "    # Randomly shuffle (file_path, label) dataset\n",
    "    ds = ds.shuffle(buffer_size=shuffle_buffer_size)\n",
    "    # Load and decode audio from file paths\n",
    "    ds = ds.map(load_audio, num_parallel_calls=AUTOTUNE)\n",
    "    ds = ds.map(apply_mfccs)\n",
    "    # Repeat dataset forever\n",
    "    ds = ds.repeat()\n",
    "    # Prepare batches\n",
    "    ds = ds.batch(batch_size)\n",
    "    # Prefetch\n",
    "    ds = ds.prefetch(buffer_size=AUTOTUNE)\n",
    "\n",
    "    return ds"
   ]
  },
  {
   "cell_type": "code",
   "execution_count": 9,
   "metadata": {},
   "outputs": [],
   "source": [
    "ds = get_dataset(paths)\n",
    "train_ds = prep_ds(ds)"
   ]
  },
  {
   "cell_type": "markdown",
   "metadata": {},
   "source": [
    "Take 1 batch and print it out"
   ]
  },
  {
   "cell_type": "code",
   "execution_count": 10,
   "metadata": {},
   "outputs": [
    {
     "name": "stdout",
     "output_type": "stream",
     "text": [
      "tf.Tensor(\n",
      "[[[[-4.4642849e+01 -4.9765382e+00 -5.7996547e-01 ...  1.0643123e+00\n",
      "     2.8269064e-01 -7.1667850e-01]\n",
      "   [-4.2442249e+01 -5.3387356e+00 -1.7330698e+00 ...  4.2930695e-01\n",
      "    -9.1608763e-01 -1.0160774e+00]\n",
      "   [-3.7749702e+01 -5.2773833e+00 -2.8131292e+00 ...  1.6066122e+00\n",
      "    -7.4440116e-01 -9.3053460e-01]\n",
      "   ...\n",
      "   [-1.7475427e+02 -7.8259567e-05  8.2965726e-06 ...  8.8049037e-06\n",
      "     6.4839332e-06 -2.2959596e-06]\n",
      "   [-1.7475427e+02 -7.8259567e-05  8.2965726e-06 ...  8.8049037e-06\n",
      "     6.4839332e-06 -2.2959596e-06]\n",
      "   [-1.7475427e+02 -7.8259567e-05  8.2965726e-06 ...  8.8049037e-06\n",
      "     6.4839332e-06 -2.2959596e-06]]]\n",
      "\n",
      "\n",
      " [[[-6.0438839e+01 -2.8937941e+00 -4.6009812e-01 ... -1.4821717e+00\n",
      "    -1.8742901e+00 -9.1174310e-01]\n",
      "   [-6.1044830e+01 -4.2196012e+00 -1.5067010e+00 ... -1.0377940e+00\n",
      "    -1.3011398e+00 -5.6038153e-01]\n",
      "   [-5.9665863e+01 -3.9139743e+00 -2.4118478e+00 ... -1.9506493e+00\n",
      "    -1.6718216e+00 -7.5454760e-01]\n",
      "   ...\n",
      "   [-1.7475427e+02 -7.8259567e-05  8.2965726e-06 ...  8.8049037e-06\n",
      "     6.4839332e-06 -2.2959596e-06]\n",
      "   [-1.7475427e+02 -7.8259567e-05  8.2965726e-06 ...  8.8049037e-06\n",
      "     6.4839332e-06 -2.2959596e-06]\n",
      "   [-1.7475427e+02 -7.8259567e-05  8.2965726e-06 ...  8.8049037e-06\n",
      "     6.4839332e-06 -2.2959596e-06]]]\n",
      "\n",
      "\n",
      " [[[-1.7475427e+02 -7.8259567e-05  8.2965726e-06 ...  8.8049037e-06\n",
      "     6.4839332e-06 -2.2959596e-06]\n",
      "   [-1.7475427e+02 -7.8259567e-05  8.2965726e-06 ...  8.8049037e-06\n",
      "     6.4839332e-06 -2.2959596e-06]\n",
      "   [-1.7475427e+02 -7.8259567e-05  8.2965726e-06 ...  8.8049037e-06\n",
      "     6.4839332e-06 -2.2959596e-06]\n",
      "   ...\n",
      "   [-1.7475427e+02 -7.8259567e-05  8.2965726e-06 ...  8.8049037e-06\n",
      "     6.4839332e-06 -2.2959596e-06]\n",
      "   [-1.7475427e+02 -7.8259567e-05  8.2965726e-06 ...  8.8049037e-06\n",
      "     6.4839332e-06 -2.2959596e-06]\n",
      "   [-1.7475427e+02 -7.8259567e-05  8.2965726e-06 ...  8.8049037e-06\n",
      "     6.4839332e-06 -2.2959596e-06]]]\n",
      "\n",
      "\n",
      " ...\n",
      "\n",
      "\n",
      " [[[-6.3836529e+01 -6.7880230e+00 -2.8482418e+00 ...  4.5943689e-01\n",
      "    -7.2760844e-01 -3.7775564e-01]\n",
      "   [-6.2262581e+01 -5.9360466e+00 -2.3943419e+00 ... -7.4751213e-02\n",
      "    -1.8955071e+00 -6.5537685e-01]\n",
      "   [-6.0026402e+01 -4.7949319e+00 -1.4746984e+00 ... -2.5510696e-01\n",
      "    -1.7898029e+00 -7.9687691e-01]\n",
      "   ...\n",
      "   [-1.7475427e+02 -7.8259567e-05  8.2965726e-06 ...  8.8049037e-06\n",
      "     6.4839332e-06 -2.2959596e-06]\n",
      "   [-1.7475427e+02 -7.8259567e-05  8.2965726e-06 ...  8.8049037e-06\n",
      "     6.4839332e-06 -2.2959596e-06]\n",
      "   [-1.7475427e+02 -7.8259567e-05  8.2965726e-06 ...  8.8049037e-06\n",
      "     6.4839332e-06 -2.2959596e-06]]]\n",
      "\n",
      "\n",
      " [[[-3.1627113e+01  8.3995085e+00 -2.6151550e+00 ... -3.4009516e+00\n",
      "     2.8137505e-01  4.0844625e-01]\n",
      "   [-1.6368504e+01  1.6599764e+00 -2.3549912e+00 ... -2.2514694e+00\n",
      "    -7.6431292e-01 -3.5556185e-01]\n",
      "   [-9.0840740e+00 -3.1023850e+00 -2.0428793e+00 ... -2.3639002e+00\n",
      "    -1.7975411e+00 -7.5820613e-01]\n",
      "   ...\n",
      "   [-1.7475427e+02 -7.8259567e-05  8.2965726e-06 ...  8.8049037e-06\n",
      "     6.4839332e-06 -2.2959596e-06]\n",
      "   [-1.7475427e+02 -7.8259567e-05  8.2965726e-06 ...  8.8049037e-06\n",
      "     6.4839332e-06 -2.2959596e-06]\n",
      "   [-1.7475427e+02 -7.8259567e-05  8.2965726e-06 ...  8.8049037e-06\n",
      "     6.4839332e-06 -2.2959596e-06]]]\n",
      "\n",
      "\n",
      " [[[-4.0909683e+01  5.2087951e+00  5.4930317e-01 ... -9.6509975e-01\n",
      "    -1.0086335e+00 -9.9602103e-01]\n",
      "   [-4.0754547e+01  4.7291174e+00  2.1884216e-01 ... -8.9568490e-01\n",
      "    -1.2103267e+00 -4.1560757e-01]\n",
      "   [-4.1915573e+01  2.9296057e+00 -3.7906876e-01 ...  7.0537748e-03\n",
      "    -1.4694252e+00 -7.0318484e-01]\n",
      "   ...\n",
      "   [-1.7475427e+02 -7.8259567e-05  8.2965726e-06 ...  8.8049037e-06\n",
      "     6.4839332e-06 -2.2959596e-06]\n",
      "   [-1.7475427e+02 -7.8259567e-05  8.2965726e-06 ...  8.8049037e-06\n",
      "     6.4839332e-06 -2.2959596e-06]\n",
      "   [-1.7475427e+02 -7.8259567e-05  8.2965726e-06 ...  8.8049037e-06\n",
      "     6.4839332e-06 -2.2959596e-06]]]], shape=(64, 1, 169, 13), dtype=float32)\n"
     ]
    }
   ],
   "source": [
    "for x in train_ds.take(1):\n",
    "    print(x)"
   ]
  }
 ],
 "metadata": {
  "kernelspec": {
   "display_name": "tf2.1",
   "language": "python",
   "name": "tf2.1"
  },
  "language_info": {
   "codemirror_mode": {
    "name": "ipython",
    "version": 3
   },
   "file_extension": ".py",
   "mimetype": "text/x-python",
   "name": "python",
   "nbconvert_exporter": "python",
   "pygments_lexer": "ipython3",
   "version": "3.7.2"
  }
 },
 "nbformat": 4,
 "nbformat_minor": 4
}
