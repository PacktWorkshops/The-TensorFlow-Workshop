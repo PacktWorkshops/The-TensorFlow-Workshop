{
 "cells": [
  {
   "cell_type": "markdown",
   "metadata": {
    "id": "iBRXoTy8_r5Y"
   },
   "source": [
    "# **Exercise 11.1 Text Generation**\n",
    "\n"
   ]
  },
  {
   "cell_type": "markdown",
   "metadata": {
    "id": "895rEu406nKE"
   },
   "source": [
    "# **1. Import the libraries**"
   ]
  },
  {
   "cell_type": "code",
   "execution_count": 6,
   "metadata": {
    "id": "nzLzszzWD99d"
   },
   "outputs": [],
   "source": [
    "from keras.preprocessing.sequence import pad_sequences\n",
    "from keras.models import Sequential\n",
    "from keras.layers import Embedding, LSTM, Dense, Dropout\n",
    "import tensorflow.keras.utils as ku \n",
    "from keras.preprocessing.text import Tokenizer\n",
    "import pandas as pd\n",
    "import numpy as np\n",
    "from keras.callbacks import EarlyStopping\n",
    "import string, os \n",
    "import warnings\n",
    "warnings.filterwarnings(\"ignore\")\n",
    "warnings.simplefilter(action='ignore', category=FutureWarning)\n"
   ]
  },
  {
   "cell_type": "markdown",
   "metadata": {
    "id": "9-sa08RD5g0M"
   },
   "source": [
    "# **2. Load the Dataset**"
   ]
  },
  {
   "cell_type": "code",
   "execution_count": 2,
   "metadata": {
    "colab": {
     "base_uri": "https://localhost:8080/"
    },
    "id": "sIxuhC_S5ith",
    "outputId": "8fe69a66-2a9e-4ee9-cf73-0b80d15d2595"
   },
   "outputs": [
    {
     "data": {
      "text/plain": [
       "831"
      ]
     },
     "execution_count": 2,
     "metadata": {},
     "output_type": "execute_result"
    }
   ],
   "source": [
    "our_dir = '../../Chapter09/Datasets/'\n",
    "our_headlines = []\n",
    "for filename in os.listdir(our_dir):\n",
    "    if 'Articles' in filename:\n",
    "        article_df = pd.read_csv(our_dir + filename)\n",
    "        our_headlines.extend(list(article_df.headline.values))\n",
    "        break\n",
    "\n",
    "our_headlines = [h for h in our_headlines if h != \"Unknown\"]\n",
    "len(our_headlines)"
   ]
  },
  {
   "cell_type": "markdown",
   "metadata": {
    "id": "YltnWaxs5rEu"
   },
   "source": [
    "# **3. Dataset Preperation**"
   ]
  },
  {
   "cell_type": "markdown",
   "metadata": {
    "id": "h9PtjHzE53lR"
   },
   "source": [
    "## **3.1 Dataset Cleaning**"
   ]
  },
  {
   "cell_type": "code",
   "execution_count": 3,
   "metadata": {
    "colab": {
     "base_uri": "https://localhost:8080/"
    },
    "id": "9AYJZcRN57xZ",
    "outputId": "e70562fb-0fe8-4215-8602-2be965913281"
   },
   "outputs": [
    {
     "data": {
      "text/plain": [
       "['lets go for a win on opioids',\n",
       " 'floridas vengeful governor',\n",
       " 'how to end the politicization of the courts',\n",
       " 'when dr king came out against vietnam',\n",
       " 'britains trains dont run on time blame capitalism',\n",
       " 'questions for no license plates here using art to transcend prison walls',\n",
       " 'dry spell',\n",
       " 'are there subjects that should be offlimits to artists or to certain artists in particular',\n",
       " 'that is great television',\n",
       " 'thinking in code',\n",
       " 'how gorsuchs influence could be greater than his vote',\n",
       " 'new york today how to ease a hangover',\n",
       " 'trumps gifts to china',\n",
       " 'at penn station rail mishap spurs large and lasting headache',\n",
       " 'chemical attack on syrians ignites worlds outrage',\n",
       " 'adventure is still on babbos menu',\n",
       " 'swimming in the fast lane',\n",
       " 'a national civics exam',\n",
       " 'obama adviser is back in the political cross hairs',\n",
       " 'the hippies have won']"
      ]
     },
     "execution_count": 3,
     "metadata": {},
     "output_type": "execute_result"
    }
   ],
   "source": [
    "def clean_text(txt):\n",
    "    txt = \"\".join(v for v in txt if v not in string.punctuation).lower()\n",
    "    txt = txt.encode(\"utf8\").decode(\"ascii\",'ignore')\n",
    "    return txt \n",
    "\n",
    "corpus = [clean_text(x) for x in our_headlines]\n",
    "corpus[60:80]"
   ]
  },
  {
   "cell_type": "markdown",
   "metadata": {
    "id": "3BrkQpaO58vD"
   },
   "source": [
    "## **3.2 Generating Sequence of N-gram Tokens**"
   ]
  },
  {
   "cell_type": "code",
   "execution_count": 4,
   "metadata": {
    "colab": {
     "base_uri": "https://localhost:8080/"
    },
    "id": "wqitzE5r6Gp3",
    "outputId": "37ad3c8a-d7c1-48f3-9e45-d7249a8d45d5"
   },
   "outputs": [
    {
     "data": {
      "text/plain": [
       "[[169, 17],\n",
       " [169, 17, 665],\n",
       " [169, 17, 665, 367],\n",
       " [169, 17, 665, 367, 4],\n",
       " [169, 17, 665, 367, 4, 2],\n",
       " [169, 17, 665, 367, 4, 2, 666],\n",
       " [169, 17, 665, 367, 4, 2, 666, 170],\n",
       " [169, 17, 665, 367, 4, 2, 666, 170, 5],\n",
       " [169, 17, 665, 367, 4, 2, 666, 170, 5, 667],\n",
       " [6, 80],\n",
       " [6, 80, 1],\n",
       " [6, 80, 1, 668],\n",
       " [6, 80, 1, 668, 10],\n",
       " [6, 80, 1, 668, 10, 669],\n",
       " [670, 671],\n",
       " [670, 671, 129],\n",
       " [670, 671, 129, 672],\n",
       " [673, 674],\n",
       " [673, 674, 368],\n",
       " [673, 674, 368, 675]]"
      ]
     },
     "execution_count": 4,
     "metadata": {},
     "output_type": "execute_result"
    }
   ],
   "source": [
    "tokenizer = Tokenizer()\n",
    "\n",
    "def get_seq_of_tokens(corpus):\n",
    "    ## tokenization\n",
    "    tokenizer.fit_on_texts(corpus)\n",
    "    all_words = len(tokenizer.word_index) + 1\n",
    "    \n",
    "    ## convert data to sequence of tokens \n",
    "    input_seq = []\n",
    "    for line in corpus:\n",
    "        token_list = tokenizer.texts_to_sequences([line])[0]\n",
    "        for i in range(1, len(token_list)):\n",
    "            n_gram_sequence = token_list[:i+1]\n",
    "            input_seq.append(n_gram_sequence)\n",
    "    return input_seq, all_words\n",
    "\n",
    "our_sequences, all_words = get_seq_of_tokens(corpus)\n",
    "our_sequences[:20]"
   ]
  },
  {
   "cell_type": "markdown",
   "metadata": {
    "id": "OyTlnELj6Hnp"
   },
   "source": [
    "## **3.3 Padding the Sequences and obtain variables: Predictors and Target**"
   ]
  },
  {
   "cell_type": "code",
   "execution_count": 7,
   "metadata": {
    "id": "EMbgh0JX6SfL"
   },
   "outputs": [],
   "source": [
    "def generate_padded_sequences(input_seq):\n",
    "    max_sequence_len = max([len(x) for x in input_seq])\n",
    "    input_seq = np.array(pad_sequences(input_seq, maxlen=max_sequence_len, padding='pre'))\n",
    "    \n",
    "    predictors, label = input_seq[:,:-1],input_seq[:,-1]\n",
    "    label = ku.to_categorical(label, num_classes=all_words)\n",
    "    return predictors, label, max_sequence_len\n",
    "\n",
    "predictors, label, max_sequence_len = generate_padded_sequences(our_sequences)"
   ]
  },
  {
   "cell_type": "markdown",
   "metadata": {
    "id": "uzRsyHcf6UD4"
   },
   "source": [
    "# **4. LSTM's for Text Generation**"
   ]
  },
  {
   "cell_type": "code",
   "execution_count": 8,
   "metadata": {
    "colab": {
     "base_uri": "https://localhost:8080/"
    },
    "id": "hdkZNPn16fH-",
    "outputId": "8abe64bf-3b55-43f6-8c68-2416ebbf4759"
   },
   "outputs": [
    {
     "name": "stderr",
     "output_type": "stream",
     "text": [
      "2021-10-29 13:18:42.378743: I tensorflow/core/platform/cpu_feature_guard.cc:142] This TensorFlow binary is optimized with oneAPI Deep Neural Network Library (oneDNN) to use the following CPU instructions in performance-critical operations:  AVX2 FMA\n",
      "To enable them in other operations, rebuild TensorFlow with the appropriate compiler flags.\n"
     ]
    },
    {
     "name": "stdout",
     "output_type": "stream",
     "text": [
      "Model: \"sequential\"\n",
      "_________________________________________________________________\n",
      "Layer (type)                 Output Shape              Param #   \n",
      "=================================================================\n",
      "embedding (Embedding)        (None, 18, 10)            24220     \n",
      "_________________________________________________________________\n",
      "lstm (LSTM)                  (None, 100)               44400     \n",
      "_________________________________________________________________\n",
      "dropout (Dropout)            (None, 100)               0         \n",
      "_________________________________________________________________\n",
      "dense (Dense)                (None, 2422)              244622    \n",
      "=================================================================\n",
      "Total params: 313,242\n",
      "Trainable params: 313,242\n",
      "Non-trainable params: 0\n",
      "_________________________________________________________________\n"
     ]
    }
   ],
   "source": [
    "def create_model(max_sequence_len, all_words):\n",
    "    input_len = max_sequence_len - 1\n",
    "    model = Sequential()\n",
    "    \n",
    "    # Add Input Embedding Layer\n",
    "    model.add(Embedding(all_words, 10, input_length=input_len))\n",
    "    \n",
    "    # Add Hidden Layer 1 - LSTM Layer\n",
    "    model.add(LSTM(100))\n",
    "    model.add(Dropout(0.1))\n",
    "    \n",
    "    # Add Output Layer\n",
    "    model.add(Dense(all_words, activation='softmax'))\n",
    "\n",
    "    model.compile(loss='categorical_crossentropy', optimizer='adam')\n",
    "    \n",
    "    return model\n",
    "\n",
    "model = create_model(max_sequence_len, all_words)\n",
    "model.summary()"
   ]
  },
  {
   "cell_type": "code",
   "execution_count": 9,
   "metadata": {
    "colab": {
     "base_uri": "https://localhost:8080/"
    },
    "id": "pHltx5kz6fAi",
    "outputId": "f2e194a6-6617-48f4-f8bd-ff031ed012fb"
   },
   "outputs": [
    {
     "name": "stderr",
     "output_type": "stream",
     "text": [
      "2021-10-29 13:18:44.202152: I tensorflow/compiler/mlir/mlir_graph_optimization_pass.cc:176] None of the MLIR Optimization Passes are enabled (registered 2)\n"
     ]
    },
    {
     "name": "stdout",
     "output_type": "stream",
     "text": [
      "Epoch 1/100\n",
      "Epoch 2/100\n",
      "Epoch 3/100\n",
      "Epoch 4/100\n",
      "Epoch 5/100\n",
      "Epoch 6/100\n",
      "Epoch 7/100\n",
      "Epoch 8/100\n",
      "Epoch 9/100\n",
      "Epoch 10/100\n",
      "Epoch 11/100\n",
      "Epoch 12/100\n",
      "Epoch 13/100\n",
      "Epoch 14/100\n",
      "Epoch 15/100\n",
      "Epoch 16/100\n",
      "Epoch 17/100\n",
      "Epoch 18/100\n",
      "Epoch 19/100\n",
      "Epoch 20/100\n",
      "Epoch 21/100\n",
      "Epoch 22/100\n",
      "Epoch 23/100\n",
      "Epoch 24/100\n",
      "Epoch 25/100\n",
      "Epoch 26/100\n",
      "Epoch 27/100\n",
      "Epoch 28/100\n",
      "Epoch 29/100\n",
      "Epoch 30/100\n",
      "Epoch 31/100\n",
      "Epoch 32/100\n",
      "Epoch 33/100\n",
      "Epoch 34/100\n",
      "Epoch 35/100\n",
      "Epoch 36/100\n",
      "Epoch 37/100\n",
      "Epoch 38/100\n",
      "Epoch 39/100\n",
      "Epoch 40/100\n",
      "Epoch 41/100\n",
      "Epoch 42/100\n",
      "Epoch 43/100\n",
      "Epoch 44/100\n",
      "Epoch 45/100\n",
      "Epoch 46/100\n",
      "Epoch 47/100\n",
      "Epoch 48/100\n",
      "Epoch 49/100\n",
      "Epoch 50/100\n",
      "Epoch 51/100\n",
      "Epoch 52/100\n",
      "Epoch 53/100\n",
      "Epoch 54/100\n",
      "Epoch 55/100\n",
      "Epoch 56/100\n",
      "Epoch 57/100\n",
      "Epoch 58/100\n",
      "Epoch 59/100\n",
      "Epoch 60/100\n",
      "Epoch 61/100\n",
      "Epoch 62/100\n",
      "Epoch 63/100\n",
      "Epoch 64/100\n",
      "Epoch 65/100\n",
      "Epoch 66/100\n",
      "Epoch 67/100\n",
      "Epoch 68/100\n",
      "Epoch 69/100\n",
      "Epoch 70/100\n",
      "Epoch 71/100\n",
      "Epoch 72/100\n",
      "Epoch 73/100\n",
      "Epoch 74/100\n",
      "Epoch 75/100\n",
      "Epoch 76/100\n",
      "Epoch 77/100\n",
      "Epoch 78/100\n",
      "Epoch 79/100\n",
      "Epoch 80/100\n",
      "Epoch 81/100\n",
      "Epoch 82/100\n",
      "Epoch 83/100\n",
      "Epoch 84/100\n",
      "Epoch 85/100\n",
      "Epoch 86/100\n",
      "Epoch 87/100\n",
      "Epoch 88/100\n",
      "Epoch 89/100\n",
      "Epoch 90/100\n",
      "Epoch 91/100\n",
      "Epoch 92/100\n",
      "Epoch 93/100\n",
      "Epoch 94/100\n",
      "Epoch 95/100\n",
      "Epoch 96/100\n",
      "Epoch 97/100\n",
      "Epoch 98/100\n",
      "Epoch 99/100\n",
      "Epoch 100/100\n"
     ]
    },
    {
     "data": {
      "text/plain": [
       "<keras.callbacks.History at 0x17fdfdca0>"
      ]
     },
     "execution_count": 9,
     "metadata": {},
     "output_type": "execute_result"
    }
   ],
   "source": [
    "model.fit(predictors, label, epochs=100, verbose=5)"
   ]
  },
  {
   "cell_type": "markdown",
   "metadata": {
    "id": "nBK_h0_j6awj"
   },
   "source": [
    "# **5. Generating the Text**"
   ]
  },
  {
   "cell_type": "code",
   "execution_count": 10,
   "metadata": {
    "id": "nJYgZG9b6d1S"
   },
   "outputs": [],
   "source": [
    "def generate_text(seed_text, next_words, model, max_sequence_len):\n",
    "    for _ in range(next_words):\n",
    "        token_list = tokenizer.texts_to_sequences([seed_text])[0]\n",
    "        token_list = pad_sequences([token_list], maxlen=max_sequence_len-1, padding='pre')\n",
    "        predicted = model.predict_classes(token_list, verbose=0)\n",
    "        \n",
    "        output_word = \"\"\n",
    "        for word,index in tokenizer.word_index.items():\n",
    "            if index == predicted:\n",
    "                output_word = word\n",
    "                break\n",
    "        seed_text += \" \"+output_word\n",
    "    return seed_text.title()"
   ]
  },
  {
   "cell_type": "markdown",
   "metadata": {
    "id": "FVaeodoP6g9U"
   },
   "source": [
    "# **6. Results**"
   ]
  },
  {
   "cell_type": "code",
   "execution_count": 11,
   "metadata": {
    "colab": {
     "base_uri": "https://localhost:8080/"
    },
    "id": "1VSxnpR0Ln3Z",
    "outputId": "28a471a9-c628-4743-9b05-1a651c9e1da0"
   },
   "outputs": [
    {
     "name": "stdout",
     "output_type": "stream",
     "text": [
      "10 Ways To Teach And Learn About Poetry With The New York Times\n",
      "Europe Looks To State Or Florence Hold Part On Its Chemical\n",
      "Best Way To Stand A Small Equal Large And Lasting Headache Russian\n",
      "Homeless In The Dreaded Trump Curse Partisan Tool Not The Old Days\n",
      "Unexpected Results Trumps Fat History Lesson In Play Catch Thats Tricky Say\n",
      "Critics Warn Leader Moves To Hold Early Elections Shakier Flowers 5 Home\n"
     ]
    }
   ],
   "source": [
    "print (generate_text(\"10 Ways\", 11, model, max_sequence_len))\n",
    "print (generate_text(\"europe looks to\", 8, model, max_sequence_len))\n",
    "print (generate_text(\"best way\", 10, model, max_sequence_len))\n",
    "print (generate_text(\"homeless in\", 10, model, max_sequence_len))\n",
    "print (generate_text(\"Unexpected results\", 10, model, max_sequence_len))\n",
    "print (generate_text(\"critics warn\", 10, model, max_sequence_len))"
   ]
  },
  {
   "cell_type": "code",
   "execution_count": null,
   "metadata": {},
   "outputs": [],
   "source": []
  }
 ],
 "metadata": {
  "colab": {
   "collapsed_sections": [],
   "name": "Exercise 11.1.ipynb",
   "provenance": []
  },
  "kernelspec": {
   "display_name": "tf22",
   "language": "python",
   "name": "tf22"
  },
  "language_info": {
   "codemirror_mode": {
    "name": "ipython",
    "version": 3
   },
   "file_extension": ".py",
   "mimetype": "text/x-python",
   "name": "python",
   "nbconvert_exporter": "python",
   "pygments_lexer": "ipython3",
   "version": "3.9.6"
  }
 },
 "nbformat": 4,
 "nbformat_minor": 1
}
