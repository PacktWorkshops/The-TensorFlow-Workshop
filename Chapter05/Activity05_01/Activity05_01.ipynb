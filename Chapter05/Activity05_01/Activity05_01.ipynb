{
 "cells": [
  {
   "cell_type": "code",
   "execution_count": 1,
   "metadata": {
    "colab": {},
    "colab_type": "code",
    "id": "Uf630aTfG4fB"
   },
   "outputs": [],
   "source": [
    "import pandas as pd"
   ]
  },
  {
   "cell_type": "code",
   "execution_count": 2,
   "metadata": {
    "colab": {},
    "colab_type": "code",
    "id": "9UTKnuyMG4iF"
   },
   "outputs": [],
   "source": [
    "file_url = 'https://raw.githubusercontent.com/PacktWorkshops'\\\n",
    "           '/The-TensorFlow-Workshop/master/Chapter05'\\\n",
    "           '/dataset/letter-recognition.data'"
   ]
  },
  {
   "cell_type": "code",
   "execution_count": 3,
   "metadata": {
    "colab": {
     "base_uri": "https://localhost:8080/",
     "height": 204
    },
    "colab_type": "code",
    "id": "b7Z2bZNWI5IH",
    "outputId": "a99d09f0-676c-4a89-91d8-2532d308e27e"
   },
   "outputs": [
    {
     "data": {
      "text/html": [
       "<div>\n",
       "<style scoped>\n",
       "    .dataframe tbody tr th:only-of-type {\n",
       "        vertical-align: middle;\n",
       "    }\n",
       "\n",
       "    .dataframe tbody tr th {\n",
       "        vertical-align: top;\n",
       "    }\n",
       "\n",
       "    .dataframe thead th {\n",
       "        text-align: right;\n",
       "    }\n",
       "</style>\n",
       "<table border=\"1\" class=\"dataframe\">\n",
       "  <thead>\n",
       "    <tr style=\"text-align: right;\">\n",
       "      <th></th>\n",
       "      <th>0</th>\n",
       "      <th>1</th>\n",
       "      <th>2</th>\n",
       "      <th>3</th>\n",
       "      <th>4</th>\n",
       "      <th>5</th>\n",
       "      <th>6</th>\n",
       "      <th>7</th>\n",
       "      <th>8</th>\n",
       "      <th>9</th>\n",
       "      <th>10</th>\n",
       "      <th>11</th>\n",
       "      <th>12</th>\n",
       "      <th>13</th>\n",
       "      <th>14</th>\n",
       "      <th>15</th>\n",
       "      <th>16</th>\n",
       "    </tr>\n",
       "  </thead>\n",
       "  <tbody>\n",
       "    <tr>\n",
       "      <td>0</td>\n",
       "      <td>0</td>\n",
       "      <td>1</td>\n",
       "      <td>2</td>\n",
       "      <td>3</td>\n",
       "      <td>4</td>\n",
       "      <td>5</td>\n",
       "      <td>6</td>\n",
       "      <td>7</td>\n",
       "      <td>8</td>\n",
       "      <td>9</td>\n",
       "      <td>10</td>\n",
       "      <td>11</td>\n",
       "      <td>12</td>\n",
       "      <td>13</td>\n",
       "      <td>14</td>\n",
       "      <td>15</td>\n",
       "      <td>16</td>\n",
       "    </tr>\n",
       "    <tr>\n",
       "      <td>1</td>\n",
       "      <td>0</td>\n",
       "      <td>2</td>\n",
       "      <td>8</td>\n",
       "      <td>3</td>\n",
       "      <td>5</td>\n",
       "      <td>1</td>\n",
       "      <td>8</td>\n",
       "      <td>13</td>\n",
       "      <td>0</td>\n",
       "      <td>6</td>\n",
       "      <td>6</td>\n",
       "      <td>10</td>\n",
       "      <td>8</td>\n",
       "      <td>0</td>\n",
       "      <td>8</td>\n",
       "      <td>0</td>\n",
       "      <td>8</td>\n",
       "    </tr>\n",
       "    <tr>\n",
       "      <td>2</td>\n",
       "      <td>1</td>\n",
       "      <td>5</td>\n",
       "      <td>12</td>\n",
       "      <td>3</td>\n",
       "      <td>7</td>\n",
       "      <td>2</td>\n",
       "      <td>10</td>\n",
       "      <td>5</td>\n",
       "      <td>5</td>\n",
       "      <td>4</td>\n",
       "      <td>13</td>\n",
       "      <td>3</td>\n",
       "      <td>9</td>\n",
       "      <td>2</td>\n",
       "      <td>8</td>\n",
       "      <td>4</td>\n",
       "      <td>10</td>\n",
       "    </tr>\n",
       "    <tr>\n",
       "      <td>3</td>\n",
       "      <td>2</td>\n",
       "      <td>4</td>\n",
       "      <td>11</td>\n",
       "      <td>6</td>\n",
       "      <td>8</td>\n",
       "      <td>6</td>\n",
       "      <td>10</td>\n",
       "      <td>6</td>\n",
       "      <td>2</td>\n",
       "      <td>6</td>\n",
       "      <td>10</td>\n",
       "      <td>3</td>\n",
       "      <td>7</td>\n",
       "      <td>3</td>\n",
       "      <td>7</td>\n",
       "      <td>3</td>\n",
       "      <td>9</td>\n",
       "    </tr>\n",
       "    <tr>\n",
       "      <td>4</td>\n",
       "      <td>3</td>\n",
       "      <td>7</td>\n",
       "      <td>11</td>\n",
       "      <td>6</td>\n",
       "      <td>6</td>\n",
       "      <td>3</td>\n",
       "      <td>5</td>\n",
       "      <td>9</td>\n",
       "      <td>4</td>\n",
       "      <td>6</td>\n",
       "      <td>4</td>\n",
       "      <td>4</td>\n",
       "      <td>10</td>\n",
       "      <td>6</td>\n",
       "      <td>10</td>\n",
       "      <td>2</td>\n",
       "      <td>8</td>\n",
       "    </tr>\n",
       "  </tbody>\n",
       "</table>\n",
       "</div>"
      ],
      "text/plain": [
       "   0   1   2   3   4   5   6   7   8   9   10  11  12  13  14  15  16\n",
       "0   0   1   2   3   4   5   6   7   8   9  10  11  12  13  14  15  16\n",
       "1   0   2   8   3   5   1   8  13   0   6   6  10   8   0   8   0   8\n",
       "2   1   5  12   3   7   2  10   5   5   4  13   3   9   2   8   4  10\n",
       "3   2   4  11   6   8   6  10   6   2   6  10   3   7   3   7   3   9\n",
       "4   3   7  11   6   6   3   5   9   4   6   4   4  10   6  10   2   8"
      ]
     },
     "execution_count": 3,
     "metadata": {},
     "output_type": "execute_result"
    }
   ],
   "source": [
    "data = pd.read_csv(file_url, header=None)\n",
    "data.head()"
   ]
  },
  {
   "cell_type": "code",
   "execution_count": 4,
   "metadata": {
    "colab": {},
    "colab_type": "code",
    "id": "VxC-g8BlK8_p"
   },
   "outputs": [],
   "source": [
    "target = data.pop(0)"
   ]
  },
  {
   "cell_type": "code",
   "execution_count": 5,
   "metadata": {
    "colab": {},
    "colab_type": "code",
    "id": "t1J_HbJRXsbL"
   },
   "outputs": [],
   "source": [
    "X_train = data[:15000]\n",
    "y_train = target[:15000]"
   ]
  },
  {
   "cell_type": "code",
   "execution_count": 6,
   "metadata": {
    "colab": {},
    "colab_type": "code",
    "id": "MU_BzSeyX2EP"
   },
   "outputs": [],
   "source": [
    "X_test = data[15000:]\n",
    "y_test = target[15000:]"
   ]
  },
  {
   "cell_type": "code",
   "execution_count": 7,
   "metadata": {
    "colab": {},
    "colab_type": "code",
    "id": "HmqzSRA2JUPn"
   },
   "outputs": [],
   "source": [
    "import tensorflow as tf"
   ]
  },
  {
   "cell_type": "code",
   "execution_count": 8,
   "metadata": {
    "colab": {},
    "colab_type": "code",
    "id": "QQIO-yFFJjCF"
   },
   "outputs": [],
   "source": [
    "tf.random.set_seed(8)"
   ]
  },
  {
   "cell_type": "code",
   "execution_count": 9,
   "metadata": {
    "colab": {},
    "colab_type": "code",
    "id": "Y2grB3hVJWp6"
   },
   "outputs": [],
   "source": [
    "model = tf.keras.Sequential()"
   ]
  },
  {
   "cell_type": "code",
   "execution_count": 10,
   "metadata": {
    "colab": {},
    "colab_type": "code",
    "id": "fnvBZ71zJoY5"
   },
   "outputs": [],
   "source": [
    "from tensorflow.keras.layers import Dense"
   ]
  },
  {
   "cell_type": "code",
   "execution_count": 11,
   "metadata": {
    "colab": {},
    "colab_type": "code",
    "id": "X6FWoSW9Jykf"
   },
   "outputs": [],
   "source": [
    "fc1 = Dense(512, input_shape=(16,), activation='relu')"
   ]
  },
  {
   "cell_type": "code",
   "execution_count": 12,
   "metadata": {
    "colab": {},
    "colab_type": "code",
    "id": "whwQ7LpvJ_T4"
   },
   "outputs": [],
   "source": [
    "fc2 = Dense(512, activation='relu')"
   ]
  },
  {
   "cell_type": "code",
   "execution_count": 13,
   "metadata": {
    "colab": {},
    "colab_type": "code",
    "id": "mdDPs3jiL-fq"
   },
   "outputs": [],
   "source": [
    "fc3 = Dense(128, activation='relu')"
   ]
  },
  {
   "cell_type": "code",
   "execution_count": 14,
   "metadata": {
    "colab": {},
    "colab_type": "code",
    "id": "5YAcmaDFL-3T"
   },
   "outputs": [],
   "source": [
    "fc4 = Dense(128, activation='relu')"
   ]
  },
  {
   "cell_type": "code",
   "execution_count": 15,
   "metadata": {
    "colab": {},
    "colab_type": "code",
    "id": "6XvUYzZFJ_nh"
   },
   "outputs": [],
   "source": [
    "fc5 = Dense(26, activation='softmax')"
   ]
  },
  {
   "cell_type": "code",
   "execution_count": 16,
   "metadata": {
    "colab": {},
    "colab_type": "code",
    "id": "tlKy5d30KJ40"
   },
   "outputs": [],
   "source": [
    "model.add(fc1)\n",
    "model.add(fc2)\n",
    "model.add(fc3)\n",
    "model.add(fc4)\n",
    "model.add(fc5)"
   ]
  },
  {
   "cell_type": "code",
   "execution_count": 17,
   "metadata": {
    "colab": {
     "base_uri": "https://localhost:8080/",
     "height": 323
    },
    "colab_type": "code",
    "id": "5Zqh9c_jKOmB",
    "outputId": "8ac3db3c-b5d7-49be-d65b-ebcef276cd51"
   },
   "outputs": [
    {
     "name": "stdout",
     "output_type": "stream",
     "text": [
      "Model: \"sequential\"\n",
      "_________________________________________________________________\n",
      "Layer (type)                 Output Shape              Param #   \n",
      "=================================================================\n",
      "dense (Dense)                (None, 512)               8704      \n",
      "_________________________________________________________________\n",
      "dense_1 (Dense)              (None, 512)               262656    \n",
      "_________________________________________________________________\n",
      "dense_2 (Dense)              (None, 128)               65664     \n",
      "_________________________________________________________________\n",
      "dense_3 (Dense)              (None, 128)               16512     \n",
      "_________________________________________________________________\n",
      "dense_4 (Dense)              (None, 26)                3354      \n",
      "=================================================================\n",
      "Total params: 356,890\n",
      "Trainable params: 356,890\n",
      "Non-trainable params: 0\n",
      "_________________________________________________________________\n"
     ]
    }
   ],
   "source": [
    "model.summary()"
   ]
  },
  {
   "cell_type": "code",
   "execution_count": 18,
   "metadata": {
    "colab": {},
    "colab_type": "code",
    "id": "cY-MBPFJKTCa"
   },
   "outputs": [],
   "source": [
    "loss = tf.keras.losses.SparseCategoricalCrossentropy()"
   ]
  },
  {
   "cell_type": "code",
   "execution_count": 19,
   "metadata": {
    "colab": {},
    "colab_type": "code",
    "id": "P6jKCl9mNCld"
   },
   "outputs": [],
   "source": [
    "optimizer = tf.keras.optimizers.Adam(0.001)"
   ]
  },
  {
   "cell_type": "code",
   "execution_count": 20,
   "metadata": {
    "colab": {},
    "colab_type": "code",
    "id": "IPz1teIGKZQw"
   },
   "outputs": [],
   "source": [
    "model.compile(optimizer=optimizer, loss=loss, \\\n",
    "              metrics=['accuracy'])"
   ]
  },
  {
   "cell_type": "code",
   "execution_count": 21,
   "metadata": {
    "colab": {
     "base_uri": "https://localhost:8080/",
     "height": 204
    },
    "colab_type": "code",
    "id": "8s1dnVl4K1Ns",
    "outputId": "d3ceb4cd-1a1a-4194-b310-c73f10271cb0"
   },
   "outputs": [
    {
     "name": "stdout",
     "output_type": "stream",
     "text": [
      "Epoch 1/5\n",
      "469/469 [==============================] - 4s 8ms/step - loss: 1.1898 - accuracy: 0.6385\n",
      "Epoch 2/5\n",
      "469/469 [==============================] - 3s 7ms/step - loss: 0.5809 - accuracy: 0.8138\n",
      "Epoch 3/5\n",
      "469/469 [==============================] - 3s 7ms/step - loss: 0.4236 - accuracy: 0.8623\n",
      "Epoch 4/5\n",
      "469/469 [==============================] - 3s 7ms/step - loss: 0.3464 - accuracy: 0.8845\n",
      "Epoch 5/5\n",
      "469/469 [==============================] - 4s 8ms/step - loss: 0.2767 - accuracy: 0.9065\n"
     ]
    },
    {
     "data": {
      "text/plain": [
       "<tensorflow.python.keras.callbacks.History at 0x201feb29088>"
      ]
     },
     "execution_count": 21,
     "metadata": {},
     "output_type": "execute_result"
    }
   ],
   "source": [
    "model.fit(X_train, y_train, epochs=5)"
   ]
  },
  {
   "cell_type": "code",
   "execution_count": 22,
   "metadata": {
    "colab": {
     "base_uri": "https://localhost:8080/",
     "height": 51
    },
    "colab_type": "code",
    "id": "EoYhXWlbMKmz",
    "outputId": "382b57ae-0080-4a21-8822-25c2b9d8c789"
   },
   "outputs": [
    {
     "name": "stdout",
     "output_type": "stream",
     "text": [
      "157/157 [==============================] - 1s 4ms/step - loss: 0.3329 - accuracy: 0.8898\n"
     ]
    },
    {
     "data": {
      "text/plain": [
       "[0.3329078257083893, 0.8898220062255859]"
      ]
     },
     "execution_count": 22,
     "metadata": {},
     "output_type": "execute_result"
    }
   ],
   "source": [
    "model.evaluate(X_test, y_test)"
   ]
  },
  {
   "cell_type": "code",
   "execution_count": 23,
   "metadata": {
    "colab": {},
    "colab_type": "code",
    "id": "vJuPVoHlYwNL"
   },
   "outputs": [],
   "source": [
    "preds_proba = model.predict(X_test)"
   ]
  },
  {
   "cell_type": "code",
   "execution_count": 24,
   "metadata": {
    "colab": {},
    "colab_type": "code",
    "id": "IaapyqsIZBAP"
   },
   "outputs": [],
   "source": [
    "preds = preds_proba.argmax(axis=1)"
   ]
  },
  {
   "cell_type": "code",
   "execution_count": 25,
   "metadata": {
    "colab": {},
    "colab_type": "code",
    "id": "WuMnJY4gYvG3"
   },
   "outputs": [],
   "source": [
    "from tensorflow.math import confusion_matrix"
   ]
  },
  {
   "cell_type": "code",
   "execution_count": 26,
   "metadata": {
    "colab": {
     "base_uri": "https://localhost:8080/",
     "height": 935
    },
    "colab_type": "code",
    "id": "_dvbGjLEY53b",
    "outputId": "f6eb7b8e-388f-4ffa-e6d2-81704059e332"
   },
   "outputs": [
    {
     "data": {
      "text/plain": [
       "<tf.Tensor: shape=(26, 26), dtype=int32, numpy=\n",
       "array([[155,   0,   0,   0,   0,   0,   0,   0,   0,   0,   0,   0,   0,\n",
       "          1,   0,   0,   0,   1,   0,   0,  12,  15,   0,   0,   0,   0],\n",
       "       [  0, 184,   2,   0,   0,   2,   0,   0,   1,   0,   0,   0,   0,\n",
       "         12,   2,   0,   0,   0,   0,   1,   0,   0,   1,   0,   0,   0],\n",
       "       [  0,   2, 214,   0,   0,   0,   0,   0,   0,   0,   0,   0,   0,\n",
       "          0,   0,   0,   0,   0,   0,   0,   0,   0,   0,   0,   0,   0],\n",
       "       [  0,   0,  10, 172,   0,   0,   0,   1,   0,   1,   0,   5,   0,\n",
       "          0,   0,   2,   0,   1,   1,   0,   0,   3,   0,   2,   0,   0],\n",
       "       [  0,   0,   2,   0, 152,   0,   1,   0,   0,   1,   0,   5,   1,\n",
       "          1,   6,   3,   0,   5,   1,   1,   8,   0,  19,   0,   2,   0],\n",
       "       [  0,   0,   0,   0,   2, 178,   2,   0,   0,   0,   1,   0,   0,\n",
       "          3,   0,   0,   0,   0,   0,   2,   0,   0,   4,   0,   0,   6],\n",
       "       [  1,   1,  13,   0,   1,   0, 153,   0,   0,   0,   0,   1,   0,\n",
       "          0,   0,   2,   0,   0,   0,   0,   1,   0,   0,   0,   0,   0],\n",
       "       [  0,   0,   2,   0,   0,   0,   0, 198,   0,   0,   0,   0,   0,\n",
       "          0,   0,   2,   0,   0,   0,   0,   0,   4,   0,   0,   0,   0],\n",
       "       [  0,  14,   0,   0,   0,   0,   0,   1, 160,   0,   0,   0,   0,\n",
       "          3,   0,   1,   0,   0,   0,   1,   0,   1,   0,   1,   0,   1],\n",
       "       [  0,   0,   2,   0,   0,   0,   1,   0,   0, 181,   0,   1,   0,\n",
       "          0,   0,   0,   0,   0,   0,   0,   2,   0,   0,   0,   0,   0],\n",
       "       [  0,   4,   4,   0,   0,   0,   1,   0,   0,   0, 168,   0,   0,\n",
       "          0,   0,   0,   0,   0,   0,   3,   0,   0,   0,   0,   6,   0],\n",
       "       [  0,   0,  10,   0,   0,   0,   0,   1,   1,   0,   0, 152,   0,\n",
       "          0,   0,   1,   7,   0,   0,   0,   0,   0,   7,   2,   0,   0],\n",
       "       [  0,   0,  36,   3,   1,   0,  16,   0,   0,   0,   0,   5, 126,\n",
       "          2,   3,   8,   0,   3,   0,   1,   1,   0,   3,   0,   0,   0],\n",
       "       [  0,   0,   1,   1,   0,   0,   0,   0,   0,   0,   0,   0,   0,\n",
       "        183,   0,   2,   0,   0,   6,   0,   1,   0,   0,   0,   0,   0],\n",
       "       [  0,   0,   0,   0,   2,   0,   0,   0,   0,   1,   0,   3,   0,\n",
       "          0, 161,   0,   0,   0,   0,   1,   0,   0,   0,   3,   0,   0],\n",
       "       [  0,   0,  17,   0,   0,   0,   2,   0,   1,   0,   0,   0,   1,\n",
       "          0,   0, 146,   0,   2,   1,   0,   6,   0,   1,   1,   0,   0],\n",
       "       [  0,   0,   1,   0,   0,   0,   0,   0,   0,   2,   0,   0,   0,\n",
       "          0,   0,   0, 157,   0,   0,   0,   6,   1,   0,   0,   0,   0],\n",
       "       [  0,   0,   2,   0,   0,   1,   0,   0,   0,   0,   5,   0,   0,\n",
       "          1,   0,   0,   0, 190,   0,   2,   0,   0,   3,   0,   1,   0],\n",
       "       [  0,   0,   7,   0,   0,   0,   1,   0,   0,   0,   0,   0,   0,\n",
       "         10,   0,   2,   0,   0, 176,   0,   2,   8,   1,   1,   0,   0],\n",
       "       [  1,   0,   0,   0,   9,   0,   0,   0,   0,   0,   0,   0,   0,\n",
       "          1,   7,   0,   0,   1,   0, 166,   0,   0,   1,   0,   0,   5],\n",
       "       [  0,   0,   0,   0,   0,   0,   2,   0,   0,   0,   0,   0,   0,\n",
       "          0,   0,   2,   5,   0,   0,   0, 159,   0,   0,   0,   0,   0],\n",
       "       [  3,   0,   0,   0,   1,   0,   0,   0,   0,   0,   1,   0,   0,\n",
       "          0,   0,   0,   0,   0,   0,   0,  11, 165,   0,   2,   0,   0],\n",
       "       [  0,   0,   2,   0,   0,   0,   0,   1,   0,   0,   0,   0,   0,\n",
       "          0,   0,   0,   0,   0,   0,   0,   0,   0, 214,   0,   0,   0],\n",
       "       [  0,   0,   0,   0,   0,   0,   0,   0,   0,   2,   0,   0,   0,\n",
       "          0,   0,   0,   1,   0,   0,   0,   2,   1,   0, 209,   0,   0],\n",
       "       [  0,   0,   2,   0,   2,   2,   1,   0,   0,   1,   4,   0,   0,\n",
       "          3,   0,  10,   0,   1,   0,   7,   1,   0,   0,   1, 142,   0],\n",
       "       [  0,   0,   0,   0,   0,   0,   0,   0,   1,   0,   0,   0,   0,\n",
       "          0,   0,   0,   0,   2,   0,   1,   0,   0,   1,   0,   0, 189]])>"
      ]
     },
     "execution_count": 26,
     "metadata": {},
     "output_type": "execute_result"
    }
   ],
   "source": [
    "confusion_matrix(y_test, preds)"
   ]
  }
 ],
 "metadata": {
  "colab": {
   "collapsed_sections": [],
   "name": "Activity05_01.ipynb",
   "provenance": []
  },
  "kernelspec": {
   "display_name": "tensorflow",
   "language": "python",
   "name": "tensorflow"
  },
  "language_info": {
   "codemirror_mode": {
    "name": "ipython",
    "version": 3
   },
   "file_extension": ".py",
   "mimetype": "text/x-python",
   "name": "python",
   "nbconvert_exporter": "python",
   "pygments_lexer": "ipython3",
   "version": "3.7.10"
  }
 },
 "nbformat": 4,
 "nbformat_minor": 1
}
