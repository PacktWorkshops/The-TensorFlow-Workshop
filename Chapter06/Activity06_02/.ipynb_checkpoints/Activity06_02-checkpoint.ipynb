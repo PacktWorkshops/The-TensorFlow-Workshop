{
 "cells": [
  {
   "cell_type": "markdown",
   "metadata": {},
   "source": [
    "# Activity 6.02: Predicting Income with Bayesian Optimization from Keras Tuner"
   ]
  },
  {
   "cell_type": "code",
   "execution_count": 1,
   "metadata": {
    "id": "Uf630aTfG4fB"
   },
   "outputs": [],
   "source": [
    "import pandas as pd"
   ]
  },
  {
   "cell_type": "code",
   "execution_count": 2,
   "metadata": {
    "id": "Bd-x4mvPUqRF"
   },
   "outputs": [],
   "source": [
    "usecols = ['AAGE','ADTIND','ADTOCC','SEOTR','WKSWORK', 'PTOTVAL']"
   ]
  },
  {
   "cell_type": "code",
   "execution_count": 3,
   "metadata": {
    "id": "9UTKnuyMG4iF"
   },
   "outputs": [],
   "source": [
    "train_url = 'https://github.com/PacktWorkshops'\\\n",
    "            '/The-TensorFlow-Workshop/blob/master/Chapter06'\\\n",
    "            '/dataset/census-income-train.csv?raw=true'"
   ]
  },
  {
   "cell_type": "code",
   "execution_count": 4,
   "metadata": {
    "colab": {
     "base_uri": "https://localhost:8080/",
     "height": 206
    },
    "id": "b7Z2bZNWI5IH",
    "outputId": "38f79800-c693-46cf-d818-fa1b7899a91b"
   },
   "outputs": [
    {
     "data": {
      "text/html": [
       "<div>\n",
       "<style scoped>\n",
       "    .dataframe tbody tr th:only-of-type {\n",
       "        vertical-align: middle;\n",
       "    }\n",
       "\n",
       "    .dataframe tbody tr th {\n",
       "        vertical-align: top;\n",
       "    }\n",
       "\n",
       "    .dataframe thead th {\n",
       "        text-align: right;\n",
       "    }\n",
       "</style>\n",
       "<table border=\"1\" class=\"dataframe\">\n",
       "  <thead>\n",
       "    <tr style=\"text-align: right;\">\n",
       "      <th></th>\n",
       "      <th>AAGE</th>\n",
       "      <th>ADTIND</th>\n",
       "      <th>ADTOCC</th>\n",
       "      <th>SEOTR</th>\n",
       "      <th>WKSWORK</th>\n",
       "      <th>PTOTVAL</th>\n",
       "    </tr>\n",
       "  </thead>\n",
       "  <tbody>\n",
       "    <tr>\n",
       "      <th>0</th>\n",
       "      <td>73</td>\n",
       "      <td>0</td>\n",
       "      <td>0</td>\n",
       "      <td>0</td>\n",
       "      <td>0</td>\n",
       "      <td>1700.09</td>\n",
       "    </tr>\n",
       "    <tr>\n",
       "      <th>1</th>\n",
       "      <td>58</td>\n",
       "      <td>4</td>\n",
       "      <td>34</td>\n",
       "      <td>0</td>\n",
       "      <td>52</td>\n",
       "      <td>1053.55</td>\n",
       "    </tr>\n",
       "    <tr>\n",
       "      <th>2</th>\n",
       "      <td>18</td>\n",
       "      <td>0</td>\n",
       "      <td>0</td>\n",
       "      <td>0</td>\n",
       "      <td>0</td>\n",
       "      <td>991.95</td>\n",
       "    </tr>\n",
       "    <tr>\n",
       "      <th>3</th>\n",
       "      <td>9</td>\n",
       "      <td>0</td>\n",
       "      <td>0</td>\n",
       "      <td>0</td>\n",
       "      <td>0</td>\n",
       "      <td>1758.14</td>\n",
       "    </tr>\n",
       "    <tr>\n",
       "      <th>4</th>\n",
       "      <td>10</td>\n",
       "      <td>0</td>\n",
       "      <td>0</td>\n",
       "      <td>0</td>\n",
       "      <td>0</td>\n",
       "      <td>1069.16</td>\n",
       "    </tr>\n",
       "  </tbody>\n",
       "</table>\n",
       "</div>"
      ],
      "text/plain": [
       "   AAGE  ADTIND  ADTOCC  SEOTR  WKSWORK  PTOTVAL\n",
       "0    73       0       0      0        0  1700.09\n",
       "1    58       4      34      0       52  1053.55\n",
       "2    18       0       0      0        0   991.95\n",
       "3     9       0       0      0        0  1758.14\n",
       "4    10       0       0      0        0  1069.16"
      ]
     },
     "execution_count": 4,
     "metadata": {},
     "output_type": "execute_result"
    }
   ],
   "source": [
    "train_data = pd.read_csv(train_url, usecols=usecols)\n",
    "train_data.head()"
   ]
  },
  {
   "cell_type": "code",
   "execution_count": 5,
   "metadata": {
    "id": "VxC-g8BlK8_p"
   },
   "outputs": [],
   "source": [
    "train_target = train_data.pop('PTOTVAL')"
   ]
  },
  {
   "cell_type": "code",
   "execution_count": 6,
   "metadata": {
    "id": "-fEcy4yABnPa"
   },
   "outputs": [],
   "source": [
    "test_url = 'https://github.com/PacktWorkshops'\\\n",
    "           '/The-TensorFlow-Workshop/blob/master/Chapter06'\\\n",
    "           '/dataset/census-income-test.csv?raw=true'"
   ]
  },
  {
   "cell_type": "code",
   "execution_count": 7,
   "metadata": {
    "colab": {
     "base_uri": "https://localhost:8080/",
     "height": 206
    },
    "id": "1_ZNaxKgBnR0",
    "outputId": "661f3abe-ed62-40d7-c74b-066dbe7def21"
   },
   "outputs": [
    {
     "data": {
      "text/html": [
       "<div>\n",
       "<style scoped>\n",
       "    .dataframe tbody tr th:only-of-type {\n",
       "        vertical-align: middle;\n",
       "    }\n",
       "\n",
       "    .dataframe tbody tr th {\n",
       "        vertical-align: top;\n",
       "    }\n",
       "\n",
       "    .dataframe thead th {\n",
       "        text-align: right;\n",
       "    }\n",
       "</style>\n",
       "<table border=\"1\" class=\"dataframe\">\n",
       "  <thead>\n",
       "    <tr style=\"text-align: right;\">\n",
       "      <th></th>\n",
       "      <th>AAGE</th>\n",
       "      <th>ADTIND</th>\n",
       "      <th>ADTOCC</th>\n",
       "      <th>SEOTR</th>\n",
       "      <th>WKSWORK</th>\n",
       "      <th>PTOTVAL</th>\n",
       "    </tr>\n",
       "  </thead>\n",
       "  <tbody>\n",
       "    <tr>\n",
       "      <th>0</th>\n",
       "      <td>38</td>\n",
       "      <td>6</td>\n",
       "      <td>36</td>\n",
       "      <td>0</td>\n",
       "      <td>12</td>\n",
       "      <td>1032.38</td>\n",
       "    </tr>\n",
       "    <tr>\n",
       "      <th>1</th>\n",
       "      <td>44</td>\n",
       "      <td>37</td>\n",
       "      <td>12</td>\n",
       "      <td>0</td>\n",
       "      <td>26</td>\n",
       "      <td>1462.33</td>\n",
       "    </tr>\n",
       "    <tr>\n",
       "      <th>2</th>\n",
       "      <td>2</td>\n",
       "      <td>0</td>\n",
       "      <td>0</td>\n",
       "      <td>0</td>\n",
       "      <td>0</td>\n",
       "      <td>1601.75</td>\n",
       "    </tr>\n",
       "    <tr>\n",
       "      <th>3</th>\n",
       "      <td>35</td>\n",
       "      <td>29</td>\n",
       "      <td>3</td>\n",
       "      <td>2</td>\n",
       "      <td>52</td>\n",
       "      <td>1866.88</td>\n",
       "    </tr>\n",
       "    <tr>\n",
       "      <th>4</th>\n",
       "      <td>49</td>\n",
       "      <td>4</td>\n",
       "      <td>34</td>\n",
       "      <td>0</td>\n",
       "      <td>50</td>\n",
       "      <td>1394.54</td>\n",
       "    </tr>\n",
       "  </tbody>\n",
       "</table>\n",
       "</div>"
      ],
      "text/plain": [
       "   AAGE  ADTIND  ADTOCC  SEOTR  WKSWORK  PTOTVAL\n",
       "0    38       6      36      0       12  1032.38\n",
       "1    44      37      12      0       26  1462.33\n",
       "2     2       0       0      0        0  1601.75\n",
       "3    35      29       3      2       52  1866.88\n",
       "4    49       4      34      0       50  1394.54"
      ]
     },
     "execution_count": 7,
     "metadata": {},
     "output_type": "execute_result"
    }
   ],
   "source": [
    "test_data = pd.read_csv(test_url, usecols=usecols)\n",
    "test_data.head()"
   ]
  },
  {
   "cell_type": "code",
   "execution_count": 8,
   "metadata": {
    "id": "F0YDsI81BnUJ"
   },
   "outputs": [],
   "source": [
    "test_target = test_data.pop('PTOTVAL')"
   ]
  },
  {
   "cell_type": "code",
   "execution_count": 9,
   "metadata": {
    "id": "HmqzSRA2JUPn"
   },
   "outputs": [],
   "source": [
    "import tensorflow as tf\n",
    "from tensorflow.keras.layers import Dense, Dropout"
   ]
  },
  {
   "cell_type": "code",
   "execution_count": 10,
   "metadata": {
    "id": "QQIO-yFFJjCF"
   },
   "outputs": [],
   "source": [
    "tf.random.set_seed(8)"
   ]
  },
  {
   "cell_type": "code",
   "execution_count": 11,
   "metadata": {
    "id": "HMhQrxnURgbF"
   },
   "outputs": [],
   "source": [
    "def model_builder(hp):\n",
    "  model = tf.keras.Sequential()\n",
    "\n",
    "  hp_l2 = hp.Choice('l2', values = [0.1, 0.01, 0.001])\n",
    "  hp_units = hp.Int('units', min_value=128, max_value=512, step=64)\n",
    "\n",
    "  reg_fc1 = Dense(hp_units, input_shape=(5,), activation='relu', \\\n",
    "                  kernel_regularizer=tf.keras.regularizers\\\n",
    "                                       .l2(l=hp_l2))\n",
    "  reg_fc2 = Dense(512, activation='relu', \\\n",
    "                  kernel_regularizer=tf.keras.regularizers\\\n",
    "                                       .l2(l=hp_l2))\n",
    "  reg_fc3 = Dense(128, activation='relu', \\\n",
    "                  kernel_regularizer=tf.keras.regularizers\\\n",
    "                                       .l2(l=hp_l2))\n",
    "  reg_fc4 = Dense(128, activation='relu', \\\n",
    "                  kernel_regularizer=tf.keras.regularizers\\\n",
    "                                       .l2(l=hp_l2))\n",
    "  reg_fc5 = Dense(1)\n",
    "  \n",
    "  model.add(reg_fc1)\n",
    "  model.add(reg_fc2)\n",
    "  model.add(reg_fc3)\n",
    "  model.add(reg_fc4)\n",
    "  model.add(reg_fc5)\n",
    "  \n",
    "  hp_learning_rate = hp.Choice('learning_rate', \\\n",
    "                               values = [0.01, 0.001]) \n",
    "\n",
    "  optimizer = tf.keras.optimizers.Adam(hp_learning_rate)\n",
    "  model.compile(optimizer=optimizer, loss='mse', metrics=['mse'])\n",
    "  \n",
    "  return model"
   ]
  },
  {
   "cell_type": "code",
   "execution_count": 12,
   "metadata": {
    "colab": {
     "base_uri": "https://localhost:8080/"
    },
    "id": "_bfXe8RSCMDK",
    "outputId": "6a8f26ff-13b2-41c3-f8e3-01e7326f2e59"
   },
   "outputs": [
    {
     "name": "stdout",
     "output_type": "stream",
     "text": [
      "\u001b[?25l\r",
      "\u001b[K     |███▍                            | 10 kB 18.9 MB/s eta 0:00:01\r",
      "\u001b[K     |██████▊                         | 20 kB 21.0 MB/s eta 0:00:01\r",
      "\u001b[K     |██████████                      | 30 kB 24.3 MB/s eta 0:00:01\r",
      "\u001b[K     |█████████████▍                  | 40 kB 27.7 MB/s eta 0:00:01\r",
      "\u001b[K     |████████████████▊               | 51 kB 30.5 MB/s eta 0:00:01\r",
      "\u001b[K     |████████████████████            | 61 kB 32.5 MB/s eta 0:00:01\r",
      "\u001b[K     |███████████████████████▍        | 71 kB 33.9 MB/s eta 0:00:01\r",
      "\u001b[K     |██████████████████████████▊     | 81 kB 34.7 MB/s eta 0:00:01\r",
      "\u001b[K     |██████████████████████████████  | 92 kB 37.0 MB/s eta 0:00:01\r",
      "\u001b[K     |████████████████████████████████| 98 kB 6.5 MB/s \n",
      "\u001b[?25h"
     ]
    },
    {
     "name": "stderr",
     "output_type": "stream",
     "text": [
      "/usr/local/lib/python3.7/dist-packages/ipykernel_launcher.py:2: DeprecationWarning: `import kerastuner` is deprecated, please use `import keras_tuner`.\n",
      "  \n"
     ]
    }
   ],
   "source": [
    "!pip install -q -U keras-tuner\n",
    "import kerastuner as kt"
   ]
  },
  {
   "cell_type": "code",
   "execution_count": 13,
   "metadata": {
    "id": "Y2grB3hVJWp6"
   },
   "outputs": [],
   "source": [
    "tuner = kt.BayesianOptimization(model_builder, \\\n",
    "                                objective = 'val_mse',\\\n",
    "                                max_trials = 10)"
   ]
  },
  {
   "cell_type": "code",
   "execution_count": 14,
   "metadata": {
    "colab": {
     "base_uri": "https://localhost:8080/"
    },
    "id": "gFPg_o_GUN-Q",
    "outputId": "f779bb72-b478-4a86-bad2-a6c592d37885"
   },
   "outputs": [
    {
     "name": "stdout",
     "output_type": "stream",
     "text": [
      "Trial 10 Complete [00h 00m 41s]\n",
      "val_mse: 1021453.375\n",
      "\n",
      "Best val_mse So Far: 1018071.125\n",
      "Total elapsed time: 00h 10m 32s\n",
      "INFO:tensorflow:Oracle triggered exit\n"
     ]
    }
   ],
   "source": [
    "tuner.search(train_data, train_target, \\\n",
    "             validation_data=(test_data, test_target))"
   ]
  },
  {
   "cell_type": "code",
   "execution_count": 15,
   "metadata": {
    "id": "xyylWBHeU6jV"
   },
   "outputs": [],
   "source": [
    "best_hps = tuner.get_best_hyperparameters(num_trials = 1)[0]"
   ]
  },
  {
   "cell_type": "code",
   "execution_count": 16,
   "metadata": {
    "colab": {
     "base_uri": "https://localhost:8080/"
    },
    "id": "X6FWoSW9Jykf",
    "outputId": "318fc7fc-a304-465d-de8e-2507dd3f5fff"
   },
   "outputs": [
    {
     "data": {
      "text/plain": [
       "128"
      ]
     },
     "execution_count": 16,
     "metadata": {},
     "output_type": "execute_result"
    }
   ],
   "source": [
    "best_units = best_hps.get('units')\n",
    "best_units"
   ]
  },
  {
   "cell_type": "code",
   "execution_count": 17,
   "metadata": {
    "colab": {
     "base_uri": "https://localhost:8080/"
    },
    "id": "XnPJD263V1R2",
    "outputId": "808a2168-c5bb-42df-d598-514bfd95662a"
   },
   "outputs": [
    {
     "data": {
      "text/plain": [
       "0.001"
      ]
     },
     "execution_count": 17,
     "metadata": {},
     "output_type": "execute_result"
    }
   ],
   "source": [
    "best_lr = best_hps.get('learning_rate')\n",
    "best_lr"
   ]
  },
  {
   "cell_type": "code",
   "execution_count": 18,
   "metadata": {
    "colab": {
     "base_uri": "https://localhost:8080/"
    },
    "id": "-fodWfnpV0ww",
    "outputId": "589ccc58-0bb2-4806-9e04-dfc3bb98fc33"
   },
   "outputs": [
    {
     "data": {
      "text/plain": [
       "0.001"
      ]
     },
     "execution_count": 18,
     "metadata": {},
     "output_type": "execute_result"
    }
   ],
   "source": [
    "best_l2 = best_hps.get('l2')\n",
    "best_l2"
   ]
  },
  {
   "cell_type": "code",
   "execution_count": 19,
   "metadata": {
    "id": "whwQ7LpvJ_T4"
   },
   "outputs": [],
   "source": [
    "model = tuner.hypermodel.build(best_hps)"
   ]
  },
  {
   "cell_type": "code",
   "execution_count": 20,
   "metadata": {
    "colab": {
     "base_uri": "https://localhost:8080/"
    },
    "id": "6XvUYzZFJ_nh",
    "outputId": "74f1c4e7-9fca-45d4-cb13-ae6854acd92a"
   },
   "outputs": [
    {
     "name": "stdout",
     "output_type": "stream",
     "text": [
      "Epoch 1/5\n",
      "6236/6236 [==============================] - 27s 4ms/step - loss: 1057466.0000 - mse: 1057465.1250 - val_loss: 1018290.7500 - val_mse: 1018289.8750\n",
      "Epoch 2/5\n",
      "6236/6236 [==============================] - 27s 4ms/step - loss: 1004625.5625 - mse: 1004624.7500 - val_loss: 999515.1250 - val_mse: 999514.6250\n",
      "Epoch 3/5\n",
      "6236/6236 [==============================] - 28s 5ms/step - loss: 1000156.8750 - mse: 1000156.5000 - val_loss: 995369.2500 - val_mse: 995368.3750\n",
      "Epoch 4/5\n",
      "6236/6236 [==============================] - 26s 4ms/step - loss: 997135.5000 - mse: 997134.9375 - val_loss: 1004317.0000 - val_mse: 1004316.2500\n",
      "Epoch 5/5\n",
      "6236/6236 [==============================] - 27s 4ms/step - loss: 994731.3125 - mse: 994730.7500 - val_loss: 989958.5000 - val_mse: 989957.7500\n"
     ]
    },
    {
     "data": {
      "text/plain": [
       "<keras.callbacks.History at 0x7f8c2be79b50>"
      ]
     },
     "execution_count": 20,
     "metadata": {},
     "output_type": "execute_result"
    }
   ],
   "source": [
    "model.fit(train_data, train_target, epochs=5, \\\n",
    "          validation_data=(test_data, test_target))"
   ]
  }
 ],
 "metadata": {
  "colab": {
   "collapsed_sections": [],
   "name": "Copy of Activity06_02.ipynb",
   "provenance": []
  },
  "kernelspec": {
   "display_name": "Python 3",
   "language": "python",
   "name": "python3"
  },
  "language_info": {
   "codemirror_mode": {
    "name": "ipython",
    "version": 3
   },
   "file_extension": ".py",
   "mimetype": "text/x-python",
   "name": "python",
   "nbconvert_exporter": "python",
   "pygments_lexer": "ipython3",
   "version": "3.8.8"
  }
 },
 "nbformat": 4,
 "nbformat_minor": 1
}
