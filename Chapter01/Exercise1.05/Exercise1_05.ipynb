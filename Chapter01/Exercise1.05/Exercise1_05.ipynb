{
 "cells": [
  {
   "cell_type": "markdown",
   "metadata": {},
   "source": [
    "# Exercise 1.05: Performing Tensor Multiplication in TensorFlow"
   ]
  },
  {
   "cell_type": "code",
   "execution_count": 1,
   "metadata": {},
   "outputs": [],
   "source": [
    "import tensorflow as tf"
   ]
  },
  {
   "cell_type": "code",
   "execution_count": 2,
   "metadata": {},
   "outputs": [
    {
     "data": {
      "text/plain": [
       "<tf.Variable 'Variable:0' shape=(3, 5) dtype=float32, numpy=\n",
       "array([[1., 0., 3., 1., 2.],\n",
       "       [0., 1., 1., 1., 1.],\n",
       "       [2., 1., 0., 2., 0.]], dtype=float32)>"
      ]
     },
     "execution_count": 2,
     "metadata": {},
     "output_type": "execute_result"
    }
   ],
   "source": [
    "matrix1 = tf.Variable([[1.0,0.0,3.0,1.0,2.0], \\\n",
    "                       [0.0,1.0,1.0,1.0,1.0], \\\n",
    "                       [2.0,1.0,0.0,2.0,0.0]], \\\n",
    "                      tf.float32)\n",
    "matrix1"
   ]
  },
  {
   "cell_type": "code",
   "execution_count": 3,
   "metadata": {},
   "outputs": [
    {
     "data": {
      "text/plain": [
       "[3, 5]"
      ]
     },
     "execution_count": 3,
     "metadata": {},
     "output_type": "execute_result"
    }
   ],
   "source": [
    "matrix1.shape.as_list()"
   ]
  },
  {
   "cell_type": "code",
   "execution_count": 5,
   "metadata": {},
   "outputs": [
    {
     "data": {
      "text/plain": [
       "<tf.Variable 'Variable:0' shape=(5, 2) dtype=float32, numpy=\n",
       "array([[  0.49, 103.  ],\n",
       "       [  0.18,  38.  ],\n",
       "       [  0.24,  69.  ],\n",
       "       [  1.02,  75.  ],\n",
       "       [  0.68,  78.  ]], dtype=float32)>"
      ]
     },
     "execution_count": 5,
     "metadata": {},
     "output_type": "execute_result"
    }
   ],
   "source": [
    "matrix2 = tf.Variable([[0.49, 103],\\\n",
    "                       [0.18, 38], \\\n",
    "                       [0.24, 69], \\\n",
    "                       [1.02, 75], \\\n",
    "                       [0.68, 78]])\n",
    "matrix2"
   ]
  },
  {
   "cell_type": "code",
   "execution_count": 6,
   "metadata": {},
   "outputs": [
    {
     "data": {
      "text/plain": [
       "<tf.Tensor: shape=(3, 2), dtype=float32, numpy=\n",
       "array([[  3.5900002, 541.       ],\n",
       "       [  2.1200001, 260.       ],\n",
       "       [  3.2      , 394.       ]], dtype=float32)>"
      ]
     },
     "execution_count": 6,
     "metadata": {},
     "output_type": "execute_result"
    }
   ],
   "source": [
    "matmul1 = tf.matmul(matrix1, matrix2)\n",
    "matmul1"
   ]
  },
  {
   "cell_type": "code",
   "execution_count": 7,
   "metadata": {},
   "outputs": [],
   "source": [
    "matrix3 = tf.Variable([[120.0, 100.0, 90.0], \\\n",
    "                       [30.0, 15.0, 20.0], \\\n",
    "                       [220.0, 240.0, 185.0], \\\n",
    "                       [145.0, 160.0, 155.0], \\\n",
    "                       [330.0, 295.0, 290.0]])"
   ]
  },
  {
   "cell_type": "code",
   "execution_count": 8,
   "metadata": {},
   "outputs": [
    {
     "data": {
      "text/plain": [
       "<tf.Tensor: shape=(5, 2), dtype=float32, numpy=\n",
       "array([[9.3080005e+02, 1.2638000e+05],\n",
       "       [2.0350000e+02, 2.8010000e+04],\n",
       "       [1.8906001e+03, 2.5431000e+05],\n",
       "       [1.3557501e+03, 1.8111500e+05],\n",
       "       [2.7381001e+03, 3.6949000e+05]], dtype=float32)>"
      ]
     },
     "execution_count": 8,
     "metadata": {},
     "output_type": "execute_result"
    }
   ],
   "source": [
    "matmul3 = matrix3 @ matmul1\n",
    "matmul3\n"
   ]
  },
  {
   "cell_type": "code",
   "execution_count": null,
   "metadata": {},
   "outputs": [],
   "source": []
  }
 ],
 "metadata": {
  "kernelspec": {
   "display_name": "tensorflow",
   "language": "python",
   "name": "tensorflow"
  },
  "language_info": {
   "codemirror_mode": {
    "name": "ipython",
    "version": 3
   },
   "file_extension": ".py",
   "mimetype": "text/x-python",
   "name": "python",
   "nbconvert_exporter": "python",
   "pygments_lexer": "ipython3",
   "version": "3.7.10"
  }
 },
 "nbformat": 4,
 "nbformat_minor": 2
}
