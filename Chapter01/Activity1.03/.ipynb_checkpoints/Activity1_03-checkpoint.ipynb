{
 "cells": [
  {
   "cell_type": "markdown",
   "metadata": {
    "colab_type": "text",
    "id": "OEzVyOR9D5qG"
   },
   "source": [
    "# Activity 1.03: Performing Tensor Multiplication in TensorFlow"
   ]
  },
  {
   "cell_type": "code",
   "execution_count": 8,
   "metadata": {
    "colab": {},
    "colab_type": "code",
    "id": "Iyaix7cfD5qI"
   },
   "outputs": [],
   "source": [
    "import tensorflow as tf"
   ]
  },
  {
   "cell_type": "markdown",
   "metadata": {},
   "source": [
    "Create a matrix to represent a car sales record for 9-person sales team in which the rows represent each member of the sales team and each column represents the number of sales of each of the 10 cars on offer"
   ]
  },
  {
   "cell_type": "code",
   "execution_count": 9,
   "metadata": {
    "colab": {
     "base_uri": "https://localhost:8080/",
     "height": 85
    },
    "colab_type": "code",
    "id": "EgFZ_oTwD5qM",
    "outputId": "e77fcabf-c341-408c-a1cb-d37a0cf25c85"
   },
   "outputs": [
    {
     "data": {
      "text/plain": [
       "<tf.Variable 'Variable:0' shape=(9, 10) dtype=float32, numpy=\n",
       "array([[1., 0., 0., 0., 1., 1., 1., 2., 0., 1.],\n",
       "       [0., 2., 3., 2., 0., 1., 1., 2., 2., 1.],\n",
       "       [0., 0., 0., 0., 0., 1., 0., 0., 0., 1.],\n",
       "       [1., 4., 2., 1., 1., 1., 0., 0., 3., 1.],\n",
       "       [2., 2., 2., 1., 1., 1., 1., 0., 0., 1.],\n",
       "       [1., 0., 0., 1., 1., 1., 0., 0., 0., 1.],\n",
       "       [2., 1., 1., 2., 1., 2., 1., 0., 2., 0.],\n",
       "       [2., 2., 2., 1., 1., 1., 1., 0., 0., 1.],\n",
       "       [3., 2., 4., 3., 1., 3., 5., 1., 3., 4.]], dtype=float32)>"
      ]
     },
     "execution_count": 9,
     "metadata": {},
     "output_type": "execute_result"
    }
   ],
   "source": [
    "sales_record = tf.Variable([[1,0,0,0,1,1,1,2,0,1], \\\n",
    "                            [0,2,3,2,0,1,1,2,2,1], \\\n",
    "                            [0,0,0,0,0,1,0,0,0,1], \\\n",
    "                            [1,4,2,1,1,1,0,0,3,1], \\\n",
    "                            [2,2,2,1,1,1,1,0,0,1], \\\n",
    "                            [1,0,0,1,1,1,0,0,0,1], \\\n",
    "                            [2,1,1,2,1,2,1,0,2,0], \\\n",
    "                            [2,2,2,1,1,1,1,0,0,1], \\\n",
    "                            [3,2,4,3,1,3,5,1,3,4]], \\\n",
    "                           dtype=tf.float32)\n",
    "sales_record"
   ]
  },
  {
   "cell_type": "markdown",
   "metadata": {},
   "source": [
    "Create a matrix to represent a sales price of each of the 10 cars"
   ]
  },
  {
   "cell_type": "code",
   "execution_count": 10,
   "metadata": {
    "colab": {
     "base_uri": "https://localhost:8080/",
     "height": 85
    },
    "colab_type": "code",
    "id": "OvFHySJsD5qS",
    "outputId": "69c1997e-02dd-4a55-b667-f40f70e0c639"
   },
   "outputs": [],
   "source": [
    "prices = tf.Variable([[19995,9995,7995,11495,\\\n",
    "                       12095,24995,10745,14995,9995,8745]],\\\n",
    "                     dtype=tf.float32)"
   ]
  },
  {
   "cell_type": "code",
   "execution_count": 11,
   "metadata": {
    "colab": {
     "base_uri": "https://localhost:8080/",
     "height": 85
    },
    "colab_type": "code",
    "id": "xtNNk9CvD5qV",
    "outputId": "d9cb0036-b082-4395-9c00-c308ded72c99"
   },
   "outputs": [
    {
     "data": {
      "text/plain": [
       "<tf.Tensor: shape=(9, 1), dtype=float32, numpy=\n",
       "array([[106565.],\n",
       "       [161430.],\n",
       "       [ 33740.],\n",
       "       [163280.],\n",
       "       [144045.],\n",
       "       [ 77325.],\n",
       "       [173790.],\n",
       "       [144045.],\n",
       "       [367205.]], dtype=float32)>"
      ]
     },
     "execution_count": 11,
     "metadata": {},
     "output_type": "execute_result"
    }
   ],
   "source": [
    "sales_numbers = tf.matmul(sales_record, prices, \\\n",
    "                          transpose_b=True)\n",
    "sales_numbers"
   ]
  },
  {
   "cell_type": "markdown",
   "metadata": {
    "colab_type": "text",
    "id": "-o86iWBMD5qc"
   },
   "source": [
    "Create a tensor that represents the inventory of the cars in different stores in different regions. The first dimension will be the region and there are 3 regions, the second dimension will be the stores and there are 6 stores per region, and there are 10 brands of cars."
   ]
  },
  {
   "cell_type": "code",
   "execution_count": 12,
   "metadata": {
    "colab": {},
    "colab_type": "code",
    "id": "moHjQzX7D5qd"
   },
   "outputs": [],
   "source": [
    "inventory = tf.Variable([[[11,2,3,2,5,2,4,8,10,3], \\\n",
    "                          [1,2,1,1,0,0,1,1,1,2], \\\n",
    "                          [9,12,8,2,4,2,4,5,13,9],\n",
    "                        [0,2,2,1,2,3,0,2,1,3], \\\n",
    "                          [6,7,5,5,5,3,9,8,1,9], \\\n",
    "                          [5,7,4,3,8,12,7,8,10,7]], \\\n",
    "                       [[13,12,13,22,25,21,24,18,15,13], \\\n",
    "                        [9,21,18,20,15,21,14,9,11,3], \\\n",
    "                        [1,0,1,2,2,3,2,3,0,3], \\\n",
    "                        [21,17,17,16,14,23,24,28,30,23], \\\n",
    "                        [16,15,19,21,14,12,18,15,10,22], \\\n",
    "                        [17,14,11,9,10,20,16,18,15,13]], \\\n",
    "                       [[0,0,0,1,0,2,5,2,1,3], \\\n",
    "                        [9,5,6,4,7,8,4,3,0,3], \\\n",
    "                        [14,21,13,20,18,12,9,18,14,11], \\\n",
    "                        [6,3,6,8,6,8,5,4,10,4], \\\n",
    "                        [1,2,1,1,1,0,1,3,2,3], \\\n",
    "                        [10,8,6,9,11,13,10,8,10,7]]], \\\n",
    "                        dtype=tf.float32)\n"
   ]
  },
  {
   "cell_type": "markdown",
   "metadata": {
    "colab_type": "text",
    "id": "5Q6iAzv9D5qg"
   },
   "source": [
    "Matrix multiply the inventory tensors with the cost per car to determine the value of the inventory at each store"
   ]
  },
  {
   "cell_type": "code",
   "execution_count": 13,
   "metadata": {
    "colab": {
     "base_uri": "https://localhost:8080/",
     "height": 170
    },
    "colab_type": "code",
    "id": "TI9GBn0jD5qg",
    "outputId": "fa5e9d44-30ff-471d-ba90-44e99c9ca351"
   },
   "outputs": [
    {
     "data": {
      "text/plain": [
       "<tf.Tensor: shape=(3, 6, 1), dtype=float32, numpy=\n",
       "array([[[ 686500.],\n",
       "        [ 112700.],\n",
       "        [ 811810.],\n",
       "        [ 212870.],\n",
       "        [ 728210.],\n",
       "        [ 989445.]],\n",
       "\n",
       "       [[2355370.],\n",
       "        [1891545.],\n",
       "        [ 242865.],\n",
       "        [2832585.],\n",
       "        [2043090.],\n",
       "        [1997535.]],\n",
       "\n",
       "       [[ 181430.],\n",
       "        [ 722705.],\n",
       "        [1944050.],\n",
       "        [ 811050.],\n",
       "        [ 173525.],\n",
       "        [1277890.]]], dtype=float32)>"
      ]
     },
     "execution_count": 13,
     "metadata": {},
     "output_type": "execute_result"
    }
   ],
   "source": [
    "inventory_cost = tf.matmul(inventory, prices, \\\n",
    "                           transpose_b=True)\n",
    "inventory_cost"
   ]
  },
  {
   "cell_type": "code",
   "execution_count": 14,
   "metadata": {
    "colab": {
     "base_uri": "https://localhost:8080/",
     "height": 34
    },
    "colab_type": "code",
    "id": "o5knD7E2D5ql",
    "outputId": "f791899e-1547-4f32-d613-2da7db8a44fd"
   },
   "outputs": [
    {
     "data": {
      "text/plain": [
       "[3, 6, 1]"
      ]
     },
     "execution_count": 14,
     "metadata": {},
     "output_type": "execute_result"
    }
   ],
   "source": [
    "inventory_cost.shape.as_list()"
   ]
  }
 ],
 "metadata": {
  "colab": {
   "name": "Activity1_03.ipynb",
   "provenance": []
  },
  "kernelspec": {
   "display_name": "tensorflow",
   "language": "python",
   "name": "tensorflow"
  },
  "language_info": {
   "codemirror_mode": {
    "name": "ipython",
    "version": 3
   },
   "file_extension": ".py",
   "mimetype": "text/x-python",
   "name": "python",
   "nbconvert_exporter": "python",
   "pygments_lexer": "ipython3",
   "version": "3.7.10"
  }
 },
 "nbformat": 4,
 "nbformat_minor": 1
}
