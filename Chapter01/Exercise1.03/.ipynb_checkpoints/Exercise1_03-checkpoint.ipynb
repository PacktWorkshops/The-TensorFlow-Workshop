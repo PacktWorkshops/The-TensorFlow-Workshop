{
 "cells": [
  {
   "cell_type": "markdown",
   "metadata": {},
   "source": [
    "# Exercise 1.03: Performing Tensor Addition in TensorFlow "
   ]
  },
  {
   "cell_type": "code",
   "execution_count": 1,
   "metadata": {},
   "outputs": [],
   "source": [
    "import tensorflow as tf"
   ]
  },
  {
   "cell_type": "code",
   "execution_count": 2,
   "metadata": {},
   "outputs": [],
   "source": [
    "int1 = tf.Variable(4113, tf.int32)\n",
    "int2 = tf.Variable(7511, tf.int32)\n",
    "int3 = tf.Variable(6529, tf.int32)"
   ]
  },
  {
   "cell_type": "code",
   "execution_count": 3,
   "metadata": {},
   "outputs": [],
   "source": [
    "int_sum = int1+int2+int3"
   ]
  },
  {
   "cell_type": "code",
   "execution_count": 4,
   "metadata": {},
   "outputs": [
    {
     "data": {
      "text/plain": [
       "18153"
      ]
     },
     "execution_count": 4,
     "metadata": {},
     "output_type": "execute_result"
    }
   ],
   "source": [
    "int_sum.numpy()"
   ]
  },
  {
   "cell_type": "code",
   "execution_count": 5,
   "metadata": {},
   "outputs": [],
   "source": [
    "vec1 = tf.Variable([4113, 3870, 5102], tf.int32)\n",
    "vec2 = tf.Variable([7511, 6725, 7038], tf.int32)\n",
    "vec3 = tf.Variable([6529, 6962, 6591], tf.int32)"
   ]
  },
  {
   "cell_type": "code",
   "execution_count": 6,
   "metadata": {},
   "outputs": [],
   "source": [
    "vec_sum = vec1 + vec2 + vec3"
   ]
  },
  {
   "cell_type": "code",
   "execution_count": 7,
   "metadata": {},
   "outputs": [
    {
     "data": {
      "text/plain": [
       "array([18153, 17557, 18731])"
      ]
     },
     "execution_count": 7,
     "metadata": {},
     "output_type": "execute_result"
    }
   ],
   "source": [
    "vec_sum.numpy()"
   ]
  },
  {
   "cell_type": "code",
   "execution_count": 8,
   "metadata": {},
   "outputs": [
    {
     "name": "stdout",
     "output_type": "stream",
     "text": [
      "18153\n",
      "17557\n",
      "18731\n"
     ]
    }
   ],
   "source": [
    "print((vec1[0] + vec2[0] + vec3[0]).numpy())\n",
    "print((vec1[1] + vec2[1] + vec3[1]).numpy())\n",
    "print((vec1[2] + vec2[2] + vec3[2]).numpy())"
   ]
  },
  {
   "cell_type": "code",
   "execution_count": 9,
   "metadata": {},
   "outputs": [],
   "source": [
    "matrix1 = tf.Variable([[4113, 3870, 5102], \\\n",
    "                       [3611, 951, 870]], tf.int32)\n",
    "matrix2 = tf.Variable([[7511, 6725, 7038], \\\n",
    "                       [5901, 1208, 645]], tf.int32)\n",
    "matrix3 = tf.Variable([[6529, 6962, 6591], \\\n",
    "                       [6235, 1098, 948]], tf.int32)"
   ]
  },
  {
   "cell_type": "code",
   "execution_count": 10,
   "metadata": {},
   "outputs": [
    {
     "data": {
      "text/plain": [
       "True"
      ]
     },
     "execution_count": 10,
     "metadata": {},
     "output_type": "execute_result"
    }
   ],
   "source": [
    "matrix1.shape == matrix2.shape == matrix3.shape"
   ]
  },
  {
   "cell_type": "code",
   "execution_count": 11,
   "metadata": {},
   "outputs": [
    {
     "data": {
      "text/plain": [
       "array([[18153, 17557, 18731],\n",
       "       [15747,  3257,  2463]])"
      ]
     },
     "execution_count": 11,
     "metadata": {},
     "output_type": "execute_result"
    }
   ],
   "source": [
    "matrix_sum = matrix1 + matrix2 + matrix3\n",
    "matrix_sum.numpy()"
   ]
  },
  {
   "cell_type": "code",
   "execution_count": 12,
   "metadata": {},
   "outputs": [
    {
     "name": "stdout",
     "output_type": "stream",
     "text": [
      "18153\n",
      "17557\n",
      "18731\n",
      "15747\n",
      "3257\n",
      "2463\n"
     ]
    }
   ],
   "source": [
    "print((matrix1[0][0] + matrix2[0][0] + matrix3[0][0]).numpy())\n",
    "print((matrix1[0][1] + matrix2[0][1] + matrix3[0][1]).numpy())\n",
    "print((matrix1[0][2] + matrix2[0][2] + matrix3[0][2]).numpy())\n",
    "print((matrix1[1][0] + matrix2[1][0] + matrix3[1][0]).numpy())\n",
    "print((matrix1[1][1] + matrix2[1][1] + matrix3[1][1]).numpy())\n",
    "print((matrix1[1][2] + matrix2[1][2] + matrix3[1][2]).numpy())"
   ]
  },
  {
   "cell_type": "code",
   "execution_count": null,
   "metadata": {},
   "outputs": [],
   "source": []
  }
 ],
 "metadata": {
  "kernelspec": {
   "display_name": "tensorflow",
   "language": "python",
   "name": "tensorflow"
  },
  "language_info": {
   "codemirror_mode": {
    "name": "ipython",
    "version": 3
   },
   "file_extension": ".py",
   "mimetype": "text/x-python",
   "name": "python",
   "nbconvert_exporter": "python",
   "pygments_lexer": "ipython3",
   "version": "3.7.10"
  }
 },
 "nbformat": 4,
 "nbformat_minor": 2
}
