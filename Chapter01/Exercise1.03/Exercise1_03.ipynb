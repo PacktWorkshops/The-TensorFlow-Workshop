{
 "cells": [
  {
   "cell_type": "markdown",
   "metadata": {},
   "source": [
    "# Exercise 1.03\n",
    "\n",
    "In this exercise we will perform tensor addition with scalars, vectors, and matrices.\n",
    "\n",
    "Throughout the exercise we will use the example of votes cast for political candidates from different districts across different political parties.\n",
    "\n",
    "## Scalar Addition"
   ]
  },
  {
   "cell_type": "code",
   "execution_count": 5,
   "metadata": {},
   "outputs": [],
   "source": [
    "import tensorflow as tf"
   ]
  },
  {
   "cell_type": "markdown",
   "metadata": {},
   "source": [
    "Let's create scalars to represent the number of votes cast for a particular candidate in different districts"
   ]
  },
  {
   "cell_type": "code",
   "execution_count": 6,
   "metadata": {},
   "outputs": [],
   "source": [
    "int1 = tf.Variable(4113, tf.int32)\n",
    "int2 = tf.Variable(3870, tf.int32)"
   ]
  },
  {
   "cell_type": "markdown",
   "metadata": {},
   "source": [
    "Let's add the votes for the candidate across districts"
   ]
  },
  {
   "cell_type": "code",
   "execution_count": 9,
   "metadata": {},
   "outputs": [
    {
     "data": {
      "text/plain": [
       "<tf.Tensor: shape=(), dtype=int32, numpy=7983>"
      ]
     },
     "execution_count": 9,
     "metadata": {},
     "output_type": "execute_result"
    }
   ],
   "source": [
    "int_sum = int1+int2\n",
    "int_sum"
   ]
  },
  {
   "cell_type": "code",
   "execution_count": 10,
   "metadata": {},
   "outputs": [
    {
     "data": {
      "text/plain": [
       "7983"
      ]
     },
     "execution_count": 10,
     "metadata": {},
     "output_type": "execute_result"
    }
   ],
   "source": [
    "int_sum.numpy()"
   ]
  },
  {
   "cell_type": "markdown",
   "metadata": {},
   "source": [
    "## Vector Addition\n",
    "\n",
    "Let's create vectors to represent the number of votes cast for 3 candidates in different districts"
   ]
  },
  {
   "cell_type": "code",
   "execution_count": 11,
   "metadata": {},
   "outputs": [],
   "source": [
    "vec1 = tf.Variable([4113, 7511, 6259], tf.int32)\n",
    "vec2 = tf.Variable([3870, 6725, 6962], tf.int32)"
   ]
  },
  {
   "cell_type": "markdown",
   "metadata": {},
   "source": [
    "Let's add the votes for each candidate across districts"
   ]
  },
  {
   "cell_type": "code",
   "execution_count": 12,
   "metadata": {},
   "outputs": [],
   "source": [
    "vec_sum = vec1 + vec2"
   ]
  },
  {
   "cell_type": "code",
   "execution_count": 11,
   "metadata": {},
   "outputs": [
    {
     "data": {
      "text/plain": [
       "array([ 7983, 14236, 13221], dtype=int32)"
      ]
     },
     "execution_count": 11,
     "metadata": {},
     "output_type": "execute_result"
    }
   ],
   "source": [
    "vec_sum.numpy()"
   ]
  },
  {
   "cell_type": "code",
   "execution_count": 12,
   "metadata": {},
   "outputs": [
    {
     "name": "stdout",
     "output_type": "stream",
     "text": [
      "7983\n",
      "14236\n",
      "13221\n"
     ]
    }
   ],
   "source": [
    "print((vec1[0] + vec2[0]).numpy())\n",
    "print((vec1[1] + vec2[1]).numpy())\n",
    "print((vec1[2] + vec2[2]).numpy())"
   ]
  },
  {
   "cell_type": "markdown",
   "metadata": {},
   "source": [
    "## Matrix Addition\n",
    "\n",
    "Let's create matrices to represent the number of votes cast for 3 candidates in different districts for each political party"
   ]
  },
  {
   "cell_type": "code",
   "execution_count": 14,
   "metadata": {},
   "outputs": [],
   "source": [
    "matrix1 = tf.Variable([[4113, 7511, 6259], [5102, 7038, 6591]], tf.int32)\n",
    "matrix2 = tf.Variable([[3870, 6725, 6962], [3661, 5901, 6235]], tf.int32)\n",
    "matrix3 = tf.Variable([[951, 1208, 1098], [870, 645, 948]], tf.int32)"
   ]
  },
  {
   "cell_type": "code",
   "execution_count": 15,
   "metadata": {},
   "outputs": [
    {
     "data": {
      "text/plain": [
       "True"
      ]
     },
     "execution_count": 15,
     "metadata": {},
     "output_type": "execute_result"
    }
   ],
   "source": [
    "matrix1.shape == matrix2.shape == matrix3.shape"
   ]
  },
  {
   "cell_type": "code",
   "execution_count": 16,
   "metadata": {},
   "outputs": [
    {
     "data": {
      "text/plain": [
       "array([[ 8934, 15444, 14319],\n",
       "       [ 9633, 13584, 13774]], dtype=int32)"
      ]
     },
     "execution_count": 16,
     "metadata": {},
     "output_type": "execute_result"
    }
   ],
   "source": [
    "matrix_sum = matrix1 + matrix2 + matrix3\n",
    "matrix_sum.numpy()"
   ]
  },
  {
   "cell_type": "code",
   "execution_count": 17,
   "metadata": {},
   "outputs": [
    {
     "name": "stdout",
     "output_type": "stream",
     "text": [
      "8934\n",
      "15444\n",
      "14319\n",
      "9633\n",
      "13584\n",
      "13774\n"
     ]
    }
   ],
   "source": [
    "print((matrix1[0][0] + matrix2[0][0] + matrix3[0][0]).numpy())\n",
    "print((matrix1[0][1] + matrix2[0][1] + matrix3[0][1]).numpy())\n",
    "print((matrix1[0][2] + matrix2[0][2] + matrix3[0][2]).numpy())\n",
    "print((matrix1[1][0] + matrix2[1][0] + matrix3[1][0]).numpy())\n",
    "print((matrix1[1][1] + matrix2[1][1] + matrix3[1][1]).numpy())\n",
    "print((matrix1[1][2] + matrix2[1][2] + matrix3[1][2]).numpy())"
   ]
  }
 ],
 "metadata": {
  "kernelspec": {
   "display_name": "tf22",
   "language": "python",
   "name": "tf22"
  },
  "language_info": {
   "codemirror_mode": {
    "name": "ipython",
    "version": 3
   },
   "file_extension": ".py",
   "mimetype": "text/x-python",
   "name": "python",
   "nbconvert_exporter": "python",
   "pygments_lexer": "ipython3",
   "version": "3.9.6"
  }
 },
 "nbformat": 4,
 "nbformat_minor": 2
}
