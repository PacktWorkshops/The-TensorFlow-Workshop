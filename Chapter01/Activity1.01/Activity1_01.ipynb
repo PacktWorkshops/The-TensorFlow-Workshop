{
 "cells": [
  {
   "attachments": {},
   "cell_type": "markdown",
   "metadata": {},
   "source": [
    "# Activity 1.01\n",
    "\n",
    "In this activity we will perform tensor addition with scalars, vectors, and matrices.\n",
    "\n",
    "In this scenario you work in a company that has three locations, each with 2 sales persons and each location sells a 3 products. You will sum the tensors to represent the total revenue for each product across locations.\n",
    "\n",
    "## Scalar Addition\n",
    "Create 2 scalar variables to represent the revenue of a product by 2 different salespeople at a particualr location"
   ]
  },
  {
   "cell_type": "code",
   "execution_count": 1,
   "metadata": {},
   "outputs": [],
   "source": [
    "import tensorflow as tf"
   ]
  },
  {
   "cell_type": "code",
   "execution_count": 2,
   "metadata": {},
   "outputs": [
    {
     "name": "stderr",
     "output_type": "stream",
     "text": [
      "2021-09-24 17:42:20.597026: I tensorflow/core/platform/cpu_feature_guard.cc:142] This TensorFlow binary is optimized with oneAPI Deep Neural Network Library (oneDNN) to use the following CPU instructions in performance-critical operations:  AVX2 FMA\n",
      "To enable them in other operations, rebuild TensorFlow with the appropriate compiler flags.\n"
     ]
    }
   ],
   "source": [
    "var1 = tf.Variable(2706, tf.int32)\n",
    "var2 = tf.Variable(2386, tf.int32)"
   ]
  },
  {
   "cell_type": "code",
   "execution_count": 3,
   "metadata": {},
   "outputs": [
    {
     "data": {
      "text/plain": [
       "5092"
      ]
     },
     "execution_count": 3,
     "metadata": {},
     "output_type": "execute_result"
    }
   ],
   "source": [
    "var_sum = var1 + var2\n",
    "var_sum.numpy()"
   ]
  },
  {
   "cell_type": "markdown",
   "metadata": {},
   "source": [
    "## Vector and Scalar Addition\n",
    "\n",
    "The new sales goal for one salesperson is to increase revenue of each product by $95. Create a vector representing the current revenue for each product and a scalar representing the increase in revenue."
   ]
  },
  {
   "cell_type": "code",
   "execution_count": 4,
   "metadata": {},
   "outputs": [],
   "source": [
    "scalar1 = tf.Variable(95, tf.int32)\n",
    "vector1 = tf.Variable([2706, 2799, 5102], tf.int32)"
   ]
  },
  {
   "cell_type": "code",
   "execution_count": 5,
   "metadata": {},
   "outputs": [
    {
     "data": {
      "text/plain": [
       "array([2801, 2894, 5197], dtype=int32)"
      ]
     },
     "execution_count": 5,
     "metadata": {},
     "output_type": "execute_result"
    }
   ],
   "source": [
    "vector_scalar_sum = scalar1 + vector1\n",
    "vector_scalar_sum.numpy()"
   ]
  },
  {
   "cell_type": "markdown",
   "metadata": {},
   "source": [
    "## Matrix Addition\n",
    "Create three 2x3 matrices representing the revenue for each product for each sameperson and location."
   ]
  },
  {
   "cell_type": "code",
   "execution_count": 6,
   "metadata": {},
   "outputs": [],
   "source": [
    "matrix1 = tf.Variable([[2706, 2799, 5102], [2386, 4089, 5932]], tf.int32)\n",
    "matrix2 = tf.Variable([[5901, 1208, 645], [6235, 1098, 948]], tf.int32)\n",
    "matrix3 = tf.Variable([[3908, 2339, 5520], [4544, 1978, 4729]], tf.int32)"
   ]
  },
  {
   "cell_type": "markdown",
   "metadata": {},
   "source": [
    "Add together the votes from the matrices to total the number of revenue for each product and location."
   ]
  },
  {
   "cell_type": "code",
   "execution_count": 7,
   "metadata": {},
   "outputs": [
    {
     "data": {
      "text/plain": [
       "array([[12515,  6346, 11267],\n",
       "       [13165,  7165, 11609]], dtype=int32)"
      ]
     },
     "execution_count": 7,
     "metadata": {},
     "output_type": "execute_result"
    }
   ],
   "source": [
    "matrix_sum = matrix1 + matrix2 + matrix3\n",
    "matrix_sum.numpy()"
   ]
  }
 ],
 "metadata": {
  "kernelspec": {
   "display_name": "tf22",
   "language": "python",
   "name": "tf22"
  },
  "language_info": {
   "codemirror_mode": {
    "name": "ipython",
    "version": 3
   },
   "file_extension": ".py",
   "mimetype": "text/x-python",
   "name": "python",
   "nbconvert_exporter": "python",
   "pygments_lexer": "ipython3",
   "version": "3.9.6"
  }
 },
 "nbformat": 4,
 "nbformat_minor": 2
}
