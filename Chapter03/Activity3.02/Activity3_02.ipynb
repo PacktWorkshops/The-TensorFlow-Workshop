{
 "cells": [
  {
   "cell_type": "markdown",
   "metadata": {
    "colab_type": "text",
    "id": "1XfGDLtttyPy"
   },
   "source": [
    "# Activity 3.02\n",
    "\n",
    "Activity to be completed on https://colab.research.google.com/"
   ]
  },
  {
   "cell_type": "code",
   "execution_count": 1,
   "metadata": {
    "colab": {
     "base_uri": "https://localhost:8080/",
     "height": 51
    },
    "colab_type": "code",
    "id": "x1dAPfaboCNi",
    "outputId": "70a7a8c9-ac61-4fdc-96c3-5df30186294f"
   },
   "outputs": [
    {
     "name": "stdout",
     "output_type": "stream",
     "text": [
      "TF version: 2.6.0\n",
      "HUB version: 0.8.0\n"
     ]
    }
   ],
   "source": [
    "import tensorflow as tf\n",
    "import tensorflow_hub as hub\n",
    "print('TF version:', tf.__version__)\n",
    "print('HUB version:', hub.__version__)"
   ]
  },
  {
   "cell_type": "code",
   "execution_count": 2,
   "metadata": {
    "colab": {},
    "colab_type": "code",
    "id": "KiB5KxCOoHVF"
   },
   "outputs": [],
   "source": [
    "module_handle =\"https://tfhub.dev/google/universal-sentence-encoder/4\""
   ]
  },
  {
   "cell_type": "code",
   "execution_count": 3,
   "metadata": {
    "colab": {},
    "colab_type": "code",
    "id": "h7AK-cnNo1fq"
   },
   "outputs": [
    {
     "ename": "URLError",
     "evalue": "<urlopen error unknown url type: https>",
     "output_type": "error",
     "traceback": [
      "\u001b[1;31m---------------------------------------------------------------------------\u001b[0m",
      "\u001b[1;31mURLError\u001b[0m                                  Traceback (most recent call last)",
      "\u001b[1;32m~\\AppData\\Local\\Temp/ipykernel_19040/3593985225.py\u001b[0m in \u001b[0;36m<module>\u001b[1;34m\u001b[0m\n\u001b[0;32m      1\u001b[0m hub_layer = hub.KerasLayer(module_handle, input_shape=[], \n\u001b[1;32m----> 2\u001b[1;33m                            dtype=tf.string)\n\u001b[0m",
      "\u001b[1;32m~\\Anaconda3\\envs\\tensorflow_ws\\lib\\site-packages\\tensorflow_hub\\keras_layer.py\u001b[0m in \u001b[0;36m__init__\u001b[1;34m(self, handle, trainable, arguments, _sentinel, tags, signature, signature_outputs_as_dict, output_key, output_shape, **kwargs)\u001b[0m\n\u001b[0;32m    144\u001b[0m           _convert_nest_to_shapes(output_shape))\n\u001b[0;32m    145\u001b[0m \u001b[1;33m\u001b[0m\u001b[0m\n\u001b[1;32m--> 146\u001b[1;33m     \u001b[0mself\u001b[0m\u001b[1;33m.\u001b[0m\u001b[0m_func\u001b[0m \u001b[1;33m=\u001b[0m \u001b[0mload_module\u001b[0m\u001b[1;33m(\u001b[0m\u001b[0mhandle\u001b[0m\u001b[1;33m,\u001b[0m \u001b[0mtags\u001b[0m\u001b[1;33m)\u001b[0m\u001b[1;33m\u001b[0m\u001b[1;33m\u001b[0m\u001b[0m\n\u001b[0m\u001b[0;32m    147\u001b[0m     \u001b[0mself\u001b[0m\u001b[1;33m.\u001b[0m\u001b[0m_has_training_argument\u001b[0m \u001b[1;33m=\u001b[0m \u001b[0mfunc_has_training_argument\u001b[0m\u001b[1;33m(\u001b[0m\u001b[0mself\u001b[0m\u001b[1;33m.\u001b[0m\u001b[0m_func\u001b[0m\u001b[1;33m)\u001b[0m\u001b[1;33m\u001b[0m\u001b[1;33m\u001b[0m\u001b[0m\n\u001b[0;32m    148\u001b[0m     \u001b[0mself\u001b[0m\u001b[1;33m.\u001b[0m\u001b[0m_is_hub_module_v1\u001b[0m \u001b[1;33m=\u001b[0m \u001b[0mgetattr\u001b[0m\u001b[1;33m(\u001b[0m\u001b[0mself\u001b[0m\u001b[1;33m.\u001b[0m\u001b[0m_func\u001b[0m\u001b[1;33m,\u001b[0m \u001b[1;34m\"_is_hub_module_v1\"\u001b[0m\u001b[1;33m,\u001b[0m \u001b[1;32mFalse\u001b[0m\u001b[1;33m)\u001b[0m\u001b[1;33m\u001b[0m\u001b[1;33m\u001b[0m\u001b[0m\n",
      "\u001b[1;32m~\\Anaconda3\\envs\\tensorflow_ws\\lib\\site-packages\\tensorflow_hub\\keras_layer.py\u001b[0m in \u001b[0;36mload_module\u001b[1;34m(handle, tags)\u001b[0m\n\u001b[0;32m    396\u001b[0m     \u001b[1;32mreturn\u001b[0m \u001b[0mhandle\u001b[0m\u001b[1;33m\u001b[0m\u001b[1;33m\u001b[0m\u001b[0m\n\u001b[0;32m    397\u001b[0m   \u001b[1;32melse\u001b[0m\u001b[1;33m:\u001b[0m\u001b[1;33m\u001b[0m\u001b[1;33m\u001b[0m\u001b[0m\n\u001b[1;32m--> 398\u001b[1;33m     \u001b[1;32mreturn\u001b[0m \u001b[0mmodule_v2\u001b[0m\u001b[1;33m.\u001b[0m\u001b[0mload\u001b[0m\u001b[1;33m(\u001b[0m\u001b[0mhandle\u001b[0m\u001b[1;33m,\u001b[0m \u001b[0mtags\u001b[0m\u001b[1;33m=\u001b[0m\u001b[0mtags\u001b[0m\u001b[1;33m)\u001b[0m\u001b[1;33m\u001b[0m\u001b[1;33m\u001b[0m\u001b[0m\n\u001b[0m\u001b[0;32m    399\u001b[0m \u001b[1;33m\u001b[0m\u001b[0m\n\u001b[0;32m    400\u001b[0m \u001b[1;33m\u001b[0m\u001b[0m\n",
      "\u001b[1;32m~\\Anaconda3\\envs\\tensorflow_ws\\lib\\site-packages\\tensorflow_hub\\module_v2.py\u001b[0m in \u001b[0;36mload\u001b[1;34m(handle, tags)\u001b[0m\n\u001b[0;32m     95\u001b[0m   \u001b[1;32mif\u001b[0m \u001b[1;32mnot\u001b[0m \u001b[0misinstance\u001b[0m\u001b[1;33m(\u001b[0m\u001b[0mhandle\u001b[0m\u001b[1;33m,\u001b[0m \u001b[0msix\u001b[0m\u001b[1;33m.\u001b[0m\u001b[0mstring_types\u001b[0m\u001b[1;33m)\u001b[0m\u001b[1;33m:\u001b[0m\u001b[1;33m\u001b[0m\u001b[1;33m\u001b[0m\u001b[0m\n\u001b[0;32m     96\u001b[0m     \u001b[1;32mraise\u001b[0m \u001b[0mValueError\u001b[0m\u001b[1;33m(\u001b[0m\u001b[1;34m\"Expected a string, got %s\"\u001b[0m \u001b[1;33m%\u001b[0m \u001b[0mhandle\u001b[0m\u001b[1;33m)\u001b[0m\u001b[1;33m\u001b[0m\u001b[1;33m\u001b[0m\u001b[0m\n\u001b[1;32m---> 97\u001b[1;33m   \u001b[0mmodule_path\u001b[0m \u001b[1;33m=\u001b[0m \u001b[0mresolve\u001b[0m\u001b[1;33m(\u001b[0m\u001b[0mhandle\u001b[0m\u001b[1;33m)\u001b[0m\u001b[1;33m\u001b[0m\u001b[1;33m\u001b[0m\u001b[0m\n\u001b[0m\u001b[0;32m     98\u001b[0m   is_hub_module_v1 = tf.io.gfile.exists(\n\u001b[0;32m     99\u001b[0m       native_module.get_module_proto_path(module_path))\n",
      "\u001b[1;32m~\\Anaconda3\\envs\\tensorflow_ws\\lib\\site-packages\\tensorflow_hub\\module_v2.py\u001b[0m in \u001b[0;36mresolve\u001b[1;34m(handle)\u001b[0m\n\u001b[0;32m     51\u001b[0m     \u001b[0mA\u001b[0m \u001b[0mstring\u001b[0m \u001b[0mrepresenting\u001b[0m \u001b[0mthe\u001b[0m \u001b[0mModule\u001b[0m \u001b[0mpath\u001b[0m\u001b[1;33m.\u001b[0m\u001b[1;33m\u001b[0m\u001b[1;33m\u001b[0m\u001b[0m\n\u001b[0;32m     52\u001b[0m   \"\"\"\n\u001b[1;32m---> 53\u001b[1;33m   \u001b[1;32mreturn\u001b[0m \u001b[0mregistry\u001b[0m\u001b[1;33m.\u001b[0m\u001b[0mresolver\u001b[0m\u001b[1;33m(\u001b[0m\u001b[0mhandle\u001b[0m\u001b[1;33m)\u001b[0m\u001b[1;33m\u001b[0m\u001b[1;33m\u001b[0m\u001b[0m\n\u001b[0m\u001b[0;32m     54\u001b[0m \u001b[1;33m\u001b[0m\u001b[0m\n\u001b[0;32m     55\u001b[0m \u001b[1;33m\u001b[0m\u001b[0m\n",
      "\u001b[1;32m~\\Anaconda3\\envs\\tensorflow_ws\\lib\\site-packages\\tensorflow_hub\\registry.py\u001b[0m in \u001b[0;36m__call__\u001b[1;34m(self, *args, **kwargs)\u001b[0m\n\u001b[0;32m     40\u001b[0m     \u001b[1;32mfor\u001b[0m \u001b[0mimpl\u001b[0m \u001b[1;32min\u001b[0m \u001b[0mreversed\u001b[0m\u001b[1;33m(\u001b[0m\u001b[0mself\u001b[0m\u001b[1;33m.\u001b[0m\u001b[0m_impls\u001b[0m\u001b[1;33m)\u001b[0m\u001b[1;33m:\u001b[0m\u001b[1;33m\u001b[0m\u001b[1;33m\u001b[0m\u001b[0m\n\u001b[0;32m     41\u001b[0m       \u001b[1;32mif\u001b[0m \u001b[0mimpl\u001b[0m\u001b[1;33m.\u001b[0m\u001b[0mis_supported\u001b[0m\u001b[1;33m(\u001b[0m\u001b[1;33m*\u001b[0m\u001b[0margs\u001b[0m\u001b[1;33m,\u001b[0m \u001b[1;33m**\u001b[0m\u001b[0mkwargs\u001b[0m\u001b[1;33m)\u001b[0m\u001b[1;33m:\u001b[0m\u001b[1;33m\u001b[0m\u001b[1;33m\u001b[0m\u001b[0m\n\u001b[1;32m---> 42\u001b[1;33m         \u001b[1;32mreturn\u001b[0m \u001b[0mimpl\u001b[0m\u001b[1;33m(\u001b[0m\u001b[1;33m*\u001b[0m\u001b[0margs\u001b[0m\u001b[1;33m,\u001b[0m \u001b[1;33m**\u001b[0m\u001b[0mkwargs\u001b[0m\u001b[1;33m)\u001b[0m\u001b[1;33m\u001b[0m\u001b[1;33m\u001b[0m\u001b[0m\n\u001b[0m\u001b[0;32m     43\u001b[0m     raise RuntimeError(\n\u001b[0;32m     44\u001b[0m         \"Missing implementation that supports: %s(*%r, **%r)\" % (\n",
      "\u001b[1;32m~\\Anaconda3\\envs\\tensorflow_ws\\lib\\site-packages\\tensorflow_hub\\compressed_module_resolver.py\u001b[0m in \u001b[0;36m__call__\u001b[1;34m(self, handle)\u001b[0m\n\u001b[0;32m     86\u001b[0m \u001b[1;33m\u001b[0m\u001b[0m\n\u001b[0;32m     87\u001b[0m     return resolver.atomic_download(handle, download, module_dir,\n\u001b[1;32m---> 88\u001b[1;33m                                     self._lock_file_timeout_sec())\n\u001b[0m\u001b[0;32m     89\u001b[0m \u001b[1;33m\u001b[0m\u001b[0m\n\u001b[0;32m     90\u001b[0m   \u001b[1;32mdef\u001b[0m \u001b[0m_lock_file_timeout_sec\u001b[0m\u001b[1;33m(\u001b[0m\u001b[0mself\u001b[0m\u001b[1;33m)\u001b[0m\u001b[1;33m:\u001b[0m\u001b[1;33m\u001b[0m\u001b[1;33m\u001b[0m\u001b[0m\n",
      "\u001b[1;32m~\\Anaconda3\\envs\\tensorflow_ws\\lib\\site-packages\\tensorflow_hub\\resolver.py\u001b[0m in \u001b[0;36matomic_download\u001b[1;34m(handle, download_fn, module_dir, lock_file_timeout_sec)\u001b[0m\n\u001b[0;32m    413\u001b[0m     \u001b[0mlogging\u001b[0m\u001b[1;33m.\u001b[0m\u001b[0minfo\u001b[0m\u001b[1;33m(\u001b[0m\u001b[1;34m\"Downloading TF-Hub Module '%s'.\"\u001b[0m\u001b[1;33m,\u001b[0m \u001b[0mhandle\u001b[0m\u001b[1;33m)\u001b[0m\u001b[1;33m\u001b[0m\u001b[1;33m\u001b[0m\u001b[0m\n\u001b[0;32m    414\u001b[0m     \u001b[0mtf_v1\u001b[0m\u001b[1;33m.\u001b[0m\u001b[0mgfile\u001b[0m\u001b[1;33m.\u001b[0m\u001b[0mMakeDirs\u001b[0m\u001b[1;33m(\u001b[0m\u001b[0mtmp_dir\u001b[0m\u001b[1;33m)\u001b[0m\u001b[1;33m\u001b[0m\u001b[1;33m\u001b[0m\u001b[0m\n\u001b[1;32m--> 415\u001b[1;33m     \u001b[0mdownload_fn\u001b[0m\u001b[1;33m(\u001b[0m\u001b[0mhandle\u001b[0m\u001b[1;33m,\u001b[0m \u001b[0mtmp_dir\u001b[0m\u001b[1;33m)\u001b[0m\u001b[1;33m\u001b[0m\u001b[1;33m\u001b[0m\u001b[0m\n\u001b[0m\u001b[0;32m    416\u001b[0m     \u001b[1;31m# Write module descriptor to capture information about which module was\u001b[0m\u001b[1;33m\u001b[0m\u001b[1;33m\u001b[0m\u001b[1;33m\u001b[0m\u001b[0m\n\u001b[0;32m    417\u001b[0m     \u001b[1;31m# downloaded by whom and when. The file stored at the same level as a\u001b[0m\u001b[1;33m\u001b[0m\u001b[1;33m\u001b[0m\u001b[1;33m\u001b[0m\u001b[0m\n",
      "\u001b[1;32m~\\Anaconda3\\envs\\tensorflow_ws\\lib\\site-packages\\tensorflow_hub\\compressed_module_resolver.py\u001b[0m in \u001b[0;36mdownload\u001b[1;34m(handle, tmp_dir)\u001b[0m\n\u001b[0;32m     81\u001b[0m       \u001b[1;34m\"\"\"Fetch a module via HTTP(S), handling redirect and download headers.\"\"\"\u001b[0m\u001b[1;33m\u001b[0m\u001b[1;33m\u001b[0m\u001b[0m\n\u001b[0;32m     82\u001b[0m       \u001b[0mrequest\u001b[0m \u001b[1;33m=\u001b[0m \u001b[0murl\u001b[0m\u001b[1;33m.\u001b[0m\u001b[0mRequest\u001b[0m\u001b[1;33m(\u001b[0m\u001b[0m_append_compressed_format_query\u001b[0m\u001b[1;33m(\u001b[0m\u001b[0mhandle\u001b[0m\u001b[1;33m)\u001b[0m\u001b[1;33m)\u001b[0m\u001b[1;33m\u001b[0m\u001b[1;33m\u001b[0m\u001b[0m\n\u001b[1;32m---> 83\u001b[1;33m       \u001b[0mresponse\u001b[0m \u001b[1;33m=\u001b[0m \u001b[0mself\u001b[0m\u001b[1;33m.\u001b[0m\u001b[0m_call_urlopen\u001b[0m\u001b[1;33m(\u001b[0m\u001b[0mrequest\u001b[0m\u001b[1;33m)\u001b[0m\u001b[1;33m\u001b[0m\u001b[1;33m\u001b[0m\u001b[0m\n\u001b[0m\u001b[0;32m     84\u001b[0m       return resolver.DownloadManager(handle).download_and_uncompress(\n\u001b[0;32m     85\u001b[0m           response, tmp_dir)\n",
      "\u001b[1;32m~\\Anaconda3\\envs\\tensorflow_ws\\lib\\site-packages\\tensorflow_hub\\compressed_module_resolver.py\u001b[0m in \u001b[0;36m_call_urlopen\u001b[1;34m(self, request)\u001b[0m\n\u001b[0;32m     94\u001b[0m   \u001b[1;32mdef\u001b[0m \u001b[0m_call_urlopen\u001b[0m\u001b[1;33m(\u001b[0m\u001b[0mself\u001b[0m\u001b[1;33m,\u001b[0m \u001b[0mrequest\u001b[0m\u001b[1;33m)\u001b[0m\u001b[1;33m:\u001b[0m\u001b[1;33m\u001b[0m\u001b[1;33m\u001b[0m\u001b[0m\n\u001b[0;32m     95\u001b[0m     \u001b[1;31m# Overriding this method allows setting SSL context in Python 3.\u001b[0m\u001b[1;33m\u001b[0m\u001b[1;33m\u001b[0m\u001b[1;33m\u001b[0m\u001b[0m\n\u001b[1;32m---> 96\u001b[1;33m     \u001b[1;32mreturn\u001b[0m \u001b[0murl\u001b[0m\u001b[1;33m.\u001b[0m\u001b[0murlopen\u001b[0m\u001b[1;33m(\u001b[0m\u001b[0mrequest\u001b[0m\u001b[1;33m)\u001b[0m\u001b[1;33m\u001b[0m\u001b[1;33m\u001b[0m\u001b[0m\n\u001b[0m\u001b[0;32m     97\u001b[0m \u001b[1;33m\u001b[0m\u001b[0m\n\u001b[0;32m     98\u001b[0m \u001b[1;33m\u001b[0m\u001b[0m\n",
      "\u001b[1;32m~\\Anaconda3\\envs\\tensorflow_ws\\lib\\urllib\\request.py\u001b[0m in \u001b[0;36murlopen\u001b[1;34m(url, data, timeout, cafile, capath, cadefault, context)\u001b[0m\n\u001b[0;32m    220\u001b[0m     \u001b[1;32melse\u001b[0m\u001b[1;33m:\u001b[0m\u001b[1;33m\u001b[0m\u001b[1;33m\u001b[0m\u001b[0m\n\u001b[0;32m    221\u001b[0m         \u001b[0mopener\u001b[0m \u001b[1;33m=\u001b[0m \u001b[0m_opener\u001b[0m\u001b[1;33m\u001b[0m\u001b[1;33m\u001b[0m\u001b[0m\n\u001b[1;32m--> 222\u001b[1;33m     \u001b[1;32mreturn\u001b[0m \u001b[0mopener\u001b[0m\u001b[1;33m.\u001b[0m\u001b[0mopen\u001b[0m\u001b[1;33m(\u001b[0m\u001b[0murl\u001b[0m\u001b[1;33m,\u001b[0m \u001b[0mdata\u001b[0m\u001b[1;33m,\u001b[0m \u001b[0mtimeout\u001b[0m\u001b[1;33m)\u001b[0m\u001b[1;33m\u001b[0m\u001b[1;33m\u001b[0m\u001b[0m\n\u001b[0m\u001b[0;32m    223\u001b[0m \u001b[1;33m\u001b[0m\u001b[0m\n\u001b[0;32m    224\u001b[0m \u001b[1;32mdef\u001b[0m \u001b[0minstall_opener\u001b[0m\u001b[1;33m(\u001b[0m\u001b[0mopener\u001b[0m\u001b[1;33m)\u001b[0m\u001b[1;33m:\u001b[0m\u001b[1;33m\u001b[0m\u001b[1;33m\u001b[0m\u001b[0m\n",
      "\u001b[1;32m~\\Anaconda3\\envs\\tensorflow_ws\\lib\\urllib\\request.py\u001b[0m in \u001b[0;36mopen\u001b[1;34m(self, fullurl, data, timeout)\u001b[0m\n\u001b[0;32m    523\u001b[0m             \u001b[0mreq\u001b[0m \u001b[1;33m=\u001b[0m \u001b[0mmeth\u001b[0m\u001b[1;33m(\u001b[0m\u001b[0mreq\u001b[0m\u001b[1;33m)\u001b[0m\u001b[1;33m\u001b[0m\u001b[1;33m\u001b[0m\u001b[0m\n\u001b[0;32m    524\u001b[0m \u001b[1;33m\u001b[0m\u001b[0m\n\u001b[1;32m--> 525\u001b[1;33m         \u001b[0mresponse\u001b[0m \u001b[1;33m=\u001b[0m \u001b[0mself\u001b[0m\u001b[1;33m.\u001b[0m\u001b[0m_open\u001b[0m\u001b[1;33m(\u001b[0m\u001b[0mreq\u001b[0m\u001b[1;33m,\u001b[0m \u001b[0mdata\u001b[0m\u001b[1;33m)\u001b[0m\u001b[1;33m\u001b[0m\u001b[1;33m\u001b[0m\u001b[0m\n\u001b[0m\u001b[0;32m    526\u001b[0m \u001b[1;33m\u001b[0m\u001b[0m\n\u001b[0;32m    527\u001b[0m         \u001b[1;31m# post-process response\u001b[0m\u001b[1;33m\u001b[0m\u001b[1;33m\u001b[0m\u001b[1;33m\u001b[0m\u001b[0m\n",
      "\u001b[1;32m~\\Anaconda3\\envs\\tensorflow_ws\\lib\\urllib\\request.py\u001b[0m in \u001b[0;36m_open\u001b[1;34m(self, req, data)\u001b[0m\n\u001b[0;32m    546\u001b[0m \u001b[1;33m\u001b[0m\u001b[0m\n\u001b[0;32m    547\u001b[0m         return self._call_chain(self.handle_open, 'unknown',\n\u001b[1;32m--> 548\u001b[1;33m                                 'unknown_open', req)\n\u001b[0m\u001b[0;32m    549\u001b[0m \u001b[1;33m\u001b[0m\u001b[0m\n\u001b[0;32m    550\u001b[0m     \u001b[1;32mdef\u001b[0m \u001b[0merror\u001b[0m\u001b[1;33m(\u001b[0m\u001b[0mself\u001b[0m\u001b[1;33m,\u001b[0m \u001b[0mproto\u001b[0m\u001b[1;33m,\u001b[0m \u001b[1;33m*\u001b[0m\u001b[0margs\u001b[0m\u001b[1;33m)\u001b[0m\u001b[1;33m:\u001b[0m\u001b[1;33m\u001b[0m\u001b[1;33m\u001b[0m\u001b[0m\n",
      "\u001b[1;32m~\\Anaconda3\\envs\\tensorflow_ws\\lib\\urllib\\request.py\u001b[0m in \u001b[0;36m_call_chain\u001b[1;34m(self, chain, kind, meth_name, *args)\u001b[0m\n\u001b[0;32m    501\u001b[0m         \u001b[1;32mfor\u001b[0m \u001b[0mhandler\u001b[0m \u001b[1;32min\u001b[0m \u001b[0mhandlers\u001b[0m\u001b[1;33m:\u001b[0m\u001b[1;33m\u001b[0m\u001b[1;33m\u001b[0m\u001b[0m\n\u001b[0;32m    502\u001b[0m             \u001b[0mfunc\u001b[0m \u001b[1;33m=\u001b[0m \u001b[0mgetattr\u001b[0m\u001b[1;33m(\u001b[0m\u001b[0mhandler\u001b[0m\u001b[1;33m,\u001b[0m \u001b[0mmeth_name\u001b[0m\u001b[1;33m)\u001b[0m\u001b[1;33m\u001b[0m\u001b[1;33m\u001b[0m\u001b[0m\n\u001b[1;32m--> 503\u001b[1;33m             \u001b[0mresult\u001b[0m \u001b[1;33m=\u001b[0m \u001b[0mfunc\u001b[0m\u001b[1;33m(\u001b[0m\u001b[1;33m*\u001b[0m\u001b[0margs\u001b[0m\u001b[1;33m)\u001b[0m\u001b[1;33m\u001b[0m\u001b[1;33m\u001b[0m\u001b[0m\n\u001b[0m\u001b[0;32m    504\u001b[0m             \u001b[1;32mif\u001b[0m \u001b[0mresult\u001b[0m \u001b[1;32mis\u001b[0m \u001b[1;32mnot\u001b[0m \u001b[1;32mNone\u001b[0m\u001b[1;33m:\u001b[0m\u001b[1;33m\u001b[0m\u001b[1;33m\u001b[0m\u001b[0m\n\u001b[0;32m    505\u001b[0m                 \u001b[1;32mreturn\u001b[0m \u001b[0mresult\u001b[0m\u001b[1;33m\u001b[0m\u001b[1;33m\u001b[0m\u001b[0m\n",
      "\u001b[1;32m~\\Anaconda3\\envs\\tensorflow_ws\\lib\\urllib\\request.py\u001b[0m in \u001b[0;36munknown_open\u001b[1;34m(self, req)\u001b[0m\n\u001b[0;32m   1418\u001b[0m     \u001b[1;32mdef\u001b[0m \u001b[0munknown_open\u001b[0m\u001b[1;33m(\u001b[0m\u001b[0mself\u001b[0m\u001b[1;33m,\u001b[0m \u001b[0mreq\u001b[0m\u001b[1;33m)\u001b[0m\u001b[1;33m:\u001b[0m\u001b[1;33m\u001b[0m\u001b[1;33m\u001b[0m\u001b[0m\n\u001b[0;32m   1419\u001b[0m         \u001b[0mtype\u001b[0m \u001b[1;33m=\u001b[0m \u001b[0mreq\u001b[0m\u001b[1;33m.\u001b[0m\u001b[0mtype\u001b[0m\u001b[1;33m\u001b[0m\u001b[1;33m\u001b[0m\u001b[0m\n\u001b[1;32m-> 1420\u001b[1;33m         \u001b[1;32mraise\u001b[0m \u001b[0mURLError\u001b[0m\u001b[1;33m(\u001b[0m\u001b[1;34m'unknown url type: %s'\u001b[0m \u001b[1;33m%\u001b[0m \u001b[0mtype\u001b[0m\u001b[1;33m)\u001b[0m\u001b[1;33m\u001b[0m\u001b[1;33m\u001b[0m\u001b[0m\n\u001b[0m\u001b[0;32m   1421\u001b[0m \u001b[1;33m\u001b[0m\u001b[0m\n\u001b[0;32m   1422\u001b[0m \u001b[1;32mdef\u001b[0m \u001b[0mparse_keqv_list\u001b[0m\u001b[1;33m(\u001b[0m\u001b[0ml\u001b[0m\u001b[1;33m)\u001b[0m\u001b[1;33m:\u001b[0m\u001b[1;33m\u001b[0m\u001b[1;33m\u001b[0m\u001b[0m\n",
      "\u001b[1;31mURLError\u001b[0m: <urlopen error unknown url type: https>"
     ]
    }
   ],
   "source": [
    "hub_layer = hub.KerasLayer(module_handle, input_shape=[], \n",
    "                           dtype=tf.string)"
   ]
  },
  {
   "cell_type": "code",
   "execution_count": 0,
   "metadata": {
    "colab": {},
    "colab_type": "code",
    "id": "c8NaHoT3vDRX"
   },
   "outputs": [],
   "source": [
    "text = ['The TensorFlow Workshop']"
   ]
  },
  {
   "cell_type": "code",
   "execution_count": 6,
   "metadata": {
    "colab": {
     "base_uri": "https://localhost:8080/",
     "height": 1000
    },
    "colab_type": "code",
    "id": "Xga7Qhqau7W2",
    "outputId": "302fa387-27f7-4fd1-959a-e1fa55b30fe7"
   },
   "outputs": [
    {
     "data": {
      "text/plain": [
       "<tf.Tensor: shape=(1, 512), dtype=float32, numpy=\n",
       "array([[-0.01592658, -0.01910833, -0.00460122, -0.04786165, -0.0090545 ,\n",
       "        -0.05658781, -0.04260132,  0.06827556,  0.03513585,  0.01448399,\n",
       "        -0.00549438,  0.04602941,  0.02016041,  0.0008662 , -0.01191864,\n",
       "         0.07414375, -0.03241738, -0.04448074,  0.00137551, -0.06724778,\n",
       "        -0.02604278,  0.01092253, -0.01246114,  0.03847544,  0.00819034,\n",
       "         0.06088841, -0.02359939, -0.05117927, -0.01725158, -0.02764523,\n",
       "         0.04102336, -0.03135261,  0.06100909, -0.02693282, -0.07294274,\n",
       "        -0.00857984, -0.04100463, -0.01803453,  0.04117068, -0.01969654,\n",
       "        -0.04563987,  0.0257121 , -0.03328102, -0.05113809, -0.03377022,\n",
       "         0.07439086, -0.02235463, -0.00438892, -0.00755636,  0.07249703,\n",
       "        -0.07135288, -0.05469208,  0.01436193,  0.0396053 , -0.01475235,\n",
       "        -0.03984744,  0.05067959,  0.07571234,  0.03281045, -0.00155282,\n",
       "        -0.07548428,  0.01494772, -0.04175217,  0.03947704, -0.0147364 ,\n",
       "        -0.01756434, -0.00077199,  0.00788859, -0.07518636,  0.04074219,\n",
       "        -0.02049077, -0.03601787, -0.01753781,  0.03299529,  0.05840027,\n",
       "        -0.03444539,  0.0186691 ,  0.03436609,  0.05346094,  0.02573053,\n",
       "        -0.05013486, -0.05430874, -0.04835197,  0.03301562, -0.03129521,\n",
       "         0.04714367, -0.07143752, -0.02783648, -0.02234376, -0.0619083 ,\n",
       "        -0.05527468,  0.02779463,  0.04658304, -0.02259884, -0.05570157,\n",
       "         0.06667245, -0.02903359, -0.05355389,  0.06542732, -0.05243086,\n",
       "        -0.03966407,  0.01379365, -0.03453102,  0.07174195, -0.00385802,\n",
       "        -0.03642376, -0.01343285,  0.00164682, -0.05571308,  0.01775301,\n",
       "         0.03831774,  0.00128905, -0.0665922 , -0.01266254,  0.00407203,\n",
       "        -0.07047658,  0.04188056, -0.01210087, -0.04976766,  0.03678571,\n",
       "        -0.06453571, -0.03227208, -0.03767915, -0.00056007, -0.0502888 ,\n",
       "        -0.01465736, -0.05485533,  0.02911727, -0.00720369,  0.01511439,\n",
       "         0.06206261,  0.00426019,  0.03058857, -0.0411805 ,  0.0440243 ,\n",
       "         0.00523598, -0.04755351, -0.03191332,  0.07220247, -0.02343521,\n",
       "        -0.01339214, -0.06318209,  0.0656536 , -0.03551387,  0.05945653,\n",
       "        -0.0633575 ,  0.02560689, -0.02588764,  0.05187687, -0.02706844,\n",
       "         0.05842037, -0.02802309, -0.02956879, -0.0723195 ,  0.04089195,\n",
       "         0.00715197, -0.00372513, -0.03479663, -0.06060484,  0.0415555 ,\n",
       "        -0.05163082,  0.07193536,  0.05429135,  0.06251319, -0.05741893,\n",
       "         0.0040491 , -0.01515685, -0.06677549, -0.01836812, -0.05321108,\n",
       "        -0.05384059,  0.04750629, -0.01694973,  0.03040267,  0.01578836,\n",
       "        -0.04693375,  0.02684535, -0.01233481, -0.03692975, -0.0544741 ,\n",
       "         0.04163874, -0.04609712, -0.00815643, -0.03775603,  0.07768971,\n",
       "         0.06587213,  0.00923008, -0.07530146,  0.00851058,  0.03512909,\n",
       "         0.04148078, -0.00561202,  0.05920204,  0.06887006,  0.07042985,\n",
       "         0.05299079,  0.0082119 ,  0.0741955 ,  0.07536168,  0.06592348,\n",
       "         0.04713199, -0.06668513, -0.07072298,  0.03684067, -0.05201907,\n",
       "        -0.04790985, -0.05033927,  0.00240854, -0.07629447,  0.03181232,\n",
       "        -0.0670028 , -0.02812622, -0.04116594, -0.02237229, -0.02511213,\n",
       "         0.00808032, -0.00879656, -0.05046523,  0.0462853 , -0.016656  ,\n",
       "         0.07426709, -0.07306804,  0.04111104,  0.03824241,  0.05869289,\n",
       "        -0.06964321, -0.03122688,  0.03352761, -0.07733256,  0.02763434,\n",
       "        -0.02459645, -0.01214538, -0.01370329,  0.06570482,  0.00134534,\n",
       "         0.05826232, -0.04901756,  0.02801034,  0.00172065, -0.00360538,\n",
       "         0.0602898 , -0.06837615,  0.04563699,  0.04516518,  0.06670786,\n",
       "        -0.03028424, -0.01979955, -0.06118055,  0.05340108,  0.00407881,\n",
       "        -0.07614807,  0.00695798,  0.04798874,  0.0702465 , -0.032755  ,\n",
       "         0.04515086,  0.00498229, -0.06106758,  0.03350731,  0.02759136,\n",
       "         0.03419063, -0.00907757,  0.04183105,  0.0739112 ,  0.03346943,\n",
       "         0.04413492, -0.05607127,  0.05872972,  0.04830996,  0.02958611,\n",
       "        -0.05674369,  0.06230728,  0.07807081,  0.05455716, -0.05487159,\n",
       "         0.06679694, -0.00803891, -0.06494411,  0.05884751,  0.02383368,\n",
       "        -0.03868795,  0.07061595, -0.03233311, -0.05174607,  0.04853373,\n",
       "        -0.02518389,  0.0188067 ,  0.05023018,  0.03771533,  0.02514375,\n",
       "         0.06296813, -0.03878494,  0.07464146, -0.00274512, -0.00744666,\n",
       "        -0.0459126 ,  0.05838558,  0.06153522, -0.07015912, -0.05880159,\n",
       "        -0.02968918,  0.05273599, -0.02432375, -0.05604993, -0.04257984,\n",
       "         0.00842959, -0.01168701,  0.05459766, -0.05760686,  0.03173791,\n",
       "        -0.0214388 ,  0.02789679, -0.02406725, -0.0726895 , -0.00612651,\n",
       "         0.06312757, -0.02538953, -0.02192078, -0.01198874, -0.01657094,\n",
       "        -0.07764001,  0.06527835,  0.01182472,  0.04950256,  0.00014449,\n",
       "         0.00889961,  0.06644873,  0.05851078, -0.01436428, -0.03690073,\n",
       "         0.01026887, -0.03108082,  0.0330742 ,  0.07705224, -0.01284231,\n",
       "         0.01109084, -0.06484161, -0.07676864, -0.01318773,  0.0012834 ,\n",
       "        -0.02149739,  0.03597058,  0.0399252 , -0.02162015, -0.07865447,\n",
       "        -0.01949516, -0.05536393, -0.05301207, -0.06078101,  0.04616307,\n",
       "         0.06182557,  0.02163561,  0.07113135,  0.04076822, -0.04510705,\n",
       "        -0.07247681, -0.0768374 , -0.05803608, -0.04345116, -0.05631189,\n",
       "         0.00877325,  0.05193631, -0.03643634, -0.04015239,  0.06585667,\n",
       "        -0.01166883,  0.04030235, -0.04818338, -0.02722071, -0.0019564 ,\n",
       "         0.03421757,  0.02426521,  0.05319807, -0.06250762,  0.04309503,\n",
       "        -0.02766918, -0.06672914, -0.02104972, -0.01967266, -0.06122293,\n",
       "         0.04191445,  0.01336669,  0.03165257,  0.01875136, -0.03473143,\n",
       "         0.01054055,  0.05780106,  0.06839652,  0.07649712, -0.06644299,\n",
       "         0.044731  ,  0.02138601,  0.01581652, -0.02628145,  0.06364162,\n",
       "         0.07652133,  0.07684201, -0.0297121 , -0.06658122, -0.01368638,\n",
       "         0.05208367, -0.00233752,  0.03723729,  0.02594877, -0.00545809,\n",
       "        -0.06007714,  0.03219621, -0.04114629,  0.03559491,  0.00497773,\n",
       "         0.00347692, -0.02056284,  0.01481054, -0.04130537, -0.02906134,\n",
       "         0.00757615, -0.02907342,  0.06592301, -0.02393413,  0.05892916,\n",
       "         0.07204723, -0.0239111 , -0.01317779,  0.02347931,  0.04430919,\n",
       "        -0.02736317, -0.03506988,  0.04492201,  0.04274609,  0.01867566,\n",
       "        -0.04830251,  0.01638797,  0.00522039,  0.01012983, -0.06381747,\n",
       "         0.05074214,  0.06483957,  0.0490468 , -0.02626228, -0.06738151,\n",
       "         0.01591266, -0.01076614, -0.03802894, -0.00871693, -0.04830302,\n",
       "        -0.0214606 , -0.06849122, -0.01375542, -0.0305355 ,  0.0352856 ,\n",
       "        -0.02779634,  0.06008663,  0.05489049, -0.06157295, -0.05818958,\n",
       "        -0.03366848, -0.04763508,  0.04265178,  0.07180038,  0.02175387,\n",
       "        -0.00611917,  0.03004105,  0.01839736, -0.01170169,  0.00474043,\n",
       "        -0.02815212,  0.03673299, -0.04203335, -0.01663059,  0.00374743,\n",
       "        -0.0151973 , -0.01174503,  0.07869135, -0.03190181, -0.02146473,\n",
       "        -0.00412582, -0.06827168, -0.01389134, -0.06992894, -0.06168117,\n",
       "         0.04659374,  0.05178342,  0.06421862,  0.02181498,  0.05274772,\n",
       "         0.04158497, -0.04032771,  0.0502386 ,  0.06499942,  0.02454547,\n",
       "        -0.02016784,  0.07007172, -0.05141915,  0.07072604,  0.05430235,\n",
       "         0.01879111,  0.03235745, -0.02991294, -0.02854221,  0.01947191,\n",
       "         0.00761077,  0.07419285,  0.02738812, -0.02497859, -0.01123739,\n",
       "         0.02397772, -0.04168847, -0.07539   ,  0.03652992,  0.07334663,\n",
       "        -0.01742055, -0.02553504]], dtype=float32)>"
      ]
     },
     "execution_count": 6,
     "metadata": {
      "tags": []
     },
     "output_type": "execute_result"
    }
   ],
   "source": [
    "hub_layer(text)"
   ]
  }
 ],
 "metadata": {
  "colab": {
   "collapsed_sections": [],
   "name": "Activity3.02.ipynb",
   "provenance": []
  },
  "kernelspec": {
   "display_name": "tensorflow_ws",
   "language": "python",
   "name": "tensorflow_ws"
  },
  "language_info": {
   "codemirror_mode": {
    "name": "ipython",
    "version": 3
   },
   "file_extension": ".py",
   "mimetype": "text/x-python",
   "name": "python",
   "nbconvert_exporter": "python",
   "pygments_lexer": "ipython3",
   "version": "3.7.10"
  }
 },
 "nbformat": 4,
 "nbformat_minor": 1
}
