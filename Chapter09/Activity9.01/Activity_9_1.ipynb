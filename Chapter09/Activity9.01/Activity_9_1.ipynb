{
  "nbformat": 4,
  "nbformat_minor": 0,
  "metadata": {
    "colab": {
      "name": "Activity_9_1.ipynb",
      "provenance": [],
      "collapsed_sections": []
    },
    "kernelspec": {
      "name": "python3",
      "display_name": "Python 3"
    }
  },
  "cells": [
    {
      "cell_type": "markdown",
      "metadata": {
        "id": "DnspKB5nYt5P"
      },
      "source": [
        "# **Data Preprocessing**"
      ]
    },
    {
      "cell_type": "code",
      "metadata": {
        "id": "xu5qmCMzBPRh"
      },
      "source": [
        "import numpy as np\n",
        "import matplotlib.pyplot as plt\n",
        "import pandas as pd\n",
        "import datetime\n",
        "from sklearn.preprocessing import StandardScaler, MinMaxScaler"
      ],
      "execution_count": null,
      "outputs": []
    },
    {
      "cell_type": "code",
      "metadata": {
        "id": "mV7CUGFuHPdD"
      },
      "source": [
        "data = pd.read_csv(\"https://raw.githubusercontent.com/PacktWorkshops/The-TensorFlow-Workshop/master/Chapter09/Datasets/household_power_consumption_household_power_consumption.csv\")"
      ],
      "execution_count": null,
      "outputs": []
    },
    {
      "cell_type": "code",
      "metadata": {
        "id": "f1wsgjN1SE7W"
      },
      "source": [
        "data['Date'] = pd.to_datetime(data['Date'], format=\"%d/%m/%Y\")"
      ],
      "execution_count": null,
      "outputs": []
    },
    {
      "cell_type": "code",
      "metadata": {
        "id": "ri8Fl2D3RNEK"
      },
      "source": [
        "data['Datetime'] = data['Date'].dt.strftime('%Y-%m-%d') + ' ' +  data['Time']"
      ],
      "execution_count": null,
      "outputs": []
    },
    {
      "cell_type": "code",
      "metadata": {
        "id": "MEWWZQfiMwNu"
      },
      "source": [
        "data['Datetime'] = pd.to_datetime(data['Datetime'])"
      ],
      "execution_count": null,
      "outputs": []
    },
    {
      "cell_type": "code",
      "metadata": {
        "id": "buhjh25qQvRw"
      },
      "source": [
        "data = data.sort_values(['Datetime'])"
      ],
      "execution_count": null,
      "outputs": []
    },
    {
      "cell_type": "code",
      "metadata": {
        "id": "533l3aklOLHW"
      },
      "source": [
        "num_cols = ['Global_active_power', 'Global_reactive_power', 'Voltage', 'Global_intensity', 'Sub_metering_1', 'Sub_metering_2', 'Sub_metering_3']"
      ],
      "execution_count": null,
      "outputs": []
    },
    {
      "cell_type": "code",
      "metadata": {
        "id": "mYqLKO7xOV4f"
      },
      "source": [
        "for col in num_cols:\n",
        "  data[col] = pd.to_numeric(data[col], errors='coerce')"
      ],
      "execution_count": null,
      "outputs": []
    },
    {
      "cell_type": "code",
      "metadata": {
        "id": "p-PvOhEgGQTb",
        "colab": {
          "base_uri": "https://localhost:8080/",
          "height": 204
        },
        "outputId": "4559bca1-3284-40de-89e6-73a6f0f3a51f"
      },
      "source": [
        "data.head()"
      ],
      "execution_count": null,
      "outputs": [
        {
          "output_type": "execute_result",
          "data": {
            "text/html": [
              "<div>\n",
              "<style scoped>\n",
              "    .dataframe tbody tr th:only-of-type {\n",
              "        vertical-align: middle;\n",
              "    }\n",
              "\n",
              "    .dataframe tbody tr th {\n",
              "        vertical-align: top;\n",
              "    }\n",
              "\n",
              "    .dataframe thead th {\n",
              "        text-align: right;\n",
              "    }\n",
              "</style>\n",
              "<table border=\"1\" class=\"dataframe\">\n",
              "  <thead>\n",
              "    <tr style=\"text-align: right;\">\n",
              "      <th></th>\n",
              "      <th>Date</th>\n",
              "      <th>Time</th>\n",
              "      <th>Global_active_power</th>\n",
              "      <th>Global_reactive_power</th>\n",
              "      <th>Voltage</th>\n",
              "      <th>Global_intensity</th>\n",
              "      <th>Sub_metering_1</th>\n",
              "      <th>Sub_metering_2</th>\n",
              "      <th>Sub_metering_3</th>\n",
              "      <th>Datetime</th>\n",
              "    </tr>\n",
              "  </thead>\n",
              "  <tbody>\n",
              "    <tr>\n",
              "      <th>0</th>\n",
              "      <td>2007-01-01</td>\n",
              "      <td>0:00:00</td>\n",
              "      <td>2.580</td>\n",
              "      <td>0.136</td>\n",
              "      <td>241.97</td>\n",
              "      <td>10.6</td>\n",
              "      <td>0.0</td>\n",
              "      <td>0.0</td>\n",
              "      <td>0.0</td>\n",
              "      <td>2007-01-01 00:00:00</td>\n",
              "    </tr>\n",
              "    <tr>\n",
              "      <th>1</th>\n",
              "      <td>2007-01-01</td>\n",
              "      <td>0:01:00</td>\n",
              "      <td>2.552</td>\n",
              "      <td>0.100</td>\n",
              "      <td>241.75</td>\n",
              "      <td>10.4</td>\n",
              "      <td>0.0</td>\n",
              "      <td>0.0</td>\n",
              "      <td>0.0</td>\n",
              "      <td>2007-01-01 00:01:00</td>\n",
              "    </tr>\n",
              "    <tr>\n",
              "      <th>2</th>\n",
              "      <td>2007-01-01</td>\n",
              "      <td>0:02:00</td>\n",
              "      <td>2.550</td>\n",
              "      <td>0.100</td>\n",
              "      <td>241.64</td>\n",
              "      <td>10.4</td>\n",
              "      <td>0.0</td>\n",
              "      <td>0.0</td>\n",
              "      <td>0.0</td>\n",
              "      <td>2007-01-01 00:02:00</td>\n",
              "    </tr>\n",
              "    <tr>\n",
              "      <th>3</th>\n",
              "      <td>2007-01-01</td>\n",
              "      <td>0:03:00</td>\n",
              "      <td>2.550</td>\n",
              "      <td>0.100</td>\n",
              "      <td>241.71</td>\n",
              "      <td>10.4</td>\n",
              "      <td>0.0</td>\n",
              "      <td>0.0</td>\n",
              "      <td>0.0</td>\n",
              "      <td>2007-01-01 00:03:00</td>\n",
              "    </tr>\n",
              "    <tr>\n",
              "      <th>4</th>\n",
              "      <td>2007-01-01</td>\n",
              "      <td>0:04:00</td>\n",
              "      <td>2.554</td>\n",
              "      <td>0.100</td>\n",
              "      <td>241.98</td>\n",
              "      <td>10.4</td>\n",
              "      <td>0.0</td>\n",
              "      <td>0.0</td>\n",
              "      <td>0.0</td>\n",
              "      <td>2007-01-01 00:04:00</td>\n",
              "    </tr>\n",
              "  </tbody>\n",
              "</table>\n",
              "</div>"
            ],
            "text/plain": [
              "        Date     Time  ...  Sub_metering_3            Datetime\n",
              "0 2007-01-01  0:00:00  ...             0.0 2007-01-01 00:00:00\n",
              "1 2007-01-01  0:01:00  ...             0.0 2007-01-01 00:01:00\n",
              "2 2007-01-01  0:02:00  ...             0.0 2007-01-01 00:02:00\n",
              "3 2007-01-01  0:03:00  ...             0.0 2007-01-01 00:03:00\n",
              "4 2007-01-01  0:04:00  ...             0.0 2007-01-01 00:04:00\n",
              "\n",
              "[5 rows x 10 columns]"
            ]
          },
          "metadata": {},
          "execution_count": 102
        }
      ]
    },
    {
      "cell_type": "code",
      "metadata": {
        "id": "TPMChQpIGQQ1",
        "colab": {
          "base_uri": "https://localhost:8080/",
          "height": 204
        },
        "outputId": "62a61b63-3b68-4ecb-f122-dff14ff9fda5"
      },
      "source": [
        "data.tail()"
      ],
      "execution_count": null,
      "outputs": [
        {
          "output_type": "execute_result",
          "data": {
            "text/html": [
              "<div>\n",
              "<style scoped>\n",
              "    .dataframe tbody tr th:only-of-type {\n",
              "        vertical-align: middle;\n",
              "    }\n",
              "\n",
              "    .dataframe tbody tr th {\n",
              "        vertical-align: top;\n",
              "    }\n",
              "\n",
              "    .dataframe thead th {\n",
              "        text-align: right;\n",
              "    }\n",
              "</style>\n",
              "<table border=\"1\" class=\"dataframe\">\n",
              "  <thead>\n",
              "    <tr style=\"text-align: right;\">\n",
              "      <th></th>\n",
              "      <th>Date</th>\n",
              "      <th>Time</th>\n",
              "      <th>Global_active_power</th>\n",
              "      <th>Global_reactive_power</th>\n",
              "      <th>Voltage</th>\n",
              "      <th>Global_intensity</th>\n",
              "      <th>Sub_metering_1</th>\n",
              "      <th>Sub_metering_2</th>\n",
              "      <th>Sub_metering_3</th>\n",
              "      <th>Datetime</th>\n",
              "    </tr>\n",
              "  </thead>\n",
              "  <tbody>\n",
              "    <tr>\n",
              "      <th>260635</th>\n",
              "      <td>2007-06-30</td>\n",
              "      <td>23:55:00</td>\n",
              "      <td>2.880</td>\n",
              "      <td>0.360</td>\n",
              "      <td>239.01</td>\n",
              "      <td>12.0</td>\n",
              "      <td>0.0</td>\n",
              "      <td>0.0</td>\n",
              "      <td>18.0</td>\n",
              "      <td>2007-06-30 23:55:00</td>\n",
              "    </tr>\n",
              "    <tr>\n",
              "      <th>260636</th>\n",
              "      <td>2007-06-30</td>\n",
              "      <td>23:56:00</td>\n",
              "      <td>2.892</td>\n",
              "      <td>0.358</td>\n",
              "      <td>238.86</td>\n",
              "      <td>12.2</td>\n",
              "      <td>0.0</td>\n",
              "      <td>0.0</td>\n",
              "      <td>17.0</td>\n",
              "      <td>2007-06-30 23:56:00</td>\n",
              "    </tr>\n",
              "    <tr>\n",
              "      <th>260637</th>\n",
              "      <td>2007-06-30</td>\n",
              "      <td>23:57:00</td>\n",
              "      <td>2.882</td>\n",
              "      <td>0.280</td>\n",
              "      <td>239.05</td>\n",
              "      <td>12.0</td>\n",
              "      <td>0.0</td>\n",
              "      <td>0.0</td>\n",
              "      <td>18.0</td>\n",
              "      <td>2007-06-30 23:57:00</td>\n",
              "    </tr>\n",
              "    <tr>\n",
              "      <th>260638</th>\n",
              "      <td>2007-06-30</td>\n",
              "      <td>23:58:00</td>\n",
              "      <td>2.660</td>\n",
              "      <td>0.290</td>\n",
              "      <td>238.98</td>\n",
              "      <td>11.2</td>\n",
              "      <td>0.0</td>\n",
              "      <td>0.0</td>\n",
              "      <td>18.0</td>\n",
              "      <td>2007-06-30 23:58:00</td>\n",
              "    </tr>\n",
              "    <tr>\n",
              "      <th>260639</th>\n",
              "      <td>2007-06-30</td>\n",
              "      <td>23:59:00</td>\n",
              "      <td>2.548</td>\n",
              "      <td>0.354</td>\n",
              "      <td>239.25</td>\n",
              "      <td>10.6</td>\n",
              "      <td>0.0</td>\n",
              "      <td>1.0</td>\n",
              "      <td>17.0</td>\n",
              "      <td>2007-06-30 23:59:00</td>\n",
              "    </tr>\n",
              "  </tbody>\n",
              "</table>\n",
              "</div>"
            ],
            "text/plain": [
              "             Date      Time  ...  Sub_metering_3            Datetime\n",
              "260635 2007-06-30  23:55:00  ...            18.0 2007-06-30 23:55:00\n",
              "260636 2007-06-30  23:56:00  ...            17.0 2007-06-30 23:56:00\n",
              "260637 2007-06-30  23:57:00  ...            18.0 2007-06-30 23:57:00\n",
              "260638 2007-06-30  23:58:00  ...            18.0 2007-06-30 23:58:00\n",
              "260639 2007-06-30  23:59:00  ...            17.0 2007-06-30 23:59:00\n",
              "\n",
              "[5 rows x 10 columns]"
            ]
          },
          "metadata": {},
          "execution_count": 103
        }
      ]
    },
    {
      "cell_type": "code",
      "metadata": {
        "id": "kG_g_RXZO6Pa"
      },
      "source": [
        "for col in num_cols:\n",
        "  data[col].fillna(data[col].mean(), inplace=True)"
      ],
      "execution_count": null,
      "outputs": []
    },
    {
      "cell_type": "code",
      "metadata": {
        "id": "rvvjcZO2XSwh"
      },
      "source": [
        "df = data.drop(['Date', 'Time', 'Global_reactive_power', 'Datetime'], axis = 1)"
      ],
      "execution_count": null,
      "outputs": []
    },
    {
      "cell_type": "code",
      "metadata": {
        "colab": {
          "base_uri": "https://localhost:8080/"
        },
        "id": "IurYXPqOXSyx",
        "outputId": "e50247b0-f995-4d32-b963-351e3dad2ce7"
      },
      "source": [
        "scaler = MinMaxScaler()\n",
        "scaled_data = scaler.fit_transform(df)\n",
        "scaled_data"
      ],
      "execution_count": null,
      "outputs": [
        {
          "output_type": "execute_result",
          "data": {
            "text/plain": [
              "array([[0.23592747, 0.67445255, 0.22173913, 0.        , 0.        ,\n",
              "        0.        ],\n",
              "       [0.23328296, 0.66642336, 0.2173913 , 0.        , 0.        ,\n",
              "        0.        ],\n",
              "       [0.23309407, 0.66240876, 0.2173913 , 0.        , 0.        ,\n",
              "        0.        ],\n",
              "       ...,\n",
              "       [0.26445032, 0.56788321, 0.25217391, 0.        , 0.        ,\n",
              "        0.9       ],\n",
              "       [0.24348319, 0.56532847, 0.23478261, 0.        , 0.        ,\n",
              "        0.9       ],\n",
              "       [0.23290518, 0.57518248, 0.22173913, 0.        , 0.01282051,\n",
              "        0.85      ]])"
            ]
          },
          "metadata": {},
          "execution_count": 137
        }
      ]
    },
    {
      "cell_type": "code",
      "metadata": {
        "id": "tPk0BxUcXj97"
      },
      "source": [
        "X = []\n",
        "y = []"
      ],
      "execution_count": null,
      "outputs": []
    },
    {
      "cell_type": "code",
      "metadata": {
        "id": "oHM8ue8_XkAh"
      },
      "source": [
        "for i in range(60, scaled_data.shape[0]):\n",
        "  X.append(scaled_data[i-60:i])\n",
        "  y.append(scaled_data[i, 0])"
      ],
      "execution_count": null,
      "outputs": []
    },
    {
      "cell_type": "code",
      "metadata": {
        "id": "m4JjdTs3XkDI"
      },
      "source": [
        "X, y = np.array(X), np.array(y)"
      ],
      "execution_count": null,
      "outputs": []
    },
    {
      "cell_type": "code",
      "metadata": {
        "colab": {
          "base_uri": "https://localhost:8080/"
        },
        "id": "4bkM91AKXkFx",
        "outputId": "9fff3be1-4007-4429-c52d-660332a63910"
      },
      "source": [
        "X.shape, y.shape"
      ],
      "execution_count": null,
      "outputs": [
        {
          "output_type": "execute_result",
          "data": {
            "text/plain": [
              "((260580, 60, 6), (260580,))"
            ]
          },
          "metadata": {},
          "execution_count": 141
        }
      ]
    },
    {
      "cell_type": "code",
      "metadata": {
        "id": "f1jbWmoaXkIb"
      },
      "source": [
        "X_train = X[:217440]\n",
        "y_train = y[:217440]\n",
        "X_test = X[217440:]\n",
        "y_test = y[217440:]"
      ],
      "execution_count": null,
      "outputs": []
    },
    {
      "cell_type": "markdown",
      "metadata": {
        "id": "CLMA5EYVXD0c"
      },
      "source": [
        "# **Building LSTM**"
      ]
    },
    {
      "cell_type": "code",
      "metadata": {
        "id": "b7h5JXMzMJi-"
      },
      "source": [
        "from tensorflow.keras import Sequential\n",
        "from tensorflow.keras.layers import Dense, LSTM, Dropout"
      ],
      "execution_count": null,
      "outputs": []
    },
    {
      "cell_type": "code",
      "metadata": {
        "id": "qHlSKJ6gXseD"
      },
      "source": [
        "regressor = Sequential()\n",
        "\n",
        "regressor.add(LSTM(units= 20, activation = 'relu', return_sequences = True, input_shape = (X_train.shape[1], X_train.shape[2])))\n",
        "regressor.add(Dropout(0.5))\n",
        "\n",
        "regressor.add(LSTM(units= 40, activation = 'relu', return_sequences = True))\n",
        "regressor.add(Dropout(0.5))\n",
        "\n",
        "regressor.add(LSTM(units= 80, activation = 'relu'))\n",
        "regressor.add(Dropout(0.5))\n",
        "\n",
        "regressor.add(Dense(units = 1))  # Dense output layer"
      ],
      "execution_count": null,
      "outputs": []
    },
    {
      "cell_type": "code",
      "metadata": {
        "id": "W1VBleFqY6tx",
        "colab": {
          "base_uri": "https://localhost:8080/"
        },
        "outputId": "d90ebbc8-16a5-4f1e-f48a-b82ca872009b"
      },
      "source": [
        "regressor.summary()"
      ],
      "execution_count": null,
      "outputs": [
        {
          "output_type": "stream",
          "name": "stdout",
          "text": [
            "Model: \"sequential_7\"\n",
            "_________________________________________________________________\n",
            "Layer (type)                 Output Shape              Param #   \n",
            "=================================================================\n",
            "lstm_26 (LSTM)               (None, 60, 20)            2160      \n",
            "_________________________________________________________________\n",
            "dropout_26 (Dropout)         (None, 60, 20)            0         \n",
            "_________________________________________________________________\n",
            "lstm_27 (LSTM)               (None, 60, 40)            9760      \n",
            "_________________________________________________________________\n",
            "dropout_27 (Dropout)         (None, 60, 40)            0         \n",
            "_________________________________________________________________\n",
            "lstm_28 (LSTM)               (None, 80)                38720     \n",
            "_________________________________________________________________\n",
            "dropout_28 (Dropout)         (None, 80)                0         \n",
            "_________________________________________________________________\n",
            "dense_7 (Dense)              (None, 1)                 81        \n",
            "=================================================================\n",
            "Total params: 50,721\n",
            "Trainable params: 50,721\n",
            "Non-trainable params: 0\n",
            "_________________________________________________________________\n"
          ]
        }
      ]
    },
    {
      "cell_type": "code",
      "metadata": {
        "id": "gW6C3oNuaf42"
      },
      "source": [
        "regressor.compile(optimizer='adam', loss = 'mean_squared_error')"
      ],
      "execution_count": null,
      "outputs": []
    },
    {
      "cell_type": "code",
      "metadata": {
        "colab": {
          "base_uri": "https://localhost:8080/"
        },
        "id": "1qyWdMCqQOnm",
        "outputId": "f9fa0b38-76e5-425c-c349-9f69c84f54dc"
      },
      "source": [
        "regressor.fit(X_train, y_train, epochs=2, batch_size=32)"
      ],
      "execution_count": null,
      "outputs": [
        {
          "output_type": "stream",
          "name": "stdout",
          "text": [
            "Epoch 1/2\n",
            "6795/6795 [==============================] - 508s 74ms/step - loss: 0.0024\n",
            "Epoch 2/2\n",
            "6795/6795 [==============================] - 509s 75ms/step - loss: 0.0017\n"
          ]
        },
        {
          "output_type": "execute_result",
          "data": {
            "text/plain": [
              "<keras.callbacks.History at 0x7f46e582a150>"
            ]
          },
          "metadata": {},
          "execution_count": 171
        }
      ]
    },
    {
      "cell_type": "code",
      "metadata": {
        "id": "pxdpKEQ8fbQ5"
      },
      "source": [
        "y_pred = regressor.predict(X_test)"
      ],
      "execution_count": null,
      "outputs": []
    },
    {
      "cell_type": "markdown",
      "metadata": {
        "id": "_Z1ngbVrY5uJ"
      },
      "source": [
        "# **Visualization**"
      ]
    },
    {
      "cell_type": "code",
      "metadata": {
        "id": "GYIBqDiSgvwE",
        "colab": {
          "base_uri": "https://localhost:8080/",
          "height": 513
        },
        "outputId": "f4f9a313-0f46-4615-f22d-3357d7a965aa"
      },
      "source": [
        "plt.figure(figsize=(15,8))\n",
        "plt.plot(y_test[-60:], color = 'black', label = \"Real Power Consumption\")\n",
        "plt.plot(y_pred[-60:], color = 'grey', label = 'Predicted Power Consumption')\n",
        "plt.title('Power Consumption Prediction')\n",
        "plt.xlabel('time')\n",
        "plt.ylabel('Power Consumption')\n",
        "plt.legend()\n",
        "plt.show()"
      ],
      "execution_count": null,
      "outputs": [
        {
          "output_type": "display_data",
          "data": {
            "image/png": "[encoded data removed]",
            "text/plain": [
              "<Figure size 1080x576 with 1 Axes>"
            ]
          },
          "metadata": {
            "needs_background": "light"
          }
        }
      ]
    }
  ]
}