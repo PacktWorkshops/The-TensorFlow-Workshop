{
 "cells": [
  {
   "cell_type": "markdown",
   "metadata": {
    "id": "DnspKB5nYt5P"
   },
   "source": [
    "# Activity 9.01: Building an RNN with Multiple LSTM Layers to predict power consumption"
   ]
  },
  {
   "cell_type": "code",
   "execution_count": 1,
   "metadata": {
    "id": "xu5qmCMzBPRh"
   },
   "outputs": [],
   "source": [
    "import numpy as np\n",
    "import matplotlib.pyplot as plt\n",
    "import pandas as pd\n",
    "import datetime\n",
    "from sklearn.preprocessing import StandardScaler, MinMaxScaler"
   ]
  },
  {
   "cell_type": "code",
   "execution_count": 3,
   "metadata": {
    "id": "mV7CUGFuHPdD"
   },
   "outputs": [],
   "source": [
    "data = pd.read_csv(\"../Datasets/household_power_consumption.csv\")"
   ]
  },
  {
   "cell_type": "code",
   "execution_count": 4,
   "metadata": {
    "id": "f1wsgjN1SE7W"
   },
   "outputs": [],
   "source": [
    "data['Date'] = pd.to_datetime(data['Date'], format=\"%d/%m/%Y\")"
   ]
  },
  {
   "cell_type": "code",
   "execution_count": 5,
   "metadata": {
    "id": "ri8Fl2D3RNEK"
   },
   "outputs": [],
   "source": [
    "data['Datetime'] = data['Date'].dt.strftime('%Y-%m-%d') + ' '\\\n",
    "                   +  data['Time']"
   ]
  },
  {
   "cell_type": "code",
   "execution_count": 6,
   "metadata": {
    "id": "MEWWZQfiMwNu"
   },
   "outputs": [],
   "source": [
    "data['Datetime'] = pd.to_datetime(data['Datetime'])"
   ]
  },
  {
   "cell_type": "code",
   "execution_count": 7,
   "metadata": {
    "id": "buhjh25qQvRw"
   },
   "outputs": [],
   "source": [
    "data = data.sort_values(['Datetime'])"
   ]
  },
  {
   "cell_type": "code",
   "execution_count": 8,
   "metadata": {
    "id": "533l3aklOLHW"
   },
   "outputs": [],
   "source": [
    "num_cols = ['Global_active_power', 'Global_reactive_power', \\\n",
    "            'Voltage', 'Global_intensity', 'Sub_metering_1', \\\n",
    "            'Sub_metering_2', 'Sub_metering_3']"
   ]
  },
  {
   "cell_type": "code",
   "execution_count": 9,
   "metadata": {
    "id": "mYqLKO7xOV4f"
   },
   "outputs": [],
   "source": [
    "for col in num_cols:\n",
    "    data[col] = pd.to_numeric(data[col], errors='coerce')"
   ]
  },
  {
   "cell_type": "code",
   "execution_count": 10,
   "metadata": {
    "colab": {
     "base_uri": "https://localhost:8080/",
     "height": 204
    },
    "id": "p-PvOhEgGQTb",
    "outputId": "4559bca1-3284-40de-89e6-73a6f0f3a51f"
   },
   "outputs": [
    {
     "data": {
      "text/html": [
       "<div>\n",
       "<style scoped>\n",
       "    .dataframe tbody tr th:only-of-type {\n",
       "        vertical-align: middle;\n",
       "    }\n",
       "\n",
       "    .dataframe tbody tr th {\n",
       "        vertical-align: top;\n",
       "    }\n",
       "\n",
       "    .dataframe thead th {\n",
       "        text-align: right;\n",
       "    }\n",
       "</style>\n",
       "<table border=\"1\" class=\"dataframe\">\n",
       "  <thead>\n",
       "    <tr style=\"text-align: right;\">\n",
       "      <th></th>\n",
       "      <th>Date</th>\n",
       "      <th>Time</th>\n",
       "      <th>Global_active_power</th>\n",
       "      <th>Global_reactive_power</th>\n",
       "      <th>Voltage</th>\n",
       "      <th>Global_intensity</th>\n",
       "      <th>Sub_metering_1</th>\n",
       "      <th>Sub_metering_2</th>\n",
       "      <th>Sub_metering_3</th>\n",
       "      <th>Datetime</th>\n",
       "    </tr>\n",
       "  </thead>\n",
       "  <tbody>\n",
       "    <tr>\n",
       "      <td>0</td>\n",
       "      <td>2007-01-01</td>\n",
       "      <td>0:00:00</td>\n",
       "      <td>2.580</td>\n",
       "      <td>0.136</td>\n",
       "      <td>241.97</td>\n",
       "      <td>10.6</td>\n",
       "      <td>0.0</td>\n",
       "      <td>0.0</td>\n",
       "      <td>0.0</td>\n",
       "      <td>2007-01-01 00:00:00</td>\n",
       "    </tr>\n",
       "    <tr>\n",
       "      <td>1</td>\n",
       "      <td>2007-01-01</td>\n",
       "      <td>0:01:00</td>\n",
       "      <td>2.552</td>\n",
       "      <td>0.100</td>\n",
       "      <td>241.75</td>\n",
       "      <td>10.4</td>\n",
       "      <td>0.0</td>\n",
       "      <td>0.0</td>\n",
       "      <td>0.0</td>\n",
       "      <td>2007-01-01 00:01:00</td>\n",
       "    </tr>\n",
       "    <tr>\n",
       "      <td>2</td>\n",
       "      <td>2007-01-01</td>\n",
       "      <td>0:02:00</td>\n",
       "      <td>2.550</td>\n",
       "      <td>0.100</td>\n",
       "      <td>241.64</td>\n",
       "      <td>10.4</td>\n",
       "      <td>0.0</td>\n",
       "      <td>0.0</td>\n",
       "      <td>0.0</td>\n",
       "      <td>2007-01-01 00:02:00</td>\n",
       "    </tr>\n",
       "    <tr>\n",
       "      <td>3</td>\n",
       "      <td>2007-01-01</td>\n",
       "      <td>0:03:00</td>\n",
       "      <td>2.550</td>\n",
       "      <td>0.100</td>\n",
       "      <td>241.71</td>\n",
       "      <td>10.4</td>\n",
       "      <td>0.0</td>\n",
       "      <td>0.0</td>\n",
       "      <td>0.0</td>\n",
       "      <td>2007-01-01 00:03:00</td>\n",
       "    </tr>\n",
       "    <tr>\n",
       "      <td>4</td>\n",
       "      <td>2007-01-01</td>\n",
       "      <td>0:04:00</td>\n",
       "      <td>2.554</td>\n",
       "      <td>0.100</td>\n",
       "      <td>241.98</td>\n",
       "      <td>10.4</td>\n",
       "      <td>0.0</td>\n",
       "      <td>0.0</td>\n",
       "      <td>0.0</td>\n",
       "      <td>2007-01-01 00:04:00</td>\n",
       "    </tr>\n",
       "  </tbody>\n",
       "</table>\n",
       "</div>"
      ],
      "text/plain": [
       "        Date     Time  Global_active_power  Global_reactive_power  Voltage  \\\n",
       "0 2007-01-01  0:00:00                2.580                  0.136   241.97   \n",
       "1 2007-01-01  0:01:00                2.552                  0.100   241.75   \n",
       "2 2007-01-01  0:02:00                2.550                  0.100   241.64   \n",
       "3 2007-01-01  0:03:00                2.550                  0.100   241.71   \n",
       "4 2007-01-01  0:04:00                2.554                  0.100   241.98   \n",
       "\n",
       "   Global_intensity  Sub_metering_1  Sub_metering_2  Sub_metering_3  \\\n",
       "0              10.6             0.0             0.0             0.0   \n",
       "1              10.4             0.0             0.0             0.0   \n",
       "2              10.4             0.0             0.0             0.0   \n",
       "3              10.4             0.0             0.0             0.0   \n",
       "4              10.4             0.0             0.0             0.0   \n",
       "\n",
       "             Datetime  \n",
       "0 2007-01-01 00:00:00  \n",
       "1 2007-01-01 00:01:00  \n",
       "2 2007-01-01 00:02:00  \n",
       "3 2007-01-01 00:03:00  \n",
       "4 2007-01-01 00:04:00  "
      ]
     },
     "execution_count": 10,
     "metadata": {},
     "output_type": "execute_result"
    }
   ],
   "source": [
    "data.head()"
   ]
  },
  {
   "cell_type": "code",
   "execution_count": 11,
   "metadata": {
    "colab": {
     "base_uri": "https://localhost:8080/",
     "height": 204
    },
    "id": "TPMChQpIGQQ1",
    "outputId": "62a61b63-3b68-4ecb-f122-dff14ff9fda5"
   },
   "outputs": [
    {
     "data": {
      "text/html": [
       "<div>\n",
       "<style scoped>\n",
       "    .dataframe tbody tr th:only-of-type {\n",
       "        vertical-align: middle;\n",
       "    }\n",
       "\n",
       "    .dataframe tbody tr th {\n",
       "        vertical-align: top;\n",
       "    }\n",
       "\n",
       "    .dataframe thead th {\n",
       "        text-align: right;\n",
       "    }\n",
       "</style>\n",
       "<table border=\"1\" class=\"dataframe\">\n",
       "  <thead>\n",
       "    <tr style=\"text-align: right;\">\n",
       "      <th></th>\n",
       "      <th>Date</th>\n",
       "      <th>Time</th>\n",
       "      <th>Global_active_power</th>\n",
       "      <th>Global_reactive_power</th>\n",
       "      <th>Voltage</th>\n",
       "      <th>Global_intensity</th>\n",
       "      <th>Sub_metering_1</th>\n",
       "      <th>Sub_metering_2</th>\n",
       "      <th>Sub_metering_3</th>\n",
       "      <th>Datetime</th>\n",
       "    </tr>\n",
       "  </thead>\n",
       "  <tbody>\n",
       "    <tr>\n",
       "      <td>260635</td>\n",
       "      <td>2007-06-30</td>\n",
       "      <td>23:55:00</td>\n",
       "      <td>2.880</td>\n",
       "      <td>0.360</td>\n",
       "      <td>239.01</td>\n",
       "      <td>12.0</td>\n",
       "      <td>0.0</td>\n",
       "      <td>0.0</td>\n",
       "      <td>18.0</td>\n",
       "      <td>2007-06-30 23:55:00</td>\n",
       "    </tr>\n",
       "    <tr>\n",
       "      <td>260636</td>\n",
       "      <td>2007-06-30</td>\n",
       "      <td>23:56:00</td>\n",
       "      <td>2.892</td>\n",
       "      <td>0.358</td>\n",
       "      <td>238.86</td>\n",
       "      <td>12.2</td>\n",
       "      <td>0.0</td>\n",
       "      <td>0.0</td>\n",
       "      <td>17.0</td>\n",
       "      <td>2007-06-30 23:56:00</td>\n",
       "    </tr>\n",
       "    <tr>\n",
       "      <td>260637</td>\n",
       "      <td>2007-06-30</td>\n",
       "      <td>23:57:00</td>\n",
       "      <td>2.882</td>\n",
       "      <td>0.280</td>\n",
       "      <td>239.05</td>\n",
       "      <td>12.0</td>\n",
       "      <td>0.0</td>\n",
       "      <td>0.0</td>\n",
       "      <td>18.0</td>\n",
       "      <td>2007-06-30 23:57:00</td>\n",
       "    </tr>\n",
       "    <tr>\n",
       "      <td>260638</td>\n",
       "      <td>2007-06-30</td>\n",
       "      <td>23:58:00</td>\n",
       "      <td>2.660</td>\n",
       "      <td>0.290</td>\n",
       "      <td>238.98</td>\n",
       "      <td>11.2</td>\n",
       "      <td>0.0</td>\n",
       "      <td>0.0</td>\n",
       "      <td>18.0</td>\n",
       "      <td>2007-06-30 23:58:00</td>\n",
       "    </tr>\n",
       "    <tr>\n",
       "      <td>260639</td>\n",
       "      <td>2007-06-30</td>\n",
       "      <td>23:59:00</td>\n",
       "      <td>2.548</td>\n",
       "      <td>0.354</td>\n",
       "      <td>239.25</td>\n",
       "      <td>10.6</td>\n",
       "      <td>0.0</td>\n",
       "      <td>1.0</td>\n",
       "      <td>17.0</td>\n",
       "      <td>2007-06-30 23:59:00</td>\n",
       "    </tr>\n",
       "  </tbody>\n",
       "</table>\n",
       "</div>"
      ],
      "text/plain": [
       "             Date      Time  Global_active_power  Global_reactive_power  \\\n",
       "260635 2007-06-30  23:55:00                2.880                  0.360   \n",
       "260636 2007-06-30  23:56:00                2.892                  0.358   \n",
       "260637 2007-06-30  23:57:00                2.882                  0.280   \n",
       "260638 2007-06-30  23:58:00                2.660                  0.290   \n",
       "260639 2007-06-30  23:59:00                2.548                  0.354   \n",
       "\n",
       "        Voltage  Global_intensity  Sub_metering_1  Sub_metering_2  \\\n",
       "260635   239.01              12.0             0.0             0.0   \n",
       "260636   238.86              12.2             0.0             0.0   \n",
       "260637   239.05              12.0             0.0             0.0   \n",
       "260638   238.98              11.2             0.0             0.0   \n",
       "260639   239.25              10.6             0.0             1.0   \n",
       "\n",
       "        Sub_metering_3            Datetime  \n",
       "260635            18.0 2007-06-30 23:55:00  \n",
       "260636            17.0 2007-06-30 23:56:00  \n",
       "260637            18.0 2007-06-30 23:57:00  \n",
       "260638            18.0 2007-06-30 23:58:00  \n",
       "260639            17.0 2007-06-30 23:59:00  "
      ]
     },
     "execution_count": 11,
     "metadata": {},
     "output_type": "execute_result"
    }
   ],
   "source": [
    "data.tail()"
   ]
  },
  {
   "cell_type": "code",
   "execution_count": 12,
   "metadata": {
    "id": "kG_g_RXZO6Pa"
   },
   "outputs": [],
   "source": [
    "for col in num_cols:\n",
    "    data[col].fillna(data[col].mean(), inplace=True)"
   ]
  },
  {
   "cell_type": "code",
   "execution_count": 13,
   "metadata": {
    "id": "rvvjcZO2XSwh"
   },
   "outputs": [],
   "source": [
    "df = data.drop(['Date', 'Time', 'Global_reactive_power', 'Datetime'], \\\n",
    "               axis = 1)"
   ]
  },
  {
   "cell_type": "code",
   "execution_count": 14,
   "metadata": {
    "colab": {
     "base_uri": "https://localhost:8080/"
    },
    "id": "IurYXPqOXSyx",
    "outputId": "e50247b0-f995-4d32-b963-351e3dad2ce7"
   },
   "outputs": [
    {
     "data": {
      "text/plain": [
       "array([[0.23592747, 0.67445255, 0.22173913, 0.        , 0.        ,\n",
       "        0.        ],\n",
       "       [0.23328296, 0.66642336, 0.2173913 , 0.        , 0.        ,\n",
       "        0.        ],\n",
       "       [0.23309407, 0.66240876, 0.2173913 , 0.        , 0.        ,\n",
       "        0.        ],\n",
       "       ...,\n",
       "       [0.26445032, 0.56788321, 0.25217391, 0.        , 0.        ,\n",
       "        0.9       ],\n",
       "       [0.24348319, 0.56532847, 0.23478261, 0.        , 0.        ,\n",
       "        0.9       ],\n",
       "       [0.23290518, 0.57518248, 0.22173913, 0.        , 0.01282051,\n",
       "        0.85      ]])"
      ]
     },
     "execution_count": 14,
     "metadata": {},
     "output_type": "execute_result"
    }
   ],
   "source": [
    "scaler = MinMaxScaler()\n",
    "scaled_data = scaler.fit_transform(df)\n",
    "scaled_data"
   ]
  },
  {
   "cell_type": "code",
   "execution_count": 15,
   "metadata": {
    "id": "tPk0BxUcXj97"
   },
   "outputs": [],
   "source": [
    "X = []\n",
    "y = []"
   ]
  },
  {
   "cell_type": "code",
   "execution_count": 16,
   "metadata": {
    "id": "oHM8ue8_XkAh"
   },
   "outputs": [],
   "source": [
    "for i in range(60, scaled_data.shape[0]):\n",
    "    X.append(scaled_data[i-60:i])\n",
    "    y.append(scaled_data[i, 0])"
   ]
  },
  {
   "cell_type": "code",
   "execution_count": 17,
   "metadata": {
    "id": "m4JjdTs3XkDI"
   },
   "outputs": [],
   "source": [
    "X, y = np.array(X), np.array(y)"
   ]
  },
  {
   "cell_type": "code",
   "execution_count": 18,
   "metadata": {
    "id": "f1jbWmoaXkIb"
   },
   "outputs": [],
   "source": [
    "X_train = X[:217440]\n",
    "y_train = y[:217440]\n",
    "X_test = X[217440:]\n",
    "y_test = y[217440:]"
   ]
  },
  {
   "cell_type": "code",
   "execution_count": 19,
   "metadata": {
    "id": "b7h5JXMzMJi-"
   },
   "outputs": [],
   "source": [
    "from tensorflow.keras import Sequential\n",
    "from tensorflow.keras.layers import Dense, LSTM, Dropout"
   ]
  },
  {
   "cell_type": "code",
   "execution_count": 20,
   "metadata": {
    "id": "qHlSKJ6gXseD"
   },
   "outputs": [],
   "source": [
    "regressor = Sequential()\n",
    "\n",
    "regressor.add(LSTM(units= 20, activation = 'relu', \\\n",
    "                   return_sequences = True, \\\n",
    "                   input_shape = (X_train.shape[1], X_train.shape[2])))\n",
    "regressor.add(Dropout(0.5))\n",
    "\n",
    "regressor.add(LSTM(units= 40, activation = 'relu', \\\n",
    "                   return_sequences = True))\n",
    "regressor.add(Dropout(0.5))\n",
    "\n",
    "regressor.add(LSTM(units= 80, activation = 'relu'))\n",
    "regressor.add(Dropout(0.5))\n",
    "\n",
    "regressor.add(Dense(units = 1))  # Dense output layer"
   ]
  },
  {
   "cell_type": "code",
   "execution_count": 21,
   "metadata": {
    "colab": {
     "base_uri": "https://localhost:8080/"
    },
    "id": "W1VBleFqY6tx",
    "outputId": "d90ebbc8-16a5-4f1e-f48a-b82ca872009b"
   },
   "outputs": [
    {
     "name": "stdout",
     "output_type": "stream",
     "text": [
      "Model: \"sequential\"\n",
      "_________________________________________________________________\n",
      "Layer (type)                 Output Shape              Param #   \n",
      "=================================================================\n",
      "lstm (LSTM)                  (None, 60, 20)            2160      \n",
      "_________________________________________________________________\n",
      "dropout (Dropout)            (None, 60, 20)            0         \n",
      "_________________________________________________________________\n",
      "lstm_1 (LSTM)                (None, 60, 40)            9760      \n",
      "_________________________________________________________________\n",
      "dropout_1 (Dropout)          (None, 60, 40)            0         \n",
      "_________________________________________________________________\n",
      "lstm_2 (LSTM)                (None, 80)                38720     \n",
      "_________________________________________________________________\n",
      "dropout_2 (Dropout)          (None, 80)                0         \n",
      "_________________________________________________________________\n",
      "dense (Dense)                (None, 1)                 81        \n",
      "=================================================================\n",
      "Total params: 50,721\n",
      "Trainable params: 50,721\n",
      "Non-trainable params: 0\n",
      "_________________________________________________________________\n"
     ]
    }
   ],
   "source": [
    "regressor.summary()"
   ]
  },
  {
   "cell_type": "code",
   "execution_count": 22,
   "metadata": {
    "id": "gW6C3oNuaf42"
   },
   "outputs": [],
   "source": [
    "regressor.compile(optimizer='adam', loss = 'mean_squared_error')"
   ]
  },
  {
   "cell_type": "code",
   "execution_count": 23,
   "metadata": {
    "colab": {
     "base_uri": "https://localhost:8080/"
    },
    "id": "1qyWdMCqQOnm",
    "outputId": "f9fa0b38-76e5-425c-c349-9f69c84f54dc"
   },
   "outputs": [
    {
     "name": "stdout",
     "output_type": "stream",
     "text": [
      "Epoch 1/2\n",
      "6795/6795 [==============================] - 394s 58ms/step - loss: 0.0025\n",
      "Epoch 2/2\n",
      "6795/6795 [==============================] - 399s 59ms/step - loss: 0.0018\n"
     ]
    },
    {
     "data": {
      "text/plain": [
       "<keras.callbacks.History at 0x262f3a05908>"
      ]
     },
     "execution_count": 23,
     "metadata": {},
     "output_type": "execute_result"
    }
   ],
   "source": [
    "regressor.fit(X_train, y_train, epochs=2, batch_size=32)"
   ]
  },
  {
   "cell_type": "code",
   "execution_count": 24,
   "metadata": {
    "id": "pxdpKEQ8fbQ5"
   },
   "outputs": [],
   "source": [
    "y_pred = regressor.predict(X_test)"
   ]
  },
  {
   "cell_type": "code",
   "execution_count": 25,
   "metadata": {
    "colab": {
     "base_uri": "https://localhost:8080/",
     "height": 513
    },
    "id": "GYIBqDiSgvwE",
    "outputId": "f4f9a313-0f46-4615-f22d-3357d7a965aa"
   },
   "outputs": [
    {
     "data": {
      "image/png": "[encoded data removed]",
      "text/plain": [
       "<Figure size 1080x576 with 1 Axes>"
      ]
     },
     "metadata": {
      "needs_background": "light"
     },
     "output_type": "display_data"
    }
   ],
   "source": [
    "plt.figure(figsize=(15,8))\n",
    "plt.plot(y_test[-60:], color = 'black', label = \"Real Power Consumption\")\n",
    "plt.plot(y_pred[-60:], color = 'gray', label = 'Predicted Power Consumption')\n",
    "plt.title('Power Consumption Prediction')\n",
    "plt.xlabel('time')\n",
    "plt.ylabel('Power Consumption')\n",
    "plt.legend()\n",
    "plt.savefig(\"B16341_09_44.png\", dpi=200)\n",
    "plt.show()"
   ]
  },
  {
   "cell_type": "code",
   "execution_count": null,
   "metadata": {},
   "outputs": [],
   "source": []
  }
 ],
 "metadata": {
  "colab": {
   "collapsed_sections": [],
   "name": "Activity_9_1.ipynb",
   "provenance": []
  },
  "kernelspec": {
   "display_name": "tensorflow",
   "language": "python",
   "name": "tensorflow"
  },
  "language_info": {
   "codemirror_mode": {
    "name": "ipython",
    "version": 3
   },
   "file_extension": ".py",
   "mimetype": "text/x-python",
   "name": "python",
   "nbconvert_exporter": "python",
   "pygments_lexer": "ipython3",
   "version": "3.7.10"
  }
 },
 "nbformat": 4,
 "nbformat_minor": 1
}
