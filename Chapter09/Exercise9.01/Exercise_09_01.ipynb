{
 "cells": [
  {
   "cell_type": "markdown",
   "metadata": {
    "id": "ens7NXaIBo5B"
   },
   "source": [
    "# Exercise 9.01: Training an ANN for Sequential Data - Nvidia Stock Prediction"
   ]
  },
  {
   "cell_type": "code",
   "execution_count": 1,
   "metadata": {
    "executionInfo": {
     "elapsed": 961,
     "status": "ok",
     "timestamp": 1628910400840,
     "user": {
      "displayName": "Anthony So",
      "photoUrl": "https://lh3.googleusercontent.com/a-/AOh14GiYepcJQjaVrQ1i01LEROgsJ738vi03JrR51Ryb3w=s64",
      "userId": "11809607246124237079"
     },
     "user_tz": -600
    },
    "id": "xu5qmCMzBPRh"
   },
   "outputs": [],
   "source": [
    "import numpy as np\n",
    "import matplotlib.pyplot as plt\n",
    "import pandas as pd\n",
    "from sklearn.preprocessing import StandardScaler, MinMaxScaler"
   ]
  },
  {
   "cell_type": "code",
   "execution_count": 2,
   "metadata": {
    "executionInfo": {
     "elapsed": 1472,
     "status": "ok",
     "timestamp": 1628910402309,
     "user": {
      "displayName": "Anthony So",
      "photoUrl": "https://lh3.googleusercontent.com/a-/AOh14GiYepcJQjaVrQ1i01LEROgsJ738vi03JrR51Ryb3w=s64",
      "userId": "11809607246124237079"
     },
     "user_tz": -600
    },
    "id": "mV7CUGFuHPdD"
   },
   "outputs": [],
   "source": [
    "import io\n",
    "data = pd.read_csv(\"NVDA.csv\")"
   ]
  },
  {
   "cell_type": "code",
   "execution_count": 3,
   "metadata": {
    "colab": {
     "base_uri": "https://localhost:8080/",
     "height": 204
    },
    "executionInfo": {
     "elapsed": 40,
     "status": "ok",
     "timestamp": 1628910402310,
     "user": {
      "displayName": "Anthony So",
      "photoUrl": "https://lh3.googleusercontent.com/a-/AOh14GiYepcJQjaVrQ1i01LEROgsJ738vi03JrR51Ryb3w=s64",
      "userId": "11809607246124237079"
     },
     "user_tz": -600
    },
    "id": "p-PvOhEgGQTb",
    "outputId": "31e5e7bd-d6fb-4530-9bc6-314d6876bdbe"
   },
   "outputs": [
    {
     "data": {
      "text/html": [
       "<div>\n",
       "<style scoped>\n",
       "    .dataframe tbody tr th:only-of-type {\n",
       "        vertical-align: middle;\n",
       "    }\n",
       "\n",
       "    .dataframe tbody tr th {\n",
       "        vertical-align: top;\n",
       "    }\n",
       "\n",
       "    .dataframe thead th {\n",
       "        text-align: right;\n",
       "    }\n",
       "</style>\n",
       "<table border=\"1\" class=\"dataframe\">\n",
       "  <thead>\n",
       "    <tr style=\"text-align: right;\">\n",
       "      <th></th>\n",
       "      <th>Date</th>\n",
       "      <th>Open</th>\n",
       "      <th>High</th>\n",
       "      <th>Low</th>\n",
       "      <th>Close</th>\n",
       "      <th>Adj Close</th>\n",
       "      <th>Volume</th>\n",
       "    </tr>\n",
       "  </thead>\n",
       "  <tbody>\n",
       "    <tr>\n",
       "      <td>0</td>\n",
       "      <td>2015-07-22</td>\n",
       "      <td>19.650000</td>\n",
       "      <td>19.650000</td>\n",
       "      <td>19.17</td>\n",
       "      <td>19.410000</td>\n",
       "      <td>18.851749</td>\n",
       "      <td>8911800</td>\n",
       "    </tr>\n",
       "    <tr>\n",
       "      <td>1</td>\n",
       "      <td>2015-07-23</td>\n",
       "      <td>19.450001</td>\n",
       "      <td>19.940001</td>\n",
       "      <td>19.41</td>\n",
       "      <td>19.650000</td>\n",
       "      <td>19.084845</td>\n",
       "      <td>4247900</td>\n",
       "    </tr>\n",
       "    <tr>\n",
       "      <td>2</td>\n",
       "      <td>2015-07-24</td>\n",
       "      <td>19.790001</td>\n",
       "      <td>19.809999</td>\n",
       "      <td>19.34</td>\n",
       "      <td>19.420000</td>\n",
       "      <td>18.861464</td>\n",
       "      <td>4721100</td>\n",
       "    </tr>\n",
       "    <tr>\n",
       "      <td>3</td>\n",
       "      <td>2015-07-27</td>\n",
       "      <td>19.250000</td>\n",
       "      <td>19.530001</td>\n",
       "      <td>19.09</td>\n",
       "      <td>19.309999</td>\n",
       "      <td>18.754622</td>\n",
       "      <td>4810500</td>\n",
       "    </tr>\n",
       "    <tr>\n",
       "      <td>4</td>\n",
       "      <td>2015-07-28</td>\n",
       "      <td>19.360001</td>\n",
       "      <td>19.860001</td>\n",
       "      <td>19.16</td>\n",
       "      <td>19.730000</td>\n",
       "      <td>19.162542</td>\n",
       "      <td>4957700</td>\n",
       "    </tr>\n",
       "  </tbody>\n",
       "</table>\n",
       "</div>"
      ],
      "text/plain": [
       "         Date       Open       High    Low      Close  Adj Close   Volume\n",
       "0  2015-07-22  19.650000  19.650000  19.17  19.410000  18.851749  8911800\n",
       "1  2015-07-23  19.450001  19.940001  19.41  19.650000  19.084845  4247900\n",
       "2  2015-07-24  19.790001  19.809999  19.34  19.420000  18.861464  4721100\n",
       "3  2015-07-27  19.250000  19.530001  19.09  19.309999  18.754622  4810500\n",
       "4  2015-07-28  19.360001  19.860001  19.16  19.730000  19.162542  4957700"
      ]
     },
     "execution_count": 3,
     "metadata": {},
     "output_type": "execute_result"
    }
   ],
   "source": [
    "data.head()"
   ]
  },
  {
   "cell_type": "code",
   "execution_count": 4,
   "metadata": {
    "colab": {
     "base_uri": "https://localhost:8080/",
     "height": 204
    },
    "executionInfo": {
     "elapsed": 38,
     "status": "ok",
     "timestamp": 1628910402311,
     "user": {
      "displayName": "Anthony So",
      "photoUrl": "https://lh3.googleusercontent.com/a-/AOh14GiYepcJQjaVrQ1i01LEROgsJ738vi03JrR51Ryb3w=s64",
      "userId": "11809607246124237079"
     },
     "user_tz": -600
    },
    "id": "TPMChQpIGQQ1",
    "outputId": "38547ba4-855e-4c4f-affc-f9803e408c46"
   },
   "outputs": [
    {
     "data": {
      "text/html": [
       "<div>\n",
       "<style scoped>\n",
       "    .dataframe tbody tr th:only-of-type {\n",
       "        vertical-align: middle;\n",
       "    }\n",
       "\n",
       "    .dataframe tbody tr th {\n",
       "        vertical-align: top;\n",
       "    }\n",
       "\n",
       "    .dataframe thead th {\n",
       "        text-align: right;\n",
       "    }\n",
       "</style>\n",
       "<table border=\"1\" class=\"dataframe\">\n",
       "  <thead>\n",
       "    <tr style=\"text-align: right;\">\n",
       "      <th></th>\n",
       "      <th>Date</th>\n",
       "      <th>Open</th>\n",
       "      <th>High</th>\n",
       "      <th>Low</th>\n",
       "      <th>Close</th>\n",
       "      <th>Adj Close</th>\n",
       "      <th>Volume</th>\n",
       "    </tr>\n",
       "  </thead>\n",
       "  <tbody>\n",
       "    <tr>\n",
       "      <td>1254</td>\n",
       "      <td>2020-07-15</td>\n",
       "      <td>416.570007</td>\n",
       "      <td>417.320007</td>\n",
       "      <td>402.230011</td>\n",
       "      <td>409.089996</td>\n",
       "      <td>409.089996</td>\n",
       "      <td>10099600</td>\n",
       "    </tr>\n",
       "    <tr>\n",
       "      <td>1255</td>\n",
       "      <td>2020-07-16</td>\n",
       "      <td>400.600006</td>\n",
       "      <td>408.269989</td>\n",
       "      <td>395.820007</td>\n",
       "      <td>405.390015</td>\n",
       "      <td>405.390015</td>\n",
       "      <td>8624100</td>\n",
       "    </tr>\n",
       "    <tr>\n",
       "      <td>1256</td>\n",
       "      <td>2020-07-17</td>\n",
       "      <td>409.019989</td>\n",
       "      <td>409.940002</td>\n",
       "      <td>403.510010</td>\n",
       "      <td>408.059998</td>\n",
       "      <td>408.059998</td>\n",
       "      <td>6657100</td>\n",
       "    </tr>\n",
       "    <tr>\n",
       "      <td>1257</td>\n",
       "      <td>2020-07-20</td>\n",
       "      <td>410.970001</td>\n",
       "      <td>421.250000</td>\n",
       "      <td>406.269989</td>\n",
       "      <td>420.429993</td>\n",
       "      <td>420.429993</td>\n",
       "      <td>7121300</td>\n",
       "    </tr>\n",
       "    <tr>\n",
       "      <td>1258</td>\n",
       "      <td>2020-07-21</td>\n",
       "      <td>420.519989</td>\n",
       "      <td>422.399994</td>\n",
       "      <td>411.470001</td>\n",
       "      <td>413.140015</td>\n",
       "      <td>413.140015</td>\n",
       "      <td>6925900</td>\n",
       "    </tr>\n",
       "  </tbody>\n",
       "</table>\n",
       "</div>"
      ],
      "text/plain": [
       "            Date        Open        High         Low       Close   Adj Close  \\\n",
       "1254  2020-07-15  416.570007  417.320007  402.230011  409.089996  409.089996   \n",
       "1255  2020-07-16  400.600006  408.269989  395.820007  405.390015  405.390015   \n",
       "1256  2020-07-17  409.019989  409.940002  403.510010  408.059998  408.059998   \n",
       "1257  2020-07-20  410.970001  421.250000  406.269989  420.429993  420.429993   \n",
       "1258  2020-07-21  420.519989  422.399994  411.470001  413.140015  413.140015   \n",
       "\n",
       "        Volume  \n",
       "1254  10099600  \n",
       "1255   8624100  \n",
       "1256   6657100  \n",
       "1257   7121300  \n",
       "1258   6925900  "
      ]
     },
     "execution_count": 4,
     "metadata": {},
     "output_type": "execute_result"
    }
   ],
   "source": [
    "data.tail()"
   ]
  },
  {
   "cell_type": "code",
   "execution_count": 5,
   "metadata": {
    "colab": {
     "base_uri": "https://localhost:8080/",
     "height": 419
    },
    "executionInfo": {
     "elapsed": 37,
     "status": "ok",
     "timestamp": 1628910402312,
     "user": {
      "displayName": "Anthony So",
      "photoUrl": "https://lh3.googleusercontent.com/a-/AOh14GiYepcJQjaVrQ1i01LEROgsJ738vi03JrR51Ryb3w=s64",
      "userId": "11809607246124237079"
     },
     "user_tz": -600
    },
    "id": "AKQoC9YDGQOE",
    "outputId": "20a43d06-0f50-4219-ee33-b9b4d6238f1a"
   },
   "outputs": [
    {
     "data": {
      "text/html": [
       "<div>\n",
       "<style scoped>\n",
       "    .dataframe tbody tr th:only-of-type {\n",
       "        vertical-align: middle;\n",
       "    }\n",
       "\n",
       "    .dataframe tbody tr th {\n",
       "        vertical-align: top;\n",
       "    }\n",
       "\n",
       "    .dataframe thead th {\n",
       "        text-align: right;\n",
       "    }\n",
       "</style>\n",
       "<table border=\"1\" class=\"dataframe\">\n",
       "  <thead>\n",
       "    <tr style=\"text-align: right;\">\n",
       "      <th></th>\n",
       "      <th>Date</th>\n",
       "      <th>Open</th>\n",
       "      <th>High</th>\n",
       "      <th>Low</th>\n",
       "      <th>Close</th>\n",
       "      <th>Adj Close</th>\n",
       "      <th>Volume</th>\n",
       "    </tr>\n",
       "  </thead>\n",
       "  <tbody>\n",
       "    <tr>\n",
       "      <td>0</td>\n",
       "      <td>2015-07-22</td>\n",
       "      <td>19.650000</td>\n",
       "      <td>19.650000</td>\n",
       "      <td>19.170000</td>\n",
       "      <td>19.410000</td>\n",
       "      <td>18.851749</td>\n",
       "      <td>8911800</td>\n",
       "    </tr>\n",
       "    <tr>\n",
       "      <td>1</td>\n",
       "      <td>2015-07-23</td>\n",
       "      <td>19.450001</td>\n",
       "      <td>19.940001</td>\n",
       "      <td>19.410000</td>\n",
       "      <td>19.650000</td>\n",
       "      <td>19.084845</td>\n",
       "      <td>4247900</td>\n",
       "    </tr>\n",
       "    <tr>\n",
       "      <td>2</td>\n",
       "      <td>2015-07-24</td>\n",
       "      <td>19.790001</td>\n",
       "      <td>19.809999</td>\n",
       "      <td>19.340000</td>\n",
       "      <td>19.420000</td>\n",
       "      <td>18.861464</td>\n",
       "      <td>4721100</td>\n",
       "    </tr>\n",
       "    <tr>\n",
       "      <td>3</td>\n",
       "      <td>2015-07-27</td>\n",
       "      <td>19.250000</td>\n",
       "      <td>19.530001</td>\n",
       "      <td>19.090000</td>\n",
       "      <td>19.309999</td>\n",
       "      <td>18.754622</td>\n",
       "      <td>4810500</td>\n",
       "    </tr>\n",
       "    <tr>\n",
       "      <td>4</td>\n",
       "      <td>2015-07-28</td>\n",
       "      <td>19.360001</td>\n",
       "      <td>19.860001</td>\n",
       "      <td>19.160000</td>\n",
       "      <td>19.730000</td>\n",
       "      <td>19.162542</td>\n",
       "      <td>4957700</td>\n",
       "    </tr>\n",
       "    <tr>\n",
       "      <td>...</td>\n",
       "      <td>...</td>\n",
       "      <td>...</td>\n",
       "      <td>...</td>\n",
       "      <td>...</td>\n",
       "      <td>...</td>\n",
       "      <td>...</td>\n",
       "      <td>...</td>\n",
       "    </tr>\n",
       "    <tr>\n",
       "      <td>863</td>\n",
       "      <td>2018-12-24</td>\n",
       "      <td>126.489998</td>\n",
       "      <td>129.979996</td>\n",
       "      <td>124.500000</td>\n",
       "      <td>127.080002</td>\n",
       "      <td>126.452255</td>\n",
       "      <td>11596000</td>\n",
       "    </tr>\n",
       "    <tr>\n",
       "      <td>864</td>\n",
       "      <td>2018-12-26</td>\n",
       "      <td>128.940002</td>\n",
       "      <td>133.139999</td>\n",
       "      <td>124.459999</td>\n",
       "      <td>133.100006</td>\n",
       "      <td>132.442535</td>\n",
       "      <td>17377500</td>\n",
       "    </tr>\n",
       "    <tr>\n",
       "      <td>865</td>\n",
       "      <td>2018-12-27</td>\n",
       "      <td>130.990005</td>\n",
       "      <td>132.380005</td>\n",
       "      <td>125.180000</td>\n",
       "      <td>131.169998</td>\n",
       "      <td>130.522049</td>\n",
       "      <td>15926100</td>\n",
       "    </tr>\n",
       "    <tr>\n",
       "      <td>866</td>\n",
       "      <td>2018-12-28</td>\n",
       "      <td>132.000000</td>\n",
       "      <td>137.389999</td>\n",
       "      <td>130.309998</td>\n",
       "      <td>133.649994</td>\n",
       "      <td>132.989807</td>\n",
       "      <td>15718200</td>\n",
       "    </tr>\n",
       "    <tr>\n",
       "      <td>867</td>\n",
       "      <td>2018-12-31</td>\n",
       "      <td>135.399994</td>\n",
       "      <td>136.710007</td>\n",
       "      <td>132.259995</td>\n",
       "      <td>133.500000</td>\n",
       "      <td>132.840530</td>\n",
       "      <td>11628500</td>\n",
       "    </tr>\n",
       "  </tbody>\n",
       "</table>\n",
       "<p>868 rows × 7 columns</p>\n",
       "</div>"
      ],
      "text/plain": [
       "           Date        Open        High         Low       Close   Adj Close  \\\n",
       "0    2015-07-22   19.650000   19.650000   19.170000   19.410000   18.851749   \n",
       "1    2015-07-23   19.450001   19.940001   19.410000   19.650000   19.084845   \n",
       "2    2015-07-24   19.790001   19.809999   19.340000   19.420000   18.861464   \n",
       "3    2015-07-27   19.250000   19.530001   19.090000   19.309999   18.754622   \n",
       "4    2015-07-28   19.360001   19.860001   19.160000   19.730000   19.162542   \n",
       "..          ...         ...         ...         ...         ...         ...   \n",
       "863  2018-12-24  126.489998  129.979996  124.500000  127.080002  126.452255   \n",
       "864  2018-12-26  128.940002  133.139999  124.459999  133.100006  132.442535   \n",
       "865  2018-12-27  130.990005  132.380005  125.180000  131.169998  130.522049   \n",
       "866  2018-12-28  132.000000  137.389999  130.309998  133.649994  132.989807   \n",
       "867  2018-12-31  135.399994  136.710007  132.259995  133.500000  132.840530   \n",
       "\n",
       "       Volume  \n",
       "0     8911800  \n",
       "1     4247900  \n",
       "2     4721100  \n",
       "3     4810500  \n",
       "4     4957700  \n",
       "..        ...  \n",
       "863  11596000  \n",
       "864  17377500  \n",
       "865  15926100  \n",
       "866  15718200  \n",
       "867  11628500  \n",
       "\n",
       "[868 rows x 7 columns]"
      ]
     },
     "execution_count": 5,
     "metadata": {},
     "output_type": "execute_result"
    }
   ],
   "source": [
    "# Split Training data\n",
    "data_training = data[data['Date']<'2019-01-01'].copy()\n",
    "data_training"
   ]
  },
  {
   "cell_type": "code",
   "execution_count": 6,
   "metadata": {
    "colab": {
     "base_uri": "https://localhost:8080/",
     "height": 419
    },
    "executionInfo": {
     "elapsed": 35,
     "status": "ok",
     "timestamp": 1628910402312,
     "user": {
      "displayName": "Anthony So",
      "photoUrl": "https://lh3.googleusercontent.com/a-/AOh14GiYepcJQjaVrQ1i01LEROgsJ738vi03JrR51Ryb3w=s64",
      "userId": "11809607246124237079"
     },
     "user_tz": -600
    },
    "id": "YosTrjSpGQLP",
    "outputId": "58084762-7ea6-43ad-a5ab-57ae1e0410d6"
   },
   "outputs": [
    {
     "data": {
      "text/html": [
       "<div>\n",
       "<style scoped>\n",
       "    .dataframe tbody tr th:only-of-type {\n",
       "        vertical-align: middle;\n",
       "    }\n",
       "\n",
       "    .dataframe tbody tr th {\n",
       "        vertical-align: top;\n",
       "    }\n",
       "\n",
       "    .dataframe thead th {\n",
       "        text-align: right;\n",
       "    }\n",
       "</style>\n",
       "<table border=\"1\" class=\"dataframe\">\n",
       "  <thead>\n",
       "    <tr style=\"text-align: right;\">\n",
       "      <th></th>\n",
       "      <th>Date</th>\n",
       "      <th>Open</th>\n",
       "      <th>High</th>\n",
       "      <th>Low</th>\n",
       "      <th>Close</th>\n",
       "      <th>Adj Close</th>\n",
       "      <th>Volume</th>\n",
       "    </tr>\n",
       "  </thead>\n",
       "  <tbody>\n",
       "    <tr>\n",
       "      <td>868</td>\n",
       "      <td>2019-01-02</td>\n",
       "      <td>130.639999</td>\n",
       "      <td>138.479996</td>\n",
       "      <td>130.050003</td>\n",
       "      <td>136.220001</td>\n",
       "      <td>135.547104</td>\n",
       "      <td>12718800</td>\n",
       "    </tr>\n",
       "    <tr>\n",
       "      <td>869</td>\n",
       "      <td>2019-01-03</td>\n",
       "      <td>133.789993</td>\n",
       "      <td>135.160004</td>\n",
       "      <td>127.690002</td>\n",
       "      <td>127.989998</td>\n",
       "      <td>127.357750</td>\n",
       "      <td>17638800</td>\n",
       "    </tr>\n",
       "    <tr>\n",
       "      <td>870</td>\n",
       "      <td>2019-01-04</td>\n",
       "      <td>130.940002</td>\n",
       "      <td>137.729996</td>\n",
       "      <td>129.699997</td>\n",
       "      <td>136.190002</td>\n",
       "      <td>135.517258</td>\n",
       "      <td>14640500</td>\n",
       "    </tr>\n",
       "    <tr>\n",
       "      <td>871</td>\n",
       "      <td>2019-01-07</td>\n",
       "      <td>138.500000</td>\n",
       "      <td>144.889999</td>\n",
       "      <td>136.429993</td>\n",
       "      <td>143.399994</td>\n",
       "      <td>142.691620</td>\n",
       "      <td>17729000</td>\n",
       "    </tr>\n",
       "    <tr>\n",
       "      <td>872</td>\n",
       "      <td>2019-01-08</td>\n",
       "      <td>146.690002</td>\n",
       "      <td>146.779999</td>\n",
       "      <td>136.899994</td>\n",
       "      <td>139.830002</td>\n",
       "      <td>139.139282</td>\n",
       "      <td>19650400</td>\n",
       "    </tr>\n",
       "    <tr>\n",
       "      <td>...</td>\n",
       "      <td>...</td>\n",
       "      <td>...</td>\n",
       "      <td>...</td>\n",
       "      <td>...</td>\n",
       "      <td>...</td>\n",
       "      <td>...</td>\n",
       "      <td>...</td>\n",
       "    </tr>\n",
       "    <tr>\n",
       "      <td>1254</td>\n",
       "      <td>2020-07-15</td>\n",
       "      <td>416.570007</td>\n",
       "      <td>417.320007</td>\n",
       "      <td>402.230011</td>\n",
       "      <td>409.089996</td>\n",
       "      <td>409.089996</td>\n",
       "      <td>10099600</td>\n",
       "    </tr>\n",
       "    <tr>\n",
       "      <td>1255</td>\n",
       "      <td>2020-07-16</td>\n",
       "      <td>400.600006</td>\n",
       "      <td>408.269989</td>\n",
       "      <td>395.820007</td>\n",
       "      <td>405.390015</td>\n",
       "      <td>405.390015</td>\n",
       "      <td>8624100</td>\n",
       "    </tr>\n",
       "    <tr>\n",
       "      <td>1256</td>\n",
       "      <td>2020-07-17</td>\n",
       "      <td>409.019989</td>\n",
       "      <td>409.940002</td>\n",
       "      <td>403.510010</td>\n",
       "      <td>408.059998</td>\n",
       "      <td>408.059998</td>\n",
       "      <td>6657100</td>\n",
       "    </tr>\n",
       "    <tr>\n",
       "      <td>1257</td>\n",
       "      <td>2020-07-20</td>\n",
       "      <td>410.970001</td>\n",
       "      <td>421.250000</td>\n",
       "      <td>406.269989</td>\n",
       "      <td>420.429993</td>\n",
       "      <td>420.429993</td>\n",
       "      <td>7121300</td>\n",
       "    </tr>\n",
       "    <tr>\n",
       "      <td>1258</td>\n",
       "      <td>2020-07-21</td>\n",
       "      <td>420.519989</td>\n",
       "      <td>422.399994</td>\n",
       "      <td>411.470001</td>\n",
       "      <td>413.140015</td>\n",
       "      <td>413.140015</td>\n",
       "      <td>6925900</td>\n",
       "    </tr>\n",
       "  </tbody>\n",
       "</table>\n",
       "<p>391 rows × 7 columns</p>\n",
       "</div>"
      ],
      "text/plain": [
       "            Date        Open        High         Low       Close   Adj Close  \\\n",
       "868   2019-01-02  130.639999  138.479996  130.050003  136.220001  135.547104   \n",
       "869   2019-01-03  133.789993  135.160004  127.690002  127.989998  127.357750   \n",
       "870   2019-01-04  130.940002  137.729996  129.699997  136.190002  135.517258   \n",
       "871   2019-01-07  138.500000  144.889999  136.429993  143.399994  142.691620   \n",
       "872   2019-01-08  146.690002  146.779999  136.899994  139.830002  139.139282   \n",
       "...          ...         ...         ...         ...         ...         ...   \n",
       "1254  2020-07-15  416.570007  417.320007  402.230011  409.089996  409.089996   \n",
       "1255  2020-07-16  400.600006  408.269989  395.820007  405.390015  405.390015   \n",
       "1256  2020-07-17  409.019989  409.940002  403.510010  408.059998  408.059998   \n",
       "1257  2020-07-20  410.970001  421.250000  406.269989  420.429993  420.429993   \n",
       "1258  2020-07-21  420.519989  422.399994  411.470001  413.140015  413.140015   \n",
       "\n",
       "        Volume  \n",
       "868   12718800  \n",
       "869   17638800  \n",
       "870   14640500  \n",
       "871   17729000  \n",
       "872   19650400  \n",
       "...        ...  \n",
       "1254  10099600  \n",
       "1255   8624100  \n",
       "1256   6657100  \n",
       "1257   7121300  \n",
       "1258   6925900  \n",
       "\n",
       "[391 rows x 7 columns]"
      ]
     },
     "execution_count": 6,
     "metadata": {},
     "output_type": "execute_result"
    }
   ],
   "source": [
    "# Split Testing data\n",
    "data_test = data[data['Date']>='2019-01-01'].copy()\n",
    "data_test"
   ]
  },
  {
   "cell_type": "code",
   "execution_count": 7,
   "metadata": {
    "colab": {
     "base_uri": "https://localhost:8080/",
     "height": 204
    },
    "executionInfo": {
     "elapsed": 33,
     "status": "ok",
     "timestamp": 1628910402313,
     "user": {
      "displayName": "Anthony So",
      "photoUrl": "https://lh3.googleusercontent.com/a-/AOh14GiYepcJQjaVrQ1i01LEROgsJ738vi03JrR51Ryb3w=s64",
      "userId": "11809607246124237079"
     },
     "user_tz": -600
    },
    "id": "FrzSHWXxGQIJ",
    "outputId": "915964a4-99eb-4611-9024-03b6cd61ae04"
   },
   "outputs": [
    {
     "data": {
      "text/html": [
       "<div>\n",
       "<style scoped>\n",
       "    .dataframe tbody tr th:only-of-type {\n",
       "        vertical-align: middle;\n",
       "    }\n",
       "\n",
       "    .dataframe tbody tr th {\n",
       "        vertical-align: top;\n",
       "    }\n",
       "\n",
       "    .dataframe thead th {\n",
       "        text-align: right;\n",
       "    }\n",
       "</style>\n",
       "<table border=\"1\" class=\"dataframe\">\n",
       "  <thead>\n",
       "    <tr style=\"text-align: right;\">\n",
       "      <th></th>\n",
       "      <th>Open</th>\n",
       "      <th>High</th>\n",
       "      <th>Low</th>\n",
       "      <th>Close</th>\n",
       "      <th>Volume</th>\n",
       "    </tr>\n",
       "  </thead>\n",
       "  <tbody>\n",
       "    <tr>\n",
       "      <td>0</td>\n",
       "      <td>19.650000</td>\n",
       "      <td>19.650000</td>\n",
       "      <td>19.17</td>\n",
       "      <td>19.410000</td>\n",
       "      <td>8911800</td>\n",
       "    </tr>\n",
       "    <tr>\n",
       "      <td>1</td>\n",
       "      <td>19.450001</td>\n",
       "      <td>19.940001</td>\n",
       "      <td>19.41</td>\n",
       "      <td>19.650000</td>\n",
       "      <td>4247900</td>\n",
       "    </tr>\n",
       "    <tr>\n",
       "      <td>2</td>\n",
       "      <td>19.790001</td>\n",
       "      <td>19.809999</td>\n",
       "      <td>19.34</td>\n",
       "      <td>19.420000</td>\n",
       "      <td>4721100</td>\n",
       "    </tr>\n",
       "    <tr>\n",
       "      <td>3</td>\n",
       "      <td>19.250000</td>\n",
       "      <td>19.530001</td>\n",
       "      <td>19.09</td>\n",
       "      <td>19.309999</td>\n",
       "      <td>4810500</td>\n",
       "    </tr>\n",
       "    <tr>\n",
       "      <td>4</td>\n",
       "      <td>19.360001</td>\n",
       "      <td>19.860001</td>\n",
       "      <td>19.16</td>\n",
       "      <td>19.730000</td>\n",
       "      <td>4957700</td>\n",
       "    </tr>\n",
       "  </tbody>\n",
       "</table>\n",
       "</div>"
      ],
      "text/plain": [
       "        Open       High    Low      Close   Volume\n",
       "0  19.650000  19.650000  19.17  19.410000  8911800\n",
       "1  19.450001  19.940001  19.41  19.650000  4247900\n",
       "2  19.790001  19.809999  19.34  19.420000  4721100\n",
       "3  19.250000  19.530001  19.09  19.309999  4810500\n",
       "4  19.360001  19.860001  19.16  19.730000  4957700"
      ]
     },
     "execution_count": 7,
     "metadata": {},
     "output_type": "execute_result"
    }
   ],
   "source": [
    "training_data = data_training.drop\\\n",
    "                (['Date', 'Adj Close'], axis = 1)\n",
    "training_data.head()"
   ]
  },
  {
   "cell_type": "code",
   "execution_count": 8,
   "metadata": {
    "colab": {
     "base_uri": "https://localhost:8080/"
    },
    "executionInfo": {
     "elapsed": 32,
     "status": "ok",
     "timestamp": 1628910402313,
     "user": {
      "displayName": "Anthony So",
      "photoUrl": "https://lh3.googleusercontent.com/a-/AOh14GiYepcJQjaVrQ1i01LEROgsJ738vi03JrR51Ryb3w=s64",
      "userId": "11809607246124237079"
     },
     "user_tz": -600
    },
    "id": "rbpyr2HVGQAV",
    "outputId": "b4a1b0f1-70d0-4320-832d-c7b6fe195bdd"
   },
   "outputs": [
    {
     "data": {
      "text/plain": [
       "array([[1.48109745e-03, 4.39186751e-04, 3.00198896e-04, 3.70305518e-04,\n",
       "        8.35120643e-02],\n",
       "       [7.40552430e-04, 1.50056724e-03, 1.20079559e-03, 1.25902987e-03,\n",
       "        3.22671736e-02],\n",
       "       [1.99948527e-03, 1.02477031e-03, 9.38121551e-04, 4.07335700e-04,\n",
       "        3.74664879e-02],\n",
       "       ...,\n",
       "       [4.13744593e-01, 4.13021997e-01, 3.98101261e-01, 4.14219607e-01,\n",
       "        1.60582121e-01],\n",
       "       [4.17484345e-01, 4.31358175e-01, 4.17351508e-01, 4.23403077e-01,\n",
       "        1.58297807e-01],\n",
       "       [4.30073651e-01, 4.28869458e-01, 4.24668845e-01, 4.22847646e-01,\n",
       "        1.13361974e-01]])"
      ]
     },
     "execution_count": 8,
     "metadata": {},
     "output_type": "execute_result"
    }
   ],
   "source": [
    "scaler = MinMaxScaler()\n",
    "training_data = scaler.fit_transform(training_data)\n",
    "training_data"
   ]
  },
  {
   "cell_type": "code",
   "execution_count": 9,
   "metadata": {
    "executionInfo": {
     "elapsed": 27,
     "status": "ok",
     "timestamp": 1628910402314,
     "user": {
      "displayName": "Anthony So",
      "photoUrl": "https://lh3.googleusercontent.com/a-/AOh14GiYepcJQjaVrQ1i01LEROgsJ738vi03JrR51Ryb3w=s64",
      "userId": "11809607246124237079"
     },
     "user_tz": -600
    },
    "id": "JXzPFh0xGPy5"
   },
   "outputs": [],
   "source": [
    "X_train = []\n",
    "y_train = []"
   ]
  },
  {
   "cell_type": "code",
   "execution_count": 10,
   "metadata": {
    "colab": {
     "base_uri": "https://localhost:8080/"
    },
    "executionInfo": {
     "elapsed": 26,
     "status": "ok",
     "timestamp": 1628910402315,
     "user": {
      "displayName": "Anthony So",
      "photoUrl": "https://lh3.googleusercontent.com/a-/AOh14GiYepcJQjaVrQ1i01LEROgsJ738vi03JrR51Ryb3w=s64",
      "userId": "11809607246124237079"
     },
     "user_tz": -600
    },
    "id": "QC3zVTSzMAOA",
    "outputId": "cb9ef2aa-98e6-46f9-c0e1-094b809d61b8"
   },
   "outputs": [
    {
     "data": {
      "text/plain": [
       "868"
      ]
     },
     "execution_count": 10,
     "metadata": {},
     "output_type": "execute_result"
    }
   ],
   "source": [
    "training_data.shape[0]"
   ]
  },
  {
   "cell_type": "code",
   "execution_count": 11,
   "metadata": {
    "executionInfo": {
     "elapsed": 25,
     "status": "ok",
     "timestamp": 1628910402317,
     "user": {
      "displayName": "Anthony So",
      "photoUrl": "https://lh3.googleusercontent.com/a-/AOh14GiYepcJQjaVrQ1i01LEROgsJ738vi03JrR51Ryb3w=s64",
      "userId": "11809607246124237079"
     },
     "user_tz": -600
    },
    "id": "y12mp2VKLwO2"
   },
   "outputs": [],
   "source": [
    "for i in range(60, training_data.shape[0]):\n",
    "  X_train.append(training_data[i-60:i])\n",
    "  y_train.append(training_data[i, 0])"
   ]
  },
  {
   "cell_type": "code",
   "execution_count": 12,
   "metadata": {
    "executionInfo": {
     "elapsed": 25,
     "status": "ok",
     "timestamp": 1628910402318,
     "user": {
      "displayName": "Anthony So",
      "photoUrl": "https://lh3.googleusercontent.com/a-/AOh14GiYepcJQjaVrQ1i01LEROgsJ738vi03JrR51Ryb3w=s64",
      "userId": "11809607246124237079"
     },
     "user_tz": -600
    },
    "id": "hUScocQhMIS3"
   },
   "outputs": [],
   "source": [
    "X_train, y_train = np.array(X_train), np.array(y_train)"
   ]
  },
  {
   "cell_type": "code",
   "execution_count": 13,
   "metadata": {
    "colab": {
     "base_uri": "https://localhost:8080/"
    },
    "executionInfo": {
     "elapsed": 26,
     "status": "ok",
     "timestamp": 1628910402319,
     "user": {
      "displayName": "Anthony So",
      "photoUrl": "https://lh3.googleusercontent.com/a-/AOh14GiYepcJQjaVrQ1i01LEROgsJ738vi03JrR51Ryb3w=s64",
      "userId": "11809607246124237079"
     },
     "user_tz": -600
    },
    "id": "dtsU8mPOMI6d",
    "outputId": "215650df-2c81-4aee-fe49-666007fe1450"
   },
   "outputs": [
    {
     "data": {
      "text/plain": [
       "((808, 60, 5), (808,))"
      ]
     },
     "execution_count": 13,
     "metadata": {},
     "output_type": "execute_result"
    }
   ],
   "source": [
    "X_train.shape, y_train.shape"
   ]
  },
  {
   "cell_type": "code",
   "execution_count": 14,
   "metadata": {
    "colab": {
     "base_uri": "https://localhost:8080/"
    },
    "executionInfo": {
     "elapsed": 539,
     "status": "ok",
     "timestamp": 1628910546385,
     "user": {
      "displayName": "Anthony So",
      "photoUrl": "https://lh3.googleusercontent.com/a-/AOh14GiYepcJQjaVrQ1i01LEROgsJ738vi03JrR51Ryb3w=s64",
      "userId": "11809607246124237079"
     },
     "user_tz": -600
    },
    "id": "x-Y5vWPlok6I",
    "outputId": "30b86b35-204d-4dba-f3e7-8c4c8ae615f8"
   },
   "outputs": [
    {
     "data": {
      "text/plain": [
       "(808, 300)"
      ]
     },
     "execution_count": 14,
     "metadata": {},
     "output_type": "execute_result"
    }
   ],
   "source": [
    "X_old_shape = X_train.shape\n",
    "X_train = X_train.reshape(X_old_shape[0], \\\n",
    "                          X_old_shape[1]*X_old_shape[2]) \n",
    "X_train.shape\n"
   ]
  },
  {
   "cell_type": "code",
   "execution_count": 15,
   "metadata": {
    "executionInfo": {
     "elapsed": 607,
     "status": "ok",
     "timestamp": 1628910550881,
     "user": {
      "displayName": "Anthony So",
      "photoUrl": "https://lh3.googleusercontent.com/a-/AOh14GiYepcJQjaVrQ1i01LEROgsJ738vi03JrR51Ryb3w=s64",
      "userId": "11809607246124237079"
     },
     "user_tz": -600
    },
    "id": "b7h5JXMzMJi-"
   },
   "outputs": [],
   "source": [
    "from tensorflow.keras import Sequential\n",
    "from tensorflow.keras.layers import Input, Dense, Dropout"
   ]
  },
  {
   "cell_type": "code",
   "execution_count": 16,
   "metadata": {
    "colab": {
     "base_uri": "https://localhost:8080/"
    },
    "executionInfo": {
     "elapsed": 554,
     "status": "ok",
     "timestamp": 1628910551433,
     "user": {
      "displayName": "Anthony So",
      "photoUrl": "https://lh3.googleusercontent.com/a-/AOh14GiYepcJQjaVrQ1i01LEROgsJ738vi03JrR51Ryb3w=s64",
      "userId": "11809607246124237079"
     },
     "user_tz": -600
    },
    "id": "qHlSKJ6gXseD",
    "outputId": "01b6294e-e715-406e-b977-df8380c80a0c"
   },
   "outputs": [],
   "source": [
    "regressor_ann = Sequential()\n",
    " \n",
    "regressor_ann.add(Input(shape = (300,)))\n",
    "regressor_ann.add(Dense(units = 512, activation = 'relu'))\n",
    "regressor_ann.add(Dropout(0.2))\n",
    " \n",
    "regressor_ann.add(Dense(units = 128, activation = 'relu'))\n",
    "regressor_ann.add(Dropout(0.3))\n",
    " \n",
    "regressor_ann.add(Dense(units = 64, activation = 'relu'))\n",
    "regressor_ann.add(Dropout(0.4))\n",
    " \n",
    "regressor_ann.add(Dense(units = 16, activation = 'relu'))\n",
    "regressor_ann.add(Dropout(0.5))\n",
    " \n",
    "regressor_ann.add(Dense(units = 1))"
   ]
  },
  {
   "cell_type": "code",
   "execution_count": 17,
   "metadata": {
    "colab": {
     "base_uri": "https://localhost:8080/"
    },
    "executionInfo": {
     "elapsed": 5,
     "status": "ok",
     "timestamp": 1628910552768,
     "user": {
      "displayName": "Anthony So",
      "photoUrl": "https://lh3.googleusercontent.com/a-/AOh14GiYepcJQjaVrQ1i01LEROgsJ738vi03JrR51Ryb3w=s64",
      "userId": "11809607246124237079"
     },
     "user_tz": -600
    },
    "id": "W1VBleFqY6tx",
    "outputId": "25632a82-b50e-4dab-f60a-658974bffc2d"
   },
   "outputs": [
    {
     "name": "stdout",
     "output_type": "stream",
     "text": [
      "Model: \"sequential\"\n",
      "_________________________________________________________________\n",
      "Layer (type)                 Output Shape              Param #   \n",
      "=================================================================\n",
      "dense (Dense)                (None, 512)               154112    \n",
      "_________________________________________________________________\n",
      "dropout (Dropout)            (None, 512)               0         \n",
      "_________________________________________________________________\n",
      "dense_1 (Dense)              (None, 128)               65664     \n",
      "_________________________________________________________________\n",
      "dropout_1 (Dropout)          (None, 128)               0         \n",
      "_________________________________________________________________\n",
      "dense_2 (Dense)              (None, 64)                8256      \n",
      "_________________________________________________________________\n",
      "dropout_2 (Dropout)          (None, 64)                0         \n",
      "_________________________________________________________________\n",
      "dense_3 (Dense)              (None, 16)                1040      \n",
      "_________________________________________________________________\n",
      "dropout_3 (Dropout)          (None, 16)                0         \n",
      "_________________________________________________________________\n",
      "dense_4 (Dense)              (None, 1)                 17        \n",
      "=================================================================\n",
      "Total params: 229,089\n",
      "Trainable params: 229,089\n",
      "Non-trainable params: 0\n",
      "_________________________________________________________________\n"
     ]
    }
   ],
   "source": [
    "regressor_ann.summary()"
   ]
  },
  {
   "cell_type": "code",
   "execution_count": 18,
   "metadata": {
    "executionInfo": {
     "elapsed": 3,
     "status": "ok",
     "timestamp": 1628910554606,
     "user": {
      "displayName": "Anthony So",
      "photoUrl": "https://lh3.googleusercontent.com/a-/AOh14GiYepcJQjaVrQ1i01LEROgsJ738vi03JrR51Ryb3w=s64",
      "userId": "11809607246124237079"
     },
     "user_tz": -600
    },
    "id": "gW6C3oNuaf42"
   },
   "outputs": [],
   "source": [
    "regressor_ann.compile(optimizer='adam', \\\n",
    "                      loss = 'mean_squared_error')"
   ]
  },
  {
   "cell_type": "code",
   "execution_count": 19,
   "metadata": {
    "colab": {
     "base_uri": "https://localhost:8080/"
    },
    "executionInfo": {
     "elapsed": 3318,
     "status": "ok",
     "timestamp": 1628910558381,
     "user": {
      "displayName": "Anthony So",
      "photoUrl": "https://lh3.googleusercontent.com/a-/AOh14GiYepcJQjaVrQ1i01LEROgsJ738vi03JrR51Ryb3w=s64",
      "userId": "11809607246124237079"
     },
     "user_tz": -600
    },
    "id": "Et-JkM7Ra26F",
    "outputId": "badaf44f-6c4d-4e65-f769-a8f5b14dfc51"
   },
   "outputs": [
    {
     "name": "stdout",
     "output_type": "stream",
     "text": [
      "Epoch 1/10\n",
      "26/26 [==============================] - 1s 3ms/step - loss: 0.3294\n",
      "Epoch 2/10\n",
      "26/26 [==============================] - 0s 2ms/step - loss: 0.1459\n",
      "Epoch 3/10\n",
      "26/26 [==============================] - 0s 3ms/step - loss: 0.0920\n",
      "Epoch 4/10\n",
      "26/26 [==============================] - 0s 3ms/step - loss: 0.0881\n",
      "Epoch 5/10\n",
      "26/26 [==============================] - 0s 3ms/step - loss: 0.0888\n",
      "Epoch 6/10\n",
      "26/26 [==============================] - 0s 3ms/step - loss: 0.0729\n",
      "Epoch 7/10\n",
      "26/26 [==============================] - 0s 3ms/step - loss: 0.0707\n",
      "Epoch 8/10\n",
      "26/26 [==============================] - 0s 4ms/step - loss: 0.0674\n",
      "Epoch 9/10\n",
      "26/26 [==============================] - 0s 3ms/step - loss: 0.0600\n",
      "Epoch 10/10\n",
      "26/26 [==============================] - 0s 3ms/step - loss: 0.0590\n"
     ]
    },
    {
     "data": {
      "text/plain": [
       "<keras.callbacks.History at 0x2a967d36388>"
      ]
     },
     "execution_count": 19,
     "metadata": {},
     "output_type": "execute_result"
    }
   ],
   "source": [
    "regressor_ann.fit(X_train, y_train, epochs=10, batch_size=32)"
   ]
  },
  {
   "cell_type": "code",
   "execution_count": 20,
   "metadata": {
    "colab": {
     "base_uri": "https://localhost:8080/",
     "height": 204
    },
    "executionInfo": {
     "elapsed": 8,
     "status": "ok",
     "timestamp": 1628910560160,
     "user": {
      "displayName": "Anthony So",
      "photoUrl": "https://lh3.googleusercontent.com/a-/AOh14GiYepcJQjaVrQ1i01LEROgsJ738vi03JrR51Ryb3w=s64",
      "userId": "11809607246124237079"
     },
     "user_tz": -600
    },
    "id": "tMofo5Wpbc8t",
    "outputId": "7ad5f786-851a-47d6-c8dc-08935183454f"
   },
   "outputs": [
    {
     "data": {
      "text/html": [
       "<div>\n",
       "<style scoped>\n",
       "    .dataframe tbody tr th:only-of-type {\n",
       "        vertical-align: middle;\n",
       "    }\n",
       "\n",
       "    .dataframe tbody tr th {\n",
       "        vertical-align: top;\n",
       "    }\n",
       "\n",
       "    .dataframe thead th {\n",
       "        text-align: right;\n",
       "    }\n",
       "</style>\n",
       "<table border=\"1\" class=\"dataframe\">\n",
       "  <thead>\n",
       "    <tr style=\"text-align: right;\">\n",
       "      <th></th>\n",
       "      <th>Date</th>\n",
       "      <th>Open</th>\n",
       "      <th>High</th>\n",
       "      <th>Low</th>\n",
       "      <th>Close</th>\n",
       "      <th>Adj Close</th>\n",
       "      <th>Volume</th>\n",
       "    </tr>\n",
       "  </thead>\n",
       "  <tbody>\n",
       "    <tr>\n",
       "      <td>868</td>\n",
       "      <td>2019-01-02</td>\n",
       "      <td>130.639999</td>\n",
       "      <td>138.479996</td>\n",
       "      <td>130.050003</td>\n",
       "      <td>136.220001</td>\n",
       "      <td>135.547104</td>\n",
       "      <td>12718800</td>\n",
       "    </tr>\n",
       "    <tr>\n",
       "      <td>869</td>\n",
       "      <td>2019-01-03</td>\n",
       "      <td>133.789993</td>\n",
       "      <td>135.160004</td>\n",
       "      <td>127.690002</td>\n",
       "      <td>127.989998</td>\n",
       "      <td>127.357750</td>\n",
       "      <td>17638800</td>\n",
       "    </tr>\n",
       "    <tr>\n",
       "      <td>870</td>\n",
       "      <td>2019-01-04</td>\n",
       "      <td>130.940002</td>\n",
       "      <td>137.729996</td>\n",
       "      <td>129.699997</td>\n",
       "      <td>136.190002</td>\n",
       "      <td>135.517258</td>\n",
       "      <td>14640500</td>\n",
       "    </tr>\n",
       "    <tr>\n",
       "      <td>871</td>\n",
       "      <td>2019-01-07</td>\n",
       "      <td>138.500000</td>\n",
       "      <td>144.889999</td>\n",
       "      <td>136.429993</td>\n",
       "      <td>143.399994</td>\n",
       "      <td>142.691620</td>\n",
       "      <td>17729000</td>\n",
       "    </tr>\n",
       "    <tr>\n",
       "      <td>872</td>\n",
       "      <td>2019-01-08</td>\n",
       "      <td>146.690002</td>\n",
       "      <td>146.779999</td>\n",
       "      <td>136.899994</td>\n",
       "      <td>139.830002</td>\n",
       "      <td>139.139282</td>\n",
       "      <td>19650400</td>\n",
       "    </tr>\n",
       "  </tbody>\n",
       "</table>\n",
       "</div>"
      ],
      "text/plain": [
       "           Date        Open        High         Low       Close   Adj Close  \\\n",
       "868  2019-01-02  130.639999  138.479996  130.050003  136.220001  135.547104   \n",
       "869  2019-01-03  133.789993  135.160004  127.690002  127.989998  127.357750   \n",
       "870  2019-01-04  130.940002  137.729996  129.699997  136.190002  135.517258   \n",
       "871  2019-01-07  138.500000  144.889999  136.429993  143.399994  142.691620   \n",
       "872  2019-01-08  146.690002  146.779999  136.899994  139.830002  139.139282   \n",
       "\n",
       "       Volume  \n",
       "868  12718800  \n",
       "869  17638800  \n",
       "870  14640500  \n",
       "871  17729000  \n",
       "872  19650400  "
      ]
     },
     "execution_count": 20,
     "metadata": {},
     "output_type": "execute_result"
    }
   ],
   "source": [
    "## Now we will test and predict stock price\n",
    "\n",
    "## Prepare test dataset\n",
    "data_test.head()"
   ]
  },
  {
   "cell_type": "code",
   "execution_count": 21,
   "metadata": {
    "colab": {
     "base_uri": "https://localhost:8080/",
     "height": 1000
    },
    "executionInfo": {
     "elapsed": 609,
     "status": "ok",
     "timestamp": 1628910561578,
     "user": {
      "displayName": "Anthony So",
      "photoUrl": "https://lh3.googleusercontent.com/a-/AOh14GiYepcJQjaVrQ1i01LEROgsJ738vi03JrR51Ryb3w=s64",
      "userId": "11809607246124237079"
     },
     "user_tz": -600
    },
    "id": "rPsGKgftcEwO",
    "outputId": "d3369dd6-fb0f-4009-ebd9-01288f1ec97a"
   },
   "outputs": [
    {
     "data": {
      "text/html": [
       "<div>\n",
       "<style scoped>\n",
       "    .dataframe tbody tr th:only-of-type {\n",
       "        vertical-align: middle;\n",
       "    }\n",
       "\n",
       "    .dataframe tbody tr th {\n",
       "        vertical-align: top;\n",
       "    }\n",
       "\n",
       "    .dataframe thead th {\n",
       "        text-align: right;\n",
       "    }\n",
       "</style>\n",
       "<table border=\"1\" class=\"dataframe\">\n",
       "  <thead>\n",
       "    <tr style=\"text-align: right;\">\n",
       "      <th></th>\n",
       "      <th>Date</th>\n",
       "      <th>Open</th>\n",
       "      <th>High</th>\n",
       "      <th>Low</th>\n",
       "      <th>Close</th>\n",
       "      <th>Adj Close</th>\n",
       "      <th>Volume</th>\n",
       "    </tr>\n",
       "  </thead>\n",
       "  <tbody>\n",
       "    <tr>\n",
       "      <td>808</td>\n",
       "      <td>2018-10-04</td>\n",
       "      <td>285.269989</td>\n",
       "      <td>286.250000</td>\n",
       "      <td>276.179993</td>\n",
       "      <td>279.290009</td>\n",
       "      <td>277.632599</td>\n",
       "      <td>9780500</td>\n",
       "    </tr>\n",
       "    <tr>\n",
       "      <td>809</td>\n",
       "      <td>2018-10-05</td>\n",
       "      <td>278.290009</td>\n",
       "      <td>280.799988</td>\n",
       "      <td>267.540009</td>\n",
       "      <td>269.859985</td>\n",
       "      <td>268.258514</td>\n",
       "      <td>10665900</td>\n",
       "    </tr>\n",
       "    <tr>\n",
       "      <td>810</td>\n",
       "      <td>2018-10-08</td>\n",
       "      <td>266.500000</td>\n",
       "      <td>271.160004</td>\n",
       "      <td>260.079987</td>\n",
       "      <td>265.769989</td>\n",
       "      <td>264.192780</td>\n",
       "      <td>10215300</td>\n",
       "    </tr>\n",
       "    <tr>\n",
       "      <td>811</td>\n",
       "      <td>2018-10-09</td>\n",
       "      <td>264.940002</td>\n",
       "      <td>268.760010</td>\n",
       "      <td>262.799988</td>\n",
       "      <td>265.540009</td>\n",
       "      <td>263.964203</td>\n",
       "      <td>6837500</td>\n",
       "    </tr>\n",
       "    <tr>\n",
       "      <td>812</td>\n",
       "      <td>2018-10-10</td>\n",
       "      <td>261.260010</td>\n",
       "      <td>263.109985</td>\n",
       "      <td>245.600006</td>\n",
       "      <td>245.690002</td>\n",
       "      <td>244.231964</td>\n",
       "      <td>17123500</td>\n",
       "    </tr>\n",
       "    <tr>\n",
       "      <td>813</td>\n",
       "      <td>2018-10-11</td>\n",
       "      <td>242.169998</td>\n",
       "      <td>247.559998</td>\n",
       "      <td>234.259995</td>\n",
       "      <td>235.130005</td>\n",
       "      <td>233.734634</td>\n",
       "      <td>18135900</td>\n",
       "    </tr>\n",
       "    <tr>\n",
       "      <td>814</td>\n",
       "      <td>2018-10-12</td>\n",
       "      <td>245.509995</td>\n",
       "      <td>249.539993</td>\n",
       "      <td>239.649994</td>\n",
       "      <td>246.539993</td>\n",
       "      <td>245.076920</td>\n",
       "      <td>15205900</td>\n",
       "    </tr>\n",
       "    <tr>\n",
       "      <td>815</td>\n",
       "      <td>2018-10-15</td>\n",
       "      <td>246.000000</td>\n",
       "      <td>246.000000</td>\n",
       "      <td>235.339996</td>\n",
       "      <td>235.380005</td>\n",
       "      <td>233.983154</td>\n",
       "      <td>11244000</td>\n",
       "    </tr>\n",
       "    <tr>\n",
       "      <td>816</td>\n",
       "      <td>2018-10-16</td>\n",
       "      <td>239.929993</td>\n",
       "      <td>246.279999</td>\n",
       "      <td>237.940002</td>\n",
       "      <td>245.830002</td>\n",
       "      <td>244.371155</td>\n",
       "      <td>10217800</td>\n",
       "    </tr>\n",
       "    <tr>\n",
       "      <td>817</td>\n",
       "      <td>2018-10-17</td>\n",
       "      <td>248.339996</td>\n",
       "      <td>249.880005</td>\n",
       "      <td>241.080002</td>\n",
       "      <td>243.059998</td>\n",
       "      <td>241.617569</td>\n",
       "      <td>8241700</td>\n",
       "    </tr>\n",
       "    <tr>\n",
       "      <td>818</td>\n",
       "      <td>2018-10-18</td>\n",
       "      <td>245.860001</td>\n",
       "      <td>247.410004</td>\n",
       "      <td>237.089996</td>\n",
       "      <td>239.529999</td>\n",
       "      <td>238.108536</td>\n",
       "      <td>13100500</td>\n",
       "    </tr>\n",
       "    <tr>\n",
       "      <td>819</td>\n",
       "      <td>2018-10-19</td>\n",
       "      <td>241.759995</td>\n",
       "      <td>242.550003</td>\n",
       "      <td>227.699997</td>\n",
       "      <td>229.169998</td>\n",
       "      <td>227.810013</td>\n",
       "      <td>15340200</td>\n",
       "    </tr>\n",
       "    <tr>\n",
       "      <td>820</td>\n",
       "      <td>2018-10-22</td>\n",
       "      <td>231.279999</td>\n",
       "      <td>235.320007</td>\n",
       "      <td>227.070007</td>\n",
       "      <td>231.220001</td>\n",
       "      <td>229.847855</td>\n",
       "      <td>9221100</td>\n",
       "    </tr>\n",
       "    <tr>\n",
       "      <td>821</td>\n",
       "      <td>2018-10-23</td>\n",
       "      <td>220.429993</td>\n",
       "      <td>224.190002</td>\n",
       "      <td>216.710007</td>\n",
       "      <td>221.059998</td>\n",
       "      <td>219.748138</td>\n",
       "      <td>15660900</td>\n",
       "    </tr>\n",
       "    <tr>\n",
       "      <td>822</td>\n",
       "      <td>2018-10-24</td>\n",
       "      <td>219.509995</td>\n",
       "      <td>221.389999</td>\n",
       "      <td>198.850006</td>\n",
       "      <td>199.410004</td>\n",
       "      <td>198.226608</td>\n",
       "      <td>22107200</td>\n",
       "    </tr>\n",
       "    <tr>\n",
       "      <td>823</td>\n",
       "      <td>2018-10-25</td>\n",
       "      <td>195.470001</td>\n",
       "      <td>209.750000</td>\n",
       "      <td>193.679993</td>\n",
       "      <td>207.839996</td>\n",
       "      <td>206.606567</td>\n",
       "      <td>23793000</td>\n",
       "    </tr>\n",
       "    <tr>\n",
       "      <td>824</td>\n",
       "      <td>2018-10-26</td>\n",
       "      <td>198.309998</td>\n",
       "      <td>204.839996</td>\n",
       "      <td>193.119995</td>\n",
       "      <td>198.289993</td>\n",
       "      <td>197.113251</td>\n",
       "      <td>16619600</td>\n",
       "    </tr>\n",
       "    <tr>\n",
       "      <td>825</td>\n",
       "      <td>2018-10-29</td>\n",
       "      <td>203.990005</td>\n",
       "      <td>204.130005</td>\n",
       "      <td>176.009995</td>\n",
       "      <td>185.619995</td>\n",
       "      <td>184.518448</td>\n",
       "      <td>18950400</td>\n",
       "    </tr>\n",
       "    <tr>\n",
       "      <td>826</td>\n",
       "      <td>2018-10-30</td>\n",
       "      <td>186.550003</td>\n",
       "      <td>203.399994</td>\n",
       "      <td>185.619995</td>\n",
       "      <td>203.000000</td>\n",
       "      <td>201.795303</td>\n",
       "      <td>20179800</td>\n",
       "    </tr>\n",
       "    <tr>\n",
       "      <td>827</td>\n",
       "      <td>2018-10-31</td>\n",
       "      <td>209.649994</td>\n",
       "      <td>212.589996</td>\n",
       "      <td>204.009995</td>\n",
       "      <td>210.830002</td>\n",
       "      <td>209.578857</td>\n",
       "      <td>18644300</td>\n",
       "    </tr>\n",
       "    <tr>\n",
       "      <td>828</td>\n",
       "      <td>2018-11-01</td>\n",
       "      <td>212.300003</td>\n",
       "      <td>218.490005</td>\n",
       "      <td>207.190002</td>\n",
       "      <td>218.110001</td>\n",
       "      <td>216.815628</td>\n",
       "      <td>14163200</td>\n",
       "    </tr>\n",
       "    <tr>\n",
       "      <td>829</td>\n",
       "      <td>2018-11-02</td>\n",
       "      <td>217.729996</td>\n",
       "      <td>222.000000</td>\n",
       "      <td>210.210007</td>\n",
       "      <td>214.919998</td>\n",
       "      <td>213.644562</td>\n",
       "      <td>11324000</td>\n",
       "    </tr>\n",
       "    <tr>\n",
       "      <td>830</td>\n",
       "      <td>2018-11-05</td>\n",
       "      <td>214.389999</td>\n",
       "      <td>215.330002</td>\n",
       "      <td>205.279999</td>\n",
       "      <td>211.770004</td>\n",
       "      <td>210.513275</td>\n",
       "      <td>9483300</td>\n",
       "    </tr>\n",
       "    <tr>\n",
       "      <td>831</td>\n",
       "      <td>2018-11-06</td>\n",
       "      <td>211.449997</td>\n",
       "      <td>214.850006</td>\n",
       "      <td>209.559998</td>\n",
       "      <td>211.059998</td>\n",
       "      <td>209.807495</td>\n",
       "      <td>7475300</td>\n",
       "    </tr>\n",
       "    <tr>\n",
       "      <td>832</td>\n",
       "      <td>2018-11-07</td>\n",
       "      <td>213.750000</td>\n",
       "      <td>217.410004</td>\n",
       "      <td>211.179993</td>\n",
       "      <td>213.789993</td>\n",
       "      <td>212.521271</td>\n",
       "      <td>12095300</td>\n",
       "    </tr>\n",
       "    <tr>\n",
       "      <td>833</td>\n",
       "      <td>2018-11-08</td>\n",
       "      <td>211.399994</td>\n",
       "      <td>211.429993</td>\n",
       "      <td>203.830002</td>\n",
       "      <td>205.990005</td>\n",
       "      <td>204.767578</td>\n",
       "      <td>12783800</td>\n",
       "    </tr>\n",
       "    <tr>\n",
       "      <td>834</td>\n",
       "      <td>2018-11-09</td>\n",
       "      <td>202.399994</td>\n",
       "      <td>209.320007</td>\n",
       "      <td>201.039993</td>\n",
       "      <td>205.669998</td>\n",
       "      <td>204.449463</td>\n",
       "      <td>10331000</td>\n",
       "    </tr>\n",
       "    <tr>\n",
       "      <td>835</td>\n",
       "      <td>2018-11-12</td>\n",
       "      <td>201.979996</td>\n",
       "      <td>202.869995</td>\n",
       "      <td>188.660004</td>\n",
       "      <td>189.539993</td>\n",
       "      <td>188.415192</td>\n",
       "      <td>15427900</td>\n",
       "    </tr>\n",
       "    <tr>\n",
       "      <td>836</td>\n",
       "      <td>2018-11-13</td>\n",
       "      <td>193.490005</td>\n",
       "      <td>204.210007</td>\n",
       "      <td>193.240005</td>\n",
       "      <td>199.309998</td>\n",
       "      <td>198.127213</td>\n",
       "      <td>16117800</td>\n",
       "    </tr>\n",
       "    <tr>\n",
       "      <td>837</td>\n",
       "      <td>2018-11-14</td>\n",
       "      <td>206.300003</td>\n",
       "      <td>206.880005</td>\n",
       "      <td>192.830002</td>\n",
       "      <td>197.190002</td>\n",
       "      <td>196.019791</td>\n",
       "      <td>13164500</td>\n",
       "    </tr>\n",
       "    <tr>\n",
       "      <td>838</td>\n",
       "      <td>2018-11-15</td>\n",
       "      <td>196.949997</td>\n",
       "      <td>205.300003</td>\n",
       "      <td>195.500000</td>\n",
       "      <td>202.389999</td>\n",
       "      <td>201.188919</td>\n",
       "      <td>21017700</td>\n",
       "    </tr>\n",
       "    <tr>\n",
       "      <td>839</td>\n",
       "      <td>2018-11-16</td>\n",
       "      <td>163.320007</td>\n",
       "      <td>170.660004</td>\n",
       "      <td>161.610001</td>\n",
       "      <td>164.429993</td>\n",
       "      <td>163.454178</td>\n",
       "      <td>49088000</td>\n",
       "    </tr>\n",
       "    <tr>\n",
       "      <td>840</td>\n",
       "      <td>2018-11-19</td>\n",
       "      <td>161.789993</td>\n",
       "      <td>161.820007</td>\n",
       "      <td>144.630005</td>\n",
       "      <td>144.699997</td>\n",
       "      <td>143.841278</td>\n",
       "      <td>42445500</td>\n",
       "    </tr>\n",
       "    <tr>\n",
       "      <td>841</td>\n",
       "      <td>2018-11-20</td>\n",
       "      <td>134.059998</td>\n",
       "      <td>154.259995</td>\n",
       "      <td>133.309998</td>\n",
       "      <td>149.080002</td>\n",
       "      <td>148.195297</td>\n",
       "      <td>42300800</td>\n",
       "    </tr>\n",
       "    <tr>\n",
       "      <td>842</td>\n",
       "      <td>2018-11-21</td>\n",
       "      <td>154.619995</td>\n",
       "      <td>155.300003</td>\n",
       "      <td>143.610001</td>\n",
       "      <td>144.710007</td>\n",
       "      <td>143.851242</td>\n",
       "      <td>25637400</td>\n",
       "    </tr>\n",
       "    <tr>\n",
       "      <td>843</td>\n",
       "      <td>2018-11-23</td>\n",
       "      <td>143.309998</td>\n",
       "      <td>149.589996</td>\n",
       "      <td>142.789993</td>\n",
       "      <td>145.000000</td>\n",
       "      <td>144.139511</td>\n",
       "      <td>10299200</td>\n",
       "    </tr>\n",
       "    <tr>\n",
       "      <td>844</td>\n",
       "      <td>2018-11-26</td>\n",
       "      <td>149.889999</td>\n",
       "      <td>153.470001</td>\n",
       "      <td>146.559998</td>\n",
       "      <td>153.050003</td>\n",
       "      <td>152.141739</td>\n",
       "      <td>20370800</td>\n",
       "    </tr>\n",
       "    <tr>\n",
       "      <td>845</td>\n",
       "      <td>2018-11-27</td>\n",
       "      <td>152.000000</td>\n",
       "      <td>157.009995</td>\n",
       "      <td>150.550003</td>\n",
       "      <td>153.729996</td>\n",
       "      <td>152.817703</td>\n",
       "      <td>18451500</td>\n",
       "    </tr>\n",
       "    <tr>\n",
       "      <td>846</td>\n",
       "      <td>2018-11-28</td>\n",
       "      <td>158.479996</td>\n",
       "      <td>160.279999</td>\n",
       "      <td>153.130005</td>\n",
       "      <td>160.070007</td>\n",
       "      <td>159.120102</td>\n",
       "      <td>20113100</td>\n",
       "    </tr>\n",
       "    <tr>\n",
       "      <td>847</td>\n",
       "      <td>2018-11-29</td>\n",
       "      <td>160.000000</td>\n",
       "      <td>161.500000</td>\n",
       "      <td>156.139999</td>\n",
       "      <td>157.360001</td>\n",
       "      <td>156.582672</td>\n",
       "      <td>13729300</td>\n",
       "    </tr>\n",
       "    <tr>\n",
       "      <td>848</td>\n",
       "      <td>2018-11-30</td>\n",
       "      <td>157.750000</td>\n",
       "      <td>163.860001</td>\n",
       "      <td>155.720001</td>\n",
       "      <td>163.429993</td>\n",
       "      <td>162.622681</td>\n",
       "      <td>18239100</td>\n",
       "    </tr>\n",
       "    <tr>\n",
       "      <td>849</td>\n",
       "      <td>2018-12-03</td>\n",
       "      <td>172.600006</td>\n",
       "      <td>174.679993</td>\n",
       "      <td>167.339996</td>\n",
       "      <td>170.039993</td>\n",
       "      <td>169.200043</td>\n",
       "      <td>22270100</td>\n",
       "    </tr>\n",
       "    <tr>\n",
       "      <td>850</td>\n",
       "      <td>2018-12-04</td>\n",
       "      <td>168.240005</td>\n",
       "      <td>168.440002</td>\n",
       "      <td>156.500000</td>\n",
       "      <td>157.110001</td>\n",
       "      <td>156.333908</td>\n",
       "      <td>20302800</td>\n",
       "    </tr>\n",
       "    <tr>\n",
       "      <td>851</td>\n",
       "      <td>2018-12-06</td>\n",
       "      <td>151.440002</td>\n",
       "      <td>158.490005</td>\n",
       "      <td>150.809998</td>\n",
       "      <td>158.289993</td>\n",
       "      <td>157.508072</td>\n",
       "      <td>17307700</td>\n",
       "    </tr>\n",
       "    <tr>\n",
       "      <td>852</td>\n",
       "      <td>2018-12-07</td>\n",
       "      <td>158.460007</td>\n",
       "      <td>158.869995</td>\n",
       "      <td>145.619995</td>\n",
       "      <td>147.610001</td>\n",
       "      <td>146.880844</td>\n",
       "      <td>17041900</td>\n",
       "    </tr>\n",
       "    <tr>\n",
       "      <td>853</td>\n",
       "      <td>2018-12-10</td>\n",
       "      <td>145.800003</td>\n",
       "      <td>152.860001</td>\n",
       "      <td>145.649994</td>\n",
       "      <td>151.860001</td>\n",
       "      <td>151.109848</td>\n",
       "      <td>15736800</td>\n",
       "    </tr>\n",
       "    <tr>\n",
       "      <td>854</td>\n",
       "      <td>2018-12-11</td>\n",
       "      <td>155.559998</td>\n",
       "      <td>155.889999</td>\n",
       "      <td>145.000000</td>\n",
       "      <td>148.190002</td>\n",
       "      <td>147.457977</td>\n",
       "      <td>16797800</td>\n",
       "    </tr>\n",
       "    <tr>\n",
       "      <td>855</td>\n",
       "      <td>2018-12-12</td>\n",
       "      <td>148.419998</td>\n",
       "      <td>152.779999</td>\n",
       "      <td>144.820007</td>\n",
       "      <td>148.899994</td>\n",
       "      <td>148.164474</td>\n",
       "      <td>16353400</td>\n",
       "    </tr>\n",
       "    <tr>\n",
       "      <td>856</td>\n",
       "      <td>2018-12-13</td>\n",
       "      <td>150.789993</td>\n",
       "      <td>153.380005</td>\n",
       "      <td>147.440002</td>\n",
       "      <td>148.889999</td>\n",
       "      <td>148.154495</td>\n",
       "      <td>11784600</td>\n",
       "    </tr>\n",
       "    <tr>\n",
       "      <td>857</td>\n",
       "      <td>2018-12-14</td>\n",
       "      <td>147.210007</td>\n",
       "      <td>150.589996</td>\n",
       "      <td>145.500000</td>\n",
       "      <td>146.449997</td>\n",
       "      <td>145.726563</td>\n",
       "      <td>11795500</td>\n",
       "    </tr>\n",
       "    <tr>\n",
       "      <td>858</td>\n",
       "      <td>2018-12-17</td>\n",
       "      <td>145.240005</td>\n",
       "      <td>148.149994</td>\n",
       "      <td>141.240005</td>\n",
       "      <td>143.580002</td>\n",
       "      <td>142.870728</td>\n",
       "      <td>16571700</td>\n",
       "    </tr>\n",
       "    <tr>\n",
       "      <td>859</td>\n",
       "      <td>2018-12-18</td>\n",
       "      <td>145.350006</td>\n",
       "      <td>150.330002</td>\n",
       "      <td>144.250000</td>\n",
       "      <td>146.940002</td>\n",
       "      <td>146.214142</td>\n",
       "      <td>14109300</td>\n",
       "    </tr>\n",
       "    <tr>\n",
       "      <td>860</td>\n",
       "      <td>2018-12-19</td>\n",
       "      <td>145.580002</td>\n",
       "      <td>147.740005</td>\n",
       "      <td>136.429993</td>\n",
       "      <td>138.509995</td>\n",
       "      <td>137.825806</td>\n",
       "      <td>18634100</td>\n",
       "    </tr>\n",
       "    <tr>\n",
       "      <td>861</td>\n",
       "      <td>2018-12-20</td>\n",
       "      <td>138.169998</td>\n",
       "      <td>141.800003</td>\n",
       "      <td>132.690002</td>\n",
       "      <td>135.100006</td>\n",
       "      <td>134.432632</td>\n",
       "      <td>18739700</td>\n",
       "    </tr>\n",
       "    <tr>\n",
       "      <td>862</td>\n",
       "      <td>2018-12-21</td>\n",
       "      <td>136.169998</td>\n",
       "      <td>137.500000</td>\n",
       "      <td>128.460007</td>\n",
       "      <td>129.570007</td>\n",
       "      <td>128.929977</td>\n",
       "      <td>21593500</td>\n",
       "    </tr>\n",
       "    <tr>\n",
       "      <td>863</td>\n",
       "      <td>2018-12-24</td>\n",
       "      <td>126.489998</td>\n",
       "      <td>129.979996</td>\n",
       "      <td>124.500000</td>\n",
       "      <td>127.080002</td>\n",
       "      <td>126.452255</td>\n",
       "      <td>11596000</td>\n",
       "    </tr>\n",
       "    <tr>\n",
       "      <td>864</td>\n",
       "      <td>2018-12-26</td>\n",
       "      <td>128.940002</td>\n",
       "      <td>133.139999</td>\n",
       "      <td>124.459999</td>\n",
       "      <td>133.100006</td>\n",
       "      <td>132.442535</td>\n",
       "      <td>17377500</td>\n",
       "    </tr>\n",
       "    <tr>\n",
       "      <td>865</td>\n",
       "      <td>2018-12-27</td>\n",
       "      <td>130.990005</td>\n",
       "      <td>132.380005</td>\n",
       "      <td>125.180000</td>\n",
       "      <td>131.169998</td>\n",
       "      <td>130.522049</td>\n",
       "      <td>15926100</td>\n",
       "    </tr>\n",
       "    <tr>\n",
       "      <td>866</td>\n",
       "      <td>2018-12-28</td>\n",
       "      <td>132.000000</td>\n",
       "      <td>137.389999</td>\n",
       "      <td>130.309998</td>\n",
       "      <td>133.649994</td>\n",
       "      <td>132.989807</td>\n",
       "      <td>15718200</td>\n",
       "    </tr>\n",
       "    <tr>\n",
       "      <td>867</td>\n",
       "      <td>2018-12-31</td>\n",
       "      <td>135.399994</td>\n",
       "      <td>136.710007</td>\n",
       "      <td>132.259995</td>\n",
       "      <td>133.500000</td>\n",
       "      <td>132.840530</td>\n",
       "      <td>11628500</td>\n",
       "    </tr>\n",
       "  </tbody>\n",
       "</table>\n",
       "</div>"
      ],
      "text/plain": [
       "           Date        Open        High         Low       Close   Adj Close  \\\n",
       "808  2018-10-04  285.269989  286.250000  276.179993  279.290009  277.632599   \n",
       "809  2018-10-05  278.290009  280.799988  267.540009  269.859985  268.258514   \n",
       "810  2018-10-08  266.500000  271.160004  260.079987  265.769989  264.192780   \n",
       "811  2018-10-09  264.940002  268.760010  262.799988  265.540009  263.964203   \n",
       "812  2018-10-10  261.260010  263.109985  245.600006  245.690002  244.231964   \n",
       "813  2018-10-11  242.169998  247.559998  234.259995  235.130005  233.734634   \n",
       "814  2018-10-12  245.509995  249.539993  239.649994  246.539993  245.076920   \n",
       "815  2018-10-15  246.000000  246.000000  235.339996  235.380005  233.983154   \n",
       "816  2018-10-16  239.929993  246.279999  237.940002  245.830002  244.371155   \n",
       "817  2018-10-17  248.339996  249.880005  241.080002  243.059998  241.617569   \n",
       "818  2018-10-18  245.860001  247.410004  237.089996  239.529999  238.108536   \n",
       "819  2018-10-19  241.759995  242.550003  227.699997  229.169998  227.810013   \n",
       "820  2018-10-22  231.279999  235.320007  227.070007  231.220001  229.847855   \n",
       "821  2018-10-23  220.429993  224.190002  216.710007  221.059998  219.748138   \n",
       "822  2018-10-24  219.509995  221.389999  198.850006  199.410004  198.226608   \n",
       "823  2018-10-25  195.470001  209.750000  193.679993  207.839996  206.606567   \n",
       "824  2018-10-26  198.309998  204.839996  193.119995  198.289993  197.113251   \n",
       "825  2018-10-29  203.990005  204.130005  176.009995  185.619995  184.518448   \n",
       "826  2018-10-30  186.550003  203.399994  185.619995  203.000000  201.795303   \n",
       "827  2018-10-31  209.649994  212.589996  204.009995  210.830002  209.578857   \n",
       "828  2018-11-01  212.300003  218.490005  207.190002  218.110001  216.815628   \n",
       "829  2018-11-02  217.729996  222.000000  210.210007  214.919998  213.644562   \n",
       "830  2018-11-05  214.389999  215.330002  205.279999  211.770004  210.513275   \n",
       "831  2018-11-06  211.449997  214.850006  209.559998  211.059998  209.807495   \n",
       "832  2018-11-07  213.750000  217.410004  211.179993  213.789993  212.521271   \n",
       "833  2018-11-08  211.399994  211.429993  203.830002  205.990005  204.767578   \n",
       "834  2018-11-09  202.399994  209.320007  201.039993  205.669998  204.449463   \n",
       "835  2018-11-12  201.979996  202.869995  188.660004  189.539993  188.415192   \n",
       "836  2018-11-13  193.490005  204.210007  193.240005  199.309998  198.127213   \n",
       "837  2018-11-14  206.300003  206.880005  192.830002  197.190002  196.019791   \n",
       "838  2018-11-15  196.949997  205.300003  195.500000  202.389999  201.188919   \n",
       "839  2018-11-16  163.320007  170.660004  161.610001  164.429993  163.454178   \n",
       "840  2018-11-19  161.789993  161.820007  144.630005  144.699997  143.841278   \n",
       "841  2018-11-20  134.059998  154.259995  133.309998  149.080002  148.195297   \n",
       "842  2018-11-21  154.619995  155.300003  143.610001  144.710007  143.851242   \n",
       "843  2018-11-23  143.309998  149.589996  142.789993  145.000000  144.139511   \n",
       "844  2018-11-26  149.889999  153.470001  146.559998  153.050003  152.141739   \n",
       "845  2018-11-27  152.000000  157.009995  150.550003  153.729996  152.817703   \n",
       "846  2018-11-28  158.479996  160.279999  153.130005  160.070007  159.120102   \n",
       "847  2018-11-29  160.000000  161.500000  156.139999  157.360001  156.582672   \n",
       "848  2018-11-30  157.750000  163.860001  155.720001  163.429993  162.622681   \n",
       "849  2018-12-03  172.600006  174.679993  167.339996  170.039993  169.200043   \n",
       "850  2018-12-04  168.240005  168.440002  156.500000  157.110001  156.333908   \n",
       "851  2018-12-06  151.440002  158.490005  150.809998  158.289993  157.508072   \n",
       "852  2018-12-07  158.460007  158.869995  145.619995  147.610001  146.880844   \n",
       "853  2018-12-10  145.800003  152.860001  145.649994  151.860001  151.109848   \n",
       "854  2018-12-11  155.559998  155.889999  145.000000  148.190002  147.457977   \n",
       "855  2018-12-12  148.419998  152.779999  144.820007  148.899994  148.164474   \n",
       "856  2018-12-13  150.789993  153.380005  147.440002  148.889999  148.154495   \n",
       "857  2018-12-14  147.210007  150.589996  145.500000  146.449997  145.726563   \n",
       "858  2018-12-17  145.240005  148.149994  141.240005  143.580002  142.870728   \n",
       "859  2018-12-18  145.350006  150.330002  144.250000  146.940002  146.214142   \n",
       "860  2018-12-19  145.580002  147.740005  136.429993  138.509995  137.825806   \n",
       "861  2018-12-20  138.169998  141.800003  132.690002  135.100006  134.432632   \n",
       "862  2018-12-21  136.169998  137.500000  128.460007  129.570007  128.929977   \n",
       "863  2018-12-24  126.489998  129.979996  124.500000  127.080002  126.452255   \n",
       "864  2018-12-26  128.940002  133.139999  124.459999  133.100006  132.442535   \n",
       "865  2018-12-27  130.990005  132.380005  125.180000  131.169998  130.522049   \n",
       "866  2018-12-28  132.000000  137.389999  130.309998  133.649994  132.989807   \n",
       "867  2018-12-31  135.399994  136.710007  132.259995  133.500000  132.840530   \n",
       "\n",
       "       Volume  \n",
       "808   9780500  \n",
       "809  10665900  \n",
       "810  10215300  \n",
       "811   6837500  \n",
       "812  17123500  \n",
       "813  18135900  \n",
       "814  15205900  \n",
       "815  11244000  \n",
       "816  10217800  \n",
       "817   8241700  \n",
       "818  13100500  \n",
       "819  15340200  \n",
       "820   9221100  \n",
       "821  15660900  \n",
       "822  22107200  \n",
       "823  23793000  \n",
       "824  16619600  \n",
       "825  18950400  \n",
       "826  20179800  \n",
       "827  18644300  \n",
       "828  14163200  \n",
       "829  11324000  \n",
       "830   9483300  \n",
       "831   7475300  \n",
       "832  12095300  \n",
       "833  12783800  \n",
       "834  10331000  \n",
       "835  15427900  \n",
       "836  16117800  \n",
       "837  13164500  \n",
       "838  21017700  \n",
       "839  49088000  \n",
       "840  42445500  \n",
       "841  42300800  \n",
       "842  25637400  \n",
       "843  10299200  \n",
       "844  20370800  \n",
       "845  18451500  \n",
       "846  20113100  \n",
       "847  13729300  \n",
       "848  18239100  \n",
       "849  22270100  \n",
       "850  20302800  \n",
       "851  17307700  \n",
       "852  17041900  \n",
       "853  15736800  \n",
       "854  16797800  \n",
       "855  16353400  \n",
       "856  11784600  \n",
       "857  11795500  \n",
       "858  16571700  \n",
       "859  14109300  \n",
       "860  18634100  \n",
       "861  18739700  \n",
       "862  21593500  \n",
       "863  11596000  \n",
       "864  17377500  \n",
       "865  15926100  \n",
       "866  15718200  \n",
       "867  11628500  "
      ]
     },
     "execution_count": 21,
     "metadata": {},
     "output_type": "execute_result"
    }
   ],
   "source": [
    "data_training.tail(60)"
   ]
  },
  {
   "cell_type": "code",
   "execution_count": 22,
   "metadata": {
    "executionInfo": {
     "elapsed": 504,
     "status": "ok",
     "timestamp": 1628910564861,
     "user": {
      "displayName": "Anthony So",
      "photoUrl": "https://lh3.googleusercontent.com/a-/AOh14GiYepcJQjaVrQ1i01LEROgsJ738vi03JrR51Ryb3w=s64",
      "userId": "11809607246124237079"
     },
     "user_tz": -600
    },
    "id": "z8Pf6RLFcMvE"
   },
   "outputs": [],
   "source": [
    "past_60_days = data_training.tail(60)\n"
   ]
  },
  {
   "cell_type": "code",
   "execution_count": 23,
   "metadata": {
    "colab": {
     "base_uri": "https://localhost:8080/",
     "height": 204
    },
    "executionInfo": {
     "elapsed": 5,
     "status": "ok",
     "timestamp": 1628910565276,
     "user": {
      "displayName": "Anthony So",
      "photoUrl": "https://lh3.googleusercontent.com/a-/AOh14GiYepcJQjaVrQ1i01LEROgsJ738vi03JrR51Ryb3w=s64",
      "userId": "11809607246124237079"
     },
     "user_tz": -600
    },
    "id": "0E2X6bIXcb9o",
    "outputId": "f636559f-2281-4ec7-a843-6db0b052c0a2"
   },
   "outputs": [
    {
     "data": {
      "text/html": [
       "<div>\n",
       "<style scoped>\n",
       "    .dataframe tbody tr th:only-of-type {\n",
       "        vertical-align: middle;\n",
       "    }\n",
       "\n",
       "    .dataframe tbody tr th {\n",
       "        vertical-align: top;\n",
       "    }\n",
       "\n",
       "    .dataframe thead th {\n",
       "        text-align: right;\n",
       "    }\n",
       "</style>\n",
       "<table border=\"1\" class=\"dataframe\">\n",
       "  <thead>\n",
       "    <tr style=\"text-align: right;\">\n",
       "      <th></th>\n",
       "      <th>Open</th>\n",
       "      <th>High</th>\n",
       "      <th>Low</th>\n",
       "      <th>Close</th>\n",
       "      <th>Volume</th>\n",
       "    </tr>\n",
       "  </thead>\n",
       "  <tbody>\n",
       "    <tr>\n",
       "      <td>0</td>\n",
       "      <td>285.269989</td>\n",
       "      <td>286.250000</td>\n",
       "      <td>276.179993</td>\n",
       "      <td>279.290009</td>\n",
       "      <td>9780500</td>\n",
       "    </tr>\n",
       "    <tr>\n",
       "      <td>1</td>\n",
       "      <td>278.290009</td>\n",
       "      <td>280.799988</td>\n",
       "      <td>267.540009</td>\n",
       "      <td>269.859985</td>\n",
       "      <td>10665900</td>\n",
       "    </tr>\n",
       "    <tr>\n",
       "      <td>2</td>\n",
       "      <td>266.500000</td>\n",
       "      <td>271.160004</td>\n",
       "      <td>260.079987</td>\n",
       "      <td>265.769989</td>\n",
       "      <td>10215300</td>\n",
       "    </tr>\n",
       "    <tr>\n",
       "      <td>3</td>\n",
       "      <td>264.940002</td>\n",
       "      <td>268.760010</td>\n",
       "      <td>262.799988</td>\n",
       "      <td>265.540009</td>\n",
       "      <td>6837500</td>\n",
       "    </tr>\n",
       "    <tr>\n",
       "      <td>4</td>\n",
       "      <td>261.260010</td>\n",
       "      <td>263.109985</td>\n",
       "      <td>245.600006</td>\n",
       "      <td>245.690002</td>\n",
       "      <td>17123500</td>\n",
       "    </tr>\n",
       "  </tbody>\n",
       "</table>\n",
       "</div>"
      ],
      "text/plain": [
       "         Open        High         Low       Close    Volume\n",
       "0  285.269989  286.250000  276.179993  279.290009   9780500\n",
       "1  278.290009  280.799988  267.540009  269.859985  10665900\n",
       "2  266.500000  271.160004  260.079987  265.769989  10215300\n",
       "3  264.940002  268.760010  262.799988  265.540009   6837500\n",
       "4  261.260010  263.109985  245.600006  245.690002  17123500"
      ]
     },
     "execution_count": 23,
     "metadata": {},
     "output_type": "execute_result"
    }
   ],
   "source": [
    "df = past_60_days.append(data_test, ignore_index = True)\n",
    "df = df.drop(['Date', 'Adj Close'], axis = 1)\n",
    "df.head()"
   ]
  },
  {
   "cell_type": "code",
   "execution_count": 24,
   "metadata": {
    "colab": {
     "base_uri": "https://localhost:8080/"
    },
    "executionInfo": {
     "elapsed": 510,
     "status": "ok",
     "timestamp": 1628910568440,
     "user": {
      "displayName": "Anthony So",
      "photoUrl": "https://lh3.googleusercontent.com/a-/AOh14GiYepcJQjaVrQ1i01LEROgsJ738vi03JrR51Ryb3w=s64",
      "userId": "11809607246124237079"
     },
     "user_tz": -600
    },
    "id": "QMHtD87TdaQH",
    "outputId": "5a541510-9021-4c86-cbbb-c989b6ece8d2"
   },
   "outputs": [],
   "source": [
    "inputs = scaler.transform(df)"
   ]
  },
  {
   "cell_type": "code",
   "execution_count": 25,
   "metadata": {
    "executionInfo": {
     "elapsed": 2,
     "status": "ok",
     "timestamp": 1628910569056,
     "user": {
      "displayName": "Anthony So",
      "photoUrl": "https://lh3.googleusercontent.com/a-/AOh14GiYepcJQjaVrQ1i01LEROgsJ738vi03JrR51Ryb3w=s64",
      "userId": "11809607246124237079"
     },
     "user_tz": -600
    },
    "id": "g2fnMrx_dtBt"
   },
   "outputs": [],
   "source": [
    "X_test = []\n",
    "y_test = []\n",
    "\n",
    "for i in range(60, inputs.shape[0]):\n",
    "  X_test.append(inputs[i-60:i])\n",
    "  y_test.append(inputs[i, 0])"
   ]
  },
  {
   "cell_type": "code",
   "execution_count": 26,
   "metadata": {
    "colab": {
     "base_uri": "https://localhost:8080/"
    },
    "executionInfo": {
     "elapsed": 420,
     "status": "ok",
     "timestamp": 1628910657140,
     "user": {
      "displayName": "Anthony So",
      "photoUrl": "https://lh3.googleusercontent.com/a-/AOh14GiYepcJQjaVrQ1i01LEROgsJ738vi03JrR51Ryb3w=s64",
      "userId": "11809607246124237079"
     },
     "user_tz": -600
    },
    "id": "N8h5oBO9e3hZ",
    "outputId": "5616df5b-03ef-40fe-c7d8-b6c19893cc1a"
   },
   "outputs": [
    {
     "data": {
      "text/plain": [
       "((391, 300), (391,))"
      ]
     },
     "execution_count": 26,
     "metadata": {},
     "output_type": "execute_result"
    }
   ],
   "source": [
    "X_test, y_test = np.array(X_test), np.array(y_test)\n",
    " \n",
    "X_old_shape = X_test.shape\n",
    "X_test = X_test.reshape(X_old_shape[0], \\\n",
    "                        X_old_shape[1] * X_old_shape[2])\n",
    " \n",
    "X_test.shape, y_test.shape"
   ]
  },
  {
   "cell_type": "code",
   "execution_count": 27,
   "metadata": {
    "executionInfo": {
     "elapsed": 410,
     "status": "ok",
     "timestamp": 1628910660770,
     "user": {
      "displayName": "Anthony So",
      "photoUrl": "https://lh3.googleusercontent.com/a-/AOh14GiYepcJQjaVrQ1i01LEROgsJ738vi03JrR51Ryb3w=s64",
      "userId": "11809607246124237079"
     },
     "user_tz": -600
    },
    "id": "pxdpKEQ8fbQ5"
   },
   "outputs": [],
   "source": [
    "y_pred = regressor_ann.predict(X_test)"
   ]
  },
  {
   "cell_type": "code",
   "execution_count": 28,
   "metadata": {
    "colab": {
     "base_uri": "https://localhost:8080/"
    },
    "executionInfo": {
     "elapsed": 428,
     "status": "ok",
     "timestamp": 1628910664173,
     "user": {
      "displayName": "Anthony So",
      "photoUrl": "https://lh3.googleusercontent.com/a-/AOh14GiYepcJQjaVrQ1i01LEROgsJ738vi03JrR51Ryb3w=s64",
      "userId": "11809607246124237079"
     },
     "user_tz": -600
    },
    "id": "l19VpqjrfbHV",
    "outputId": "fb9cf4a3-5b9f-40b9-d9e6-b08d25d85eb9"
   },
   "outputs": [
    {
     "data": {
      "text/plain": [
       "array([3.70274364e-03, 3.65992009e-03, 3.75248621e-03, 3.70301815e-03,\n",
       "       1.09875621e-08])"
      ]
     },
     "execution_count": 28,
     "metadata": {},
     "output_type": "execute_result"
    }
   ],
   "source": [
    "scaler.scale_"
   ]
  },
  {
   "cell_type": "code",
   "execution_count": 29,
   "metadata": {
    "colab": {
     "base_uri": "https://localhost:8080/"
    },
    "executionInfo": {
     "elapsed": 3,
     "status": "ok",
     "timestamp": 1628910665488,
     "user": {
      "displayName": "Anthony So",
      "photoUrl": "https://lh3.googleusercontent.com/a-/AOh14GiYepcJQjaVrQ1i01LEROgsJ738vi03JrR51Ryb3w=s64",
      "userId": "11809607246124237079"
     },
     "user_tz": -600
    },
    "id": "FNEDhqhWfa6Q",
    "outputId": "9c4a1b67-35a1-40f1-f437-30b109c7dc52"
   },
   "outputs": [
    {
     "data": {
      "text/plain": [
       "270.0700067909643"
      ]
     },
     "execution_count": 29,
     "metadata": {},
     "output_type": "execute_result"
    }
   ],
   "source": [
    "scale = 1/3.70274364e-03\n",
    "scale"
   ]
  },
  {
   "cell_type": "code",
   "execution_count": 30,
   "metadata": {
    "executionInfo": {
     "elapsed": 2,
     "status": "ok",
     "timestamp": 1628910666352,
     "user": {
      "displayName": "Anthony So",
      "photoUrl": "https://lh3.googleusercontent.com/a-/AOh14GiYepcJQjaVrQ1i01LEROgsJ738vi03JrR51Ryb3w=s64",
      "userId": "11809607246124237079"
     },
     "user_tz": -600
    },
    "id": "HAwN2g0WgOi9"
   },
   "outputs": [],
   "source": [
    "y_pred = y_pred*scale\n",
    "y_test = y_test*scale"
   ]
  },
  {
   "cell_type": "code",
   "execution_count": 32,
   "metadata": {
    "colab": {
     "base_uri": "https://localhost:8080/",
     "height": 350
    },
    "executionInfo": {
     "elapsed": 804,
     "status": "ok",
     "timestamp": 1628910679777,
     "user": {
      "displayName": "Anthony So",
      "photoUrl": "https://lh3.googleusercontent.com/a-/AOh14GiYepcJQjaVrQ1i01LEROgsJ738vi03JrR51Ryb3w=s64",
      "userId": "11809607246124237079"
     },
     "user_tz": -600
    },
    "id": "GYIBqDiSgvwE",
    "outputId": "ac604ae0-f69f-423b-d918-78612953c4cc"
   },
   "outputs": [
    {
     "data": {
      "image/png": "[encoded data removed]",
      "text/plain": [
       "<Figure size 1008x360 with 1 Axes>"
      ]
     },
     "metadata": {
      "needs_background": "light"
     },
     "output_type": "display_data"
    }
   ],
   "source": [
    "plt.figure(figsize=(14,5))\n",
    "plt.plot(y_test, color = 'black', label = \"Real NVDA Stock Price\")\n",
    "plt.plot(y_pred, color = 'gray', label = 'Predicted NVDA Stock Price')\n",
    "plt.title('NVDA Stock Price Prediction')\n",
    "plt.xlabel('time')\n",
    "plt.ylabel('NVDA Stock Price')\n",
    "plt.legend()\n",
    "plt.show()\n"
   ]
  },
  {
   "cell_type": "code",
   "execution_count": null,
   "metadata": {},
   "outputs": [],
   "source": []
  }
 ],
 "metadata": {
  "colab": {
   "collapsed_sections": [],
   "name": "Exercise_9_1.ipynb",
   "provenance": []
  },
  "kernelspec": {
   "display_name": "tensorflow",
   "language": "python",
   "name": "tensorflow"
  },
  "language_info": {
   "codemirror_mode": {
    "name": "ipython",
    "version": 3
   },
   "file_extension": ".py",
   "mimetype": "text/x-python",
   "name": "python",
   "nbconvert_exporter": "python",
   "pygments_lexer": "ipython3",
   "version": "3.7.10"
  }
 },
 "nbformat": 4,
 "nbformat_minor": 1
}
