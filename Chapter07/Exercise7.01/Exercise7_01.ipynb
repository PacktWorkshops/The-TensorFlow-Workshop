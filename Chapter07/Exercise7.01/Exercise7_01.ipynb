{
  "nbformat": 4,
  "nbformat_minor": 0,
  "metadata": {
    "colab": {
      "name": "Copy of Exercise7.01.ipynb",
      "provenance": [],
      "collapsed_sections": []
    },
    "kernelspec": {
      "name": "python3",
      "display_name": "Python 3"
    }
  },
  "cells": [
    {
      "cell_type": "markdown",
      "metadata": {
        "id": "on_SDWrtZEld"
      },
      "source": [
        "# **Exercise 7.01**\n",
        "# **Our First Layer**\n",
        "\n",
        "We’re going to complete the first step in creating a convolutional neural network. We’re going to start building our CNN. Our fist step will be to add our first convolutional layer.\n"
      ]
    },
    {
      "cell_type": "markdown",
      "metadata": {
        "id": "7pBpi1df0n8e"
      },
      "source": [
        "**1. Import TensorFlow**"
      ]
    },
    {
      "cell_type": "code",
      "metadata": {
        "id": "Rdf4rNQvBCfG"
      },
      "source": [
        "import tensorflow as tf\n",
        "from tensorflow.keras import models, layers"
      ],
      "execution_count": 2,
      "outputs": []
    },
    {
      "cell_type": "markdown",
      "metadata": {
        "id": "QMs1jUwZ1NW-"
      },
      "source": [
        "**2. Check the TensorFlow version.**"
      ]
    },
    {
      "cell_type": "code",
      "metadata": {
        "id": "-Pe8hA9E6gL0",
        "colab": {
          "base_uri": "https://localhost:8080/"
        },
        "outputId": "ab49d642-985e-4bcb-e560-4ec34b542d6d"
      },
      "source": [
        "print(tf.__version__)"
      ],
      "execution_count": 3,
      "outputs": [
        {
          "output_type": "stream",
          "name": "stdout",
          "text": [
            "2.7.0\n"
          ]
        }
      ]
    },
    {
      "cell_type": "markdown",
      "metadata": {
        "id": "urS6mKYcX0aI"
      },
      "source": [
        "**3. Create our first Conv2D layer.**"
      ]
    },
    {
      "cell_type": "code",
      "metadata": {
        "id": "PixZ2s5QbYQ3"
      },
      "source": [
        "image_shape = (300, 300, 3)\n",
        "\n",
        "our_first_layer = models.Sequential([layers.Conv2D\\\n",
        "                                     (filters = 16, \\\n",
        "                                      kernel_size = (3,3), \\\n",
        "                                      input_shape = image_shape), \\\n",
        "                                     layers.Activation('relu')])\n"
      ],
      "execution_count": 4,
      "outputs": []
    }
  ]
}