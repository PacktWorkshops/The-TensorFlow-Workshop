{
 "cells": [
  {
   "cell_type": "markdown",
   "metadata": {
    "colab_type": "text",
    "id": "j9GxqvjDWBjN"
   },
   "source": [
    "# **Activity 7.01**\n",
    "# **Building a Convolutional Neural Network with More ANN Layers**  \n",
    "\n",
    "In thie activity for this Chapter, you’ll be putting all that you’ve learned to use as you build your own classifier with the CIFAR100. The CIFAR100 is \n",
    "\n",
    "Here's some code to get you started. Remember you can go back to previous exercises for guidance if needed. Good luck!\n"
   ]
  },
  {
   "cell_type": "markdown",
   "metadata": {
    "colab_type": "text",
    "id": "hLuitRQdSuMN"
   },
   "source": [
    "**Import Tensorflow**"
   ]
  },
  {
   "cell_type": "code",
   "execution_count": 1,
   "metadata": {
    "colab": {},
    "colab_type": "code",
    "id": "8lrK79yLQgpf"
   },
   "outputs": [],
   "source": [
    "import tensorflow as tf"
   ]
  },
  {
   "cell_type": "markdown",
   "metadata": {
    "colab_type": "text",
    "id": "N5vmTISySwrh"
   },
   "source": [
    "**3. Import additional libraries.**"
   ]
  },
  {
   "cell_type": "code",
   "execution_count": 6,
   "metadata": {
    "colab": {},
    "colab_type": "code",
    "id": "dp_P3zaAQwVp"
   },
   "outputs": [],
   "source": [
    "import numpy as np\n",
    "import matplotlib.pyplot as plt\n",
    "import tensorflow as tf\n",
    "import tensorflow_datasets as tfds\n",
    "from tensorflow.keras.layers import Input, Conv2D, Dense, Flatten, Dropout, Activation, Rescaling\n",
    "from tensorflow.keras.models import Model\n",
    "from sklearn.metrics import confusion_matrix, ConfusionMatrixDisplay"
   ]
  },
  {
   "cell_type": "markdown",
   "metadata": {
    "colab_type": "text",
    "id": "7Jz6uBwKSxfp"
   },
   "source": [
    "**4. Load the CIFAR100 dataset.**"
   ]
  },
  {
   "cell_type": "code",
   "execution_count": 5,
   "metadata": {
    "colab": {
     "base_uri": "https://localhost:8080/",
     "height": 87
    },
    "colab_type": "code",
    "id": "jMZ7K39KQywS",
    "outputId": "53df951d-0cb8-4911-cf99-97c4cb54809c"
   },
   "outputs": [
    {
     "name": "stdout",
     "output_type": "stream",
     "text": [
      "\u001b[1mDownloading and preparing dataset 160.71 MiB (download: 160.71 MiB, generated: 132.03 MiB, total: 292.74 MiB) to content/Cifar100/cifar100/3.0.2...\u001b[0m\n"
     ]
    },
    {
     "data": {
      "application/vnd.jupyter.widget-view+json": {
       "model_id": "5ace15e357204664939b109def22c74d",
       "version_major": 2,
       "version_minor": 0
      },
      "text/plain": [
       "Dl Completed...: 0 url [00:00, ? url/s]"
      ]
     },
     "metadata": {},
     "output_type": "display_data"
    },
    {
     "data": {
      "application/vnd.jupyter.widget-view+json": {
       "model_id": "1b5f697a3617411082156a2ebddd734f",
       "version_major": 2,
       "version_minor": 0
      },
      "text/plain": [
       "Dl Size...: 0 MiB [00:00, ? MiB/s]"
      ]
     },
     "metadata": {},
     "output_type": "display_data"
    },
    {
     "data": {
      "application/vnd.jupyter.widget-view+json": {
       "model_id": "07cbcef4013a4e79a928937f0d2ca337",
       "version_major": 2,
       "version_minor": 0
      },
      "text/plain": [
       "Extraction completed...: 0 file [00:00, ? file/s]"
      ]
     },
     "metadata": {},
     "output_type": "display_data"
    },
    {
     "data": {
      "application/vnd.jupyter.widget-view+json": {
       "model_id": "758a14a9f02b4498be51888e1e86aee6",
       "version_major": 2,
       "version_minor": 0
      },
      "text/plain": [
       "Generating splits...:   0%|          | 0/2 [00:00<?, ? splits/s]"
      ]
     },
     "metadata": {},
     "output_type": "display_data"
    },
    {
     "data": {
      "application/vnd.jupyter.widget-view+json": {
       "model_id": "178515762c5e40478a1e3147a548c7af",
       "version_major": 2,
       "version_minor": 0
      },
      "text/plain": [
       "Generating train examples...:   0%|          | 0/50000 [00:00<?, ? examples/s]"
      ]
     },
     "metadata": {},
     "output_type": "display_data"
    },
    {
     "name": "stderr",
     "output_type": "stream",
     "text": [
      "2021-11-24 13:15:57.819336: I tensorflow/core/platform/cpu_feature_guard.cc:142] This TensorFlow binary is optimized with oneAPI Deep Neural Network Library (oneDNN) to use the following CPU instructions in performance-critical operations:  AVX2 FMA\n",
      "To enable them in other operations, rebuild TensorFlow with the appropriate compiler flags.\n"
     ]
    },
    {
     "data": {
      "application/vnd.jupyter.widget-view+json": {
       "model_id": "1207e97433d94dedae538c2fb0cbf7e4",
       "version_major": 2,
       "version_minor": 0
      },
      "text/plain": [
       "Shuffling cifar100-train.tfrecord...:   0%|          | 0/50000 [00:00<?, ? examples/s]"
      ]
     },
     "metadata": {},
     "output_type": "display_data"
    },
    {
     "data": {
      "application/vnd.jupyter.widget-view+json": {
       "model_id": "d0bc302d4f2d4a5090265fae6c1c0417",
       "version_major": 2,
       "version_minor": 0
      },
      "text/plain": [
       "Generating test examples...:   0%|          | 0/10000 [00:00<?, ? examples/s]"
      ]
     },
     "metadata": {},
     "output_type": "display_data"
    },
    {
     "data": {
      "application/vnd.jupyter.widget-view+json": {
       "model_id": "1718f4c2b9b54c63b70206b083476cde",
       "version_major": 2,
       "version_minor": 0
      },
      "text/plain": [
       "Shuffling cifar100-test.tfrecord...:   0%|          | 0/10000 [00:00<?, ? examples/s]"
      ]
     },
     "metadata": {},
     "output_type": "display_data"
    },
    {
     "name": "stdout",
     "output_type": "stream",
     "text": [
      "\u001b[1mDataset cifar100 downloaded and prepared to content/Cifar100/cifar100/3.0.2. Subsequent calls will reuse this data.\u001b[0m\n",
      "Shape of Images in the Dataset: \t(32, 32, 3)\n",
      "Number of Classes in the Dataset: \t100\n",
      "Names of Classes in the Dataset: \t['apple', 'aquarium_fish', 'baby', 'bear', 'beaver', 'bed', 'bee', 'beetle', 'bicycle', 'bottle', 'bowl', 'boy', 'bridge', 'bus', 'butterfly', 'camel', 'can', 'castle', 'caterpillar', 'cattle', 'chair', 'chimpanzee', 'clock', 'cloud', 'cockroach', 'couch', 'crab', 'crocodile', 'cup', 'dinosaur', 'dolphin', 'elephant', 'flatfish', 'forest', 'fox', 'girl', 'hamster', 'house', 'kangaroo', 'keyboard', 'lamp', 'lawn_mower', 'leopard', 'lion', 'lizard', 'lobster', 'man', 'maple_tree', 'motorcycle', 'mountain', 'mouse', 'mushroom', 'oak_tree', 'orange', 'orchid', 'otter', 'palm_tree', 'pear', 'pickup_truck', 'pine_tree', 'plain', 'plate', 'poppy', 'porcupine', 'possum', 'rabbit', 'raccoon', 'ray', 'road', 'rocket', 'rose', 'sea', 'seal', 'shark', 'shrew', 'skunk', 'skyscraper', 'snail', 'snake', 'spider', 'squirrel', 'streetcar', 'sunflower', 'sweet_pepper', 'table', 'tank', 'telephone', 'television', 'tiger', 'tractor', 'train', 'trout', 'tulip', 'turtle', 'wardrobe', 'whale', 'willow_tree', 'wolf', 'woman', 'worm']\n",
      "\n",
      "Total examples in Train Dataset:       \t50000\n",
      "Total examples in Test Dataset:       \t10000\n"
     ]
    }
   ],
   "source": [
    "(c100_train_dataset, c100_test_dataset), dataset_info = tfds.load(\\\n",
    "                         'cifar100'\n",
    "                         , split = ['train', 'test']\n",
    "                         , data_dir = 'content/Cifar100/'\n",
    "                         , shuffle_files = True\n",
    "                         , as_supervised = True\n",
    "                         , with_info = True)\n",
    "assert isinstance(c100_train_dataset, tf.data.Dataset)\n",
    "\n",
    "image_shape = dataset_info.features[\"image\"].shape\n",
    "print(f'Shape of Images in the Dataset: \\t{image_shape}')\n",
    "num_classes = dataset_info.features[\"label\"].num_classes\n",
    "print(f'Number of Classes in the Dataset: \\t{num_classes}')\n",
    "\n",
    "names_of_classes = dataset_info.features[\"label\"].names\n",
    "print(f'Names of Classes in the Dataset: \\t{names_of_classes}\\n')\n",
    "\n",
    "print(f'Total examples in Train Dataset: \\\n",
    "      \\t{len(c100_train_dataset)}')\n",
    "print(f'Total examples in Test Dataset: \\\n",
    "      \\t{len(c100_test_dataset)}')"
   ]
  },
  {
   "cell_type": "code",
   "execution_count": 10,
   "metadata": {
    "colab": {
     "base_uri": "https://localhost:8080/",
     "height": 34
    },
    "colab_type": "code",
    "id": "t4XznJ5zQ14U",
    "outputId": "0cfca28d-9a49-4a48-ba78-9b21b258c018"
   },
   "outputs": [],
   "source": [
    "normalization_layer = Rescaling(1./255)\n",
    "\n",
    "c100_train_dataset = c100_train_dataset.map\\\n",
    "                     (lambda x, y: (normalization_layer(x), y), \\\n",
    "                      num_parallel_calls = \\\n",
    "                      tf.data.experimental.AUTOTUNE)\n",
    "c100_train_dataset = c100_train_dataset.cache()\n",
    "c100_train_dataset = c100_train_dataset.shuffle\\\n",
    "                     (len(c100_train_dataset))\n",
    "c100_train_dataset = c100_train_dataset.batch(32)\n",
    "c100_train_dataset = c100_train_dataset.prefetch(tf.data.experimental.AUTOTUNE)\n",
    "\n",
    "c100_test_dataset = c100_test_dataset.map\\\n",
    "                    (lambda x, y: (normalization_layer(x), y), \\\n",
    "                     num_parallel_calls = \\\n",
    "                     tf.data.experimental.AUTOTUNE)\n",
    "c100_test_dataset = c100_test_dataset.cache()\n",
    "c100_test_dataset = c100_test_dataset.batch(128)\n",
    "c100_test_dataset = \\\n",
    "c100_test_dataset.prefetch(tf.data.experimental.AUTOTUNE)\n"
   ]
  },
  {
   "cell_type": "markdown",
   "metadata": {
    "colab_type": "text",
    "id": "yWtTWoWjSz6h"
   },
   "source": [
    "**Build the model.**"
   ]
  },
  {
   "cell_type": "code",
   "execution_count": 11,
   "metadata": {
    "colab": {},
    "colab_type": "code",
    "id": "5Q02AphYQ67S"
   },
   "outputs": [],
   "source": [
    "input_layer = Input(shape=image_shape)\n",
    "x = Conv2D(filters = 32, kernel_size = \\\n",
    "           (3, 3), strides=2)(input_layer)\n",
    "x = Activation('relu')(x)\n",
    "\n",
    "x = Conv2D(filters = 64, kernel_size = (3, 3), strides=2)(x)\n",
    "x = Activation('relu')(x)\n",
    "\n",
    "x = Conv2D(filters = 128, kernel_size = (3, 3), strides=2)(x)\n",
    "x = Activation('relu')(x)\n",
    "\n",
    "x = Flatten()(x)\n",
    "x = Dropout(rate = 0.5)(x)\n",
    "\n",
    "x = Dense(units = 1024)(x)\n",
    "x = Activation('relu')(x)\n",
    "x = Dropout(rate = 0.2)(x)\n",
    "\n",
    "x = Dense(units = num_classes)(x)\n",
    "output = Activation('softmax')(x)\n",
    "\n",
    "c100_classification_model = Model(input_layer, output)\n"
   ]
  },
  {
   "cell_type": "markdown",
   "metadata": {
    "colab_type": "text",
    "id": "0wdtgeaUS0kB"
   },
   "source": [
    "**Compile the model.**"
   ]
  },
  {
   "cell_type": "code",
   "execution_count": 13,
   "metadata": {
    "colab": {
     "base_uri": "https://localhost:8080/",
     "height": 550
    },
    "colab_type": "code",
    "id": "RN6FZkKSQ_zy",
    "outputId": "58a9459f-6496-46b2-b456-14943c3cb1fd"
   },
   "outputs": [
    {
     "name": "stdout",
     "output_type": "stream",
     "text": [
      "Epoch 1/15\n"
     ]
    },
    {
     "name": "stderr",
     "output_type": "stream",
     "text": [
      "2021-11-24 13:20:48.843205: I tensorflow/compiler/mlir/mlir_graph_optimization_pass.cc:185] None of the MLIR Optimization Passes are enabled (registered 2)\n"
     ]
    },
    {
     "name": "stdout",
     "output_type": "stream",
     "text": [
      "1563/1563 [==============================] - 27s 16ms/step - loss: 3.8222 - accuracy: 0.1156 - val_loss: 3.3572 - val_accuracy: 0.2025\n",
      "Epoch 2/15\n",
      "1563/1563 [==============================] - 25s 16ms/step - loss: 3.2672 - accuracy: 0.2104 - val_loss: 3.0061 - val_accuracy: 0.2647\n",
      "Epoch 3/15\n",
      "1563/1563 [==============================] - 23s 15ms/step - loss: 3.0061 - accuracy: 0.2555 - val_loss: 2.8690 - val_accuracy: 0.2938\n",
      "Epoch 4/15\n",
      "1563/1563 [==============================] - 25s 16ms/step - loss: 2.8389 - accuracy: 0.2887 - val_loss: 2.7564 - val_accuracy: 0.3193\n",
      "Epoch 5/15\n",
      "1563/1563 [==============================] - 25s 16ms/step - loss: 2.6978 - accuracy: 0.3169 - val_loss: 2.6679 - val_accuracy: 0.3395\n",
      "Epoch 6/15\n",
      "1563/1563 [==============================] - 24s 16ms/step - loss: 2.5823 - accuracy: 0.3393 - val_loss: 2.5978 - val_accuracy: 0.3492\n",
      "Epoch 7/15\n",
      "1563/1563 [==============================] - 27s 17ms/step - loss: 2.4750 - accuracy: 0.3613 - val_loss: 2.5678 - val_accuracy: 0.3543\n",
      "Epoch 8/15\n",
      "1563/1563 [==============================] - 27s 17ms/step - loss: 2.3959 - accuracy: 0.3768 - val_loss: 2.5325 - val_accuracy: 0.3705\n",
      "Epoch 9/15\n",
      "1563/1563 [==============================] - 25s 16ms/step - loss: 2.3119 - accuracy: 0.3950 - val_loss: 2.5994 - val_accuracy: 0.3547\n",
      "Epoch 10/15\n",
      "1563/1563 [==============================] - 25s 16ms/step - loss: 2.2359 - accuracy: 0.4103 - val_loss: 2.5147 - val_accuracy: 0.3706\n",
      "Epoch 11/15\n",
      "1563/1563 [==============================] - 24s 15ms/step - loss: 2.1746 - accuracy: 0.4208 - val_loss: 2.4713 - val_accuracy: 0.3761\n",
      "Epoch 12/15\n",
      "1563/1563 [==============================] - 23s 15ms/step - loss: 2.1091 - accuracy: 0.4330 - val_loss: 2.4854 - val_accuracy: 0.3808\n",
      "Epoch 13/15\n",
      "1563/1563 [==============================] - 25s 16ms/step - loss: 2.0520 - accuracy: 0.4482 - val_loss: 2.4709 - val_accuracy: 0.3830\n",
      "Epoch 14/15\n",
      "1563/1563 [==============================] - 24s 15ms/step - loss: 2.0105 - accuracy: 0.4557 - val_loss: 2.4734 - val_accuracy: 0.3818\n",
      "Epoch 15/15\n",
      "1563/1563 [==============================] - 24s 16ms/step - loss: 1.9561 - accuracy: 0.4664 - val_loss: 2.4863 - val_accuracy: 0.3827\n"
     ]
    }
   ],
   "source": [
    "c100_classification_model.compile(\\\n",
    "optimizer='adam', loss='sparse_categorical_crossentropy', \\\n",
    "metrics = ['accuracy'], loss_weights = None, \\\n",
    "weighted_metrics = None, run_eagerly = None, \\\n",
    "steps_per_execution = None\n",
    ")\n",
    "history = c100_classification_model.fit(c100_train_dataset, validation_data=c100_test_dataset, epochs=15)"
   ]
  },
  {
   "cell_type": "markdown",
   "metadata": {
    "colab_type": "text",
    "id": "QY38ihW-S1Kb"
   },
   "source": [
    "**Plot loss.**"
   ]
  },
  {
   "cell_type": "code",
   "execution_count": 14,
   "metadata": {
    "colab": {
     "base_uri": "https://localhost:8080/",
     "height": 264
    },
    "colab_type": "code",
    "id": "btO_K9snRAsJ",
    "outputId": "abae6f8c-a40e-4a36-870f-b1de6c25b605"
   },
   "outputs": [
    {
     "data": {
      "image/png": "[encoded data removed]",
      "text/plain": [
       "<Figure size 432x288 with 1 Axes>"
      ]
     },
     "metadata": {
      "needs_background": "light"
     },
     "output_type": "display_data"
    },
    {
     "data": {
      "text/plain": [
       "<Figure size 432x288 with 0 Axes>"
      ]
     },
     "metadata": {},
     "output_type": "display_data"
    }
   ],
   "source": [
    "def plot_trend_by_epoch(tr_values, val_values, title):\n",
    "    epoch_number = range(len(tr_values))\n",
    "    plt.plot(epoch_number, tr_values, 'r')\n",
    "    plt.plot(epoch_number, val_values, 'b')\n",
    "    plt.title(title)\n",
    "    plt.xlabel('epochs')\n",
    "    plt.legend(['Training '+title, 'Validation '+title])\n",
    "    plt.figure()\n",
    "\n",
    "hist_dict = history.history\n",
    "\n",
    "tr_loss, val_loss = hist_dict['loss'], \\\n",
    "                    hist_dict['val_loss']\n",
    "plot_trend_by_epoch(tr_loss, val_loss, \"Loss\")"
   ]
  },
  {
   "cell_type": "markdown",
   "metadata": {
    "colab_type": "text",
    "id": "MpipbyJAS175"
   },
   "source": [
    "**Plot accuracy**"
   ]
  },
  {
   "cell_type": "code",
   "execution_count": 15,
   "metadata": {
    "colab": {
     "base_uri": "https://localhost:8080/",
     "height": 264
    },
    "colab_type": "code",
    "id": "A108Cj0FRFda",
    "outputId": "5b80cb47-e800-447a-f5e5-21c117ea6c60"
   },
   "outputs": [
    {
     "data": {
      "image/png": "[encoded data removed]",
      "text/plain": [
       "<Figure size 432x288 with 1 Axes>"
      ]
     },
     "metadata": {
      "needs_background": "light"
     },
     "output_type": "display_data"
    },
    {
     "data": {
      "text/plain": [
       "<Figure size 432x288 with 0 Axes>"
      ]
     },
     "metadata": {},
     "output_type": "display_data"
    }
   ],
   "source": [
    "tr_accuracy, val_accuracy = hist_dict['accuracy'], \\\n",
    "                            hist_dict['val_accuracy']\n",
    "plot_trend_by_epoch(tr_accuracy, val_accuracy, \"Accuracy\")\n"
   ]
  },
  {
   "cell_type": "markdown",
   "metadata": {
    "colab_type": "text",
    "id": "McdTp95VS4OB"
   },
   "source": [
    "**Check random incorrectly classified image.**"
   ]
  },
  {
   "cell_type": "code",
   "execution_count": 16,
   "metadata": {
    "colab": {
     "base_uri": "https://localhost:8080/",
     "height": 281
    },
    "colab_type": "code",
    "id": "lNRntBSpRONq",
    "outputId": "816e61d4-e87d-4945-9721-2c6feec1f622"
   },
   "outputs": [
    {
     "name": "stdout",
     "output_type": "stream",
     "text": [
      "True label: pickup_truck\n",
      "Predicted label: streetcar\n"
     ]
    },
    {
     "data": {
      "image/png": "[encoded data removed]",
      "text/plain": [
       "<Figure size 432x288 with 1 Axes>"
      ]
     },
     "metadata": {
      "needs_background": "light"
     },
     "output_type": "display_data"
    }
   ],
   "source": [
    "test_labels = []\n",
    "test_images = []\n",
    "for image, label in tfds.as_numpy(c100_test_dataset.unbatch()):\n",
    "    test_images.append(image)\n",
    "    test_labels.append(label)\n",
    "test_labels = np.array(test_labels)\n",
    "\n",
    "predictions = c100_classification_model.predict\\\n",
    "              (c100_test_dataset).argmax(axis=1)\n",
    "\n",
    "incorrect_predictions = np.where(predictions != test_labels)[0]\n",
    "index = np.random.choice(incorrect_predictions)\n",
    "\n",
    "plt.imshow(test_images[index])\n",
    "print(f'True label: {names_of_classes[test_labels[index]]}')\n",
    "print(f'Predicted label: {names_of_classes[predictions[index]]}')\n"
   ]
  }
 ],
 "metadata": {
  "colab": {
   "collapsed_sections": [],
   "name": "Activity7.01_Solution.ipynb",
   "provenance": []
  },
  "kernelspec": {
   "display_name": "tf22",
   "language": "python",
   "name": "tf22"
  },
  "language_info": {
   "codemirror_mode": {
    "name": "ipython",
    "version": 3
   },
   "file_extension": ".py",
   "mimetype": "text/x-python",
   "name": "python",
   "nbconvert_exporter": "python",
   "pygments_lexer": "ipython3",
   "version": "3.9.8"
  }
 },
 "nbformat": 4,
 "nbformat_minor": 1
}
