{
 "cells": [
  {
   "cell_type": "markdown",
   "metadata": {},
   "source": [
    "# Exercise 4.04: Creating a Logistic Regression Model as an ANN with TensorFlow"
   ]
  },
  {
   "cell_type": "code",
   "execution_count": 1,
   "metadata": {},
   "outputs": [],
   "source": [
    "import tensorflow as tf\n",
    "import pandas as pd"
   ]
  },
  {
   "cell_type": "code",
   "execution_count": 2,
   "metadata": {},
   "outputs": [],
   "source": [
    "df = pd.read_csv('../Datasets/qsar_androgen_receptor.csv',\\\n",
    "                 sep=';')"
   ]
  },
  {
   "cell_type": "code",
   "execution_count": 3,
   "metadata": {},
   "outputs": [],
   "source": [
    "df.dropna(inplace=True)"
   ]
  },
  {
   "cell_type": "code",
   "execution_count": 5,
   "metadata": {},
   "outputs": [],
   "source": [
    "target = df['positive'].apply(lambda x: 1 if x=='positive' else 0)\n",
    "features = df.drop('positive', axis=1)"
   ]
  },
  {
   "cell_type": "code",
   "execution_count": 6,
   "metadata": {},
   "outputs": [],
   "source": [
    "model = tf.keras.Sequential()"
   ]
  },
  {
   "cell_type": "code",
   "execution_count": 7,
   "metadata": {},
   "outputs": [],
   "source": [
    "model.add(tf.keras.layers.InputLayer\\\n",
    "          (input_shape=(features.shape[1],), \\\n",
    "           name='Input_layer'))\n",
    "model.add(tf.keras.layers.Dense(1, name='Output_layer', \\\n",
    "                                activation='sigmoid'))"
   ]
  },
  {
   "cell_type": "code",
   "execution_count": 8,
   "metadata": {},
   "outputs": [],
   "source": [
    "model.compile(tf.optimizers.RMSprop(0.0001), \\\n",
    "              loss='binary_crossentropy', metrics=['accuracy'])"
   ]
  },
  {
   "cell_type": "code",
   "execution_count": 9,
   "metadata": {},
   "outputs": [],
   "source": [
    "tensorboard_callback = tf.keras.callbacks\\\n",
    "                         .TensorBoard(log_dir=\"./logs\")"
   ]
  },
  {
   "cell_type": "code",
   "execution_count": 10,
   "metadata": {},
   "outputs": [
    {
     "name": "stdout",
     "output_type": "stream",
     "text": [
      "Epoch 1/50\n",
      "43/43 [==============================] - 0s 6ms/step - loss: 0.7507 - accuracy: 0.4013 - val_loss: 0.7307 - val_accuracy: 0.4704\n",
      "Epoch 2/50\n",
      "43/43 [==============================] - 0s 2ms/step - loss: 0.6650 - accuracy: 0.6039 - val_loss: 0.6098 - val_accuracy: 0.7396\n",
      "Epoch 3/50\n",
      "43/43 [==============================] - 0s 2ms/step - loss: 0.6062 - accuracy: 0.7366 - val_loss: 0.5183 - val_accuracy: 0.8432\n",
      "Epoch 4/50\n",
      "43/43 [==============================] - 0s 3ms/step - loss: 0.5610 - accuracy: 0.8042 - val_loss: 0.4562 - val_accuracy: 0.8964\n",
      "Epoch 5/50\n",
      "43/43 [==============================] - 0s 2ms/step - loss: 0.5289 - accuracy: 0.8361 - val_loss: 0.4149 - val_accuracy: 0.9172\n",
      "Epoch 6/50\n",
      "43/43 [==============================] - 0s 2ms/step - loss: 0.5052 - accuracy: 0.8546 - val_loss: 0.3875 - val_accuracy: 0.9231\n",
      "Epoch 7/50\n",
      "43/43 [==============================] - 0s 2ms/step - loss: 0.4874 - accuracy: 0.8591 - val_loss: 0.3665 - val_accuracy: 0.9231\n",
      "Epoch 8/50\n",
      "43/43 [==============================] - 0s 2ms/step - loss: 0.4727 - accuracy: 0.8657 - val_loss: 0.3516 - val_accuracy: 0.9231\n",
      "Epoch 9/50\n",
      "43/43 [==============================] - 0s 2ms/step - loss: 0.4606 - accuracy: 0.8665 - val_loss: 0.3417 - val_accuracy: 0.9231\n",
      "Epoch 10/50\n",
      "43/43 [==============================] - 0s 2ms/step - loss: 0.4507 - accuracy: 0.8680 - val_loss: 0.3339 - val_accuracy: 0.9231\n",
      "Epoch 11/50\n",
      "43/43 [==============================] - 0s 2ms/step - loss: 0.4418 - accuracy: 0.8687 - val_loss: 0.3271 - val_accuracy: 0.9231\n",
      "Epoch 12/50\n",
      "43/43 [==============================] - 0s 2ms/step - loss: 0.4333 - accuracy: 0.8687 - val_loss: 0.3225 - val_accuracy: 0.9231\n",
      "Epoch 13/50\n",
      "43/43 [==============================] - 0s 2ms/step - loss: 0.4256 - accuracy: 0.8687 - val_loss: 0.3179 - val_accuracy: 0.9231\n",
      "Epoch 14/50\n",
      "43/43 [==============================] - 0s 3ms/step - loss: 0.4180 - accuracy: 0.8687 - val_loss: 0.3141 - val_accuracy: 0.9201\n",
      "Epoch 15/50\n",
      "43/43 [==============================] - 0s 2ms/step - loss: 0.4108 - accuracy: 0.8687 - val_loss: 0.3106 - val_accuracy: 0.9201\n",
      "Epoch 16/50\n",
      "43/43 [==============================] - 0s 3ms/step - loss: 0.4043 - accuracy: 0.8694 - val_loss: 0.3082 - val_accuracy: 0.9201\n",
      "Epoch 17/50\n",
      "43/43 [==============================] - 0s 2ms/step - loss: 0.3977 - accuracy: 0.8702 - val_loss: 0.3072 - val_accuracy: 0.9201\n",
      "Epoch 18/50\n",
      "43/43 [==============================] - 0s 3ms/step - loss: 0.3913 - accuracy: 0.8709 - val_loss: 0.3063 - val_accuracy: 0.9201\n",
      "Epoch 19/50\n",
      "43/43 [==============================] - 0s 3ms/step - loss: 0.3853 - accuracy: 0.8724 - val_loss: 0.3032 - val_accuracy: 0.9231\n",
      "Epoch 20/50\n",
      "43/43 [==============================] - 0s 3ms/step - loss: 0.3797 - accuracy: 0.8739 - val_loss: 0.3020 - val_accuracy: 0.9260\n",
      "Epoch 21/50\n",
      "43/43 [==============================] - 0s 2ms/step - loss: 0.3744 - accuracy: 0.8739 - val_loss: 0.3023 - val_accuracy: 0.9260\n",
      "Epoch 22/50\n",
      "43/43 [==============================] - 0s 2ms/step - loss: 0.3691 - accuracy: 0.8754 - val_loss: 0.3011 - val_accuracy: 0.9290\n",
      "Epoch 23/50\n",
      "43/43 [==============================] - 0s 2ms/step - loss: 0.3637 - accuracy: 0.8776 - val_loss: 0.3003 - val_accuracy: 0.9320\n",
      "Epoch 24/50\n",
      "43/43 [==============================] - 0s 2ms/step - loss: 0.3584 - accuracy: 0.8791 - val_loss: 0.2990 - val_accuracy: 0.9320\n",
      "Epoch 25/50\n",
      "43/43 [==============================] - 0s 2ms/step - loss: 0.3534 - accuracy: 0.8806 - val_loss: 0.2982 - val_accuracy: 0.9320\n",
      "Epoch 26/50\n",
      "43/43 [==============================] - 0s 1ms/step - loss: 0.3488 - accuracy: 0.8806 - val_loss: 0.2992 - val_accuracy: 0.9320\n",
      "Epoch 27/50\n",
      "43/43 [==============================] - 0s 3ms/step - loss: 0.3444 - accuracy: 0.8835 - val_loss: 0.2985 - val_accuracy: 0.9320\n",
      "Epoch 28/50\n",
      "43/43 [==============================] - 0s 2ms/step - loss: 0.3402 - accuracy: 0.8835 - val_loss: 0.2981 - val_accuracy: 0.9320\n",
      "Epoch 29/50\n",
      "43/43 [==============================] - 0s 2ms/step - loss: 0.3359 - accuracy: 0.8828 - val_loss: 0.2987 - val_accuracy: 0.9379\n",
      "Epoch 30/50\n",
      "43/43 [==============================] - 0s 2ms/step - loss: 0.3317 - accuracy: 0.8843 - val_loss: 0.2990 - val_accuracy: 0.9349\n",
      "Epoch 31/50\n",
      "43/43 [==============================] - 0s 4ms/step - loss: 0.3278 - accuracy: 0.8865 - val_loss: 0.3004 - val_accuracy: 0.9408\n",
      "Epoch 32/50\n",
      "43/43 [==============================] - 0s 3ms/step - loss: 0.3238 - accuracy: 0.8872 - val_loss: 0.2998 - val_accuracy: 0.9408\n",
      "Epoch 33/50\n",
      "43/43 [==============================] - 0s 2ms/step - loss: 0.3201 - accuracy: 0.8909 - val_loss: 0.2997 - val_accuracy: 0.9379\n",
      "Epoch 34/50\n",
      "43/43 [==============================] - 0s 3ms/step - loss: 0.3166 - accuracy: 0.8939 - val_loss: 0.2999 - val_accuracy: 0.9349\n",
      "Epoch 35/50\n",
      "43/43 [==============================] - 0s 2ms/step - loss: 0.3131 - accuracy: 0.8954 - val_loss: 0.3007 - val_accuracy: 0.9349\n",
      "Epoch 36/50\n",
      "43/43 [==============================] - 0s 2ms/step - loss: 0.3097 - accuracy: 0.8954 - val_loss: 0.3016 - val_accuracy: 0.9290\n",
      "Epoch 37/50\n",
      "43/43 [==============================] - 0s 2ms/step - loss: 0.3063 - accuracy: 0.8947 - val_loss: 0.3044 - val_accuracy: 0.9290\n",
      "Epoch 38/50\n",
      "43/43 [==============================] - 0s 1ms/step - loss: 0.3032 - accuracy: 0.8961 - val_loss: 0.3060 - val_accuracy: 0.9290\n",
      "Epoch 39/50\n",
      "43/43 [==============================] - 0s 2ms/step - loss: 0.3004 - accuracy: 0.8984 - val_loss: 0.3033 - val_accuracy: 0.9290\n",
      "Epoch 40/50\n",
      "43/43 [==============================] - 0s 2ms/step - loss: 0.2978 - accuracy: 0.8984 - val_loss: 0.3049 - val_accuracy: 0.9290\n",
      "Epoch 41/50\n",
      "43/43 [==============================] - 0s 2ms/step - loss: 0.2950 - accuracy: 0.8984 - val_loss: 0.3053 - val_accuracy: 0.9231\n",
      "Epoch 42/50\n",
      "43/43 [==============================] - 0s 2ms/step - loss: 0.2923 - accuracy: 0.8984 - val_loss: 0.3050 - val_accuracy: 0.9201\n",
      "Epoch 43/50\n",
      "43/43 [==============================] - 0s 2ms/step - loss: 0.2898 - accuracy: 0.8984 - val_loss: 0.3083 - val_accuracy: 0.9172\n",
      "Epoch 44/50\n",
      "43/43 [==============================] - 0s 2ms/step - loss: 0.2874 - accuracy: 0.8976 - val_loss: 0.3120 - val_accuracy: 0.9201\n",
      "Epoch 45/50\n",
      "43/43 [==============================] - 0s 3ms/step - loss: 0.2852 - accuracy: 0.8991 - val_loss: 0.3132 - val_accuracy: 0.9172\n",
      "Epoch 46/50\n",
      "43/43 [==============================] - 0s 1ms/step - loss: 0.2831 - accuracy: 0.8999 - val_loss: 0.3137 - val_accuracy: 0.9172\n",
      "Epoch 47/50\n",
      "43/43 [==============================] - 0s 2ms/step - loss: 0.2808 - accuracy: 0.8999 - val_loss: 0.3135 - val_accuracy: 0.9172\n",
      "Epoch 48/50\n",
      "43/43 [==============================] - 0s 2ms/step - loss: 0.2785 - accuracy: 0.9021 - val_loss: 0.3147 - val_accuracy: 0.9201\n",
      "Epoch 49/50\n",
      "43/43 [==============================] - 0s 2ms/step - loss: 0.2764 - accuracy: 0.9028 - val_loss: 0.3132 - val_accuracy: 0.9201\n",
      "Epoch 50/50\n",
      "43/43 [==============================] - 0s 2ms/step - loss: 0.2743 - accuracy: 0.9028 - val_loss: 0.3143 - val_accuracy: 0.9201\n"
     ]
    },
    {
     "data": {
      "text/plain": [
       "<keras.callbacks.History at 0x1da4a2c6088>"
      ]
     },
     "execution_count": 10,
     "metadata": {},
     "output_type": "execute_result"
    }
   ],
   "source": [
    "model.fit(x=features.to_numpy(), y=target.to_numpy(),\\\n",
    "          epochs=50, callbacks=[tensorboard_callback],\\\n",
    "          validation_split=0.2)"
   ]
  },
  {
   "cell_type": "code",
   "execution_count": 11,
   "metadata": {},
   "outputs": [
    {
     "name": "stdout",
     "output_type": "stream",
     "text": [
      "53/53 [==============================] - 0s 1ms/step - loss: 0.2810 - accuracy: 0.9081\n",
      "loss: 0.2809593379497528, accuracy: 0.90806645154953\n"
     ]
    }
   ],
   "source": [
    "loss,accuracy = model.evaluate(features.to_numpy(), \\\n",
    "                               target.to_numpy())\n",
    "print(f'loss: {loss}, accuracy: {accuracy}')"
   ]
  },
  {
   "cell_type": "code",
   "execution_count": null,
   "metadata": {},
   "outputs": [],
   "source": []
  }
 ],
 "metadata": {
  "kernelspec": {
   "display_name": "tensorflow_ws",
   "language": "python",
   "name": "tensorflow_ws"
  },
  "language_info": {
   "codemirror_mode": {
    "name": "ipython",
    "version": 3
   },
   "file_extension": ".py",
   "mimetype": "text/x-python",
   "name": "python",
   "nbconvert_exporter": "python",
   "pygments_lexer": "ipython3",
   "version": "3.7.10"
  }
 },
 "nbformat": 4,
 "nbformat_minor": 2
}
