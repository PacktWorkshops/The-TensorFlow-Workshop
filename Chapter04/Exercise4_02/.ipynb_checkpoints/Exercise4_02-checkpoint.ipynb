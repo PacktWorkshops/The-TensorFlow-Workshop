{
 "cells": [
  {
   "cell_type": "markdown",
   "metadata": {},
   "source": [
    "# Exercise 4.02: Creating a Linear Regression Model as an ANN with TensorFlow"
   ]
  },
  {
   "cell_type": "code",
   "execution_count": 1,
   "metadata": {},
   "outputs": [],
   "source": [
    "import tensorflow as tf\n",
    "import pandas as pd"
   ]
  },
  {
   "cell_type": "code",
   "execution_count": 2,
   "metadata": {},
   "outputs": [],
   "source": [
    "df = pd.read_csv('../Datasets/Bias_correction_ucl.csv')"
   ]
  },
  {
   "cell_type": "code",
   "execution_count": 3,
   "metadata": {},
   "outputs": [],
   "source": [
    "df.drop('Date', inplace=True, axis=1)\n",
    "df.dropna(inplace=True)"
   ]
  },
  {
   "cell_type": "code",
   "execution_count": 4,
   "metadata": {},
   "outputs": [],
   "source": [
    "target = df[['Next_Tmax', 'Next_Tmin']]\n",
    "features = df.drop(['Next_Tmax', 'Next_Tmin'], axis=1)"
   ]
  },
  {
   "cell_type": "code",
   "execution_count": 5,
   "metadata": {},
   "outputs": [],
   "source": [
    "from sklearn.preprocessing import MinMaxScaler\n",
    "scaler = MinMaxScaler()\n",
    "feature_array = scaler.fit_transform(features)\n",
    "features = pd.DataFrame(feature_array, columns=features.columns)"
   ]
  },
  {
   "cell_type": "code",
   "execution_count": 6,
   "metadata": {},
   "outputs": [],
   "source": [
    "model = tf.keras.Sequential()"
   ]
  },
  {
   "cell_type": "code",
   "execution_count": 7,
   "metadata": {},
   "outputs": [],
   "source": [
    "model.add(tf.keras.layers.InputLayer\\\n",
    "          (input_shape=(features.shape[1],), \\\n",
    "           name='Input_layer'))\n",
    "model.add(tf.keras.layers.Dense(2, name='Output_layer'))"
   ]
  },
  {
   "cell_type": "code",
   "execution_count": 8,
   "metadata": {},
   "outputs": [],
   "source": [
    "model.compile(tf.optimizers.RMSprop(0.001), loss='mse')"
   ]
  },
  {
   "cell_type": "code",
   "execution_count": 9,
   "metadata": {},
   "outputs": [],
   "source": [
    "tensorboard_callback = tf.keras.callbacks\\\n",
    "                         .TensorBoard(log_dir=\"./logs\")"
   ]
  },
  {
   "cell_type": "code",
   "execution_count": 10,
   "metadata": {},
   "outputs": [
    {
     "name": "stdout",
     "output_type": "stream",
     "text": [
      "Epoch 1/50\n",
      "238/238 [==============================] - 1s 2ms/step - loss: 657.8444\n",
      "Epoch 2/50\n",
      "238/238 [==============================] - 0s 1ms/step - loss: 553.6920\n",
      "Epoch 3/50\n",
      "238/238 [==============================] - 0s 1ms/step - loss: 459.3081\n",
      "Epoch 4/50\n",
      "238/238 [==============================] - 0s 1ms/step - loss: 374.3499\n",
      "Epoch 5/50\n",
      "238/238 [==============================] - 0s 1ms/step - loss: 299.1006\n",
      "Epoch 6/50\n",
      "238/238 [==============================] - 0s 1ms/step - loss: 233.3547\n",
      "Epoch 7/50\n",
      "238/238 [==============================] - 0s 1ms/step - loss: 177.2377\n",
      "Epoch 8/50\n",
      "238/238 [==============================] - ETA: 0s - loss: 133.212 - 0s 1ms/step - loss: 130.6744\n",
      "Epoch 9/50\n",
      "238/238 [==============================] - 0s 1ms/step - loss: 93.5957\n",
      "Epoch 10/50\n",
      "238/238 [==============================] - 0s 416us/step - loss: 66.0592\n",
      "Epoch 11/50\n",
      "238/238 [==============================] - 0s 378us/step - loss: 47.2185\n",
      "Epoch 12/50\n",
      "238/238 [==============================] - 0s 403us/step - loss: 34.8373\n",
      "Epoch 13/50\n",
      "238/238 [==============================] - 0s 390us/step - loss: 27.2260\n",
      "Epoch 14/50\n",
      "238/238 [==============================] - 0s 425us/step - loss: 22.8502\n",
      "Epoch 15/50\n",
      "238/238 [==============================] - 0s 410us/step - loss: 20.1071\n",
      "Epoch 16/50\n",
      "238/238 [==============================] - 0s 399us/step - loss: 18.1172\n",
      "Epoch 17/50\n",
      "238/238 [==============================] - 0s 395us/step - loss: 16.3629\n",
      "Epoch 18/50\n",
      "238/238 [==============================] - 0s 772us/step - loss: 14.7854\n",
      "Epoch 19/50\n",
      "238/238 [==============================] - 0s 493us/step - loss: 13.3586\n",
      "Epoch 20/50\n",
      "238/238 [==============================] - 0s 431us/step - loss: 12.0809\n",
      "Epoch 21/50\n",
      "238/238 [==============================] - 0s 435us/step - loss: 10.9692\n",
      "Epoch 22/50\n",
      "238/238 [==============================] - 0s 439us/step - loss: 9.9814\n",
      "Epoch 23/50\n",
      "238/238 [==============================] - 0s 492us/step - loss: 9.1023\n",
      "Epoch 24/50\n",
      "238/238 [==============================] - ETA: 0s - loss: 8.381 - 0s 1ms/step - loss: 8.3326\n",
      "Epoch 25/50\n",
      "238/238 [==============================] - 0s 2ms/step - loss: 7.6473\n",
      "Epoch 26/50\n",
      "238/238 [==============================] - 0s 1ms/step - loss: 7.0676\n",
      "Epoch 27/50\n",
      "238/238 [==============================] - 0s 1ms/step - loss: 6.5723\n",
      "Epoch 28/50\n",
      "238/238 [==============================] - 0s 1ms/step - loss: 6.1253\n",
      "Epoch 29/50\n",
      "238/238 [==============================] - 0s 1ms/step - loss: 5.7685\n",
      "Epoch 30/50\n",
      "238/238 [==============================] - 0s 694us/step - loss: 5.4670\n",
      "Epoch 31/50\n",
      "238/238 [==============================] - 0s 460us/step - loss: 5.2179\n",
      "Epoch 32/50\n",
      "238/238 [==============================] - 0s 457us/step - loss: 5.0111\n",
      "Epoch 33/50\n",
      "238/238 [==============================] - 0s 454us/step - loss: 4.8421\n",
      "Epoch 34/50\n",
      "238/238 [==============================] - 0s 437us/step - loss: 4.6960\n",
      "Epoch 35/50\n",
      "238/238 [==============================] - 0s 1ms/step - loss: 4.5785\n",
      "Epoch 36/50\n",
      "238/238 [==============================] - 0s 1ms/step - loss: 4.4707\n",
      "Epoch 37/50\n",
      "238/238 [==============================] - 0s 439us/step - loss: 4.3710\n",
      "Epoch 38/50\n",
      "238/238 [==============================] - 0s 420us/step - loss: 4.2797\n",
      "Epoch 39/50\n",
      "238/238 [==============================] - 0s 486us/step - loss: 4.1997\n",
      "Epoch 40/50\n",
      "238/238 [==============================] - 0s 603us/step - loss: 4.1273\n",
      "Epoch 41/50\n",
      "238/238 [==============================] - 0s 474us/step - loss: 4.0564\n",
      "Epoch 42/50\n",
      "238/238 [==============================] - 0s 837us/step - loss: 3.9892\n",
      "Epoch 43/50\n",
      "238/238 [==============================] - 0s 1ms/step - loss: 3.9249\n",
      "Epoch 44/50\n",
      "238/238 [==============================] - 0s 696us/step - loss: 3.8652\n",
      "Epoch 45/50\n",
      "238/238 [==============================] - 0s 407us/step - loss: 3.8086\n",
      "Epoch 46/50\n",
      "238/238 [==============================] - 0s 398us/step - loss: 3.7560\n",
      "Epoch 47/50\n",
      "238/238 [==============================] - 0s 394us/step - loss: 3.7050\n",
      "Epoch 48/50\n",
      "238/238 [==============================] - 0s 403us/step - loss: 3.6558\n",
      "Epoch 49/50\n",
      "238/238 [==============================] - 0s 416us/step - loss: 3.6075\n",
      "Epoch 50/50\n",
      "238/238 [==============================] - 0s 416us/step - loss: 3.5620\n"
     ]
    },
    {
     "data": {
      "text/plain": [
       "<keras.callbacks.History at 0x1f2bc534848>"
      ]
     },
     "execution_count": 10,
     "metadata": {},
     "output_type": "execute_result"
    }
   ],
   "source": [
    "model.fit(x=features.to_numpy(), y=target.to_numpy(), \\\n",
    "          epochs=50, callbacks=[tensorboard_callback])"
   ]
  },
  {
   "cell_type": "code",
   "execution_count": 11,
   "metadata": {},
   "outputs": [
    {
     "name": "stdout",
     "output_type": "stream",
     "text": [
      "238/238 [==============================] - 0s 1ms/step - loss: 3.5370\n",
      "loss: 3.5370004177093506\n"
     ]
    }
   ],
   "source": [
    "loss = model.evaluate(features.to_numpy(), target.to_numpy())\n",
    "print('loss:', loss)"
   ]
  },
  {
   "cell_type": "code",
   "execution_count": null,
   "metadata": {},
   "outputs": [],
   "source": []
  }
 ],
 "metadata": {
  "kernelspec": {
   "display_name": "tensorflow_ws",
   "language": "python",
   "name": "tensorflow_ws"
  },
  "language_info": {
   "codemirror_mode": {
    "name": "ipython",
    "version": 3
   },
   "file_extension": ".py",
   "mimetype": "text/x-python",
   "name": "python",
   "nbconvert_exporter": "python",
   "pygments_lexer": "ipython3",
   "version": "3.7.10"
  }
 },
 "nbformat": 4,
 "nbformat_minor": 2
}
