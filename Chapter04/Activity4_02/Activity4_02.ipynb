{
 "cells": [
  {
   "cell_type": "markdown",
   "metadata": {},
   "source": [
    "# Activity 4.02"
   ]
  },
  {
   "cell_type": "code",
   "execution_count": 1,
   "metadata": {},
   "outputs": [],
   "source": [
    "import tensorflow as tf\n",
    "import pandas as pd"
   ]
  },
  {
   "cell_type": "code",
   "execution_count": 2,
   "metadata": {},
   "outputs": [],
   "source": [
    "df = pd.read_csv('../Datasets/superconductivity.csv')"
   ]
  },
  {
   "cell_type": "code",
   "execution_count": 3,
   "metadata": {},
   "outputs": [],
   "source": [
    "df.dropna(inplace=True)"
   ]
  },
  {
   "cell_type": "code",
   "execution_count": 4,
   "metadata": {},
   "outputs": [],
   "source": [
    "target = df['critical_temp'].apply(lambda x: 1 if x>77.36 else 0)\n",
    "features = df.drop('critical_temp', axis=1)"
   ]
  },
  {
   "cell_type": "code",
   "execution_count": 5,
   "metadata": {},
   "outputs": [],
   "source": [
    "from sklearn.preprocessing import StandardScaler\n",
    "scaler = StandardScaler()\n",
    "feature_array = scaler.fit_transform(features)\n",
    "features = pd.DataFrame(feature_array, columns=features.columns)"
   ]
  },
  {
   "cell_type": "code",
   "execution_count": 6,
   "metadata": {},
   "outputs": [],
   "source": [
    "model = tf.keras.Sequential()"
   ]
  },
  {
   "cell_type": "code",
   "execution_count": 7,
   "metadata": {},
   "outputs": [],
   "source": [
    "model.add(tf.keras.layers.InputLayer(input_shape=(features.shape[1],), name='Input_layer'))\n",
    "model.add(tf.keras.layers.Dense(32, name='Hidden_layer_1'))\n",
    "model.add(tf.keras.layers.Dense(16, name='Hidden_layer_2'))\n",
    "model.add(tf.keras.layers.Dense(8, name='Hidden_layer_3'))\n",
    "model.add(tf.keras.layers.Dense(1, name='Output_layer', activation='sigmoid'))"
   ]
  },
  {
   "cell_type": "code",
   "execution_count": 8,
   "metadata": {},
   "outputs": [],
   "source": [
    "model.compile(tf.optimizers.RMSprop(0.0001), loss='binary_crossentropy', metrics=['accuracy'])"
   ]
  },
  {
   "cell_type": "code",
   "execution_count": 9,
   "metadata": {},
   "outputs": [],
   "source": [
    "tensorboard_callback = tf.keras.callbacks.TensorBoard(log_dir=\"./logs\")"
   ]
  },
  {
   "cell_type": "code",
   "execution_count": 10,
   "metadata": {},
   "outputs": [
    {
     "name": "stdout",
     "output_type": "stream",
     "text": [
      "Train on 17010 samples, validate on 4253 samples\n",
      "Epoch 1/50\n",
      "17010/17010 [==============================] - 1s 77us/sample - loss: 0.5844 - accuracy: 0.6706 - val_loss: 0.4150 - val_accuracy: 0.8234\n",
      "Epoch 2/50\n",
      "17010/17010 [==============================] - 1s 47us/sample - loss: 0.3867 - accuracy: 0.8015 - val_loss: 0.1598 - val_accuracy: 0.9699\n",
      "Epoch 3/50\n",
      "17010/17010 [==============================] - 1s 46us/sample - loss: 0.3383 - accuracy: 0.8180 - val_loss: 0.0940 - val_accuracy: 0.9739\n",
      "Epoch 4/50\n",
      "17010/17010 [==============================] - 1s 46us/sample - loss: 0.3214 - accuracy: 0.8260 - val_loss: 0.0752 - val_accuracy: 0.9755\n",
      "Epoch 5/50\n",
      "17010/17010 [==============================] - 1s 47us/sample - loss: 0.3127 - accuracy: 0.8306 - val_loss: 0.0681 - val_accuracy: 0.9763\n",
      "Epoch 6/50\n",
      "17010/17010 [==============================] - 1s 47us/sample - loss: 0.3061 - accuracy: 0.8364 - val_loss: 0.0638 - val_accuracy: 0.9734\n",
      "Epoch 7/50\n",
      "17010/17010 [==============================] - 1s 54us/sample - loss: 0.3011 - accuracy: 0.8389 - val_loss: 0.0591 - val_accuracy: 0.9784\n",
      "Epoch 8/50\n",
      "17010/17010 [==============================] - 1s 47us/sample - loss: 0.2975 - accuracy: 0.8383 - val_loss: 0.0583 - val_accuracy: 0.9737\n",
      "Epoch 9/50\n",
      "17010/17010 [==============================] - 1s 48us/sample - loss: 0.2937 - accuracy: 0.8426 - val_loss: 0.0560 - val_accuracy: 0.9770\n",
      "Epoch 10/50\n",
      "17010/17010 [==============================] - 1s 48us/sample - loss: 0.2913 - accuracy: 0.8437 - val_loss: 0.0570 - val_accuracy: 0.9739\n",
      "Epoch 11/50\n",
      "17010/17010 [==============================] - 1s 47us/sample - loss: 0.2888 - accuracy: 0.8461 - val_loss: 0.0548 - val_accuracy: 0.9788\n",
      "Epoch 12/50\n",
      "17010/17010 [==============================] - 1s 47us/sample - loss: 0.2864 - accuracy: 0.8469 - val_loss: 0.0559 - val_accuracy: 0.9748\n",
      "Epoch 13/50\n",
      "17010/17010 [==============================] - 1s 47us/sample - loss: 0.2846 - accuracy: 0.8492 - val_loss: 0.0568 - val_accuracy: 0.9767\n",
      "Epoch 14/50\n",
      "17010/17010 [==============================] - 1s 47us/sample - loss: 0.2832 - accuracy: 0.8506 - val_loss: 0.0553 - val_accuracy: 0.9767\n",
      "Epoch 15/50\n",
      "17010/17010 [==============================] - 1s 48us/sample - loss: 0.2806 - accuracy: 0.8521 - val_loss: 0.0543 - val_accuracy: 0.9786\n",
      "Epoch 16/50\n",
      "17010/17010 [==============================] - 1s 49us/sample - loss: 0.2802 - accuracy: 0.8527 - val_loss: 0.0552 - val_accuracy: 0.9774\n",
      "Epoch 17/50\n",
      "17010/17010 [==============================] - 1s 49us/sample - loss: 0.2786 - accuracy: 0.8529 - val_loss: 0.0532 - val_accuracy: 0.9786\n",
      "Epoch 18/50\n",
      "17010/17010 [==============================] - 1s 48us/sample - loss: 0.2771 - accuracy: 0.8537 - val_loss: 0.0539 - val_accuracy: 0.9798\n",
      "Epoch 19/50\n",
      "17010/17010 [==============================] - 1s 48us/sample - loss: 0.2767 - accuracy: 0.8527 - val_loss: 0.0546 - val_accuracy: 0.9786\n",
      "Epoch 20/50\n",
      "17010/17010 [==============================] - 1s 49us/sample - loss: 0.2752 - accuracy: 0.8553 - val_loss: 0.0545 - val_accuracy: 0.9788\n",
      "Epoch 21/50\n",
      "17010/17010 [==============================] - 1s 60us/sample - loss: 0.2744 - accuracy: 0.8558 - val_loss: 0.0544 - val_accuracy: 0.9788\n",
      "Epoch 22/50\n",
      "17010/17010 [==============================] - 1s 51us/sample - loss: 0.2735 - accuracy: 0.8547 - val_loss: 0.0544 - val_accuracy: 0.9788\n",
      "Epoch 23/50\n",
      "17010/17010 [==============================] - 1s 47us/sample - loss: 0.2726 - accuracy: 0.8561 - val_loss: 0.0536 - val_accuracy: 0.9788\n",
      "Epoch 24/50\n",
      "17010/17010 [==============================] - 1s 48us/sample - loss: 0.2721 - accuracy: 0.8573 - val_loss: 0.0550 - val_accuracy: 0.9791\n",
      "Epoch 25/50\n",
      "17010/17010 [==============================] - 1s 48us/sample - loss: 0.2715 - accuracy: 0.8567 - val_loss: 0.0555 - val_accuracy: 0.9781\n",
      "Epoch 26/50\n",
      "17010/17010 [==============================] - 1s 47us/sample - loss: 0.2708 - accuracy: 0.8563 - val_loss: 0.0557 - val_accuracy: 0.9777\n",
      "Epoch 27/50\n",
      "17010/17010 [==============================] - 1s 47us/sample - loss: 0.2692 - accuracy: 0.8598 - val_loss: 0.0543 - val_accuracy: 0.9798\n",
      "Epoch 28/50\n",
      "17010/17010 [==============================] - 1s 47us/sample - loss: 0.2695 - accuracy: 0.8577 - val_loss: 0.0555 - val_accuracy: 0.9786\n",
      "Epoch 29/50\n",
      "17010/17010 [==============================] - 1s 47us/sample - loss: 0.2685 - accuracy: 0.8601 - val_loss: 0.0538 - val_accuracy: 0.9800\n",
      "Epoch 30/50\n",
      "17010/17010 [==============================] - 1s 48us/sample - loss: 0.2679 - accuracy: 0.8593 - val_loss: 0.0534 - val_accuracy: 0.9795\n",
      "Epoch 31/50\n",
      "17010/17010 [==============================] - 1s 47us/sample - loss: 0.2679 - accuracy: 0.8600 - val_loss: 0.0534 - val_accuracy: 0.9788\n",
      "Epoch 32/50\n",
      "17010/17010 [==============================] - 1s 48us/sample - loss: 0.2671 - accuracy: 0.8610 - val_loss: 0.0550 - val_accuracy: 0.9781\n",
      "Epoch 33/50\n",
      "17010/17010 [==============================] - 1s 47us/sample - loss: 0.2665 - accuracy: 0.8587 - val_loss: 0.0558 - val_accuracy: 0.9774\n",
      "Epoch 34/50\n",
      "17010/17010 [==============================] - 1s 49us/sample - loss: 0.2666 - accuracy: 0.8614 - val_loss: 0.0575 - val_accuracy: 0.9793\n",
      "Epoch 35/50\n",
      "17010/17010 [==============================] - 1s 48us/sample - loss: 0.2661 - accuracy: 0.8612 - val_loss: 0.0542 - val_accuracy: 0.9805\n",
      "Epoch 36/50\n",
      "17010/17010 [==============================] - 1s 47us/sample - loss: 0.2650 - accuracy: 0.8641 - val_loss: 0.0533 - val_accuracy: 0.9798\n",
      "Epoch 37/50\n",
      "17010/17010 [==============================] - 1s 47us/sample - loss: 0.2647 - accuracy: 0.8600 - val_loss: 0.0560 - val_accuracy: 0.9788\n",
      "Epoch 38/50\n",
      "17010/17010 [==============================] - 1s 49us/sample - loss: 0.2645 - accuracy: 0.8634 - val_loss: 0.0551 - val_accuracy: 0.9788\n",
      "Epoch 39/50\n",
      "17010/17010 [==============================] - 1s 48us/sample - loss: 0.2646 - accuracy: 0.8626 - val_loss: 0.0535 - val_accuracy: 0.9805\n",
      "Epoch 40/50\n",
      "17010/17010 [==============================] - 1s 50us/sample - loss: 0.2639 - accuracy: 0.8633 - val_loss: 0.0546 - val_accuracy: 0.9800\n",
      "Epoch 41/50\n",
      "17010/17010 [==============================] - 1s 47us/sample - loss: 0.2641 - accuracy: 0.8626 - val_loss: 0.0548 - val_accuracy: 0.9795\n",
      "Epoch 42/50\n",
      "17010/17010 [==============================] - 1s 47us/sample - loss: 0.2638 - accuracy: 0.8627 - val_loss: 0.0543 - val_accuracy: 0.9812\n",
      "Epoch 43/50\n",
      "17010/17010 [==============================] - 1s 47us/sample - loss: 0.2626 - accuracy: 0.8641 - val_loss: 0.0536 - val_accuracy: 0.9814\n",
      "Epoch 44/50\n",
      "17010/17010 [==============================] - 1s 47us/sample - loss: 0.2630 - accuracy: 0.8624 - val_loss: 0.0539 - val_accuracy: 0.9807\n",
      "Epoch 45/50\n",
      "17010/17010 [==============================] - 1s 47us/sample - loss: 0.2629 - accuracy: 0.8647 - val_loss: 0.0544 - val_accuracy: 0.9798\n",
      "Epoch 46/50\n",
      "17010/17010 [==============================] - 1s 47us/sample - loss: 0.2626 - accuracy: 0.8648 - val_loss: 0.0541 - val_accuracy: 0.9807\n",
      "Epoch 47/50\n",
      "17010/17010 [==============================] - 1s 47us/sample - loss: 0.2625 - accuracy: 0.8639 - val_loss: 0.0560 - val_accuracy: 0.9777\n",
      "Epoch 48/50\n",
      "17010/17010 [==============================] - 1s 47us/sample - loss: 0.2620 - accuracy: 0.8649 - val_loss: 0.0549 - val_accuracy: 0.9791\n",
      "Epoch 49/50\n",
      "17010/17010 [==============================] - 1s 46us/sample - loss: 0.2618 - accuracy: 0.8657 - val_loss: 0.0547 - val_accuracy: 0.9795\n",
      "Epoch 50/50\n",
      "17010/17010 [==============================] - 1s 46us/sample - loss: 0.2615 - accuracy: 0.8645 - val_loss: 0.0550 - val_accuracy: 0.9786\n"
     ]
    },
    {
     "data": {
      "text/plain": [
       "<tensorflow.python.keras.callbacks.History at 0x12bec4358>"
      ]
     },
     "execution_count": 10,
     "metadata": {},
     "output_type": "execute_result"
    }
   ],
   "source": [
    "model.fit(x=features.to_numpy(), y=target.to_numpy(),\n",
    "          epochs=50, callbacks=[tensorboard_callback], validation_split=0.2)"
   ]
  },
  {
   "cell_type": "code",
   "execution_count": 11,
   "metadata": {},
   "outputs": [
    {
     "name": "stdout",
     "output_type": "stream",
     "text": [
      "21263/21263 [==============================] - 0s 22us/sample - loss: 0.2198 - accuracy: 0.8893\n",
      "loss: 0.21984571637242145, accuracy: 0.8893383145332336\n"
     ]
    }
   ],
   "source": [
    "loss,accuracy = model.evaluate(features.to_numpy(), target.to_numpy())\n",
    "print(f'loss: {loss}, accuracy: {accuracy}')"
   ]
  }
 ],
 "metadata": {
  "kernelspec": {
   "display_name": "ADLwK",
   "language": "python",
   "name": "adlwk"
  },
  "language_info": {
   "codemirror_mode": {
    "name": "ipython",
    "version": 3
   },
   "file_extension": ".py",
   "mimetype": "text/x-python",
   "name": "python",
   "nbconvert_exporter": "python",
   "pygments_lexer": "ipython3",
   "version": "3.6.10"
  }
 },
 "nbformat": 4,
 "nbformat_minor": 2
}
