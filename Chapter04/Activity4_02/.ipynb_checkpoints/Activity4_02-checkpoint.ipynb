{
 "cells": [
  {
   "cell_type": "markdown",
   "metadata": {},
   "source": [
    "# Activity 4.02: Creating a Multi-Layer Classification ANN with TensorFlow"
   ]
  },
  {
   "cell_type": "code",
   "execution_count": 1,
   "metadata": {},
   "outputs": [],
   "source": [
    "import tensorflow as tf\n",
    "import pandas as pd"
   ]
  },
  {
   "cell_type": "code",
   "execution_count": 2,
   "metadata": {},
   "outputs": [],
   "source": [
    "df = pd.read_csv('../Datasets/superconductivity.csv')"
   ]
  },
  {
   "cell_type": "code",
   "execution_count": 3,
   "metadata": {},
   "outputs": [],
   "source": [
    "df.dropna(inplace=True)"
   ]
  },
  {
   "cell_type": "code",
   "execution_count": 4,
   "metadata": {},
   "outputs": [],
   "source": [
    "target = df['critical_temp'].apply(lambda x: 1 if x>77.36 else 0)\n",
    "features = df.drop('critical_temp', axis=1)"
   ]
  },
  {
   "cell_type": "code",
   "execution_count": 5,
   "metadata": {},
   "outputs": [],
   "source": [
    "from sklearn.preprocessing import StandardScaler\n",
    "scaler = StandardScaler()\n",
    "feature_array = scaler.fit_transform(features)\n",
    "features = pd.DataFrame(feature_array, columns=features.columns)"
   ]
  },
  {
   "cell_type": "code",
   "execution_count": 6,
   "metadata": {},
   "outputs": [],
   "source": [
    "model = tf.keras.Sequential()"
   ]
  },
  {
   "cell_type": "code",
   "execution_count": 7,
   "metadata": {},
   "outputs": [],
   "source": [
    "model.add(tf.keras.layers.InputLayer\\\n",
    "          (input_shape=(features.shape[1],), \\\n",
    "           name='Input_layer'))\n",
    "model.add(tf.keras.layers.Dense(32, name='Hidden_layer_1'))\n",
    "model.add(tf.keras.layers.Dense(16, name='Hidden_layer_2'))\n",
    "model.add(tf.keras.layers.Dense(8, name='Hidden_layer_3'))\n",
    "model.add(tf.keras.layers.Dense(1, name='Output_layer', \\\n",
    "                                activation='sigmoid'))"
   ]
  },
  {
   "cell_type": "code",
   "execution_count": 8,
   "metadata": {},
   "outputs": [],
   "source": [
    "model.compile(tf.optimizers.RMSprop(0.0001), \\\n",
    "              loss='binary_crossentropy', metrics=['accuracy'])"
   ]
  },
  {
   "cell_type": "code",
   "execution_count": 9,
   "metadata": {},
   "outputs": [],
   "source": [
    "tensorboard_callback = tf.keras.callbacks\\\n",
    "                         .TensorBoard(log_dir=\"./logs\")"
   ]
  },
  {
   "cell_type": "code",
   "execution_count": 10,
   "metadata": {},
   "outputs": [
    {
     "name": "stdout",
     "output_type": "stream",
     "text": [
      "Epoch 1/50\n",
      "532/532 [==============================] - 2s 2ms/step - loss: 0.5983 - accuracy: 0.6901 - val_loss: 0.3313 - val_accuracy: 0.8418\n",
      "Epoch 2/50\n",
      "532/532 [==============================] - 1s 2ms/step - loss: 0.3600 - accuracy: 0.8128 - val_loss: 0.1424 - val_accuracy: 0.9718\n",
      "Epoch 3/50\n",
      "532/532 [==============================] - 1s 1ms/step - loss: 0.3260 - accuracy: 0.8245 - val_loss: 0.0865 - val_accuracy: 0.9739\n",
      "Epoch 4/50\n",
      "532/532 [==============================] - 1s 1ms/step - loss: 0.3130 - accuracy: 0.8267 - val_loss: 0.0729 - val_accuracy: 0.9741\n",
      "Epoch 5/50\n",
      "532/532 [==============================] - 1s 984us/step - loss: 0.3058 - accuracy: 0.8332 - val_loss: 0.0636 - val_accuracy: 0.9760\n",
      "Epoch 6/50\n",
      "532/532 [==============================] - 1s 2ms/step - loss: 0.3011 - accuracy: 0.8333 - val_loss: 0.0619 - val_accuracy: 0.9755\n",
      "Epoch 7/50\n",
      "532/532 [==============================] - 1s 2ms/step - loss: 0.2968 - accuracy: 0.8364 - val_loss: 0.0604 - val_accuracy: 0.9748\n",
      "Epoch 8/50\n",
      "532/532 [==============================] - 1s 2ms/step - loss: 0.2931 - accuracy: 0.8406 - val_loss: 0.0584 - val_accuracy: 0.9746\n",
      "Epoch 9/50\n",
      "532/532 [==============================] - 1s 2ms/step - loss: 0.2905 - accuracy: 0.8429 - val_loss: 0.0556 - val_accuracy: 0.9770\n",
      "Epoch 10/50\n",
      "532/532 [==============================] - 1s 2ms/step - loss: 0.2885 - accuracy: 0.8443 - val_loss: 0.0546 - val_accuracy: 0.9753\n",
      "Epoch 11/50\n",
      "532/532 [==============================] - 1s 2ms/step - loss: 0.2864 - accuracy: 0.8454 - val_loss: 0.0543 - val_accuracy: 0.9784\n",
      "Epoch 12/50\n",
      "532/532 [==============================] - 1s 2ms/step - loss: 0.2843 - accuracy: 0.8470 - val_loss: 0.0529 - val_accuracy: 0.9784\n",
      "Epoch 13/50\n",
      "532/532 [==============================] - 1s 2ms/step - loss: 0.2819 - accuracy: 0.8477 - val_loss: 0.0547 - val_accuracy: 0.9781\n",
      "Epoch 14/50\n",
      "532/532 [==============================] - 1s 2ms/step - loss: 0.2805 - accuracy: 0.8476 - val_loss: 0.0541 - val_accuracy: 0.9770\n",
      "Epoch 15/50\n",
      "532/532 [==============================] - 1s 2ms/step - loss: 0.2794 - accuracy: 0.8517 - val_loss: 0.0549 - val_accuracy: 0.9774\n",
      "Epoch 16/50\n",
      "532/532 [==============================] - 1s 2ms/step - loss: 0.2783 - accuracy: 0.8531 - val_loss: 0.0541 - val_accuracy: 0.9784\n",
      "Epoch 17/50\n",
      "532/532 [==============================] - 1s 2ms/step - loss: 0.2767 - accuracy: 0.8521 - val_loss: 0.0521 - val_accuracy: 0.9800\n",
      "Epoch 18/50\n",
      "532/532 [==============================] - 1s 2ms/step - loss: 0.2757 - accuracy: 0.8518 - val_loss: 0.0535 - val_accuracy: 0.9779\n",
      "Epoch 19/50\n",
      "532/532 [==============================] - 1s 2ms/step - loss: 0.2746 - accuracy: 0.8549 - val_loss: 0.0561 - val_accuracy: 0.9774\n",
      "Epoch 20/50\n",
      "532/532 [==============================] - 1s 2ms/step - loss: 0.2727 - accuracy: 0.8553 - val_loss: 0.0548 - val_accuracy: 0.9798\n",
      "Epoch 21/50\n",
      "532/532 [==============================] - 1s 2ms/step - loss: 0.2726 - accuracy: 0.8554 - val_loss: 0.0527 - val_accuracy: 0.9798\n",
      "Epoch 22/50\n",
      "532/532 [==============================] - 1s 2ms/step - loss: 0.2721 - accuracy: 0.8573 - val_loss: 0.0522 - val_accuracy: 0.9807\n",
      "Epoch 23/50\n",
      "532/532 [==============================] - 1s 2ms/step - loss: 0.2716 - accuracy: 0.8571 - val_loss: 0.0532 - val_accuracy: 0.9786\n",
      "Epoch 24/50\n",
      "532/532 [==============================] - 1s 2ms/step - loss: 0.2702 - accuracy: 0.8580 - val_loss: 0.0569 - val_accuracy: 0.9798\n",
      "Epoch 25/50\n",
      "532/532 [==============================] - 1s 1ms/step - loss: 0.2694 - accuracy: 0.8552 - val_loss: 0.0520 - val_accuracy: 0.9812\n",
      "Epoch 26/50\n",
      "532/532 [==============================] - 1s 1ms/step - loss: 0.2690 - accuracy: 0.8586 - val_loss: 0.0546 - val_accuracy: 0.9798\n",
      "Epoch 27/50\n",
      "532/532 [==============================] - 1s 2ms/step - loss: 0.2684 - accuracy: 0.8583 - val_loss: 0.0543 - val_accuracy: 0.9781\n",
      "Epoch 28/50\n",
      "532/532 [==============================] - 1s 2ms/step - loss: 0.2682 - accuracy: 0.8598 - val_loss: 0.0550 - val_accuracy: 0.9798\n",
      "Epoch 29/50\n",
      "532/532 [==============================] - 1s 2ms/step - loss: 0.2675 - accuracy: 0.8589 - val_loss: 0.0544 - val_accuracy: 0.9791\n",
      "Epoch 30/50\n",
      "532/532 [==============================] - 1s 2ms/step - loss: 0.2669 - accuracy: 0.8581 - val_loss: 0.0551 - val_accuracy: 0.9798\n",
      "Epoch 31/50\n",
      "532/532 [==============================] - 1s 2ms/step - loss: 0.2661 - accuracy: 0.8610 - val_loss: 0.0540 - val_accuracy: 0.9805\n",
      "Epoch 32/50\n",
      "532/532 [==============================] - 1s 2ms/step - loss: 0.2657 - accuracy: 0.8605 - val_loss: 0.0565 - val_accuracy: 0.9798\n",
      "Epoch 33/50\n",
      "532/532 [==============================] - 1s 2ms/step - loss: 0.2662 - accuracy: 0.8630 - val_loss: 0.0530 - val_accuracy: 0.9807\n",
      "Epoch 34/50\n",
      "532/532 [==============================] - 1s 2ms/step - loss: 0.2655 - accuracy: 0.8619 - val_loss: 0.0554 - val_accuracy: 0.9805\n",
      "Epoch 35/50\n",
      "532/532 [==============================] - 1s 2ms/step - loss: 0.2652 - accuracy: 0.8621 - val_loss: 0.0553 - val_accuracy: 0.9798\n",
      "Epoch 36/50\n",
      "532/532 [==============================] - 1s 2ms/step - loss: 0.2643 - accuracy: 0.8608 - val_loss: 0.0587 - val_accuracy: 0.9779\n",
      "Epoch 37/50\n",
      "532/532 [==============================] - 1s 2ms/step - loss: 0.2640 - accuracy: 0.8627 - val_loss: 0.0581 - val_accuracy: 0.9751\n",
      "Epoch 38/50\n",
      "532/532 [==============================] - 1s 2ms/step - loss: 0.2640 - accuracy: 0.8634 - val_loss: 0.0566 - val_accuracy: 0.9786\n",
      "Epoch 39/50\n",
      "532/532 [==============================] - 1s 2ms/step - loss: 0.2629 - accuracy: 0.8619 - val_loss: 0.0584 - val_accuracy: 0.9781\n",
      "Epoch 40/50\n",
      "532/532 [==============================] - 1s 2ms/step - loss: 0.2635 - accuracy: 0.8630 - val_loss: 0.0553 - val_accuracy: 0.9800\n",
      "Epoch 41/50\n",
      "532/532 [==============================] - 1s 2ms/step - loss: 0.2630 - accuracy: 0.8645 - val_loss: 0.0543 - val_accuracy: 0.9805\n",
      "Epoch 42/50\n",
      "532/532 [==============================] - 1s 2ms/step - loss: 0.2629 - accuracy: 0.8632 - val_loss: 0.0552 - val_accuracy: 0.9812\n",
      "Epoch 43/50\n",
      "532/532 [==============================] - 1s 2ms/step - loss: 0.2628 - accuracy: 0.8646 - val_loss: 0.0570 - val_accuracy: 0.9760\n",
      "Epoch 44/50\n",
      "532/532 [==============================] - 1s 2ms/step - loss: 0.2621 - accuracy: 0.8643 - val_loss: 0.0547 - val_accuracy: 0.9786\n",
      "Epoch 45/50\n",
      "532/532 [==============================] - 1s 2ms/step - loss: 0.2618 - accuracy: 0.8653 - val_loss: 0.0536 - val_accuracy: 0.9802\n",
      "Epoch 46/50\n",
      "532/532 [==============================] - 1s 992us/step - loss: 0.2617 - accuracy: 0.8663 - val_loss: 0.0564 - val_accuracy: 0.9802\n",
      "Epoch 47/50\n",
      "532/532 [==============================] - 1s 2ms/step - loss: 0.2614 - accuracy: 0.8653 - val_loss: 0.0560 - val_accuracy: 0.9810\n",
      "Epoch 48/50\n",
      "532/532 [==============================] - 1s 2ms/step - loss: 0.2609 - accuracy: 0.8642 - val_loss: 0.0545 - val_accuracy: 0.9812\n",
      "Epoch 49/50\n",
      "532/532 [==============================] - 1s 2ms/step - loss: 0.2616 - accuracy: 0.8640 - val_loss: 0.0546 - val_accuracy: 0.9784\n",
      "Epoch 50/50\n",
      "532/532 [==============================] - 1s 2ms/step - loss: 0.2612 - accuracy: 0.8663 - val_loss: 0.0546 - val_accuracy: 0.9810\n"
     ]
    },
    {
     "data": {
      "text/plain": [
       "<keras.callbacks.History at 0x1fc623c5f48>"
      ]
     },
     "execution_count": 10,
     "metadata": {},
     "output_type": "execute_result"
    }
   ],
   "source": [
    "model.fit(x=features.to_numpy(), y=target.to_numpy(),\\\n",
    "          epochs=50, callbacks=[tensorboard_callback], \\\n",
    "          validation_split=0.2)"
   ]
  },
  {
   "cell_type": "code",
   "execution_count": 11,
   "metadata": {},
   "outputs": [
    {
     "name": "stdout",
     "output_type": "stream",
     "text": [
      "665/665 [==============================] - 1s 1ms/step - loss: 0.2167 - accuracy: 0.8886\n",
      "loss: 0.21671223640441895, accuracy: 0.8885858058929443\n"
     ]
    }
   ],
   "source": [
    "loss,accuracy = model.evaluate(features.to_numpy(), \\\n",
    "                               target.to_numpy())\n",
    "print(f'loss: {loss}, accuracy: {accuracy}')"
   ]
  },
  {
   "cell_type": "code",
   "execution_count": null,
   "metadata": {},
   "outputs": [],
   "source": []
  }
 ],
 "metadata": {
  "kernelspec": {
   "display_name": "tensorflow_ws",
   "language": "python",
   "name": "tensorflow_ws"
  },
  "language_info": {
   "codemirror_mode": {
    "name": "ipython",
    "version": 3
   },
   "file_extension": ".py",
   "mimetype": "text/x-python",
   "name": "python",
   "nbconvert_exporter": "python",
   "pygments_lexer": "ipython3",
   "version": "3.7.10"
  }
 },
 "nbformat": 4,
 "nbformat_minor": 2
}
