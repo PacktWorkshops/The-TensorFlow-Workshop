{
 "cells": [
  {
   "cell_type": "markdown",
   "metadata": {},
   "source": [
    "# Exercise 4.03: Creating a Multi-Layer ANN with TensorFlow"
   ]
  },
  {
   "cell_type": "code",
   "execution_count": 1,
   "metadata": {},
   "outputs": [],
   "source": [
    "import tensorflow as tf\n",
    "import pandas as pd"
   ]
  },
  {
   "cell_type": "code",
   "execution_count": 2,
   "metadata": {},
   "outputs": [],
   "source": [
    "df = pd.read_csv('../Datasets/Bias_correction_ucl.csv')"
   ]
  },
  {
   "cell_type": "code",
   "execution_count": 3,
   "metadata": {},
   "outputs": [],
   "source": [
    "df.drop('Date', inplace=True, axis=1)"
   ]
  },
  {
   "cell_type": "code",
   "execution_count": 4,
   "metadata": {},
   "outputs": [],
   "source": [
    "df.dropna(inplace=True)"
   ]
  },
  {
   "cell_type": "code",
   "execution_count": 5,
   "metadata": {},
   "outputs": [],
   "source": [
    "target = df[['Next_Tmax', 'Next_Tmin']]\n",
    "features = df.drop(['Next_Tmax', 'Next_Tmin'], axis=1)"
   ]
  },
  {
   "cell_type": "code",
   "execution_count": 6,
   "metadata": {},
   "outputs": [],
   "source": [
    "from sklearn.preprocessing import MinMaxScaler\n",
    "scaler = MinMaxScaler()\n",
    "feature_array = scaler.fit_transform(features)\n",
    "features = pd.DataFrame(feature_array, columns=features.columns)"
   ]
  },
  {
   "cell_type": "code",
   "execution_count": 7,
   "metadata": {},
   "outputs": [],
   "source": [
    "model = tf.keras.Sequential()"
   ]
  },
  {
   "cell_type": "code",
   "execution_count": 8,
   "metadata": {},
   "outputs": [],
   "source": [
    "model.add(tf.keras.layers.InputLayer\\\n",
    "          (input_shape=(features.shape[1],), \\\n",
    "           name='Input_layer'))\n",
    "model.add(tf.keras.layers.Dense(16, name='Dense_layer_1'))\n",
    "model.add(tf.keras.layers.Dense(8,  name='Dense_layer_2'))\n",
    "model.add(tf.keras.layers.Dense(4, name='Dense_layer_3'))\n",
    "model.add(tf.keras.layers.Dense(2, name='Output_layer'))"
   ]
  },
  {
   "cell_type": "code",
   "execution_count": 9,
   "metadata": {},
   "outputs": [],
   "source": [
    "model.compile(tf.optimizers.RMSprop(0.001), loss='mse')"
   ]
  },
  {
   "cell_type": "code",
   "execution_count": 10,
   "metadata": {},
   "outputs": [],
   "source": [
    "tensorboard_callback = tf.keras.callbacks\\\n",
    "                         .TensorBoard(log_dir=\"./logs\")"
   ]
  },
  {
   "cell_type": "code",
   "execution_count": 11,
   "metadata": {},
   "outputs": [
    {
     "name": "stdout",
     "output_type": "stream",
     "text": [
      "Epoch 1/50\n",
      "190/190 [==============================] - 2s 4ms/step - loss: 298.3446 - val_loss: 22.5261\n",
      "Epoch 2/50\n",
      "190/190 [==============================] - 0s 2ms/step - loss: 11.6039 - val_loss: 6.2474\n",
      "Epoch 3/50\n",
      "190/190 [==============================] - 0s 2ms/step - loss: 4.8820 - val_loss: 5.7347\n",
      "Epoch 4/50\n",
      "190/190 [==============================] - ETA: 0s - loss: 3.802 - 0s 2ms/step - loss: 3.7875 - val_loss: 4.0386\n",
      "Epoch 5/50\n",
      "190/190 [==============================] - 0s 2ms/step - loss: 3.2414 - val_loss: 3.5640\n",
      "Epoch 6/50\n",
      "190/190 [==============================] - 0s 2ms/step - loss: 2.7570 - val_loss: 3.1714\n",
      "Epoch 7/50\n",
      "190/190 [==============================] - 0s 2ms/step - loss: 2.4474 - val_loss: 2.9720\n",
      "Epoch 8/50\n",
      "190/190 [==============================] - 0s 2ms/step - loss: 2.2194 - val_loss: 2.7365\n",
      "Epoch 9/50\n",
      "190/190 [==============================] - 0s 2ms/step - loss: 2.0810 - val_loss: 2.9405\n",
      "Epoch 10/50\n",
      "190/190 [==============================] - 0s 2ms/step - loss: 1.9794 - val_loss: 2.3747\n",
      "Epoch 11/50\n",
      "190/190 [==============================] - 0s 2ms/step - loss: 1.9059 - val_loss: 2.2450\n",
      "Epoch 12/50\n",
      "190/190 [==============================] - 0s 2ms/step - loss: 1.8671 - val_loss: 2.1451\n",
      "Epoch 13/50\n",
      "190/190 [==============================] - 0s 3ms/step - loss: 1.8154 - val_loss: 2.5427\n",
      "Epoch 14/50\n",
      "190/190 [==============================] - 0s 2ms/step - loss: 1.7928 - val_loss: 2.0882\n",
      "Epoch 15/50\n",
      "190/190 [==============================] - 0s 3ms/step - loss: 1.7628 - val_loss: 2.0173\n",
      "Epoch 16/50\n",
      "190/190 [==============================] - 0s 2ms/step - loss: 1.7355 - val_loss: 2.1393\n",
      "Epoch 17/50\n",
      "190/190 [==============================] - 0s 3ms/step - loss: 1.7216 - val_loss: 2.0147\n",
      "Epoch 18/50\n",
      "190/190 [==============================] - 0s 3ms/step - loss: 1.7026 - val_loss: 2.0005\n",
      "Epoch 19/50\n",
      "190/190 [==============================] - 0s 3ms/step - loss: 1.6792 - val_loss: 1.9519\n",
      "Epoch 20/50\n",
      "190/190 [==============================] - 0s 3ms/step - loss: 1.6746 - val_loss: 2.1034\n",
      "Epoch 21/50\n",
      "190/190 [==============================] - 0s 2ms/step - loss: 1.6704 - val_loss: 2.2274\n",
      "Epoch 22/50\n",
      "190/190 [==============================] - 0s 3ms/step - loss: 1.6488 - val_loss: 2.2311\n",
      "Epoch 23/50\n",
      "190/190 [==============================] - 0s 2ms/step - loss: 1.6506 - val_loss: 2.3675\n",
      "Epoch 24/50\n",
      "190/190 [==============================] - 0s 2ms/step - loss: 1.6472 - val_loss: 1.9086\n",
      "Epoch 25/50\n",
      "190/190 [==============================] - 0s 2ms/step - loss: 1.6298 - val_loss: 1.9523\n",
      "Epoch 26/50\n",
      "190/190 [==============================] - 0s 2ms/step - loss: 1.6351 - val_loss: 1.8689\n",
      "Epoch 27/50\n",
      "190/190 [==============================] - 0s 2ms/step - loss: 1.6284 - val_loss: 1.9469\n",
      "Epoch 28/50\n",
      "190/190 [==============================] - 0s 2ms/step - loss: 1.6207 - val_loss: 2.3426\n",
      "Epoch 29/50\n",
      "190/190 [==============================] - 1s 3ms/step - loss: 1.6219 - val_loss: 1.8969\n",
      "Epoch 30/50\n",
      "190/190 [==============================] - 1s 3ms/step - loss: 1.6190 - val_loss: 1.9533\n",
      "Epoch 31/50\n",
      "190/190 [==============================] - 0s 2ms/step - loss: 1.6246 - val_loss: 2.1281\n",
      "Epoch 32/50\n",
      "190/190 [==============================] - 0s 2ms/step - loss: 1.6174 - val_loss: 1.8889\n",
      "Epoch 33/50\n",
      "190/190 [==============================] - 0s 2ms/step - loss: 1.6247 - val_loss: 2.3677\n",
      "Epoch 34/50\n",
      "190/190 [==============================] - 0s 3ms/step - loss: 1.6158 - val_loss: 2.6201\n",
      "Epoch 35/50\n",
      "190/190 [==============================] - 0s 2ms/step - loss: 1.6136 - val_loss: 2.2769\n",
      "Epoch 36/50\n",
      "190/190 [==============================] - 0s 2ms/step - loss: 1.6164 - val_loss: 1.8938\n",
      "Epoch 37/50\n",
      "190/190 [==============================] - 0s 2ms/step - loss: 1.6132 - val_loss: 2.2838\n",
      "Epoch 38/50\n",
      "190/190 [==============================] - 0s 2ms/step - loss: 1.6098 - val_loss: 1.8770\n",
      "Epoch 39/50\n",
      "190/190 [==============================] - 0s 2ms/step - loss: 1.6059 - val_loss: 1.9535\n",
      "Epoch 40/50\n",
      "190/190 [==============================] - 0s 2ms/step - loss: 1.6082 - val_loss: 2.0589\n",
      "Epoch 41/50\n",
      "190/190 [==============================] - 1s 3ms/step - loss: 1.5954 - val_loss: 3.0122\n",
      "Epoch 42/50\n",
      "190/190 [==============================] - 0s 2ms/step - loss: 1.5977 - val_loss: 1.8471\n",
      "Epoch 43/50\n",
      "190/190 [==============================] - 0s 2ms/step - loss: 1.6155 - val_loss: 2.0762\n",
      "Epoch 44/50\n",
      "190/190 [==============================] - 0s 2ms/step - loss: 1.6067 - val_loss: 1.8783\n",
      "Epoch 45/50\n",
      "190/190 [==============================] - 0s 2ms/step - loss: 1.5963 - val_loss: 1.8352\n",
      "Epoch 46/50\n",
      "190/190 [==============================] - 0s 2ms/step - loss: 1.6027 - val_loss: 2.2030\n",
      "Epoch 47/50\n",
      "190/190 [==============================] - 0s 2ms/step - loss: 1.6032 - val_loss: 2.1916\n",
      "Epoch 48/50\n",
      "190/190 [==============================] - 0s 2ms/step - loss: 1.5966 - val_loss: 1.9413\n",
      "Epoch 49/50\n",
      "190/190 [==============================] - 0s 2ms/step - loss: 1.6028 - val_loss: 1.8341\n",
      "Epoch 50/50\n",
      "190/190 [==============================] - 0s 2ms/step - loss: 1.6048 - val_loss: 1.9335\n"
     ]
    },
    {
     "data": {
      "text/plain": [
       "<keras.callbacks.History at 0x2012a7bc8c8>"
      ]
     },
     "execution_count": 11,
     "metadata": {},
     "output_type": "execute_result"
    }
   ],
   "source": [
    "model.fit(x=features.to_numpy(), y=target.to_numpy(),\\\n",
    "          epochs=50, callbacks=[tensorboard_callback], \\\n",
    "          validation_split=0.2)"
   ]
  },
  {
   "cell_type": "code",
   "execution_count": 12,
   "metadata": {},
   "outputs": [
    {
     "name": "stdout",
     "output_type": "stream",
     "text": [
      "238/238 [==============================] - 0s 2ms/step - loss: 1.6167\n",
      "loss: 1.616738200187683\n"
     ]
    }
   ],
   "source": [
    "loss = model.evaluate(features.to_numpy(), target.to_numpy())\n",
    "print('loss:', loss)"
   ]
  },
  {
   "cell_type": "code",
   "execution_count": null,
   "metadata": {},
   "outputs": [],
   "source": []
  }
 ],
 "metadata": {
  "kernelspec": {
   "display_name": "tensorflow_ws",
   "language": "python",
   "name": "tensorflow_ws"
  },
  "language_info": {
   "codemirror_mode": {
    "name": "ipython",
    "version": 3
   },
   "file_extension": ".py",
   "mimetype": "text/x-python",
   "name": "python",
   "nbconvert_exporter": "python",
   "pygments_lexer": "ipython3",
   "version": "3.7.10"
  }
 },
 "nbformat": 4,
 "nbformat_minor": 2
}
