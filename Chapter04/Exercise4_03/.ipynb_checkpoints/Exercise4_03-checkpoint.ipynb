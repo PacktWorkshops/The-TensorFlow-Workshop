{
 "cells": [
  {
   "cell_type": "markdown",
   "metadata": {},
   "source": [
    "# Exercise 4.03: Creating a Multi-Layer ANN with TensorFlow"
   ]
  },
  {
   "cell_type": "code",
   "execution_count": 1,
   "metadata": {},
   "outputs": [],
   "source": [
    "import tensorflow as tf\n",
    "import pandas as pd"
   ]
  },
  {
   "cell_type": "code",
   "execution_count": 2,
   "metadata": {},
   "outputs": [],
   "source": [
    "df = pd.read_csv('../Datasets/Bias_correction_ucl.csv')"
   ]
  },
  {
   "cell_type": "code",
   "execution_count": 3,
   "metadata": {},
   "outputs": [],
   "source": [
    "df.drop('Date', inplace=True, axis=1)"
   ]
  },
  {
   "cell_type": "code",
   "execution_count": 4,
   "metadata": {},
   "outputs": [],
   "source": [
    "df.dropna(inplace=True)"
   ]
  },
  {
   "cell_type": "code",
   "execution_count": 5,
   "metadata": {},
   "outputs": [],
   "source": [
    "target = df[['Next_Tmax', 'Next_Tmin']]\n",
    "features = df.drop(['Next_Tmax', 'Next_Tmin'], axis=1)"
   ]
  },
  {
   "cell_type": "code",
   "execution_count": 6,
   "metadata": {},
   "outputs": [],
   "source": [
    "from sklearn.preprocessing import MinMaxScaler\n",
    "scaler = MinMaxScaler()\n",
    "feature_array = scaler.fit_transform(features)\n",
    "features = pd.DataFrame(feature_array, columns=features.columns)"
   ]
  },
  {
   "cell_type": "code",
   "execution_count": 7,
   "metadata": {},
   "outputs": [],
   "source": [
    "model = tf.keras.Sequential()"
   ]
  },
  {
   "cell_type": "code",
   "execution_count": 8,
   "metadata": {},
   "outputs": [],
   "source": [
    "model.add(tf.keras.layers.InputLayer\\\n",
    "          (input_shape=(features.shape[1],), \\\n",
    "           name='Input_layer'))\n",
    "model.add(tf.keras.layers.Dense(16, name='Dense_layer_1'))\n",
    "model.add(tf.keras.layers.Dense(8,  name='Dense_layer_2'))\n",
    "model.add(tf.keras.layers.Dense(4, name='Dense_layer_3'))\n",
    "model.add(tf.keras.layers.Dense(2, name='Output_layer'))"
   ]
  },
  {
   "cell_type": "code",
   "execution_count": 9,
   "metadata": {},
   "outputs": [],
   "source": [
    "model.compile(tf.optimizers.RMSprop(0.001), loss='mse')"
   ]
  },
  {
   "cell_type": "code",
   "execution_count": 10,
   "metadata": {},
   "outputs": [],
   "source": [
    "tensorboard_callback = tf.keras.callbacks\\\n",
    "                         .TensorBoard(log_dir=\"./logs\")"
   ]
  },
  {
   "cell_type": "code",
   "execution_count": 11,
   "metadata": {},
   "outputs": [
    {
     "name": "stdout",
     "output_type": "stream",
     "text": [
      "Epoch 1/50\n",
      "190/190 [==============================] - 1s 3ms/step - loss: 399.5850 - val_loss: 84.1462\n",
      "Epoch 2/50\n",
      "190/190 [==============================] - 0s 2ms/step - loss: 18.9334 - val_loss: 7.6988\n",
      "Epoch 3/50\n",
      "190/190 [==============================] - 0s 2ms/step - loss: 5.4121 - val_loss: 5.3976\n",
      "Epoch 4/50\n",
      "190/190 [==============================] - 0s 2ms/step - loss: 3.9935 - val_loss: 4.5299\n",
      "Epoch 5/50\n",
      "190/190 [==============================] - 0s 2ms/step - loss: 3.2430 - val_loss: 3.8660\n",
      "Epoch 6/50\n",
      "190/190 [==============================] - 0s 2ms/step - loss: 2.7696 - val_loss: 3.4073\n",
      "Epoch 7/50\n",
      "190/190 [==============================] - 0s 2ms/step - loss: 2.4282 - val_loss: 2.7907\n",
      "Epoch 8/50\n",
      "190/190 [==============================] - 0s 2ms/step - loss: 2.1884 - val_loss: 2.9012\n",
      "Epoch 9/50\n",
      "190/190 [==============================] - 0s 2ms/step - loss: 2.0290 - val_loss: 2.3212\n",
      "Epoch 10/50\n",
      "190/190 [==============================] - 0s 2ms/step - loss: 1.9217 - val_loss: 2.2693\n",
      "Epoch 11/50\n",
      "190/190 [==============================] - 0s 2ms/step - loss: 1.8322 - val_loss: 2.1339\n",
      "Epoch 12/50\n",
      "190/190 [==============================] - 0s 2ms/step - loss: 1.7771 - val_loss: 2.0067\n",
      "Epoch 13/50\n",
      "190/190 [==============================] - 0s 2ms/step - loss: 1.7455 - val_loss: 1.9498\n",
      "Epoch 14/50\n",
      "190/190 [==============================] - 0s 2ms/step - loss: 1.7380 - val_loss: 1.9485\n",
      "Epoch 15/50\n",
      "190/190 [==============================] - 0s 2ms/step - loss: 1.7163 - val_loss: 2.0390\n",
      "Epoch 16/50\n",
      "190/190 [==============================] - 0s 2ms/step - loss: 1.6895 - val_loss: 1.9057\n",
      "Epoch 17/50\n",
      "190/190 [==============================] - 0s 2ms/step - loss: 1.6767 - val_loss: 1.9053\n",
      "Epoch 18/50\n",
      "190/190 [==============================] - 0s 2ms/step - loss: 1.6881 - val_loss: 2.0686\n",
      "Epoch 19/50\n",
      "190/190 [==============================] - 0s 2ms/step - loss: 1.6565 - val_loss: 1.8632\n",
      "Epoch 20/50\n",
      "190/190 [==============================] - 0s 2ms/step - loss: 1.6505 - val_loss: 1.8874\n",
      "Epoch 21/50\n",
      "190/190 [==============================] - 0s 2ms/step - loss: 1.6677 - val_loss: 2.0689\n",
      "Epoch 22/50\n",
      "190/190 [==============================] - 0s 2ms/step - loss: 1.6632 - val_loss: 1.8577\n",
      "Epoch 23/50\n",
      "190/190 [==============================] - 0s 2ms/step - loss: 1.6632 - val_loss: 1.9030\n",
      "Epoch 24/50\n",
      "190/190 [==============================] - 0s 2ms/step - loss: 1.6607 - val_loss: 1.8443\n",
      "Epoch 25/50\n",
      "190/190 [==============================] - 0s 2ms/step - loss: 1.6602 - val_loss: 1.8647\n",
      "Epoch 26/50\n",
      "190/190 [==============================] - 0s 2ms/step - loss: 1.6428 - val_loss: 1.9362\n",
      "Epoch 27/50\n",
      "190/190 [==============================] - 0s 2ms/step - loss: 1.6435 - val_loss: 1.8177\n",
      "Epoch 28/50\n",
      "190/190 [==============================] - 0s 2ms/step - loss: 1.6564 - val_loss: 1.8943\n",
      "Epoch 29/50\n",
      "190/190 [==============================] - 0s 2ms/step - loss: 1.6475 - val_loss: 2.5537\n",
      "Epoch 30/50\n",
      "190/190 [==============================] - 0s 2ms/step - loss: 1.6430 - val_loss: 1.8520\n",
      "Epoch 31/50\n",
      "190/190 [==============================] - 0s 2ms/step - loss: 1.6508 - val_loss: 2.1340\n",
      "Epoch 32/50\n",
      "190/190 [==============================] - 0s 2ms/step - loss: 1.6488 - val_loss: 1.8549\n",
      "Epoch 33/50\n",
      "190/190 [==============================] - 0s 2ms/step - loss: 1.6496 - val_loss: 2.1606\n",
      "Epoch 34/50\n",
      "190/190 [==============================] - 0s 2ms/step - loss: 1.6523 - val_loss: 2.2895\n",
      "Epoch 35/50\n",
      "190/190 [==============================] - 0s 2ms/step - loss: 1.6351 - val_loss: 1.8588\n",
      "Epoch 36/50\n",
      "190/190 [==============================] - 0s 2ms/step - loss: 1.6334 - val_loss: 1.9357\n",
      "Epoch 37/50\n",
      "190/190 [==============================] - 0s 2ms/step - loss: 1.6381 - val_loss: 2.3857\n",
      "Epoch 38/50\n",
      "190/190 [==============================] - 0s 2ms/step - loss: 1.6287 - val_loss: 1.8423\n",
      "Epoch 39/50\n",
      "190/190 [==============================] - 0s 2ms/step - loss: 1.6205 - val_loss: 1.8448\n",
      "Epoch 40/50\n",
      "190/190 [==============================] - 0s 2ms/step - loss: 1.6317 - val_loss: 1.8676\n",
      "Epoch 41/50\n",
      "190/190 [==============================] - 0s 2ms/step - loss: 1.6382 - val_loss: 2.1590\n",
      "Epoch 42/50\n",
      "190/190 [==============================] - 0s 2ms/step - loss: 1.6323 - val_loss: 1.9072\n",
      "Epoch 43/50\n",
      "190/190 [==============================] - 0s 2ms/step - loss: 1.6291 - val_loss: 1.8580\n",
      "Epoch 44/50\n",
      "190/190 [==============================] - 0s 2ms/step - loss: 1.6312 - val_loss: 1.9501\n",
      "Epoch 45/50\n",
      "190/190 [==============================] - 0s 2ms/step - loss: 1.6229 - val_loss: 1.8789\n",
      "Epoch 46/50\n",
      "190/190 [==============================] - 0s 2ms/step - loss: 1.6213 - val_loss: 1.8497\n",
      "Epoch 47/50\n",
      "190/190 [==============================] - 0s 2ms/step - loss: 1.6236 - val_loss: 2.3563\n",
      "Epoch 48/50\n",
      "190/190 [==============================] - 0s 2ms/step - loss: 1.6323 - val_loss: 2.4612\n",
      "Epoch 49/50\n",
      "190/190 [==============================] - 0s 2ms/step - loss: 1.6249 - val_loss: 1.8583\n",
      "Epoch 50/50\n",
      "190/190 [==============================] - 0s 2ms/step - loss: 1.6294 - val_loss: 2.0360\n"
     ]
    },
    {
     "data": {
      "text/plain": [
       "<keras.callbacks.History at 0x205866a5c48>"
      ]
     },
     "execution_count": 11,
     "metadata": {},
     "output_type": "execute_result"
    }
   ],
   "source": [
    "model.fit(x=features.to_numpy(), y=target.to_numpy(),\\\n",
    "          epochs=50, callbacks=[tensorboard_callback], \\\n",
    "          validation_split=0.2)"
   ]
  },
  {
   "cell_type": "code",
   "execution_count": 12,
   "metadata": {},
   "outputs": [
    {
     "name": "stdout",
     "output_type": "stream",
     "text": [
      "238/238 [==============================] - 0s 1ms/step - loss: 1.6877\n",
      "loss: 1.687734842300415\n"
     ]
    }
   ],
   "source": [
    "loss = model.evaluate(features.to_numpy(), target.to_numpy())\n",
    "print('loss:', loss)"
   ]
  },
  {
   "cell_type": "code",
   "execution_count": null,
   "metadata": {},
   "outputs": [],
   "source": []
  }
 ],
 "metadata": {
  "kernelspec": {
   "display_name": "tensorflow_ws",
   "language": "python",
   "name": "tensorflow_ws"
  },
  "language_info": {
   "codemirror_mode": {
    "name": "ipython",
    "version": 3
   },
   "file_extension": ".py",
   "mimetype": "text/x-python",
   "name": "python",
   "nbconvert_exporter": "python",
   "pygments_lexer": "ipython3",
   "version": "3.7.10"
  }
 },
 "nbformat": 4,
 "nbformat_minor": 2
}
