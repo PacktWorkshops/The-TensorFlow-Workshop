{
 "cells": [
  {
   "cell_type": "markdown",
   "metadata": {},
   "source": [
    "# Exercise 4.01:Creating an ANN with TensorFlow"
   ]
  },
  {
   "cell_type": "code",
   "execution_count": 1,
   "metadata": {},
   "outputs": [],
   "source": [
    "import tensorflow as tf"
   ]
  },
  {
   "cell_type": "code",
   "execution_count": 2,
   "metadata": {},
   "outputs": [],
   "source": [
    "model = tf.keras.Sequential()"
   ]
  },
  {
   "cell_type": "code",
   "execution_count": 3,
   "metadata": {},
   "outputs": [],
   "source": [
    "model.add(tf.keras.layers.InputLayer(input_shape=(8,), \\\n",
    "                                     name='Input_layer'))\n",
    "model.add(tf.keras.layers.Dense(4, activation='relu', \\\n",
    "                                name='Hidden_layer'))\n",
    "model.add(tf.keras.layers.Dense(1, name='Output_layer'))"
   ]
  },
  {
   "cell_type": "code",
   "execution_count": 4,
   "metadata": {},
   "outputs": [
    {
     "data": {
      "text/plain": [
       "[<tf.Variable 'Hidden_layer/kernel:0' shape=(8, 4) dtype=float32, numpy=\n",
       " array([[-0.55755174, -0.3090372 , -0.5024695 , -0.53782713],\n",
       "        [ 0.17140871, -0.17829502, -0.10681748, -0.4726816 ],\n",
       "        [ 0.49492222,  0.16924489,  0.30306512, -0.26202443],\n",
       "        [ 0.2362951 ,  0.26981032,  0.61052924,  0.06196702],\n",
       "        [-0.23305151, -0.36121348,  0.10180253,  0.25413924],\n",
       "        [-0.6589506 ,  0.1484884 ,  0.39054126,  0.22796756],\n",
       "        [ 0.20837533, -0.05546826,  0.19465691,  0.15196466],\n",
       "        [-0.10963374,  0.42233878,  0.08615255, -0.2158947 ]],\n",
       "       dtype=float32)>,\n",
       " <tf.Variable 'Hidden_layer/bias:0' shape=(4,) dtype=float32, numpy=array([0., 0., 0., 0.], dtype=float32)>,\n",
       " <tf.Variable 'Output_layer/kernel:0' shape=(4, 1) dtype=float32, numpy=\n",
       " array([[-0.18526727],\n",
       "        [ 0.787941  ],\n",
       "        [-0.90280366],\n",
       "        [ 0.6979506 ]], dtype=float32)>,\n",
       " <tf.Variable 'Output_layer/bias:0' shape=(1,) dtype=float32, numpy=array([0.], dtype=float32)>]"
      ]
     },
     "execution_count": 4,
     "metadata": {},
     "output_type": "execute_result"
    }
   ],
   "source": [
    "model.variables"
   ]
  },
  {
   "cell_type": "code",
   "execution_count": 5,
   "metadata": {},
   "outputs": [],
   "source": [
    "data = tf.random.normal((32,8))"
   ]
  },
  {
   "cell_type": "code",
   "execution_count": 6,
   "metadata": {},
   "outputs": [
    {
     "data": {
      "text/plain": [
       "array([[ 0.03737703],\n",
       "       [-0.5301833 ],\n",
       "       [ 0.        ],\n",
       "       [ 0.06747377],\n",
       "       [ 1.7918338 ],\n",
       "       [-0.16154838],\n",
       "       [-0.9764687 ],\n",
       "       [-0.06065287],\n",
       "       [ 0.55814004],\n",
       "       [-0.49371827],\n",
       "       [ 0.02890455],\n",
       "       [ 0.        ],\n",
       "       [ 0.        ],\n",
       "       [-0.16082071],\n",
       "       [-0.26402742],\n",
       "       [ 0.1360879 ],\n",
       "       [-0.1541194 ],\n",
       "       [ 0.7017125 ],\n",
       "       [-0.02511799],\n",
       "       [-0.24119847],\n",
       "       [-0.8211942 ],\n",
       "       [ 0.        ],\n",
       "       [-0.9709066 ],\n",
       "       [ 0.80856335],\n",
       "       [-0.04670622],\n",
       "       [-0.01896408],\n",
       "       [-0.18749312],\n",
       "       [ 0.15385723],\n",
       "       [-0.31495225],\n",
       "       [-0.17909622],\n",
       "       [ 0.01800767],\n",
       "       [ 1.336535  ]], dtype=float32)"
      ]
     },
     "execution_count": 6,
     "metadata": {},
     "output_type": "execute_result"
    }
   ],
   "source": [
    "prediction = model.predict(data)\n",
    "prediction"
   ]
  },
  {
   "cell_type": "code",
   "execution_count": null,
   "metadata": {},
   "outputs": [],
   "source": []
  }
 ],
 "metadata": {
  "kernelspec": {
   "display_name": "tensorflow_ws",
   "language": "python",
   "name": "tensorflow_ws"
  },
  "language_info": {
   "codemirror_mode": {
    "name": "ipython",
    "version": 3
   },
   "file_extension": ".py",
   "mimetype": "text/x-python",
   "name": "python",
   "nbconvert_exporter": "python",
   "pygments_lexer": "ipython3",
   "version": "3.7.10"
  }
 },
 "nbformat": 4,
 "nbformat_minor": 2
}
