{
 "cells": [
  {
   "cell_type": "markdown",
   "metadata": {},
   "source": [
    "# Activity 4.01: Creating a Multi-Layer ANN with TensorFlow"
   ]
  },
  {
   "cell_type": "code",
   "execution_count": 1,
   "metadata": {},
   "outputs": [],
   "source": [
    "import tensorflow as tf\n",
    "import pandas as pd"
   ]
  },
  {
   "cell_type": "code",
   "execution_count": 2,
   "metadata": {},
   "outputs": [],
   "source": [
    "df = pd.read_csv('../Datasets/superconductivity.csv')"
   ]
  },
  {
   "cell_type": "code",
   "execution_count": 3,
   "metadata": {},
   "outputs": [],
   "source": [
    "df.dropna(inplace=True)"
   ]
  },
  {
   "cell_type": "code",
   "execution_count": 4,
   "metadata": {},
   "outputs": [],
   "source": [
    "target = df['critical_temp']\n",
    "features = df.drop('critical_temp', axis=1)"
   ]
  },
  {
   "cell_type": "code",
   "execution_count": 6,
   "metadata": {},
   "outputs": [],
   "source": [
    "from sklearn.preprocessing import StandardScaler\n",
    "scaler = StandardScaler()\n",
    "feature_array = scaler.fit_transform(features)\n",
    "features = pd.DataFrame(feature_array, columns=features.columns)"
   ]
  },
  {
   "cell_type": "code",
   "execution_count": 7,
   "metadata": {},
   "outputs": [],
   "source": [
    "model = tf.keras.Sequential()"
   ]
  },
  {
   "cell_type": "code",
   "execution_count": 8,
   "metadata": {},
   "outputs": [],
   "source": [
    "model.add(tf.keras.layers.InputLayer\\\n",
    "          (input_shape=(features.shape[1],), \\\n",
    "           name='Input_layer'))\n",
    "model.add(tf.keras.layers.Dense(64, activation='relu', \\\n",
    "                                name='Dense_layer_1'))\n",
    "model.add(tf.keras.layers.Dense(32, name='Dense_layer_2'))\n",
    "model.add(tf.keras.layers.Dense(16, name='Dense_layer_3'))\n",
    "model.add(tf.keras.layers.Dense(8, name='Dense_layer_4'))\n",
    "model.add(tf.keras.layers.Dense(1, name='Output_layer'))"
   ]
  },
  {
   "cell_type": "code",
   "execution_count": 9,
   "metadata": {},
   "outputs": [],
   "source": [
    "model.compile(tf.optimizers.RMSprop(0.001), loss='mse')"
   ]
  },
  {
   "cell_type": "code",
   "execution_count": 10,
   "metadata": {},
   "outputs": [],
   "source": [
    "tensorboard_callback = tf.keras.callbacks\\\n",
    "                         .TensorBoard(log_dir=\"./logs\")"
   ]
  },
  {
   "cell_type": "code",
   "execution_count": 11,
   "metadata": {},
   "outputs": [
    {
     "name": "stdout",
     "output_type": "stream",
     "text": [
      "Epoch 1/100\n",
      "532/532 [==============================] - 1s 2ms/step - loss: 388.2469 - val_loss: 282.9512\n",
      "Epoch 2/100\n",
      "532/532 [==============================] - 1s 2ms/step - loss: 273.4387 - val_loss: 231.6671\n",
      "Epoch 3/100\n",
      "532/532 [==============================] - 1s 2ms/step - loss: 258.0871 - val_loss: 326.7639\n",
      "Epoch 4/100\n",
      "532/532 [==============================] - 1s 2ms/step - loss: 248.6560 - val_loss: 278.1737\n",
      "Epoch 5/100\n",
      "532/532 [==============================] - 1s 2ms/step - loss: 241.6567 - val_loss: 278.5993\n",
      "Epoch 6/100\n",
      "532/532 [==============================] - 1s 2ms/step - loss: 234.2448 - val_loss: 280.6836\n",
      "Epoch 7/100\n",
      "532/532 [==============================] - 1s 2ms/step - loss: 228.8540 - val_loss: 301.8731\n",
      "Epoch 8/100\n",
      "532/532 [==============================] - 1s 2ms/step - loss: 227.0789 - val_loss: 259.8213\n",
      "Epoch 9/100\n",
      "532/532 [==============================] - 1s 1ms/step - loss: 224.9699 - val_loss: 303.9322\n",
      "Epoch 10/100\n",
      "532/532 [==============================] - 1s 2ms/step - loss: 221.6434 - val_loss: 259.3045\n",
      "Epoch 11/100\n",
      "532/532 [==============================] - 1s 2ms/step - loss: 220.1649 - val_loss: 297.9810\n",
      "Epoch 12/100\n",
      "532/532 [==============================] - 1s 2ms/step - loss: 217.9129 - val_loss: 254.9248\n",
      "Epoch 13/100\n",
      "532/532 [==============================] - 1s 2ms/step - loss: 216.0184 - val_loss: 252.2077\n",
      "Epoch 14/100\n",
      "532/532 [==============================] - 1s 2ms/step - loss: 215.6723 - val_loss: 299.1978\n",
      "Epoch 15/100\n",
      "532/532 [==============================] - 1s 2ms/step - loss: 213.6557 - val_loss: 269.6597\n",
      "Epoch 16/100\n",
      "532/532 [==============================] - 1s 2ms/step - loss: 210.4346 - val_loss: 258.3609\n",
      "Epoch 17/100\n",
      "532/532 [==============================] - 1s 2ms/step - loss: 207.8104 - val_loss: 255.0141\n",
      "Epoch 18/100\n",
      "532/532 [==============================] - 1s 2ms/step - loss: 208.1796 - val_loss: 287.6552\n",
      "Epoch 19/100\n",
      "532/532 [==============================] - 1s 2ms/step - loss: 205.8448 - val_loss: 277.0392\n",
      "Epoch 20/100\n",
      "532/532 [==============================] - 1s 2ms/step - loss: 205.7341 - val_loss: 333.6114\n",
      "Epoch 21/100\n",
      "532/532 [==============================] - 1s 1ms/step - loss: 203.2394 - val_loss: 314.9830\n",
      "Epoch 22/100\n",
      "532/532 [==============================] - 1s 1ms/step - loss: 201.6888 - val_loss: 315.1136\n",
      "Epoch 23/100\n",
      "532/532 [==============================] - 1s 938us/step - loss: 201.7574 - val_loss: 304.5054\n",
      "Epoch 24/100\n",
      "532/532 [==============================] - 1s 995us/step - loss: 199.2520 - val_loss: 304.8403\n",
      "Epoch 25/100\n",
      "532/532 [==============================] - 1s 1ms/step - loss: 200.2523 - val_loss: 311.5959\n",
      "Epoch 26/100\n",
      "532/532 [==============================] - 1s 2ms/step - loss: 197.7480 - val_loss: 279.3588\n",
      "Epoch 27/100\n",
      "532/532 [==============================] - 1s 2ms/step - loss: 197.2860 - val_loss: 282.7985\n",
      "Epoch 28/100\n",
      "532/532 [==============================] - 1s 2ms/step - loss: 198.7453 - val_loss: 260.6432\n",
      "Epoch 29/100\n",
      "532/532 [==============================] - 1s 2ms/step - loss: 195.4827 - val_loss: 268.4655\n",
      "Epoch 30/100\n",
      "532/532 [==============================] - 1s 2ms/step - loss: 194.2244 - val_loss: 316.9651\n",
      "Epoch 31/100\n",
      "532/532 [==============================] - 1s 2ms/step - loss: 194.2677 - val_loss: 245.8380\n",
      "Epoch 32/100\n",
      "532/532 [==============================] - 1s 2ms/step - loss: 192.3156 - val_loss: 276.0212\n",
      "Epoch 33/100\n",
      "532/532 [==============================] - 1s 2ms/step - loss: 191.9955 - val_loss: 312.5232\n",
      "Epoch 34/100\n",
      "532/532 [==============================] - 1s 1ms/step - loss: 191.0970 - val_loss: 295.6613\n",
      "Epoch 35/100\n",
      "532/532 [==============================] - 1s 2ms/step - loss: 190.6679 - val_loss: 297.8566\n",
      "Epoch 36/100\n",
      "532/532 [==============================] - 1s 2ms/step - loss: 188.5452 - val_loss: 227.4716\n",
      "Epoch 37/100\n",
      "532/532 [==============================] - 1s 1ms/step - loss: 189.5260 - val_loss: 353.7839\n",
      "Epoch 38/100\n",
      "532/532 [==============================] - 1s 2ms/step - loss: 189.2687 - val_loss: 244.0111\n",
      "Epoch 39/100\n",
      "532/532 [==============================] - 1s 2ms/step - loss: 188.6196 - val_loss: 256.7464\n",
      "Epoch 40/100\n",
      "532/532 [==============================] - 1s 2ms/step - loss: 187.3691 - val_loss: 244.0553\n",
      "Epoch 41/100\n",
      "532/532 [==============================] - 1s 2ms/step - loss: 185.3008 - val_loss: 305.9366\n",
      "Epoch 42/100\n",
      "532/532 [==============================] - 1s 1ms/step - loss: 184.9716 - val_loss: 255.2175\n",
      "Epoch 43/100\n",
      "532/532 [==============================] - 1s 1ms/step - loss: 185.4110 - val_loss: 293.7013\n",
      "Epoch 44/100\n",
      "532/532 [==============================] - 1s 1ms/step - loss: 184.4672 - val_loss: 284.0399\n",
      "Epoch 45/100\n",
      "532/532 [==============================] - 1s 1ms/step - loss: 183.7395 - val_loss: 258.9876\n",
      "Epoch 46/100\n",
      "532/532 [==============================] - 1s 2ms/step - loss: 182.7330 - val_loss: 254.8763\n",
      "Epoch 47/100\n",
      "532/532 [==============================] - 1s 2ms/step - loss: 184.1879 - val_loss: 235.5310\n",
      "Epoch 48/100\n",
      "532/532 [==============================] - 1s 2ms/step - loss: 182.8631 - val_loss: 274.7419\n",
      "Epoch 49/100\n",
      "532/532 [==============================] - 1s 2ms/step - loss: 182.7862 - val_loss: 264.6537\n",
      "Epoch 50/100\n",
      "532/532 [==============================] - 1s 2ms/step - loss: 181.0790 - val_loss: 256.3536\n",
      "Epoch 51/100\n",
      "532/532 [==============================] - 1s 2ms/step - loss: 180.8575 - val_loss: 259.2452\n",
      "Epoch 52/100\n",
      "532/532 [==============================] - 1s 2ms/step - loss: 180.2173 - val_loss: 245.5544\n",
      "Epoch 53/100\n",
      "532/532 [==============================] - 1s 2ms/step - loss: 179.1663 - val_loss: 283.5803\n",
      "Epoch 54/100\n",
      "532/532 [==============================] - 1s 1ms/step - loss: 179.6646 - val_loss: 286.9013\n",
      "Epoch 55/100\n",
      "532/532 [==============================] - 1s 1ms/step - loss: 179.2546 - val_loss: 284.4355\n",
      "Epoch 56/100\n",
      "532/532 [==============================] - 1s 2ms/step - loss: 178.0751 - val_loss: 268.2216\n",
      "Epoch 57/100\n",
      "532/532 [==============================] - 1s 2ms/step - loss: 177.4215 - val_loss: 249.4334\n",
      "Epoch 58/100\n",
      "532/532 [==============================] - 1s 2ms/step - loss: 177.2074 - val_loss: 261.8661\n",
      "Epoch 59/100\n",
      "532/532 [==============================] - 1s 2ms/step - loss: 175.4292 - val_loss: 265.6078\n",
      "Epoch 60/100\n",
      "532/532 [==============================] - 1s 2ms/step - loss: 175.1251 - val_loss: 274.9131\n",
      "Epoch 61/100\n",
      "532/532 [==============================] - 1s 2ms/step - loss: 174.5631 - val_loss: 263.7479\n",
      "Epoch 62/100\n",
      "532/532 [==============================] - 1s 1ms/step - loss: 175.7802 - val_loss: 312.5857\n",
      "Epoch 63/100\n",
      "532/532 [==============================] - 1s 2ms/step - loss: 174.0731 - val_loss: 317.4108\n",
      "Epoch 64/100\n",
      "532/532 [==============================] - 1s 1ms/step - loss: 174.8715 - val_loss: 302.2395\n",
      "Epoch 65/100\n",
      "532/532 [==============================] - 1s 2ms/step - loss: 173.6536 - val_loss: 305.3582\n",
      "Epoch 66/100\n",
      "532/532 [==============================] - 1s 1ms/step - loss: 172.6936 - val_loss: 271.0033\n",
      "Epoch 67/100\n",
      "532/532 [==============================] - 1s 2ms/step - loss: 172.6622 - val_loss: 272.2129\n",
      "Epoch 68/100\n",
      "532/532 [==============================] - 1s 1ms/step - loss: 172.7884 - val_loss: 332.7230\n",
      "Epoch 69/100\n",
      "532/532 [==============================] - 1s 2ms/step - loss: 172.2355 - val_loss: 271.9081\n",
      "Epoch 70/100\n",
      "532/532 [==============================] - 1s 1ms/step - loss: 171.7721 - val_loss: 296.6718\n",
      "Epoch 71/100\n",
      "532/532 [==============================] - 1s 1ms/step - loss: 170.9240 - val_loss: 291.0706\n",
      "Epoch 72/100\n",
      "532/532 [==============================] - 1s 2ms/step - loss: 170.4949 - val_loss: 272.2499\n",
      "Epoch 73/100\n",
      "532/532 [==============================] - 1s 2ms/step - loss: 170.3300 - val_loss: 267.8199\n",
      "Epoch 74/100\n",
      "532/532 [==============================] - 1s 1ms/step - loss: 171.2325 - val_loss: 309.0786\n",
      "Epoch 75/100\n",
      "532/532 [==============================] - 1s 1ms/step - loss: 169.5611 - val_loss: 308.8225\n",
      "Epoch 76/100\n",
      "532/532 [==============================] - 1s 2ms/step - loss: 169.5959 - val_loss: 286.6204\n",
      "Epoch 77/100\n",
      "532/532 [==============================] - 1s 2ms/step - loss: 169.1230 - val_loss: 319.0533\n",
      "Epoch 78/100\n"
     ]
    },
    {
     "name": "stdout",
     "output_type": "stream",
     "text": [
      "532/532 [==============================] - 1s 2ms/step - loss: 168.9278 - val_loss: 305.6703\n",
      "Epoch 79/100\n",
      "532/532 [==============================] - 1s 2ms/step - loss: 167.3130 - val_loss: 341.1284\n",
      "Epoch 80/100\n",
      "532/532 [==============================] - 1s 2ms/step - loss: 168.2926 - val_loss: 274.5042\n",
      "Epoch 81/100\n",
      "532/532 [==============================] - 1s 2ms/step - loss: 168.0180 - val_loss: 285.4484\n",
      "Epoch 82/100\n",
      "532/532 [==============================] - 1s 2ms/step - loss: 168.2226 - val_loss: 305.1738\n",
      "Epoch 83/100\n",
      "532/532 [==============================] - 1s 2ms/step - loss: 167.5342 - val_loss: 275.0058\n",
      "Epoch 84/100\n",
      "532/532 [==============================] - 1s 2ms/step - loss: 166.7395 - val_loss: 366.5801\n",
      "Epoch 85/100\n",
      "532/532 [==============================] - 1s 2ms/step - loss: 166.6422 - val_loss: 279.6264\n",
      "Epoch 86/100\n",
      "532/532 [==============================] - 1s 2ms/step - loss: 166.0087 - val_loss: 295.1136\n",
      "Epoch 87/100\n",
      "532/532 [==============================] - 1s 2ms/step - loss: 167.2092 - val_loss: 355.6771\n",
      "Epoch 88/100\n",
      "532/532 [==============================] - 1s 2ms/step - loss: 165.9437 - val_loss: 286.1687\n",
      "Epoch 89/100\n",
      "532/532 [==============================] - 1s 2ms/step - loss: 165.3550 - val_loss: 273.0975\n",
      "Epoch 90/100\n",
      "532/532 [==============================] - 1s 2ms/step - loss: 164.7626 - val_loss: 288.0018\n",
      "Epoch 91/100\n",
      "532/532 [==============================] - 1s 2ms/step - loss: 164.7274 - val_loss: 278.7148\n",
      "Epoch 92/100\n",
      "532/532 [==============================] - 1s 2ms/step - loss: 164.7145 - val_loss: 286.0315\n",
      "Epoch 93/100\n",
      "532/532 [==============================] - 1s 2ms/step - loss: 164.1055 - val_loss: 282.9614\n",
      "Epoch 94/100\n",
      "532/532 [==============================] - 1s 2ms/step - loss: 164.3268 - val_loss: 282.6826\n",
      "Epoch 95/100\n",
      "532/532 [==============================] - 1s 2ms/step - loss: 163.0788 - val_loss: 296.7488\n",
      "Epoch 96/100\n",
      "532/532 [==============================] - 1s 2ms/step - loss: 163.7137 - val_loss: 322.6776\n",
      "Epoch 97/100\n",
      "532/532 [==============================] - 1s 2ms/step - loss: 163.0046 - val_loss: 280.7489\n",
      "Epoch 98/100\n",
      "532/532 [==============================] - 1s 2ms/step - loss: 164.1113 - val_loss: 273.3390\n",
      "Epoch 99/100\n",
      "532/532 [==============================] - 1s 2ms/step - loss: 163.0732 - val_loss: 298.1143\n",
      "Epoch 100/100\n",
      "532/532 [==============================] - 1s 2ms/step - loss: 161.7467 - val_loss: 284.2581\n"
     ]
    },
    {
     "data": {
      "text/plain": [
       "<keras.callbacks.History at 0x1d05379de08>"
      ]
     },
     "execution_count": 11,
     "metadata": {},
     "output_type": "execute_result"
    }
   ],
   "source": [
    "model.fit(x=features.to_numpy(), y=target.to_numpy(),\\\n",
    "          epochs=100, callbacks=[tensorboard_callback],\\\n",
    "          batch_size=32, validation_split=0.2)"
   ]
  },
  {
   "cell_type": "code",
   "execution_count": 12,
   "metadata": {},
   "outputs": [
    {
     "name": "stdout",
     "output_type": "stream",
     "text": [
      "665/665 [==============================] - 1s 1ms/step - loss: 179.7390\n",
      "loss: 179.73899841308594\n"
     ]
    }
   ],
   "source": [
    "loss = model.evaluate(features.to_numpy(), target.to_numpy())\n",
    "print('loss:', loss)"
   ]
  },
  {
   "cell_type": "code",
   "execution_count": null,
   "metadata": {},
   "outputs": [],
   "source": []
  }
 ],
 "metadata": {
  "kernelspec": {
   "display_name": "tensorflow_ws",
   "language": "python",
   "name": "tensorflow_ws"
  },
  "language_info": {
   "codemirror_mode": {
    "name": "ipython",
    "version": 3
   },
   "file_extension": ".py",
   "mimetype": "text/x-python",
   "name": "python",
   "nbconvert_exporter": "python",
   "pygments_lexer": "ipython3",
   "version": "3.7.10"
  }
 },
 "nbformat": 4,
 "nbformat_minor": 2
}
