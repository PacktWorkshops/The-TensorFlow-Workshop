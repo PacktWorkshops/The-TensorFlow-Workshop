{
  "nbformat": 4,
  "nbformat_minor": 0,
  "metadata": {
    "kernelspec": {
      "display_name": "Python 3",
      "language": "python",
      "name": "python3"
    },
    "language_info": {
      "codemirror_mode": {
        "name": "ipython",
        "version": 3
      },
      "file_extension": ".py",
      "mimetype": "text/x-python",
      "name": "python",
      "nbconvert_exporter": "python",
      "pygments_lexer": "ipython3",
      "version": "3.7.5"
    },
    "colab": {
      "name": "Copy of Activity8_02.ipynb",
      "provenance": [],
      "collapsed_sections": []
    },
    "accelerator": "GPU"
  },
  "cells": [
    {
      "cell_type": "code",
      "metadata": {
        "id": "ET_DVhUyt92O"
      },
      "source": [
        "import tensorflow as tf"
      ],
      "execution_count": 1,
      "outputs": []
    },
    {
      "cell_type": "code",
      "metadata": {
        "id": "REdegwDEt92S"
      },
      "source": [
        "file_url = 'https://storage.googleapis.com'\\\n",
        "           '/mledu-datasets/cats_and_dogs_filtered.zip'"
      ],
      "execution_count": 2,
      "outputs": []
    },
    {
      "cell_type": "code",
      "metadata": {
        "id": "8ulBTBBCt92V",
        "colab": {
          "base_uri": "https://localhost:8080/"
        },
        "outputId": "05e7a44f-4a3f-421f-cef2-a41a01a788b0"
      },
      "source": [
        "zip_dir = tf.keras.utils.get_file('cats_and_dogs.zip', \\\n",
        "                                  origin=file_url, extract=True)"
      ],
      "execution_count": 4,
      "outputs": [
        {
          "output_type": "stream",
          "name": "stdout",
          "text": [
            "Downloading data from https://storage.googleapis.com/mledu-datasets/cats_and_dogs_filtered.zip\n",
            "68608000/68606236 [==============================] - 1s 0us/step\n",
            "68616192/68606236 [==============================] - 1s 0us/step\n"
          ]
        }
      ]
    },
    {
      "cell_type": "code",
      "metadata": {
        "id": "dHeDzI89t92X"
      },
      "source": [
        "import pathlib"
      ],
      "execution_count": 5,
      "outputs": []
    },
    {
      "cell_type": "code",
      "metadata": {
        "id": "UzcjIJ_lt92b"
      },
      "source": [
        "path = pathlib.Path(zip_dir).parent / 'cats_and_dogs_filtered'"
      ],
      "execution_count": 6,
      "outputs": []
    },
    {
      "cell_type": "code",
      "metadata": {
        "id": "XolfYgpTt92d"
      },
      "source": [
        "train_dir = path / 'train'\n",
        "validation_dir = path / 'validation'"
      ],
      "execution_count": 7,
      "outputs": []
    },
    {
      "cell_type": "code",
      "metadata": {
        "id": "LsaWZtmSt92l"
      },
      "source": [
        "total_train = 2000\n",
        "total_val = 1000"
      ],
      "execution_count": 8,
      "outputs": []
    },
    {
      "cell_type": "code",
      "metadata": {
        "id": "99CW9UFAt92n"
      },
      "source": [
        "from tensorflow.keras.preprocessing.image \\\n",
        "    import ImageDataGenerator"
      ],
      "execution_count": 9,
      "outputs": []
    },
    {
      "cell_type": "code",
      "metadata": {
        "id": "8rFn3rOht92p"
      },
      "source": [
        "train_image_generator = ImageDataGenerator(rescale=1./255)\n",
        "validation_image_generator = ImageDataGenerator(rescale=1./255)"
      ],
      "execution_count": 10,
      "outputs": []
    },
    {
      "cell_type": "code",
      "metadata": {
        "id": "_nWfX19vt92r"
      },
      "source": [
        "batch_size=32\n",
        "img_height = 224\n",
        "img_width = 224"
      ],
      "execution_count": 11,
      "outputs": []
    },
    {
      "cell_type": "code",
      "metadata": {
        "id": "ZQOYQzC3t92t",
        "colab": {
          "base_uri": "https://localhost:8080/"
        },
        "outputId": "0210e987-04da-46de-f03d-c5f3afce1ab2"
      },
      "source": [
        "train_data_gen = train_image_generator.flow_from_directory\\\n",
        "                 (batch_size=batch_size,\\\n",
        "                  directory=train_dir,\\\n",
        "                  shuffle=True,\\\n",
        "                  target_size=(img_height, img_width),\\\n",
        "                  class_mode='binary')"
      ],
      "execution_count": 12,
      "outputs": [
        {
          "output_type": "stream",
          "name": "stdout",
          "text": [
            "Found 2000 images belonging to 2 classes.\n"
          ]
        }
      ]
    },
    {
      "cell_type": "code",
      "metadata": {
        "id": "EI8b8bSUt92w",
        "colab": {
          "base_uri": "https://localhost:8080/"
        },
        "outputId": "6eb2f1b4-541e-4eec-d9dd-5e71b1b1b5b9"
      },
      "source": [
        "val_data_gen = validation_image_generator.flow_from_directory\\\n",
        "               (batch_size=batch_size,\\\n",
        "                directory=validation_dir,\\\n",
        "                target_size=(img_height, img_width),\\\n",
        "                class_mode='binary')"
      ],
      "execution_count": 13,
      "outputs": [
        {
          "output_type": "stream",
          "name": "stdout",
          "text": [
            "Found 1000 images belonging to 2 classes.\n"
          ]
        }
      ]
    },
    {
      "cell_type": "code",
      "metadata": {
        "id": "0scXM26qt92y"
      },
      "source": [
        "import numpy as np\n",
        "import tensorflow as tf\n",
        "from tensorflow.keras import layers"
      ],
      "execution_count": 14,
      "outputs": []
    },
    {
      "cell_type": "code",
      "metadata": {
        "id": "RxZ3JzPvt921"
      },
      "source": [
        "np.random.seed(8)\n",
        "tf.random.set_seed(8)"
      ],
      "execution_count": 15,
      "outputs": []
    },
    {
      "cell_type": "code",
      "metadata": {
        "id": "aBN5YuKFuNWD"
      },
      "source": [
        "import tensorflow_hub as hub"
      ],
      "execution_count": 16,
      "outputs": []
    },
    {
      "cell_type": "code",
      "metadata": {
        "id": "RrRSMv2qG8O1"
      },
      "source": [
        "MODULE_HANDLE = 'https://tfhub.dev/google/efficientnet/b0'\\\n",
        "                '/feature-vector/1'\n",
        "module = hub.load(MODULE_HANDLE)"
      ],
      "execution_count": 17,
      "outputs": []
    },
    {
      "cell_type": "code",
      "metadata": {
        "id": "o554RMVXt924"
      },
      "source": [
        "model = tf.keras.Sequential([\n",
        "        hub.KerasLayer(MODULE_HANDLE,\\\n",
        "                       input_shape=(224, 224, 3)),\n",
        "        layers.Dense(500, activation='relu'),\n",
        "        layers.Dense(1, activation='sigmoid')])"
      ],
      "execution_count": 18,
      "outputs": []
    },
    {
      "cell_type": "code",
      "metadata": {
        "id": "gKfNmk93t929"
      },
      "source": [
        "model.compile(loss='binary_crossentropy', \\\n",
        "              optimizer=tf.keras.optimizers.Adam(0.001), \\\n",
        "              metrics=['accuracy'])"
      ],
      "execution_count": 19,
      "outputs": []
    },
    {
      "cell_type": "code",
      "metadata": {
        "scrolled": false,
        "id": "T3HFXRStt93B",
        "colab": {
          "base_uri": "https://localhost:8080/"
        },
        "outputId": "7cb47397-6a9a-4be3-c09b-279bfec2f2a7"
      },
      "source": [
        "model.fit(train_data_gen,\\\n",
        "          steps_per_epoch=total_train // batch_size,\\\n",
        "          epochs=5,\\\n",
        "          validation_data=val_data_gen,\\\n",
        "          validation_steps=total_val // batch_size)"
      ],
      "execution_count": 20,
      "outputs": [
        {
          "output_type": "stream",
          "name": "stdout",
          "text": [
            "Epoch 1/5\n",
            "62/62 [==============================] - 28s 240ms/step - loss: 0.0554 - accuracy: 0.9776 - val_loss: 0.0247 - val_accuracy: 0.9899\n",
            "Epoch 2/5\n",
            "62/62 [==============================] - 14s 223ms/step - loss: 0.0116 - accuracy: 0.9959 - val_loss: 0.0253 - val_accuracy: 0.9919\n",
            "Epoch 3/5\n",
            "62/62 [==============================] - 14s 221ms/step - loss: 0.0032 - accuracy: 0.9995 - val_loss: 0.0245 - val_accuracy: 0.9909\n",
            "Epoch 4/5\n",
            "62/62 [==============================] - 14s 222ms/step - loss: 0.0011 - accuracy: 1.0000 - val_loss: 0.0265 - val_accuracy: 0.9919\n",
            "Epoch 5/5\n",
            "62/62 [==============================] - 14s 222ms/step - loss: 5.1736e-04 - accuracy: 1.0000 - val_loss: 0.0243 - val_accuracy: 0.9929\n"
          ]
        },
        {
          "output_type": "execute_result",
          "data": {
            "text/plain": [
              "<keras.callbacks.History at 0x7f04bc0a6b10>"
            ]
          },
          "metadata": {},
          "execution_count": 20
        }
      ]
    }
  ]
}